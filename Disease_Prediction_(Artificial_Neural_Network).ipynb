{
  "nbformat": 4,
  "nbformat_minor": 0,
  "metadata": {
    "colab": {
      "name": "Disease Prediction (Artificial Neural Network).ipynb",
      "provenance": [],
      "collapsed_sections": [],
      "toc_visible": true,
      "authorship_tag": "ABX9TyPqa/7IfdbpAAHkAMkAaab2",
      "include_colab_link": true
    },
    "kernelspec": {
      "name": "python3",
      "display_name": "Python 3"
    },
    "language_info": {
      "name": "python"
    }
  },
  "cells": [
    {
      "cell_type": "markdown",
      "metadata": {
        "id": "view-in-github",
        "colab_type": "text"
      },
      "source": [
        "<a href=\"https://colab.research.google.com/github/arvynathaniel/Python/blob/main/Disease_Prediction_(Artificial_Neural_Network).ipynb\" target=\"_parent\"><img src=\"https://colab.research.google.com/assets/colab-badge.svg\" alt=\"Open In Colab\"/></a>"
      ]
    },
    {
      "cell_type": "markdown",
      "source": [
        "##**Disease Prediction**"
      ],
      "metadata": {
        "id": "hhQlaa_sS-wn"
      }
    },
    {
      "cell_type": "markdown",
      "source": [
        "In this project, we will be looking at a pair of datasets containing symptoms of a disease and their prognosis. The main objective of this project is to predict what kind of disease is likely to be based on a set of symptoms that occur. To do so, some machine learning algorithms will be used. We will feed the 'train' dataset to the machine learning algorithms for the pattern recognizing and learning process, then test the model with the 'test' dataset.\n",
        "\n",
        "The main work sequence that will be performed in this project:\n",
        "1.   Calling in the libraries and dataset\n",
        "2.   Prediction models building\n",
        "\n",
        "Our thanks to the provider of the original datasets.\n",
        "Source: https://www.kaggle.com/datasets/kaushil268/disease-prediction-using-machine-learning\n",
        "\n",
        "My data cleaning process of the original 'training' dataset\n",
        "https://colab.research.google.com/drive/1zioB8m0Xr5aJKFe0pc6qXyCbKP4ORF8i?usp=sharing"
      ],
      "metadata": {
        "id": "Csj8Ps0wWXBm"
      }
    },
    {
      "cell_type": "markdown",
      "source": [
        "##**I. Calling in the Libraries and Datasets**"
      ],
      "metadata": {
        "id": "dMzBPVCnZKus"
      }
    },
    {
      "cell_type": "markdown",
      "source": [
        "###Ia. Libraries"
      ],
      "metadata": {
        "id": "xl7u3TEmZQd7"
      }
    },
    {
      "cell_type": "code",
      "source": [
        "# pandas to help us visualizing and manipulating the data in a tabular form\n",
        "import pandas as pd\n",
        "\n",
        "# numpy to help us with mathematical operations\n",
        "import numpy as np\n",
        "\n",
        "# sklearn to help us in the model building part\n",
        "from sklearn.preprocessing import LabelEncoder\n",
        "lb = LabelEncoder()\n",
        "\n",
        "# tensorflow to help us in the model building part\n",
        "import tensorflow as tf\n",
        "from tensorflow import keras"
      ],
      "metadata": {
        "id": "dq309et8Zglu"
      },
      "execution_count": null,
      "outputs": []
    },
    {
      "cell_type": "markdown",
      "source": [
        "###Ib. Datasets\n"
      ],
      "metadata": {
        "id": "5lnPq5R1ZSlU"
      }
    },
    {
      "cell_type": "code",
      "execution_count": null,
      "metadata": {
        "id": "HIkXeOHeSSD_"
      },
      "outputs": [],
      "source": [
        "train = pd.read_csv('Training Dataset (Cleaned) - Disease Prediction.csv')\n",
        "test = pd.read_csv('Testing.csv')"
      ]
    },
    {
      "cell_type": "markdown",
      "source": [
        "##**II. Data Overview**"
      ],
      "metadata": {
        "id": "hpGR6PXjacs9"
      }
    },
    {
      "cell_type": "markdown",
      "source": [
        "For a little recap of how the data looks like, we will display the information of the dataset as follow:"
      ],
      "metadata": {
        "id": "g55vXYzU7EZ6"
      }
    },
    {
      "cell_type": "code",
      "source": [
        "train.head()"
      ],
      "metadata": {
        "id": "1IxQ1gReaw5L",
        "colab": {
          "base_uri": "https://localhost:8080/",
          "height": 404
        },
        "outputId": "612a9503-691c-4cbb-ae77-cf7d9a77c2fe"
      },
      "execution_count": null,
      "outputs": [
        {
          "output_type": "execute_result",
          "data": {
            "text/plain": [
              "   Unnamed: 0  itching  skin_rash  nodal_skin_eruptions  continuous_sneezing  \\\n",
              "0           0        1          1                     1                    0   \n",
              "1           1        0          1                     1                    0   \n",
              "2           2        1          0                     1                    0   \n",
              "3           3        1          1                     0                    0   \n",
              "4           4        1          1                     1                    0   \n",
              "\n",
              "   shivering  chills  joint_pain  stomach_pain  acidity  ...  blackheads  \\\n",
              "0          0       0           0             0        0  ...           0   \n",
              "1          0       0           0             0        0  ...           0   \n",
              "2          0       0           0             0        0  ...           0   \n",
              "3          0       0           0             0        0  ...           0   \n",
              "4          0       0           0             0        0  ...           0   \n",
              "\n",
              "   scurring  skin_peeling  silver_like_dusting  small_dents_in_nails  \\\n",
              "0         0             0                    0                     0   \n",
              "1         0             0                    0                     0   \n",
              "2         0             0                    0                     0   \n",
              "3         0             0                    0                     0   \n",
              "4         0             0                    0                     0   \n",
              "\n",
              "   inflammatory_nails  blister  red_sore_around_nose  yellow_crust_ooze  \\\n",
              "0                   0        0                     0                  0   \n",
              "1                   0        0                     0                  0   \n",
              "2                   0        0                     0                  0   \n",
              "3                   0        0                     0                  0   \n",
              "4                   0        0                     0                  0   \n",
              "\n",
              "          prognosis  \n",
              "0  Fungal infection  \n",
              "1  Fungal infection  \n",
              "2  Fungal infection  \n",
              "3  Fungal infection  \n",
              "4  Fungal infection  \n",
              "\n",
              "[5 rows x 134 columns]"
            ],
            "text/html": [
              "\n",
              "  <div id=\"df-78166d42-f1bb-4de7-8cea-c9314c4c6d8e\">\n",
              "    <div class=\"colab-df-container\">\n",
              "      <div>\n",
              "<style scoped>\n",
              "    .dataframe tbody tr th:only-of-type {\n",
              "        vertical-align: middle;\n",
              "    }\n",
              "\n",
              "    .dataframe tbody tr th {\n",
              "        vertical-align: top;\n",
              "    }\n",
              "\n",
              "    .dataframe thead th {\n",
              "        text-align: right;\n",
              "    }\n",
              "</style>\n",
              "<table border=\"1\" class=\"dataframe\">\n",
              "  <thead>\n",
              "    <tr style=\"text-align: right;\">\n",
              "      <th></th>\n",
              "      <th>Unnamed: 0</th>\n",
              "      <th>itching</th>\n",
              "      <th>skin_rash</th>\n",
              "      <th>nodal_skin_eruptions</th>\n",
              "      <th>continuous_sneezing</th>\n",
              "      <th>shivering</th>\n",
              "      <th>chills</th>\n",
              "      <th>joint_pain</th>\n",
              "      <th>stomach_pain</th>\n",
              "      <th>acidity</th>\n",
              "      <th>...</th>\n",
              "      <th>blackheads</th>\n",
              "      <th>scurring</th>\n",
              "      <th>skin_peeling</th>\n",
              "      <th>silver_like_dusting</th>\n",
              "      <th>small_dents_in_nails</th>\n",
              "      <th>inflammatory_nails</th>\n",
              "      <th>blister</th>\n",
              "      <th>red_sore_around_nose</th>\n",
              "      <th>yellow_crust_ooze</th>\n",
              "      <th>prognosis</th>\n",
              "    </tr>\n",
              "  </thead>\n",
              "  <tbody>\n",
              "    <tr>\n",
              "      <th>0</th>\n",
              "      <td>0</td>\n",
              "      <td>1</td>\n",
              "      <td>1</td>\n",
              "      <td>1</td>\n",
              "      <td>0</td>\n",
              "      <td>0</td>\n",
              "      <td>0</td>\n",
              "      <td>0</td>\n",
              "      <td>0</td>\n",
              "      <td>0</td>\n",
              "      <td>...</td>\n",
              "      <td>0</td>\n",
              "      <td>0</td>\n",
              "      <td>0</td>\n",
              "      <td>0</td>\n",
              "      <td>0</td>\n",
              "      <td>0</td>\n",
              "      <td>0</td>\n",
              "      <td>0</td>\n",
              "      <td>0</td>\n",
              "      <td>Fungal infection</td>\n",
              "    </tr>\n",
              "    <tr>\n",
              "      <th>1</th>\n",
              "      <td>1</td>\n",
              "      <td>0</td>\n",
              "      <td>1</td>\n",
              "      <td>1</td>\n",
              "      <td>0</td>\n",
              "      <td>0</td>\n",
              "      <td>0</td>\n",
              "      <td>0</td>\n",
              "      <td>0</td>\n",
              "      <td>0</td>\n",
              "      <td>...</td>\n",
              "      <td>0</td>\n",
              "      <td>0</td>\n",
              "      <td>0</td>\n",
              "      <td>0</td>\n",
              "      <td>0</td>\n",
              "      <td>0</td>\n",
              "      <td>0</td>\n",
              "      <td>0</td>\n",
              "      <td>0</td>\n",
              "      <td>Fungal infection</td>\n",
              "    </tr>\n",
              "    <tr>\n",
              "      <th>2</th>\n",
              "      <td>2</td>\n",
              "      <td>1</td>\n",
              "      <td>0</td>\n",
              "      <td>1</td>\n",
              "      <td>0</td>\n",
              "      <td>0</td>\n",
              "      <td>0</td>\n",
              "      <td>0</td>\n",
              "      <td>0</td>\n",
              "      <td>0</td>\n",
              "      <td>...</td>\n",
              "      <td>0</td>\n",
              "      <td>0</td>\n",
              "      <td>0</td>\n",
              "      <td>0</td>\n",
              "      <td>0</td>\n",
              "      <td>0</td>\n",
              "      <td>0</td>\n",
              "      <td>0</td>\n",
              "      <td>0</td>\n",
              "      <td>Fungal infection</td>\n",
              "    </tr>\n",
              "    <tr>\n",
              "      <th>3</th>\n",
              "      <td>3</td>\n",
              "      <td>1</td>\n",
              "      <td>1</td>\n",
              "      <td>0</td>\n",
              "      <td>0</td>\n",
              "      <td>0</td>\n",
              "      <td>0</td>\n",
              "      <td>0</td>\n",
              "      <td>0</td>\n",
              "      <td>0</td>\n",
              "      <td>...</td>\n",
              "      <td>0</td>\n",
              "      <td>0</td>\n",
              "      <td>0</td>\n",
              "      <td>0</td>\n",
              "      <td>0</td>\n",
              "      <td>0</td>\n",
              "      <td>0</td>\n",
              "      <td>0</td>\n",
              "      <td>0</td>\n",
              "      <td>Fungal infection</td>\n",
              "    </tr>\n",
              "    <tr>\n",
              "      <th>4</th>\n",
              "      <td>4</td>\n",
              "      <td>1</td>\n",
              "      <td>1</td>\n",
              "      <td>1</td>\n",
              "      <td>0</td>\n",
              "      <td>0</td>\n",
              "      <td>0</td>\n",
              "      <td>0</td>\n",
              "      <td>0</td>\n",
              "      <td>0</td>\n",
              "      <td>...</td>\n",
              "      <td>0</td>\n",
              "      <td>0</td>\n",
              "      <td>0</td>\n",
              "      <td>0</td>\n",
              "      <td>0</td>\n",
              "      <td>0</td>\n",
              "      <td>0</td>\n",
              "      <td>0</td>\n",
              "      <td>0</td>\n",
              "      <td>Fungal infection</td>\n",
              "    </tr>\n",
              "  </tbody>\n",
              "</table>\n",
              "<p>5 rows × 134 columns</p>\n",
              "</div>\n",
              "      <button class=\"colab-df-convert\" onclick=\"convertToInteractive('df-78166d42-f1bb-4de7-8cea-c9314c4c6d8e')\"\n",
              "              title=\"Convert this dataframe to an interactive table.\"\n",
              "              style=\"display:none;\">\n",
              "        \n",
              "  <svg xmlns=\"http://www.w3.org/2000/svg\" height=\"24px\"viewBox=\"0 0 24 24\"\n",
              "       width=\"24px\">\n",
              "    <path d=\"M0 0h24v24H0V0z\" fill=\"none\"/>\n",
              "    <path d=\"M18.56 5.44l.94 2.06.94-2.06 2.06-.94-2.06-.94-.94-2.06-.94 2.06-2.06.94zm-11 1L8.5 8.5l.94-2.06 2.06-.94-2.06-.94L8.5 2.5l-.94 2.06-2.06.94zm10 10l.94 2.06.94-2.06 2.06-.94-2.06-.94-.94-2.06-.94 2.06-2.06.94z\"/><path d=\"M17.41 7.96l-1.37-1.37c-.4-.4-.92-.59-1.43-.59-.52 0-1.04.2-1.43.59L10.3 9.45l-7.72 7.72c-.78.78-.78 2.05 0 2.83L4 21.41c.39.39.9.59 1.41.59.51 0 1.02-.2 1.41-.59l7.78-7.78 2.81-2.81c.8-.78.8-2.07 0-2.86zM5.41 20L4 18.59l7.72-7.72 1.47 1.35L5.41 20z\"/>\n",
              "  </svg>\n",
              "      </button>\n",
              "      \n",
              "  <style>\n",
              "    .colab-df-container {\n",
              "      display:flex;\n",
              "      flex-wrap:wrap;\n",
              "      gap: 12px;\n",
              "    }\n",
              "\n",
              "    .colab-df-convert {\n",
              "      background-color: #E8F0FE;\n",
              "      border: none;\n",
              "      border-radius: 50%;\n",
              "      cursor: pointer;\n",
              "      display: none;\n",
              "      fill: #1967D2;\n",
              "      height: 32px;\n",
              "      padding: 0 0 0 0;\n",
              "      width: 32px;\n",
              "    }\n",
              "\n",
              "    .colab-df-convert:hover {\n",
              "      background-color: #E2EBFA;\n",
              "      box-shadow: 0px 1px 2px rgba(60, 64, 67, 0.3), 0px 1px 3px 1px rgba(60, 64, 67, 0.15);\n",
              "      fill: #174EA6;\n",
              "    }\n",
              "\n",
              "    [theme=dark] .colab-df-convert {\n",
              "      background-color: #3B4455;\n",
              "      fill: #D2E3FC;\n",
              "    }\n",
              "\n",
              "    [theme=dark] .colab-df-convert:hover {\n",
              "      background-color: #434B5C;\n",
              "      box-shadow: 0px 1px 3px 1px rgba(0, 0, 0, 0.15);\n",
              "      filter: drop-shadow(0px 1px 2px rgba(0, 0, 0, 0.3));\n",
              "      fill: #FFFFFF;\n",
              "    }\n",
              "  </style>\n",
              "\n",
              "      <script>\n",
              "        const buttonEl =\n",
              "          document.querySelector('#df-78166d42-f1bb-4de7-8cea-c9314c4c6d8e button.colab-df-convert');\n",
              "        buttonEl.style.display =\n",
              "          google.colab.kernel.accessAllowed ? 'block' : 'none';\n",
              "\n",
              "        async function convertToInteractive(key) {\n",
              "          const element = document.querySelector('#df-78166d42-f1bb-4de7-8cea-c9314c4c6d8e');\n",
              "          const dataTable =\n",
              "            await google.colab.kernel.invokeFunction('convertToInteractive',\n",
              "                                                     [key], {});\n",
              "          if (!dataTable) return;\n",
              "\n",
              "          const docLinkHtml = 'Like what you see? Visit the ' +\n",
              "            '<a target=\"_blank\" href=https://colab.research.google.com/notebooks/data_table.ipynb>data table notebook</a>'\n",
              "            + ' to learn more about interactive tables.';\n",
              "          element.innerHTML = '';\n",
              "          dataTable['output_type'] = 'display_data';\n",
              "          await google.colab.output.renderOutput(dataTable, element);\n",
              "          const docLink = document.createElement('div');\n",
              "          docLink.innerHTML = docLinkHtml;\n",
              "          element.appendChild(docLink);\n",
              "        }\n",
              "      </script>\n",
              "    </div>\n",
              "  </div>\n",
              "  "
            ]
          },
          "metadata": {},
          "execution_count": 32
        }
      ]
    },
    {
      "cell_type": "code",
      "source": [
        "# Dropping the unique identifier column\n",
        "train.drop('Unnamed: 0', axis = 1, inplace = True)"
      ],
      "metadata": {
        "id": "VESF4BLh-rjN"
      },
      "execution_count": null,
      "outputs": []
    },
    {
      "cell_type": "code",
      "source": [
        "train.info()"
      ],
      "metadata": {
        "id": "8d45fcC8bAbX",
        "colab": {
          "base_uri": "https://localhost:8080/"
        },
        "outputId": "c2224621-7c28-4bc3-cf59-adccb991f2a9"
      },
      "execution_count": null,
      "outputs": [
        {
          "output_type": "stream",
          "name": "stdout",
          "text": [
            "<class 'pandas.core.frame.DataFrame'>\n",
            "RangeIndex: 4920 entries, 0 to 4919\n",
            "Columns: 133 entries, itching to prognosis\n",
            "dtypes: int64(132), object(1)\n",
            "memory usage: 5.0+ MB\n"
          ]
        }
      ]
    },
    {
      "cell_type": "markdown",
      "source": [
        "The 'train' dataset consists of 4920 entries and 133 columns"
      ],
      "metadata": {
        "id": "8e8xPS90iA-1"
      }
    },
    {
      "cell_type": "markdown",
      "source": [
        "##**III. Model Building**"
      ],
      "metadata": {
        "id": "DrO6C40fG8xz"
      }
    },
    {
      "cell_type": "markdown",
      "source": [
        "####IIIa. Splitting the 'train' and 'test' datasets "
      ],
      "metadata": {
        "id": "hLiJU6WWYF5W"
      }
    },
    {
      "cell_type": "code",
      "source": [
        "# X_train and X_test contain the set of symptoms\n",
        "# y_train and y_test contain the prognosis, which is the answer to the symptoms\n",
        "X_train = train.drop('prognosis', axis = 1)\n",
        "y_train = train['prognosis']\n",
        "X_test = test.drop('prognosis', axis = 1)\n",
        "y_test = test['prognosis']"
      ],
      "metadata": {
        "id": "z4bLdkp7agE_"
      },
      "execution_count": null,
      "outputs": []
    },
    {
      "cell_type": "code",
      "source": [
        "# Transforming the categorical value of y_train and y_test into numerical value\n",
        "lb = LabelEncoder()\n",
        "y_train_num = lb.fit_transform(y_train)\n",
        "y_test_num = lb.fit_transform(y_test)"
      ],
      "metadata": {
        "id": "Y2eZugMIrwcn"
      },
      "execution_count": null,
      "outputs": []
    },
    {
      "cell_type": "markdown",
      "source": [
        "####IIIb. Artificial Neural Network (ANN) parameter and model"
      ],
      "metadata": {
        "id": "appGK6KYe5VY"
      }
    },
    {
      "cell_type": "code",
      "source": [
        "# Shape of X_train to use as the input_shape\n",
        "X_train.shape"
      ],
      "metadata": {
        "colab": {
          "base_uri": "https://localhost:8080/"
        },
        "id": "PvS9iSMDamwG",
        "outputId": "417d1b26-212d-428d-d013-f359cf8fdd2d"
      },
      "execution_count": null,
      "outputs": [
        {
          "output_type": "execute_result",
          "data": {
            "text/plain": [
              "(4920, 132)"
            ]
          },
          "metadata": {},
          "execution_count": 37
        }
      ]
    },
    {
      "cell_type": "code",
      "source": [
        "# Number of possible outcome (number of unique disease)\n",
        "len(y_train.unique())"
      ],
      "metadata": {
        "colab": {
          "base_uri": "https://localhost:8080/"
        },
        "id": "1H0xPV1S_wOD",
        "outputId": "baa1bcef-2b3b-4d5c-dae3-eff0f7fb5a43"
      },
      "execution_count": null,
      "outputs": [
        {
          "output_type": "execute_result",
          "data": {
            "text/plain": [
              "41"
            ]
          },
          "metadata": {},
          "execution_count": 38
        }
      ]
    },
    {
      "cell_type": "markdown",
      "source": [
        "The artificial neural network model will be learning a dataset that has 132 features and 42 possible outputs.\n",
        "\n",
        "Considering the relatively large number of features involved in this learning process, we will try using 3 hidden layers in the model. The layers are illustrated as follow:\n",
        "\n",
        "![Picture](https://drive.google.com/uc?export=view&id=1otK5OiExTq2yEqw8PLXmT3qyPF8DPhul)\n",
        "\n",
        "Aside from the number of the hidden layers, we also need to determine the number of neurons in each hidden layer. For this, we will be using the formula: {n = sqrt (input * output)}. The following is the applications of the formula:\n",
        "\n",
        "*   n1 = sqrt (n0 * n2)\n",
        "*   n2 = sqrt (n1 * n3)\n",
        "*   n3 = sqrt (n2 * n4)\n",
        "\n",
        "We then obtain:\n",
        "\n",
        "*   n1 = 98.5431 ~ n1 = 99\n",
        "*   n2 = 73.5663 ~ n2 = 74\n",
        "*   n3 = 54.9201 ~ n3 = 55\n",
        "\n",
        "For the layers connection, we will be using the Dense type layer, which is basically a regular deeply connected neural network layer and is one the most used ones in practices.\n",
        "\n",
        "For the activation functions, we will try using the most commonly used ones, which are:\n",
        "\n",
        "*   Rectified Linear Unit (ReLU) for the hidden layers\n",
        "*   Softmax for the output layer\n",
        "\n",
        "\n",
        "\n",
        "\n",
        "\n",
        "\n"
      ],
      "metadata": {
        "id": "022JiZ7PPxFk"
      }
    },
    {
      "cell_type": "code",
      "source": [
        "# Model Building\n",
        "model = keras.Sequential([# hidden layer 1\n",
        "                          keras.layers.Dense(units = 99, input_shape = (132,)),\n",
        "                          keras.layers.Activation('relu'),\n",
        "                          # hidden layer 2 \n",
        "                          keras.layers.Dense(units = 74),\n",
        "                          keras.layers.Activation('relu'),\n",
        "                          # hidden layer 3\n",
        "                          keras.layers.Dense(units = 56),\n",
        "                          keras.layers.Activation('relu'),\n",
        "                          # output layer\n",
        "                          keras.layers.Dense(42),\n",
        "                          keras.layers.Activation('softmax')])\n",
        "\n",
        "# Note: some of the parameters may differ from the original set of parameter\n",
        "# This is due to parameter tuning in order to increase model accuracy\n",
        "\n",
        "# Model shape\n",
        "model.summary()"
      ],
      "metadata": {
        "id": "3ZJlZNpP8F-J",
        "colab": {
          "base_uri": "https://localhost:8080/"
        },
        "outputId": "e102a73e-20b3-4aec-a853-9aa25015acf7"
      },
      "execution_count": null,
      "outputs": [
        {
          "output_type": "stream",
          "name": "stdout",
          "text": [
            "Model: \"sequential_3\"\n",
            "_________________________________________________________________\n",
            " Layer (type)                Output Shape              Param #   \n",
            "=================================================================\n",
            " dense_12 (Dense)            (None, 99)                13167     \n",
            "                                                                 \n",
            " activation_12 (Activation)  (None, 99)                0         \n",
            "                                                                 \n",
            " dense_13 (Dense)            (None, 74)                7400      \n",
            "                                                                 \n",
            " activation_13 (Activation)  (None, 74)                0         \n",
            "                                                                 \n",
            " dense_14 (Dense)            (None, 56)                4200      \n",
            "                                                                 \n",
            " activation_14 (Activation)  (None, 56)                0         \n",
            "                                                                 \n",
            " dense_15 (Dense)            (None, 42)                2394      \n",
            "                                                                 \n",
            " activation_15 (Activation)  (None, 42)                0         \n",
            "                                                                 \n",
            "=================================================================\n",
            "Total params: 27,161\n",
            "Trainable params: 27,161\n",
            "Non-trainable params: 0\n",
            "_________________________________________________________________\n"
          ]
        }
      ]
    },
    {
      "cell_type": "markdown",
      "source": [
        "After building the structure of the model, the model then needs to be compiled. In this compilation process, there are some parameters that need to be specified as well:\n",
        "\n",
        "*   'adam' for the optimizer, which often used as a default optimizer, since it usually has faster computation time\n",
        "*   'Sparse Categorical Cross Entropy' for the loss function, which calculates the crossentropy loss between labels and predictions\n",
        "*   'accuracy' for the metrics, which calculates how often prediction equals labels\n"
      ],
      "metadata": {
        "id": "Hjp2LbLE1aKA"
      }
    },
    {
      "cell_type": "code",
      "source": [
        "# Compiling the built model\n",
        "model.compile(optimizer = 'adam',\n",
        "              loss = keras.losses.SparseCategoricalCrossentropy(),\n",
        "              metrics = ['accuracy'])\n",
        "\n",
        "# Fitting the 'train' data into the model\n",
        "model.fit(X_train, \n",
        "          y_train_num, \n",
        "          epochs = 5)"
      ],
      "metadata": {
        "id": "4RmJpuAufZfS",
        "colab": {
          "base_uri": "https://localhost:8080/"
        },
        "outputId": "a3f04ac1-6f07-4b59-d6a3-61f9c0e70d60"
      },
      "execution_count": null,
      "outputs": [
        {
          "output_type": "stream",
          "name": "stdout",
          "text": [
            "Epoch 1/5\n",
            "154/154 [==============================] - 1s 3ms/step - loss: 1.4828 - accuracy: 0.8022\n",
            "Epoch 2/5\n",
            "154/154 [==============================] - 0s 3ms/step - loss: 0.0156 - accuracy: 1.0000\n",
            "Epoch 3/5\n",
            "154/154 [==============================] - 0s 3ms/step - loss: 0.0045 - accuracy: 1.0000\n",
            "Epoch 4/5\n",
            "154/154 [==============================] - 0s 3ms/step - loss: 0.0022 - accuracy: 1.0000\n",
            "Epoch 5/5\n",
            "154/154 [==============================] - 0s 3ms/step - loss: 0.0013 - accuracy: 1.0000\n"
          ]
        },
        {
          "output_type": "execute_result",
          "data": {
            "text/plain": [
              "<keras.callbacks.History at 0x7f5a5ea44e90>"
            ]
          },
          "metadata": {},
          "execution_count": 40
        }
      ]
    },
    {
      "cell_type": "markdown",
      "source": [
        "####IIIc. Model testing and scoring"
      ],
      "metadata": {
        "id": "wTfhn2YA8QyC"
      }
    },
    {
      "cell_type": "markdown",
      "source": [
        "Now, let us try predicting the result of the 'test' datasets based on the model we have built."
      ],
      "metadata": {
        "id": "AZEFcZCL4frW"
      }
    },
    {
      "cell_type": "code",
      "source": [
        "# Predicting using the built model\n",
        "modelpred = model.predict(X_test)\n",
        "\n",
        "# Calculating the accuracy of the\n",
        "acc = model.evaluate(X_test, y_test_num, steps = 5)"
      ],
      "metadata": {
        "id": "z9UbCwrf8XHI",
        "colab": {
          "base_uri": "https://localhost:8080/"
        },
        "outputId": "a61c6208-4639-4a8c-d3d4-657e4616f61d"
      },
      "execution_count": null,
      "outputs": [
        {
          "output_type": "stream",
          "name": "stdout",
          "text": [
            "5/5 [==============================] - 0s 3ms/step - loss: 0.0277 - accuracy: 1.0000\n"
          ]
        }
      ]
    },
    {
      "cell_type": "markdown",
      "source": [
        "From the Artificial Network Neural model that we have build, we have successfully predicted the outcome of the 'test' datasets in 100% accuracy."
      ],
      "metadata": {
        "id": "9GRrIXCH6JPn"
      }
    }
  ]
}