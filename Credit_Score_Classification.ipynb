{
 "cells": [
  {
   "cell_type": "markdown",
   "metadata": {
    "id": "uEcAt4x-YwKj"
   },
   "source": [
    "# **Data Cleaning Project: Credit Score Classification Datasets**"
   ]
  },
  {
   "cell_type": "markdown",
   "metadata": {
    "id": "gklkpEISZM2o"
   },
   "source": [
    "In this project, we will be doing some data cleaning and feature engineering to training and testing datasets about a credit score classification. The product of this project is a pair of csv files that can further be used in a prediction project to classify clients' credit score.\n",
    "\n",
    "Our thanks to the provider of the original datasets:\n",
    "https://www.kaggle.com/datasets/parisrohan/credit-score-classification"
   ]
  },
  {
   "cell_type": "markdown",
   "metadata": {
    "id": "TFOGgQuMzcMG"
   },
   "source": [
    "## **I. Project Preparation**"
   ]
  },
  {
   "cell_type": "markdown",
   "metadata": {
    "id": "mk9rKNbHzoxh"
   },
   "source": [
    "### Ia. Libraries"
   ]
  },
  {
   "cell_type": "code",
   "execution_count": 538,
   "metadata": {
    "id": "4uj3zWL_97j8"
   },
   "outputs": [
    {
     "name": "stdout",
     "output_type": "stream",
     "text": [
      "Requirement already satisfied: termcolor in c:\\users\\arvy\\anaconda3\\lib\\site-packages (1.1.0)\n"
     ]
    }
   ],
   "source": [
    "# importing libraries\n",
    "import pandas as pd\n",
    "\n",
    "import numpy as np\n",
    "\n",
    "import seaborn as sns\n",
    "\n",
    "import matplotlib.pyplot as plt\n",
    "\n",
    "import sys\n",
    "!{sys.executable} -m pip install termcolor\n",
    "\n",
    "from sklearn.preprocessing import MultiLabelBinarizer\n",
    "mlb = MultiLabelBinarizer()\n",
    "\n",
    "from termcolor import colored"
   ]
  },
  {
   "cell_type": "markdown",
   "metadata": {
    "id": "v5jgaVG1ztgp"
   },
   "source": [
    "### Ib. Datasets"
   ]
  },
  {
   "cell_type": "code",
   "execution_count": 396,
   "metadata": {
    "colab": {
     "base_uri": "https://localhost:8080/"
    },
    "id": "Jln1oAj4Z9mt",
    "outputId": "f8506d54-ce24-43df-add4-cc1290618c0c"
   },
   "outputs": [
    {
     "name": "stderr",
     "output_type": "stream",
     "text": [
      "C:\\Users\\Arvy\\anaconda3\\lib\\site-packages\\IPython\\core\\interactiveshell.py:3444: DtypeWarning: Columns (26) have mixed types.Specify dtype option on import or set low_memory=False.\n",
      "  exec(code_obj, self.user_global_ns, self.user_ns)\n"
     ]
    }
   ],
   "source": [
    "# original train dan test datasets\n",
    "train_ori = pd.read_csv('train.csv')\n",
    "test_ori = pd.read_csv('test.csv')\n",
    "\n",
    "# copy of train and test datasets\n",
    "train = train_ori.copy()\n",
    "test = test_ori.copy()"
   ]
  },
  {
   "cell_type": "markdown",
   "metadata": {},
   "source": [
    "### Ic. Functions"
   ]
  },
  {
   "cell_type": "code",
   "execution_count": 397,
   "metadata": {},
   "outputs": [],
   "source": [
    "# Function to get count of each unique value in a feature and its portion\n",
    "def uniquevalueprob(dataset, feature, excludeditem = None):\n",
    "    # Storing each unique value in a list\n",
    "    global listUV\n",
    "    listUV = list(dataset[feature].unique())\n",
    "    listUV = [i for i in listUV if type(i) is not float]\n",
    "    if excludeditem is not None:\n",
    "        listUV.remove(excludeditem)\n",
    "    else:\n",
    "        listUV = listUV\n",
    "    \n",
    "    #Storing the count of each unique value in a list\n",
    "    global listUVcount\n",
    "    listUVcount = []\n",
    "    for UV in listUV:\n",
    "        UVcount = (dataset[feature] == UV).sum()\n",
    "        listUVcount.append(UVcount)\n",
    "    \n",
    "    # Calculating the sum of all UVcount\n",
    "    totalcount = sum(listUVcount)\n",
    "    \n",
    "    # Calculating the portion of each unique value in the feature\n",
    "    global listUVportion\n",
    "    listUVportion = []\n",
    "    for item in listUVcount:\n",
    "        UVportion = item / totalcount\n",
    "        listUVportion.append(UVportion)\n",
    "    \n",
    "    # Creating the report table\n",
    "    table = pd.DataFrame(list(zip(listUV, listUVcount, listUVportion)))\n",
    "    table.columns = [feature, 'Count', 'Portion']\n",
    "    \n",
    "    # Displaying the report table\n",
    "    print(table.sort_values(['Count', feature], \n",
    "                            ascending = [0,1]).to_string(index = False))"
   ]
  },
  {
   "cell_type": "markdown",
   "metadata": {
    "id": "PksdQmVtzwLy"
   },
   "source": [
    "## **II. Light Data Exploration**"
   ]
  },
  {
   "cell_type": "markdown",
   "metadata": {
    "id": "QzNMLIUj0xxw"
   },
   "source": [
    "### IIa. General overview"
   ]
  },
  {
   "cell_type": "markdown",
   "metadata": {},
   "source": [
    "There are some information regarding what each feature of the dataset represents given by the provider of the datasets. These information are very useful for us to better understand the datasets.\n",
    "\n",
    "* 1. ID: Represents a unique identification of an entry\n",
    "* 2. Customer_ID: Represents a unique identification of a person\n",
    "* 3. Month: Represents the month of the year\n",
    "* 4. Name: Represents the name of a person\n",
    "* 5. Age: Represents the age of the person\n",
    "* 6. SSN: Represents the social security number of a person\n",
    "* 7. Occupation: Represents the occupation of the person\n",
    "* 8. Annual_Income: Represents the annual income of the person\n",
    "* 9. Monthly_Inhand_Salary:Represents the monthly base salary of a person\n",
    "* 10. Num_Bank_Accounts: Represents the number of bank accounts a person holds\n",
    "* 11. Num_Credit_Card: Represents the number of other credit cards held by a person\n",
    "* 12. Interest_Rate: Represents the interest rate on credit card\n",
    "* 13. Num_of_Loan: Represents the number of loans taken from the bank\n",
    "* 14. Type_of_Loan: Represents the types of loan taken by a person\n",
    "* 15. Delay_from_due_date: Represents the average number of days delayed from the payment date\n",
    "* 16. Num_of_Delayed_Payment: Represents the average number of payments delayed by a person\n",
    "* 17. Changed_Credit_Limit: Represents the percentage change in credit card limit\n",
    "* 18. Num_Credit_Inquiries: Represents the number of credit card inquiries\n",
    "* 19. Credit_Mix: Represents the classification of the mix of credits\n",
    "* 20. Outstanding_Debt: Represents the remaining debt to be paid (in USD)\n",
    "* 21. Credit_Utilization_Ratio: Represents the utilization ratio of credit card\n",
    "* 22. Credit_History_Age: Represents the age of credit history of the person\n",
    "* 23. Payment_of_Min_Amount: Represents whether only the minimum amount was paid by the person\n",
    "* 24. Total_EMI_per_month: Represents the monthly EMI payments (in USD)\n",
    "* 25. Amount_invested_monthly: Represents the monthly amount invested by the customer (in USD)\n",
    "* 26. Payment_Behaviour: Represents the payment behavior of the customer (in USD)\n",
    "* 27. Monthly_Balance: Represents the monthly balance amount of the customer (in USD)"
   ]
  },
  {
   "cell_type": "code",
   "execution_count": 398,
   "metadata": {
    "colab": {
     "base_uri": "https://localhost:8080/",
     "height": 617
    },
    "id": "Dnmt2dHJaHYa",
    "outputId": "c80eec91-9dec-4fd2-f7f0-2309848474a7",
    "scrolled": true
   },
   "outputs": [
    {
     "data": {
      "text/html": [
       "<div>\n",
       "<style scoped>\n",
       "    .dataframe tbody tr th:only-of-type {\n",
       "        vertical-align: middle;\n",
       "    }\n",
       "\n",
       "    .dataframe tbody tr th {\n",
       "        vertical-align: top;\n",
       "    }\n",
       "\n",
       "    .dataframe thead th {\n",
       "        text-align: right;\n",
       "    }\n",
       "</style>\n",
       "<table border=\"1\" class=\"dataframe\">\n",
       "  <thead>\n",
       "    <tr style=\"text-align: right;\">\n",
       "      <th></th>\n",
       "      <th>ID</th>\n",
       "      <th>Customer_ID</th>\n",
       "      <th>Month</th>\n",
       "      <th>Name</th>\n",
       "      <th>Age</th>\n",
       "      <th>SSN</th>\n",
       "      <th>Occupation</th>\n",
       "      <th>Annual_Income</th>\n",
       "      <th>Monthly_Inhand_Salary</th>\n",
       "      <th>Num_Bank_Accounts</th>\n",
       "      <th>Num_Credit_Card</th>\n",
       "      <th>Interest_Rate</th>\n",
       "      <th>Num_of_Loan</th>\n",
       "      <th>Type_of_Loan</th>\n",
       "      <th>Delay_from_due_date</th>\n",
       "      <th>Num_of_Delayed_Payment</th>\n",
       "      <th>Changed_Credit_Limit</th>\n",
       "      <th>Num_Credit_Inquiries</th>\n",
       "      <th>Credit_Mix</th>\n",
       "      <th>Outstanding_Debt</th>\n",
       "      <th>Credit_Utilization_Ratio</th>\n",
       "      <th>Credit_History_Age</th>\n",
       "      <th>Payment_of_Min_Amount</th>\n",
       "      <th>Total_EMI_per_month</th>\n",
       "      <th>Amount_invested_monthly</th>\n",
       "      <th>Payment_Behaviour</th>\n",
       "      <th>Monthly_Balance</th>\n",
       "      <th>Credit_Score</th>\n",
       "    </tr>\n",
       "  </thead>\n",
       "  <tbody>\n",
       "    <tr>\n",
       "      <th>0</th>\n",
       "      <td>0x1602</td>\n",
       "      <td>CUS_0xd40</td>\n",
       "      <td>January</td>\n",
       "      <td>Aaron Maashoh</td>\n",
       "      <td>23</td>\n",
       "      <td>821-00-0265</td>\n",
       "      <td>Scientist</td>\n",
       "      <td>19114.12</td>\n",
       "      <td>1824.843333</td>\n",
       "      <td>3</td>\n",
       "      <td>4</td>\n",
       "      <td>3</td>\n",
       "      <td>4</td>\n",
       "      <td>Auto Loan, Credit-Builder Loan, Personal Loan,...</td>\n",
       "      <td>3</td>\n",
       "      <td>7</td>\n",
       "      <td>11.27</td>\n",
       "      <td>4.0</td>\n",
       "      <td>_</td>\n",
       "      <td>809.98</td>\n",
       "      <td>26.822620</td>\n",
       "      <td>22 Years and 1 Months</td>\n",
       "      <td>No</td>\n",
       "      <td>49.574949</td>\n",
       "      <td>80.41529543900253</td>\n",
       "      <td>High_spent_Small_value_payments</td>\n",
       "      <td>312.49408867943663</td>\n",
       "      <td>Good</td>\n",
       "    </tr>\n",
       "    <tr>\n",
       "      <th>1</th>\n",
       "      <td>0x1603</td>\n",
       "      <td>CUS_0xd40</td>\n",
       "      <td>February</td>\n",
       "      <td>Aaron Maashoh</td>\n",
       "      <td>23</td>\n",
       "      <td>821-00-0265</td>\n",
       "      <td>Scientist</td>\n",
       "      <td>19114.12</td>\n",
       "      <td>NaN</td>\n",
       "      <td>3</td>\n",
       "      <td>4</td>\n",
       "      <td>3</td>\n",
       "      <td>4</td>\n",
       "      <td>Auto Loan, Credit-Builder Loan, Personal Loan,...</td>\n",
       "      <td>-1</td>\n",
       "      <td>NaN</td>\n",
       "      <td>11.27</td>\n",
       "      <td>4.0</td>\n",
       "      <td>Good</td>\n",
       "      <td>809.98</td>\n",
       "      <td>31.944960</td>\n",
       "      <td>NaN</td>\n",
       "      <td>No</td>\n",
       "      <td>49.574949</td>\n",
       "      <td>118.28022162236736</td>\n",
       "      <td>Low_spent_Large_value_payments</td>\n",
       "      <td>284.62916249607184</td>\n",
       "      <td>Good</td>\n",
       "    </tr>\n",
       "    <tr>\n",
       "      <th>2</th>\n",
       "      <td>0x1604</td>\n",
       "      <td>CUS_0xd40</td>\n",
       "      <td>March</td>\n",
       "      <td>Aaron Maashoh</td>\n",
       "      <td>-500</td>\n",
       "      <td>821-00-0265</td>\n",
       "      <td>Scientist</td>\n",
       "      <td>19114.12</td>\n",
       "      <td>NaN</td>\n",
       "      <td>3</td>\n",
       "      <td>4</td>\n",
       "      <td>3</td>\n",
       "      <td>4</td>\n",
       "      <td>Auto Loan, Credit-Builder Loan, Personal Loan,...</td>\n",
       "      <td>3</td>\n",
       "      <td>7</td>\n",
       "      <td>_</td>\n",
       "      <td>4.0</td>\n",
       "      <td>Good</td>\n",
       "      <td>809.98</td>\n",
       "      <td>28.609352</td>\n",
       "      <td>22 Years and 3 Months</td>\n",
       "      <td>No</td>\n",
       "      <td>49.574949</td>\n",
       "      <td>81.699521264648</td>\n",
       "      <td>Low_spent_Medium_value_payments</td>\n",
       "      <td>331.2098628537912</td>\n",
       "      <td>Good</td>\n",
       "    </tr>\n",
       "    <tr>\n",
       "      <th>3</th>\n",
       "      <td>0x1605</td>\n",
       "      <td>CUS_0xd40</td>\n",
       "      <td>April</td>\n",
       "      <td>Aaron Maashoh</td>\n",
       "      <td>23</td>\n",
       "      <td>821-00-0265</td>\n",
       "      <td>Scientist</td>\n",
       "      <td>19114.12</td>\n",
       "      <td>NaN</td>\n",
       "      <td>3</td>\n",
       "      <td>4</td>\n",
       "      <td>3</td>\n",
       "      <td>4</td>\n",
       "      <td>Auto Loan, Credit-Builder Loan, Personal Loan,...</td>\n",
       "      <td>5</td>\n",
       "      <td>4</td>\n",
       "      <td>6.27</td>\n",
       "      <td>4.0</td>\n",
       "      <td>Good</td>\n",
       "      <td>809.98</td>\n",
       "      <td>31.377862</td>\n",
       "      <td>22 Years and 4 Months</td>\n",
       "      <td>No</td>\n",
       "      <td>49.574949</td>\n",
       "      <td>199.4580743910713</td>\n",
       "      <td>Low_spent_Small_value_payments</td>\n",
       "      <td>223.45130972736786</td>\n",
       "      <td>Good</td>\n",
       "    </tr>\n",
       "    <tr>\n",
       "      <th>4</th>\n",
       "      <td>0x1606</td>\n",
       "      <td>CUS_0xd40</td>\n",
       "      <td>May</td>\n",
       "      <td>Aaron Maashoh</td>\n",
       "      <td>23</td>\n",
       "      <td>821-00-0265</td>\n",
       "      <td>Scientist</td>\n",
       "      <td>19114.12</td>\n",
       "      <td>1824.843333</td>\n",
       "      <td>3</td>\n",
       "      <td>4</td>\n",
       "      <td>3</td>\n",
       "      <td>4</td>\n",
       "      <td>Auto Loan, Credit-Builder Loan, Personal Loan,...</td>\n",
       "      <td>6</td>\n",
       "      <td>NaN</td>\n",
       "      <td>11.27</td>\n",
       "      <td>4.0</td>\n",
       "      <td>Good</td>\n",
       "      <td>809.98</td>\n",
       "      <td>24.797347</td>\n",
       "      <td>22 Years and 5 Months</td>\n",
       "      <td>No</td>\n",
       "      <td>49.574949</td>\n",
       "      <td>41.420153086217326</td>\n",
       "      <td>High_spent_Medium_value_payments</td>\n",
       "      <td>341.48923103222177</td>\n",
       "      <td>Good</td>\n",
       "    </tr>\n",
       "  </tbody>\n",
       "</table>\n",
       "</div>"
      ],
      "text/plain": [
       "       ID Customer_ID     Month           Name   Age          SSN Occupation  \\\n",
       "0  0x1602   CUS_0xd40   January  Aaron Maashoh    23  821-00-0265  Scientist   \n",
       "1  0x1603   CUS_0xd40  February  Aaron Maashoh    23  821-00-0265  Scientist   \n",
       "2  0x1604   CUS_0xd40     March  Aaron Maashoh  -500  821-00-0265  Scientist   \n",
       "3  0x1605   CUS_0xd40     April  Aaron Maashoh    23  821-00-0265  Scientist   \n",
       "4  0x1606   CUS_0xd40       May  Aaron Maashoh    23  821-00-0265  Scientist   \n",
       "\n",
       "  Annual_Income  Monthly_Inhand_Salary  Num_Bank_Accounts  Num_Credit_Card  \\\n",
       "0      19114.12            1824.843333                  3                4   \n",
       "1      19114.12                    NaN                  3                4   \n",
       "2      19114.12                    NaN                  3                4   \n",
       "3      19114.12                    NaN                  3                4   \n",
       "4      19114.12            1824.843333                  3                4   \n",
       "\n",
       "   Interest_Rate Num_of_Loan  \\\n",
       "0              3           4   \n",
       "1              3           4   \n",
       "2              3           4   \n",
       "3              3           4   \n",
       "4              3           4   \n",
       "\n",
       "                                        Type_of_Loan  Delay_from_due_date  \\\n",
       "0  Auto Loan, Credit-Builder Loan, Personal Loan,...                    3   \n",
       "1  Auto Loan, Credit-Builder Loan, Personal Loan,...                   -1   \n",
       "2  Auto Loan, Credit-Builder Loan, Personal Loan,...                    3   \n",
       "3  Auto Loan, Credit-Builder Loan, Personal Loan,...                    5   \n",
       "4  Auto Loan, Credit-Builder Loan, Personal Loan,...                    6   \n",
       "\n",
       "  Num_of_Delayed_Payment Changed_Credit_Limit  Num_Credit_Inquiries  \\\n",
       "0                      7                11.27                   4.0   \n",
       "1                    NaN                11.27                   4.0   \n",
       "2                      7                    _                   4.0   \n",
       "3                      4                 6.27                   4.0   \n",
       "4                    NaN                11.27                   4.0   \n",
       "\n",
       "  Credit_Mix Outstanding_Debt  Credit_Utilization_Ratio  \\\n",
       "0          _           809.98                 26.822620   \n",
       "1       Good           809.98                 31.944960   \n",
       "2       Good           809.98                 28.609352   \n",
       "3       Good           809.98                 31.377862   \n",
       "4       Good           809.98                 24.797347   \n",
       "\n",
       "      Credit_History_Age Payment_of_Min_Amount  Total_EMI_per_month  \\\n",
       "0  22 Years and 1 Months                    No            49.574949   \n",
       "1                    NaN                    No            49.574949   \n",
       "2  22 Years and 3 Months                    No            49.574949   \n",
       "3  22 Years and 4 Months                    No            49.574949   \n",
       "4  22 Years and 5 Months                    No            49.574949   \n",
       "\n",
       "  Amount_invested_monthly                 Payment_Behaviour  \\\n",
       "0       80.41529543900253   High_spent_Small_value_payments   \n",
       "1      118.28022162236736    Low_spent_Large_value_payments   \n",
       "2         81.699521264648   Low_spent_Medium_value_payments   \n",
       "3       199.4580743910713    Low_spent_Small_value_payments   \n",
       "4      41.420153086217326  High_spent_Medium_value_payments   \n",
       "\n",
       "      Monthly_Balance Credit_Score  \n",
       "0  312.49408867943663         Good  \n",
       "1  284.62916249607184         Good  \n",
       "2   331.2098628537912         Good  \n",
       "3  223.45130972736786         Good  \n",
       "4  341.48923103222177         Good  "
      ]
     },
     "execution_count": 398,
     "metadata": {},
     "output_type": "execute_result"
    }
   ],
   "source": [
    "# train dataset\n",
    "\n",
    "# first five rows of the dataset\n",
    "pd.set_option('display.max_columns', None)\n",
    "train.head()"
   ]
  },
  {
   "cell_type": "code",
   "execution_count": 399,
   "metadata": {
    "colab": {
     "base_uri": "https://localhost:8080/"
    },
    "id": "v_cc66bACH32",
    "outputId": "f66e0994-0253-48b7-c5e8-70b033ce157b"
   },
   "outputs": [
    {
     "name": "stdout",
     "output_type": "stream",
     "text": [
      "train dataset entries x features : (100000, 28)\n"
     ]
    }
   ],
   "source": [
    "# train dataset\n",
    "\n",
    "# dataset shape\n",
    "print('train dataset entries x features :', train.shape)"
   ]
  },
  {
   "cell_type": "code",
   "execution_count": 400,
   "metadata": {
    "colab": {
     "base_uri": "https://localhost:8080/"
    },
    "id": "nNe8elIIaeCT",
    "outputId": "5a9ab096-1446-4f5e-c256-ce787211133a"
   },
   "outputs": [
    {
     "name": "stdout",
     "output_type": "stream",
     "text": [
      "<class 'pandas.core.frame.DataFrame'>\n",
      "RangeIndex: 100000 entries, 0 to 99999\n",
      "Data columns (total 28 columns):\n",
      " #   Column                    Non-Null Count   Dtype  \n",
      "---  ------                    --------------   -----  \n",
      " 0   ID                        100000 non-null  object \n",
      " 1   Customer_ID               100000 non-null  object \n",
      " 2   Month                     100000 non-null  object \n",
      " 3   Name                      90015 non-null   object \n",
      " 4   Age                       100000 non-null  object \n",
      " 5   SSN                       100000 non-null  object \n",
      " 6   Occupation                100000 non-null  object \n",
      " 7   Annual_Income             100000 non-null  object \n",
      " 8   Monthly_Inhand_Salary     84998 non-null   float64\n",
      " 9   Num_Bank_Accounts         100000 non-null  int64  \n",
      " 10  Num_Credit_Card           100000 non-null  int64  \n",
      " 11  Interest_Rate             100000 non-null  int64  \n",
      " 12  Num_of_Loan               100000 non-null  object \n",
      " 13  Type_of_Loan              88592 non-null   object \n",
      " 14  Delay_from_due_date       100000 non-null  int64  \n",
      " 15  Num_of_Delayed_Payment    92998 non-null   object \n",
      " 16  Changed_Credit_Limit      100000 non-null  object \n",
      " 17  Num_Credit_Inquiries      98035 non-null   float64\n",
      " 18  Credit_Mix                100000 non-null  object \n",
      " 19  Outstanding_Debt          100000 non-null  object \n",
      " 20  Credit_Utilization_Ratio  100000 non-null  float64\n",
      " 21  Credit_History_Age        90970 non-null   object \n",
      " 22  Payment_of_Min_Amount     100000 non-null  object \n",
      " 23  Total_EMI_per_month       100000 non-null  float64\n",
      " 24  Amount_invested_monthly   95521 non-null   object \n",
      " 25  Payment_Behaviour         100000 non-null  object \n",
      " 26  Monthly_Balance           98800 non-null   object \n",
      " 27  Credit_Score              100000 non-null  object \n",
      "dtypes: float64(4), int64(4), object(20)\n",
      "memory usage: 21.4+ MB\n"
     ]
    }
   ],
   "source": [
    "# train dataset\n",
    "\n",
    "# data type info\n",
    "train.info()"
   ]
  },
  {
   "cell_type": "code",
   "execution_count": 401,
   "metadata": {
    "colab": {
     "base_uri": "https://localhost:8080/"
    },
    "id": "2TRJqr7m73n3",
    "outputId": "18dc89da-3c71-415a-a535-4eb5b06edbc5"
   },
   "outputs": [
    {
     "data": {
      "text/plain": [
       "['ID',\n",
       " 'Customer_ID',\n",
       " 'Month',\n",
       " 'Name',\n",
       " 'Age',\n",
       " 'SSN',\n",
       " 'Occupation',\n",
       " 'Annual_Income',\n",
       " 'Num_of_Loan',\n",
       " 'Type_of_Loan',\n",
       " 'Num_of_Delayed_Payment',\n",
       " 'Changed_Credit_Limit',\n",
       " 'Credit_Mix',\n",
       " 'Outstanding_Debt',\n",
       " 'Credit_History_Age',\n",
       " 'Payment_of_Min_Amount',\n",
       " 'Amount_invested_monthly',\n",
       " 'Payment_Behaviour',\n",
       " 'Monthly_Balance',\n",
       " 'Credit_Score']"
      ]
     },
     "execution_count": 401,
     "metadata": {},
     "output_type": "execute_result"
    }
   ],
   "source": [
    "# categorical features in train dataset\n",
    "trainCat = []\n",
    "for i in train.columns:\n",
    "    if train[i].dtype == 'object':\n",
    "        trainCat.append(i)\n",
    "trainCat"
   ]
  },
  {
   "cell_type": "code",
   "execution_count": 402,
   "metadata": {
    "colab": {
     "base_uri": "https://localhost:8080/"
    },
    "id": "_W-x_g6f_ESC",
    "outputId": "eb12af80-4b1e-4fbe-b5ef-aa6d25d6c76d"
   },
   "outputs": [
    {
     "data": {
      "text/plain": [
       "['Monthly_Inhand_Salary',\n",
       " 'Num_Bank_Accounts',\n",
       " 'Num_Credit_Card',\n",
       " 'Interest_Rate',\n",
       " 'Delay_from_due_date',\n",
       " 'Num_Credit_Inquiries',\n",
       " 'Credit_Utilization_Ratio',\n",
       " 'Total_EMI_per_month']"
      ]
     },
     "execution_count": 402,
     "metadata": {},
     "output_type": "execute_result"
    }
   ],
   "source": [
    "# numerical features in train dataset\n",
    "trainNum = []\n",
    "for i in train.columns:\n",
    "    if train[i].dtype == 'float64':\n",
    "        trainNum.append(i)\n",
    "    if train[i].dtype == 'int64':\n",
    "        trainNum.append(i)\n",
    "trainNum"
   ]
  },
  {
   "cell_type": "code",
   "execution_count": 403,
   "metadata": {
    "colab": {
     "base_uri": "https://localhost:8080/",
     "height": 583
    },
    "id": "A5-qbjSQAiG5",
    "outputId": "80c9046d-5bc5-42c3-f8ae-732fdd5dd46f",
    "scrolled": true
   },
   "outputs": [
    {
     "data": {
      "text/html": [
       "<div>\n",
       "<style scoped>\n",
       "    .dataframe tbody tr th:only-of-type {\n",
       "        vertical-align: middle;\n",
       "    }\n",
       "\n",
       "    .dataframe tbody tr th {\n",
       "        vertical-align: top;\n",
       "    }\n",
       "\n",
       "    .dataframe thead th {\n",
       "        text-align: right;\n",
       "    }\n",
       "</style>\n",
       "<table border=\"1\" class=\"dataframe\">\n",
       "  <thead>\n",
       "    <tr style=\"text-align: right;\">\n",
       "      <th></th>\n",
       "      <th>ID</th>\n",
       "      <th>Customer_ID</th>\n",
       "      <th>Month</th>\n",
       "      <th>Name</th>\n",
       "      <th>Age</th>\n",
       "      <th>SSN</th>\n",
       "      <th>Occupation</th>\n",
       "      <th>Annual_Income</th>\n",
       "      <th>Monthly_Inhand_Salary</th>\n",
       "      <th>Num_Bank_Accounts</th>\n",
       "      <th>Num_Credit_Card</th>\n",
       "      <th>Interest_Rate</th>\n",
       "      <th>Num_of_Loan</th>\n",
       "      <th>Type_of_Loan</th>\n",
       "      <th>Delay_from_due_date</th>\n",
       "      <th>Num_of_Delayed_Payment</th>\n",
       "      <th>Changed_Credit_Limit</th>\n",
       "      <th>Num_Credit_Inquiries</th>\n",
       "      <th>Credit_Mix</th>\n",
       "      <th>Outstanding_Debt</th>\n",
       "      <th>Credit_Utilization_Ratio</th>\n",
       "      <th>Credit_History_Age</th>\n",
       "      <th>Payment_of_Min_Amount</th>\n",
       "      <th>Total_EMI_per_month</th>\n",
       "      <th>Amount_invested_monthly</th>\n",
       "      <th>Payment_Behaviour</th>\n",
       "      <th>Monthly_Balance</th>\n",
       "    </tr>\n",
       "  </thead>\n",
       "  <tbody>\n",
       "    <tr>\n",
       "      <th>0</th>\n",
       "      <td>0x160a</td>\n",
       "      <td>CUS_0xd40</td>\n",
       "      <td>September</td>\n",
       "      <td>Aaron Maashoh</td>\n",
       "      <td>23</td>\n",
       "      <td>821-00-0265</td>\n",
       "      <td>Scientist</td>\n",
       "      <td>19114.12</td>\n",
       "      <td>1824.843333</td>\n",
       "      <td>3</td>\n",
       "      <td>4</td>\n",
       "      <td>3</td>\n",
       "      <td>4</td>\n",
       "      <td>Auto Loan, Credit-Builder Loan, Personal Loan,...</td>\n",
       "      <td>3</td>\n",
       "      <td>7</td>\n",
       "      <td>11.27</td>\n",
       "      <td>2022.0</td>\n",
       "      <td>Good</td>\n",
       "      <td>809.98</td>\n",
       "      <td>35.030402</td>\n",
       "      <td>22 Years and 9 Months</td>\n",
       "      <td>No</td>\n",
       "      <td>49.574949</td>\n",
       "      <td>236.64268203272135</td>\n",
       "      <td>Low_spent_Small_value_payments</td>\n",
       "      <td>186.26670208571772</td>\n",
       "    </tr>\n",
       "    <tr>\n",
       "      <th>1</th>\n",
       "      <td>0x160b</td>\n",
       "      <td>CUS_0xd40</td>\n",
       "      <td>October</td>\n",
       "      <td>Aaron Maashoh</td>\n",
       "      <td>24</td>\n",
       "      <td>821-00-0265</td>\n",
       "      <td>Scientist</td>\n",
       "      <td>19114.12</td>\n",
       "      <td>1824.843333</td>\n",
       "      <td>3</td>\n",
       "      <td>4</td>\n",
       "      <td>3</td>\n",
       "      <td>4</td>\n",
       "      <td>Auto Loan, Credit-Builder Loan, Personal Loan,...</td>\n",
       "      <td>3</td>\n",
       "      <td>9</td>\n",
       "      <td>13.27</td>\n",
       "      <td>4.0</td>\n",
       "      <td>Good</td>\n",
       "      <td>809.98</td>\n",
       "      <td>33.053114</td>\n",
       "      <td>22 Years and 10 Months</td>\n",
       "      <td>No</td>\n",
       "      <td>49.574949</td>\n",
       "      <td>21.465380264657146</td>\n",
       "      <td>High_spent_Medium_value_payments</td>\n",
       "      <td>361.44400385378196</td>\n",
       "    </tr>\n",
       "    <tr>\n",
       "      <th>2</th>\n",
       "      <td>0x160c</td>\n",
       "      <td>CUS_0xd40</td>\n",
       "      <td>November</td>\n",
       "      <td>Aaron Maashoh</td>\n",
       "      <td>24</td>\n",
       "      <td>821-00-0265</td>\n",
       "      <td>Scientist</td>\n",
       "      <td>19114.12</td>\n",
       "      <td>1824.843333</td>\n",
       "      <td>3</td>\n",
       "      <td>4</td>\n",
       "      <td>3</td>\n",
       "      <td>4</td>\n",
       "      <td>Auto Loan, Credit-Builder Loan, Personal Loan,...</td>\n",
       "      <td>-1</td>\n",
       "      <td>4</td>\n",
       "      <td>12.27</td>\n",
       "      <td>4.0</td>\n",
       "      <td>Good</td>\n",
       "      <td>809.98</td>\n",
       "      <td>33.811894</td>\n",
       "      <td>NaN</td>\n",
       "      <td>No</td>\n",
       "      <td>49.574949</td>\n",
       "      <td>148.23393788500925</td>\n",
       "      <td>Low_spent_Medium_value_payments</td>\n",
       "      <td>264.67544623342997</td>\n",
       "    </tr>\n",
       "    <tr>\n",
       "      <th>3</th>\n",
       "      <td>0x160d</td>\n",
       "      <td>CUS_0xd40</td>\n",
       "      <td>December</td>\n",
       "      <td>Aaron Maashoh</td>\n",
       "      <td>24_</td>\n",
       "      <td>821-00-0265</td>\n",
       "      <td>Scientist</td>\n",
       "      <td>19114.12</td>\n",
       "      <td>NaN</td>\n",
       "      <td>3</td>\n",
       "      <td>4</td>\n",
       "      <td>3</td>\n",
       "      <td>4</td>\n",
       "      <td>Auto Loan, Credit-Builder Loan, Personal Loan,...</td>\n",
       "      <td>4</td>\n",
       "      <td>5</td>\n",
       "      <td>11.27</td>\n",
       "      <td>4.0</td>\n",
       "      <td>Good</td>\n",
       "      <td>809.98</td>\n",
       "      <td>32.430559</td>\n",
       "      <td>23 Years and 0 Months</td>\n",
       "      <td>No</td>\n",
       "      <td>49.574949</td>\n",
       "      <td>39.08251089460281</td>\n",
       "      <td>High_spent_Medium_value_payments</td>\n",
       "      <td>343.82687322383634</td>\n",
       "    </tr>\n",
       "    <tr>\n",
       "      <th>4</th>\n",
       "      <td>0x1616</td>\n",
       "      <td>CUS_0x21b1</td>\n",
       "      <td>September</td>\n",
       "      <td>Rick Rothackerj</td>\n",
       "      <td>28</td>\n",
       "      <td>004-07-5839</td>\n",
       "      <td>_______</td>\n",
       "      <td>34847.84</td>\n",
       "      <td>3037.986667</td>\n",
       "      <td>2</td>\n",
       "      <td>4</td>\n",
       "      <td>6</td>\n",
       "      <td>1</td>\n",
       "      <td>Credit-Builder Loan</td>\n",
       "      <td>3</td>\n",
       "      <td>1</td>\n",
       "      <td>5.42</td>\n",
       "      <td>5.0</td>\n",
       "      <td>Good</td>\n",
       "      <td>605.03</td>\n",
       "      <td>25.926822</td>\n",
       "      <td>27 Years and 3 Months</td>\n",
       "      <td>No</td>\n",
       "      <td>18.816215</td>\n",
       "      <td>39.684018417945296</td>\n",
       "      <td>High_spent_Large_value_payments</td>\n",
       "      <td>485.2984336755923</td>\n",
       "    </tr>\n",
       "  </tbody>\n",
       "</table>\n",
       "</div>"
      ],
      "text/plain": [
       "       ID Customer_ID      Month             Name  Age          SSN  \\\n",
       "0  0x160a   CUS_0xd40  September    Aaron Maashoh   23  821-00-0265   \n",
       "1  0x160b   CUS_0xd40    October    Aaron Maashoh   24  821-00-0265   \n",
       "2  0x160c   CUS_0xd40   November    Aaron Maashoh   24  821-00-0265   \n",
       "3  0x160d   CUS_0xd40   December    Aaron Maashoh  24_  821-00-0265   \n",
       "4  0x1616  CUS_0x21b1  September  Rick Rothackerj   28  004-07-5839   \n",
       "\n",
       "  Occupation Annual_Income  Monthly_Inhand_Salary  Num_Bank_Accounts  \\\n",
       "0  Scientist      19114.12            1824.843333                  3   \n",
       "1  Scientist      19114.12            1824.843333                  3   \n",
       "2  Scientist      19114.12            1824.843333                  3   \n",
       "3  Scientist      19114.12                    NaN                  3   \n",
       "4    _______      34847.84            3037.986667                  2   \n",
       "\n",
       "   Num_Credit_Card  Interest_Rate Num_of_Loan  \\\n",
       "0                4              3           4   \n",
       "1                4              3           4   \n",
       "2                4              3           4   \n",
       "3                4              3           4   \n",
       "4                4              6           1   \n",
       "\n",
       "                                        Type_of_Loan  Delay_from_due_date  \\\n",
       "0  Auto Loan, Credit-Builder Loan, Personal Loan,...                    3   \n",
       "1  Auto Loan, Credit-Builder Loan, Personal Loan,...                    3   \n",
       "2  Auto Loan, Credit-Builder Loan, Personal Loan,...                   -1   \n",
       "3  Auto Loan, Credit-Builder Loan, Personal Loan,...                    4   \n",
       "4                                Credit-Builder Loan                    3   \n",
       "\n",
       "  Num_of_Delayed_Payment Changed_Credit_Limit  Num_Credit_Inquiries  \\\n",
       "0                      7                11.27                2022.0   \n",
       "1                      9                13.27                   4.0   \n",
       "2                      4                12.27                   4.0   \n",
       "3                      5                11.27                   4.0   \n",
       "4                      1                 5.42                   5.0   \n",
       "\n",
       "  Credit_Mix Outstanding_Debt  Credit_Utilization_Ratio  \\\n",
       "0       Good           809.98                 35.030402   \n",
       "1       Good           809.98                 33.053114   \n",
       "2       Good           809.98                 33.811894   \n",
       "3       Good           809.98                 32.430559   \n",
       "4       Good           605.03                 25.926822   \n",
       "\n",
       "       Credit_History_Age Payment_of_Min_Amount  Total_EMI_per_month  \\\n",
       "0   22 Years and 9 Months                    No            49.574949   \n",
       "1  22 Years and 10 Months                    No            49.574949   \n",
       "2                     NaN                    No            49.574949   \n",
       "3   23 Years and 0 Months                    No            49.574949   \n",
       "4   27 Years and 3 Months                    No            18.816215   \n",
       "\n",
       "  Amount_invested_monthly                 Payment_Behaviour  \\\n",
       "0      236.64268203272135    Low_spent_Small_value_payments   \n",
       "1      21.465380264657146  High_spent_Medium_value_payments   \n",
       "2      148.23393788500925   Low_spent_Medium_value_payments   \n",
       "3       39.08251089460281  High_spent_Medium_value_payments   \n",
       "4      39.684018417945296   High_spent_Large_value_payments   \n",
       "\n",
       "      Monthly_Balance  \n",
       "0  186.26670208571772  \n",
       "1  361.44400385378196  \n",
       "2  264.67544623342997  \n",
       "3  343.82687322383634  \n",
       "4   485.2984336755923  "
      ]
     },
     "execution_count": 403,
     "metadata": {},
     "output_type": "execute_result"
    }
   ],
   "source": [
    "# test dataset\n",
    "\n",
    "# first five rows of the dataset\n",
    "test.head()"
   ]
  },
  {
   "cell_type": "code",
   "execution_count": 404,
   "metadata": {
    "colab": {
     "base_uri": "https://localhost:8080/"
    },
    "id": "xG5TeI0ZAr7R",
    "outputId": "73ef818b-ef14-4c69-b43a-d585155fb1d9"
   },
   "outputs": [
    {
     "name": "stdout",
     "output_type": "stream",
     "text": [
      "test dataset entries x features : (50000, 27)\n"
     ]
    }
   ],
   "source": [
    "# test dataset\n",
    "# shape of the dataset\n",
    "print('test dataset entries x features :', test.shape)"
   ]
  },
  {
   "cell_type": "code",
   "execution_count": 405,
   "metadata": {
    "colab": {
     "base_uri": "https://localhost:8080/"
    },
    "id": "56fEJe6X7H8p",
    "outputId": "3108295f-ccdc-4260-8277-1b27403371f4"
   },
   "outputs": [
    {
     "name": "stdout",
     "output_type": "stream",
     "text": [
      "<class 'pandas.core.frame.DataFrame'>\n",
      "RangeIndex: 50000 entries, 0 to 49999\n",
      "Data columns (total 27 columns):\n",
      " #   Column                    Non-Null Count  Dtype  \n",
      "---  ------                    --------------  -----  \n",
      " 0   ID                        50000 non-null  object \n",
      " 1   Customer_ID               50000 non-null  object \n",
      " 2   Month                     50000 non-null  object \n",
      " 3   Name                      44985 non-null  object \n",
      " 4   Age                       50000 non-null  object \n",
      " 5   SSN                       50000 non-null  object \n",
      " 6   Occupation                50000 non-null  object \n",
      " 7   Annual_Income             50000 non-null  object \n",
      " 8   Monthly_Inhand_Salary     42502 non-null  float64\n",
      " 9   Num_Bank_Accounts         50000 non-null  int64  \n",
      " 10  Num_Credit_Card           50000 non-null  int64  \n",
      " 11  Interest_Rate             50000 non-null  int64  \n",
      " 12  Num_of_Loan               50000 non-null  object \n",
      " 13  Type_of_Loan              44296 non-null  object \n",
      " 14  Delay_from_due_date       50000 non-null  int64  \n",
      " 15  Num_of_Delayed_Payment    46502 non-null  object \n",
      " 16  Changed_Credit_Limit      50000 non-null  object \n",
      " 17  Num_Credit_Inquiries      48965 non-null  float64\n",
      " 18  Credit_Mix                50000 non-null  object \n",
      " 19  Outstanding_Debt          50000 non-null  object \n",
      " 20  Credit_Utilization_Ratio  50000 non-null  float64\n",
      " 21  Credit_History_Age        45530 non-null  object \n",
      " 22  Payment_of_Min_Amount     50000 non-null  object \n",
      " 23  Total_EMI_per_month       50000 non-null  float64\n",
      " 24  Amount_invested_monthly   47729 non-null  object \n",
      " 25  Payment_Behaviour         50000 non-null  object \n",
      " 26  Monthly_Balance           49438 non-null  object \n",
      "dtypes: float64(4), int64(4), object(19)\n",
      "memory usage: 10.3+ MB\n"
     ]
    }
   ],
   "source": [
    "# test dataset\n",
    "\n",
    "# data type info\n",
    "test.info()"
   ]
  },
  {
   "cell_type": "markdown",
   "metadata": {
    "id": "K5ajA2cx2EQf"
   },
   "source": [
    "### IIb. Missing values"
   ]
  },
  {
   "cell_type": "code",
   "execution_count": 406,
   "metadata": {
    "colab": {
     "base_uri": "https://localhost:8080/"
    },
    "id": "ECoWV6Tr2Ghl",
    "outputId": "07c2a823-ca96-4ebe-f89d-c1ec18d7fd67"
   },
   "outputs": [
    {
     "name": "stdout",
     "output_type": "stream",
     "text": [
      "Missing values on each feature (train) : \n",
      "                 Feature  Count  Percentage (%)\n",
      "                      ID      0            0.00\n",
      "             Customer_ID      0            0.00\n",
      "                   Month      0            0.00\n",
      "                    Name   9985            9.98\n",
      "                     Age      0            0.00\n",
      "                     SSN      0            0.00\n",
      "              Occupation      0            0.00\n",
      "           Annual_Income      0            0.00\n",
      "   Monthly_Inhand_Salary  15002           15.00\n",
      "       Num_Bank_Accounts      0            0.00\n",
      "         Num_Credit_Card      0            0.00\n",
      "           Interest_Rate      0            0.00\n",
      "             Num_of_Loan      0            0.00\n",
      "            Type_of_Loan  11408           11.41\n",
      "     Delay_from_due_date      0            0.00\n",
      "  Num_of_Delayed_Payment   7002            7.00\n",
      "    Changed_Credit_Limit      0            0.00\n",
      "    Num_Credit_Inquiries   1965            1.97\n",
      "              Credit_Mix      0            0.00\n",
      "        Outstanding_Debt      0            0.00\n",
      "Credit_Utilization_Ratio      0            0.00\n",
      "      Credit_History_Age   9030            9.03\n",
      "   Payment_of_Min_Amount      0            0.00\n",
      "     Total_EMI_per_month      0            0.00\n",
      " Amount_invested_monthly   4479            4.48\n",
      "       Payment_Behaviour      0            0.00\n",
      "         Monthly_Balance   1200            1.20\n",
      "            Credit_Score      0            0.00\n"
     ]
    }
   ],
   "source": [
    "# train dataset\n",
    "\n",
    "# Calculating the missing values for each feature\n",
    "MissingValues = train.isnull().sum()\n",
    "\n",
    "# Turning the previous output into a dataframe format\n",
    "MissingValues = pd.DataFrame(MissingValues)\n",
    "MissingValues = MissingValues.reset_index()\n",
    "MissingValues.columns = ['Feature', 'Count']\n",
    "\n",
    "# Calculating each feature's missing values percentage\n",
    "ListMissingVPerc = []\n",
    "for i in MissingValues['Count']:\n",
    "    missingperc = i/100000 * 100 # Total entries = 100000 (from previous step)\n",
    "    ListMissingVPerc.append(missingperc)\n",
    "ListMissingVPerc = [round(num, 2) for num in ListMissingVPerc]\n",
    "\n",
    "# Adding the missing values percentage column to the report\n",
    "MissingValues['Percentage (%)'] = ListMissingVPerc\n",
    "\n",
    "# Printing the missing values report\n",
    "print('Missing values on each feature (train) : ')\n",
    "print(MissingValues.to_string(index = False))"
   ]
  },
  {
   "cell_type": "code",
   "execution_count": 407,
   "metadata": {
    "colab": {
     "base_uri": "https://localhost:8080/"
    },
    "id": "UdjlsHVhLikB",
    "outputId": "23fc0d7f-e46e-4cbf-e111-d95d5d195517"
   },
   "outputs": [
    {
     "name": "stdout",
     "output_type": "stream",
     "text": [
      "Missing values on each feature (test) : \n",
      "                 Feature  Count  Percentage (%)\n",
      "                      ID      0            0.00\n",
      "             Customer_ID      0            0.00\n",
      "                   Month      0            0.00\n",
      "                    Name   5015           10.03\n",
      "                     Age      0            0.00\n",
      "                     SSN      0            0.00\n",
      "              Occupation      0            0.00\n",
      "           Annual_Income      0            0.00\n",
      "   Monthly_Inhand_Salary   7498           15.00\n",
      "       Num_Bank_Accounts      0            0.00\n",
      "         Num_Credit_Card      0            0.00\n",
      "           Interest_Rate      0            0.00\n",
      "             Num_of_Loan      0            0.00\n",
      "            Type_of_Loan   5704           11.41\n",
      "     Delay_from_due_date      0            0.00\n",
      "  Num_of_Delayed_Payment   3498            7.00\n",
      "    Changed_Credit_Limit      0            0.00\n",
      "    Num_Credit_Inquiries   1035            2.07\n",
      "              Credit_Mix      0            0.00\n",
      "        Outstanding_Debt      0            0.00\n",
      "Credit_Utilization_Ratio      0            0.00\n",
      "      Credit_History_Age   4470            8.94\n",
      "   Payment_of_Min_Amount      0            0.00\n",
      "     Total_EMI_per_month      0            0.00\n",
      " Amount_invested_monthly   2271            4.54\n",
      "       Payment_Behaviour      0            0.00\n",
      "         Monthly_Balance    562            1.12\n"
     ]
    }
   ],
   "source": [
    "# test dataset\n",
    "\n",
    "# Calculating the missing values for each feature\n",
    "MissingValues = test.isnull().sum()\n",
    "\n",
    "# Turning the previous output into a dataframe format\n",
    "MissingValues = pd.DataFrame(MissingValues)\n",
    "MissingValues = MissingValues.reset_index()\n",
    "MissingValues.columns = ['Feature', 'Count']\n",
    "\n",
    "# Calculating each feature's missing values percentage\n",
    "ListMissingVPerc = []\n",
    "for i in MissingValues['Count']:\n",
    "    missingperc = i/50000 * 100 # Total entries = 50000 (from previous step)\n",
    "    ListMissingVPerc.append(missingperc)\n",
    "ListMissingVPerc = [round(num, 2) for num in ListMissingVPerc]\n",
    "\n",
    "# Adding the missing values percentage column to the report\n",
    "MissingValues['Percentage (%)'] = ListMissingVPerc\n",
    "\n",
    "# Printing the missing values report\n",
    "print('Missing values on each feature (test) : ')\n",
    "print(MissingValues.to_string(index = False))"
   ]
  },
  {
   "cell_type": "markdown",
   "metadata": {
    "id": "fLhzqT-N2eOp"
   },
   "source": [
    "### IIc. Duplicated entries"
   ]
  },
  {
   "cell_type": "code",
   "execution_count": 408,
   "metadata": {
    "colab": {
     "base_uri": "https://localhost:8080/"
    },
    "id": "6-Pja33P2g_l",
    "outputId": "4a2667bf-0d63-4bc1-b1c5-48a0b1b81639"
   },
   "outputs": [
    {
     "name": "stdout",
     "output_type": "stream",
     "text": [
      "Duplicated data (train) : 0\n"
     ]
    }
   ],
   "source": [
    "# train dataset\n",
    "\n",
    "# duplicated entires\n",
    "DuplicatedValues = train.duplicated().sum()\n",
    "print('Duplicated data (train) : ' + str(DuplicatedValues))"
   ]
  },
  {
   "cell_type": "code",
   "execution_count": 409,
   "metadata": {
    "colab": {
     "base_uri": "https://localhost:8080/"
    },
    "id": "nFg7R3CQLTFl",
    "outputId": "197bd981-49aa-462b-807a-cf4ba9a6c677"
   },
   "outputs": [
    {
     "name": "stdout",
     "output_type": "stream",
     "text": [
      "Duplicated data (test) : 0\n"
     ]
    }
   ],
   "source": [
    "# test dataset\n",
    "\n",
    "# duplicated entries\n",
    "DuplicatedValues = test.duplicated().sum()\n",
    "print('Duplicated data (test) : ' + str(DuplicatedValues))"
   ]
  },
  {
   "cell_type": "markdown",
   "metadata": {
    "id": "3qguSH8d2lKJ"
   },
   "source": [
    "### IId. Unique values"
   ]
  },
  {
   "cell_type": "code",
   "execution_count": 410,
   "metadata": {},
   "outputs": [
    {
     "name": "stdout",
     "output_type": "stream",
     "text": [
      "Unique values in each feature (train):\n",
      "                 Feature  Unique Values\n",
      "                      ID         100000\n",
      "             Customer_ID          12500\n",
      "                   Month              8\n",
      "                    Name          10140\n",
      "                     Age           1788\n",
      "                     SSN          12501\n",
      "              Occupation             16\n",
      "           Annual_Income          18940\n",
      "   Monthly_Inhand_Salary          13236\n",
      "       Num_Bank_Accounts            943\n",
      "         Num_Credit_Card           1179\n",
      "           Interest_Rate           1750\n",
      "             Num_of_Loan            434\n",
      "            Type_of_Loan           6261\n",
      "     Delay_from_due_date             73\n",
      "  Num_of_Delayed_Payment            750\n",
      "    Changed_Credit_Limit           4384\n",
      "    Num_Credit_Inquiries           1224\n",
      "              Credit_Mix              4\n",
      "        Outstanding_Debt          13178\n",
      "Credit_Utilization_Ratio         100000\n",
      "      Credit_History_Age            405\n",
      "   Payment_of_Min_Amount              3\n",
      "     Total_EMI_per_month          14950\n",
      " Amount_invested_monthly          91050\n",
      "       Payment_Behaviour              7\n",
      "         Monthly_Balance          98793\n",
      "            Credit_Score              3\n"
     ]
    }
   ],
   "source": [
    "# train Dataset\n",
    "\n",
    "# Getting the feature names in a list\n",
    "trainCols = list(train.columns.values)\n",
    "\n",
    "# Calculating the number of each feature's unique values\n",
    "ListUniqueC = []\n",
    "for i in train.columns:\n",
    "    UCount = len(train[i].unique())\n",
    "    ListUniqueC.append(UCount)\n",
    "\n",
    "# Creating the unique values table\n",
    "UniqueCTable = pd.DataFrame(list(zip(trainCols, ListUniqueC)))\n",
    "UniqueCTable.columns = ['Feature', 'Unique Values']\n",
    "\n",
    "# Printing the report\n",
    "print('Unique values in each feature (train):')\n",
    "print(UniqueCTable.to_string(index = False))"
   ]
  },
  {
   "cell_type": "code",
   "execution_count": 411,
   "metadata": {},
   "outputs": [
    {
     "name": "stdout",
     "output_type": "stream",
     "text": [
      "Unique values in each feature (test):\n",
      "                 Feature  Unique Values\n",
      "                      ID          50000\n",
      "             Customer_ID          12500\n",
      "                   Month              4\n",
      "                    Name          10140\n",
      "                     Age            976\n",
      "                     SSN          12501\n",
      "              Occupation             16\n",
      "           Annual_Income          16121\n",
      "   Monthly_Inhand_Salary          12794\n",
      "       Num_Bank_Accounts            540\n",
      "         Num_Credit_Card            819\n",
      "           Interest_Rate            945\n",
      "             Num_of_Loan            263\n",
      "            Type_of_Loan           6261\n",
      "     Delay_from_due_date             73\n",
      "  Num_of_Delayed_Payment            444\n",
      "    Changed_Credit_Limit           3927\n",
      "    Num_Credit_Inquiries            751\n",
      "              Credit_Mix              4\n",
      "        Outstanding_Debt          12685\n",
      "Credit_Utilization_Ratio          50000\n",
      "      Credit_History_Age            400\n",
      "   Payment_of_Min_Amount              3\n",
      "     Total_EMI_per_month          13144\n",
      " Amount_invested_monthly          45451\n",
      "       Payment_Behaviour              7\n",
      "         Monthly_Balance          49434\n"
     ]
    }
   ],
   "source": [
    "# test Dataset\n",
    "\n",
    "# Getting the feature names in a list\n",
    "testCols = list(test.columns.values)\n",
    "\n",
    "# Calculating the number of each feature's unique values\n",
    "ListUniqueC = []\n",
    "for i in test.columns:\n",
    "    UCount = len(test[i].unique())\n",
    "    ListUniqueC.append(UCount)\n",
    "\n",
    "# Creating the unique values table\n",
    "UniqueCTable = pd.DataFrame(list(zip(testCols, ListUniqueC)))\n",
    "UniqueCTable.columns = ['Feature', 'Unique Values']\n",
    "\n",
    "# Printing the report\n",
    "print('Unique values in each feature (test):')\n",
    "print(UniqueCTable.to_string(index = False))"
   ]
  },
  {
   "cell_type": "markdown",
   "metadata": {
    "id": "xG6bDkt_CRj0"
   },
   "source": [
    "### IIe. Findings"
   ]
  },
  {
   "cell_type": "markdown",
   "metadata": {
    "id": "QzcYb_yU-JLp"
   },
   "source": [
    "Some findings from the observations above:\n",
    "<br>\n",
    "<br>\n",
    "1.   The shape of the train dataset is (10000 x 28), while the test dataset is (50000 x 27). The 1 difference in the number of feature between the train and test datasets is the 'Credit_Score' feature, which is the one needs to be learnt and predicted in the future by the machine learning models.\n",
    "<br>\n",
    "<br>\n",
    "2.   There are some features which likely have wrong type of data type, both on the train and test datasets:\n",
    "*   'Annual_Income' to float64\n",
    "*   'Num_of_Loan' to int64\n",
    "*   'Num_of_Delayed_Payment' to int64\n",
    "*   'Changed_Credit_Limit' to float64\n",
    "*   'Outstanding_Debt' to float64\n",
    "*   'Credit_History_Age' to float64\n",
    "*   'Amount_invested_monthly' to float64\n",
    "*   'Monthly_Balance' to float 64\n",
    "<br>\n",
    "The data type of these features are currently in categorical type, while the data shown on the first five rows are numerical. We need to change this later.\n",
    "<br>\n",
    "<br>\n",
    "3.  Missing values findings on each feature:\n",
    "\n",
    "\n",
    "*   'Name'\n",
    "*   'Monthly_Inhand_Salary'\n",
    "*   'Type_of_Loan'\n",
    "*   'Num_of_Delayed_Payment'\n",
    "*   'Num_Credit_Inquiries'\n",
    "*   'Credit_History_Age'\n",
    "*   'Amount_invested_monthly'\n",
    "*   'Monthly_Balance'\n",
    "<br>\n",
    "<br>\n",
    "4. There are no duplicated entries in both train and test datasets.\n"
   ]
  },
  {
   "cell_type": "markdown",
   "metadata": {
    "id": "XeRFpKSg9tnc"
   },
   "source": [
    "## **III. Feature Engineering: Cleaning Data Type**"
   ]
  },
  {
   "cell_type": "markdown",
   "metadata": {
    "id": "6XqkUf9P969D"
   },
   "source": [
    "### IIIa. Categorical feature that are suppossed to be numerical"
   ]
  },
  {
   "cell_type": "markdown",
   "metadata": {},
   "source": [
    "Let's first take a look at the categorical features that supposedly have numerical type of data instead."
   ]
  },
  {
   "cell_type": "code",
   "execution_count": 412,
   "metadata": {
    "id": "lYyNQVxbPWxx",
    "scrolled": true
   },
   "outputs": [
    {
     "name": "stdout",
     "output_type": "stream",
     "text": [
      "Feature: \n",
      " \u001b[1mAge\u001b[0m \n",
      " ['23' '-500' '28_' ... '4808_' '2263' '1342'] \n",
      " -------------------------------------------------------------------------------- \n",
      "\n",
      "Feature: \n",
      " \u001b[1mAnnual_Income\u001b[0m \n",
      " ['19114.12' '34847.84' '34847.84_' ... '20002.88' '39628.99' '39628.99_'] \n",
      " -------------------------------------------------------------------------------- \n",
      "\n",
      "Feature: \n",
      " \u001b[1mNum_of_Loan\u001b[0m \n",
      " ['4' '1' '3' '967' '-100' '0' '0_' '2' '3_' '2_' '7' '5' '5_' '6' '8' '8_'\n",
      " '9' '9_' '4_' '7_' '1_' '1464' '6_' '622' '352' '472' '1017' '945' '146'\n",
      " '563' '341' '444' '720' '1485' '49' '737' '1106' '466' '728' '313' '843'\n",
      " '597_' '617' '119' '663' '640' '92_' '1019' '501' '1302' '39' '716' '848'\n",
      " '931' '1214' '186' '424' '1001' '1110' '1152' '457' '1433' '1187' '52'\n",
      " '1480' '1047' '1035' '1347_' '33' '193' '699' '329' '1451' '484' '132'\n",
      " '649' '995' '545' '684' '1135' '1094' '1204' '654' '58' '348' '614'\n",
      " '1363' '323' '1406' '1348' '430' '153' '1461' '905' '1312' '1424' '1154'\n",
      " '95' '1353' '1228' '819' '1006' '795' '359' '1209' '590' '696' '1185_'\n",
      " '1465' '911' '1181' '70' '816' '1369' '143' '1416' '455' '55' '1096'\n",
      " '1474' '420' '1131' '904' '89' '1259' '527' '1241' '449' '983' '418'\n",
      " '319' '23' '238' '638' '138' '235_' '280' '1070' '1484' '274' '494'\n",
      " '1459_' '404' '1354' '1495' '1391' '601' '1313' '1319' '898' '231' '752'\n",
      " '174' '961' '1046' '834' '284' '438' '288' '1463' '1151' '719' '198'\n",
      " '1015' '855' '841' '392' '1444' '103' '1320_' '745' '172' '252' '630_'\n",
      " '241' '31' '405' '1217' '1030' '1257' '137' '157' '164' '1088' '1236'\n",
      " '777' '1048' '613' '330' '1439' '321' '661' '952' '939' '562' '1202'\n",
      " '302' '943' '394' '955' '1318' '936' '781' '100' '1329' '1365' '860'\n",
      " '217' '191' '32' '282' '351' '1387' '757' '416' '833' '359_' '292'\n",
      " '1225_' '1227' '639' '859' '243' '267' '510' '332' '996' '597' '311'\n",
      " '492' '820' '336' '123' '540' '131_' '1311_' '1441' '895' '891' '50'\n",
      " '940' '935' '596' '29' '1182' '1129_' '1014' '251' '365' '291' '1447'\n",
      " '742' '1085' '148' '462' '832' '881' '1225' '1412' '785_' '1127' '910'\n",
      " '538' '999' '733' '101' '237' '87' '659' '633' '387' '447' '629' '831'\n",
      " '1384' '773' '621' '1419' '289' '143_' '285' '1393' '1131_' '27_' '1359'\n",
      " '1482' '1189' '1294' '201' '579' '814' '141' '1320' '581' '1171_' '295'\n",
      " '290' '433' '679' '1040' '1054' '1430' '1023' '1077' '1457' '1150' '701'\n",
      " '1382' '889' '437' '372' '1222' '126' '1159' '868' '19' '1297' '227_'\n",
      " '190' '809' '1216' '1074' '571' '520' '1274' '1340' '991' '316' '697'\n",
      " '926' '873' '1002' '378_' '65' '875' '867' '548' '652' '1372' '606'\n",
      " '1036' '1300' '17' '1178' '802' '1219_' '1271' '1137' '1496' '439' '196'\n",
      " '636' '192' '228' '1053' '229' '753' '1296' '1371' '254' '863' '464'\n",
      " '515' '838' '1160' '1289' '1298' '799' '182' '574' '527_' '242' '415'\n",
      " '869' '958' '54' '1265' '656' '275' '778' '208' '147' '350' '507' '463'\n",
      " '497' '1129' '927' '653' '662' '529' '635' '1027_' '897' '1039' '227'\n",
      " '1345' '924' '696_' '1279' '546' '1112' '1210' '526' '300' '1103' '504'\n",
      " '136' '1400' '78' '686' '1091' '344' '215' '84' '628' '1470' '968' '1478'\n",
      " '83' '1196' '1307' '1132_' '1008' '917' '657' '56' '18' '41' '801' '978'\n",
      " '216' '349' '966'] \n",
      " -------------------------------------------------------------------------------- \n",
      "\n",
      "Feature: \n",
      " \u001b[1mNum_of_Delayed_Payment\u001b[0m \n",
      " ['7' nan '4' '8_' '6' '1' '-1' '3_' '0' '8' '5' '3' '9' '12' '15' '17'\n",
      " '10' '2' '2_' '11' '14' '20' '22' '13' '13_' '14_' '16' '12_' '18' '19'\n",
      " '23' '24' '21' '3318' '3083' '22_' '1338' '4_' '26' '11_' '3104' '21_'\n",
      " '25' '10_' '183_' '9_' '1106' '834' '19_' '24_' '17_' '23_' '2672' '20_'\n",
      " '2008' '-3' '538' '6_' '1_' '16_' '27' '-2' '3478' '2420' '15_' '707'\n",
      " '708' '26_' '18_' '3815' '28' '5_' '1867' '2250' '1463' '25_' '7_' '4126'\n",
      " '2882' '1941' '2655' '2628' '132' '3069' '306' '0_' '3539' '3684' '1823'\n",
      " '4128' '1946' '827' '2297' '2566' '904' '182' '929' '3568' '2503' '1552'\n",
      " '2812' '1697' '3764' '851' '3905' '923' '88' '1668' '3253' '808' '2689'\n",
      " '3858' '642' '3457' '1402' '1732' '3154' '847' '3037' '2204' '3103'\n",
      " '1063' '2056' '1282' '1841' '2569_' '211' '793' '3484' '411' '3491'\n",
      " '2072' '3050' '1049' '2162' '3402' '2753' '27_' '1718' '1014' '3260'\n",
      " '3855' '84' '2311' '3251' '1832' '4069' '3010' '733' '4241' '166' '2461'\n",
      " '1749' '3200' '663_' '2185' '4161' '3009' '359' '2015' '1523' '594'\n",
      " '1079' '1199' '186' '1015' '1989' '281' '559' '2165' '1509' '3545' '779'\n",
      " '192' '4311' '-2_' '2323' '1471' '1538' '3529' '439' '3456' '3040' '2697'\n",
      " '3179' '1332' '3175' '3112' '829' '4022' '3870' '4023' '531' '1511'\n",
      " '3092' '3191' '2400' '3621' '3536' '544' '1864' '28_' '142' '2300' '264'\n",
      " '72' '497' '398' '2222' '3960' '1473' '3043' '4216' '2903' '2658' '-1_'\n",
      " '4042' '1323_' '2184' '921' '1328' '3404' '2438' '809' '47' '1996' '4164'\n",
      " '1370' '1204' '2167' '4011' '2590' '2594' '2533' '1663' '1018' '2919'\n",
      " '3458' '3316' '2589' '2801' '3355' '2529' '2488' '4266' '1243' '739'\n",
      " '845' '4107' '1884' '337' '2660' '290' '674' '2450' '3738' '1792' '2823'\n",
      " '2570' '775' '960' '482' '1706' '2493' '3623' '3031' '2794_' '2219_'\n",
      " '758_' '1849' '3559' '4096' '3726' '1953' '2657' '4043' '2938' '4384'\n",
      " '1647' '2694' '3533' '519' '2677' '2413' '-3_' '4139' '2609' '4326'\n",
      " '4211' '823' '3011' '1608' '2860' '4219' '4047' '1531' '742' '52' '4024'\n",
      " '1673' '49' '2243' '1685' '1869' '2587' '3489' '749' '1164' '2616' '848_'\n",
      " '4134' '1530' '1502' '4075' '3845' '1060' '2573' '2128' '328' '640'\n",
      " '2585' '2230' '1795' '1180' '1534' '3739' '3313' '4191' '996' '372'\n",
      " '3340' '3177' '602' '787' '4135' '3878' '4059' '1218' '4051' '1766'\n",
      " '1359' '3107' '585' '1263' '2511' '709' '3632' '4077' '2943' '2793'\n",
      " '3245' '2317' '1640' '2237_' '3819' '252' '3978' '1498' '1833' '2737'\n",
      " '1192' '1481' '700' '271' '2286' '273' '1215' '3944' '2070' '1478' '3749'\n",
      " '871' '2508' '2959' '130' '294' '3097_' '3511' '415' '2196' '2138' '2149'\n",
      " '1874' '1553' '3847' '3222' '1222' '2907' '3051' '98' '1598' '416' '2314'\n",
      " '2955' '1691' '1450' '2021' '1636' '80' '3708' '195' '320' '2945' '1911'\n",
      " '3416' '3796' '4159' '2255' '938' '4397' '3776' '2148' '1994' '853'\n",
      " '1178' '1633' '196' '3864' '714' '1687' '1034' '468' '1337' '2044' '1541'\n",
      " '3661' '1211' '2645' '2007' '102' '1891' '3162' '3142' '2566_' '2766'\n",
      " '3881' '2728' '2671' '1952' '3580' '2705' '4251' '3840_' '972' '3119'\n",
      " '3502' '4185' '2954' '683' '1614' '1572' '4302' '3447' '1852' '2131'\n",
      " '1900' '1699' '133' '2018' '2127' '508' '210' '577' '1664' '2604' '1411'\n",
      " '2351' '867' '1371' '2352' '1191' '905' '4053' '3869' '933' '3660' '3300'\n",
      " '3629' '3208' '2142' '2521' '450' '583' '876' '121' '3919' '2560' '2578'\n",
      " '2060' '813' '1236' '1489' '4360' '1154' '2544' '4172' '2924' '426'\n",
      " '4270' '2768' '3909' '3951' '2712' '2498' '3171' '1750' '197' '2569'\n",
      " '265' '4293' '887' '2707' '2397' '4337' '4249' '2751' '2950' '1859' '107'\n",
      " '2348' '2506' '2810' '2873' '1301' '2262' '1890' '3078' '3865' '3268'\n",
      " '2777' '3105' '1278' '3793' '2276' '2879' '4298' '2141' '223' '2239'\n",
      " '846' '1862' '2756' '1181' '1184' '2617' '3972' '2334' '3900' '2759'\n",
      " '4169' '2280' '2492' '2729' '3750' '1825' '309' '2431' '3099' '2080'\n",
      " '2279' '2666' '3722' '1976' '529' '1985' '3060' '4278' '3212' '46' '3148'\n",
      " '3467' '4231' '3790' '473' '1536' '3955' '2324' '2381' '1177' '371'\n",
      " '2896' '3880' '2991' '4319' '1061' '662' '4144' '693' '2006' '3115'\n",
      " '2278_' '3751' '1861' '4262' '2913' '2615' '3492' '800' '3766' '384'\n",
      " '3407' '1087' '3329' '1086' '2216' '1087_' '2457' '3522' '3274' '3488'\n",
      " '2854' '238' '351' '3706' '4280' '4095' '2926' '1329' '3370' '283' '1392'\n",
      " '1743' '2429' '974' '3156' '1133' '4388' '3243' '4282' '2523' '4281'\n",
      " '3415' '2001' '441' '94' '3499' '969' '3368' '106' '1004' '2638' '3946'\n",
      " '2956' '4324' '85' '4113' '819' '615' '1172' '2553' '1765' '3495' '2820'\n",
      " '4239' '4340' '1295_' '2636' '4295' '1653' '1325' '1879' '1096' '1735'\n",
      " '3584' '1073' '1975' '3827' '2552' '3754' '2378' '532' '926' '2376'\n",
      " '3636' '3763' '778' '2621' '804' '754' '2418' '4019' '3926' '3861_'\n",
      " '3574' '175' '162' '2834' '3765' '2354' '523' '2274' '1606' '1443' '1354'\n",
      " '2142_' '1422' '2278' '1045' '4106' '3155' '666' '659' '3229' '1216'\n",
      " '2076' '1473_' '2384' '1954' '719' '2534' '4002' '541' '2875' '4344'\n",
      " '2081' '3894' '1256' '676' '4178' '399' '86' '1571' '4037' '1967' '4005'\n",
      " '3216' '1150' '2591' '1801' '3721' '1775' '2260' '3707' '4292' '1820'\n",
      " '145' '1480' '1850' '430' '217' '3920_' '1389' '1579' '3391' '2385'\n",
      " '3336' '3392' '3688' '221' '2047'] \n",
      " -------------------------------------------------------------------------------- \n",
      "\n",
      "Feature: \n",
      " \u001b[1mChanged_Credit_Limit\u001b[0m \n",
      " ['11.27' '_' '6.27' ... '17.509999999999998' '25.16' '21.17'] \n",
      " -------------------------------------------------------------------------------- \n",
      "\n",
      "Feature: \n",
      " \u001b[1mOutstanding_Debt\u001b[0m \n",
      " ['809.98' '605.03' '1303.01' ... '3571.7_' '3571.7' '502.38'] \n",
      " -------------------------------------------------------------------------------- \n",
      "\n",
      "Feature: \n",
      " \u001b[1mAmount_invested_monthly\u001b[0m \n",
      " ['80.41529543900253' '118.28022162236736' '81.699521264648' ...\n",
      " '24.02847744864441' '251.67258219721603' '167.1638651610451'] \n",
      " -------------------------------------------------------------------------------- \n",
      "\n",
      "Feature: \n",
      " \u001b[1mMonthly_Balance\u001b[0m \n",
      " ['312.49408867943663' '284.62916249607184' '331.2098628537912' ...\n",
      " 516.8090832742814 319.1649785257098 393.6736955618808] \n",
      " -------------------------------------------------------------------------------- \n",
      "\n"
     ]
    }
   ],
   "source": [
    "# Categorical features that are supposedly to be numerical instead\n",
    "FeaturesToConvert = ['Age',\n",
    "                     'Annual_Income',\n",
    "                     'Num_of_Loan',\n",
    "                     'Num_of_Delayed_Payment',\n",
    "                     'Changed_Credit_Limit',\n",
    "                     'Outstanding_Debt',\n",
    "                     'Amount_invested_monthly',\n",
    "                     'Monthly_Balance'] \n",
    "# 'Credit_History_Age' feature will be dealt with later\n",
    "\n",
    "# Checking the unique values of these features\n",
    "for feature in FeaturesToConvert:\n",
    "    uniques = train[feature].unique()\n",
    "    print('Feature:', '\\n',\n",
    "          colored(feature, attrs = ['bold']), '\\n',\n",
    "          uniques, '\\n',\n",
    "          '--'*40, '\\n')"
   ]
  },
  {
   "cell_type": "markdown",
   "metadata": {},
   "source": [
    "By looking at some of the entries above, one thing that could be noticed is that some of these entries contain non-numerical character, such as '-' and '_', while they are supposed to have only numerical character. We will omit both of these special characters from the features, and see if they can be converted into numerical features afterwards."
   ]
  },
  {
   "cell_type": "code",
   "execution_count": 413,
   "metadata": {},
   "outputs": [
    {
     "name": "stdout",
     "output_type": "stream",
     "text": [
      "Age \n",
      " float64\n",
      "Annual_Income \n",
      " float64\n",
      "Num_of_Loan \n",
      " float64\n",
      "Num_of_Delayed_Payment \n",
      " float64\n",
      "Changed_Credit_Limit \n",
      " float64\n",
      "Outstanding_Debt \n",
      " float64\n",
      "Amount_invested_monthly \n",
      " float64\n",
      "Monthly_Balance \n",
      " float64\n"
     ]
    }
   ],
   "source": [
    "# Removing the '-' and '_' characters\n",
    "for feature in FeaturesToConvert:\n",
    "    train[feature] = train[feature].str.strip('-_')\n",
    "\n",
    "# Handling the empty members in each feature\n",
    "for feature in FeaturesToConvert:\n",
    "    train[feature] = train[feature].replace({'':np.nan})\n",
    "\n",
    "# Trying converting the categorical features into numerical type\n",
    "for feature in FeaturesToConvert:\n",
    "    train[feature] = train[feature].astype('float64')\n",
    "\n",
    "# Checking if the conversion is successful\n",
    "for feature in FeaturesToConvert:\n",
    "    print(feature, '\\n',\n",
    "          train[feature].dtype)"
   ]
  },
  {
   "cell_type": "markdown",
   "metadata": {},
   "source": [
    "### IIIb. Credit_History_Age engineering"
   ]
  },
  {
   "cell_type": "markdown",
   "metadata": {},
   "source": [
    "The data contained in this feature is meant to show a duration type of data, so for the sake of praticality when dealing with this data later in the analysis and prediction process, the type of data is better not be categorical, but numerical instead. Let's process the data contained in this feature."
   ]
  },
  {
   "cell_type": "code",
   "execution_count": 414,
   "metadata": {
    "scrolled": true
   },
   "outputs": [
    {
     "data": {
      "text/plain": [
       "0    22 Years and 1 Months\n",
       "1                      NaN\n",
       "2    22 Years and 3 Months\n",
       "3    22 Years and 4 Months\n",
       "4    22 Years and 5 Months\n",
       "Name: Credit_History_Age, dtype: object"
      ]
     },
     "execution_count": 414,
     "metadata": {},
     "output_type": "execute_result"
    }
   ],
   "source": [
    "# Taking a quick look again at the data\n",
    "train['Credit_History_Age'].head()"
   ]
  },
  {
   "cell_type": "markdown",
   "metadata": {},
   "source": [
    "Since the smallest unit is monthly, we are going to convert the data in monthly unit."
   ]
  },
  {
   "cell_type": "code",
   "execution_count": 415,
   "metadata": {},
   "outputs": [
    {
     "data": {
      "text/plain": [
       "0    265.0\n",
       "1      NaN\n",
       "2    267.0\n",
       "3    268.0\n",
       "4    269.0\n",
       "Name: Credit_History_Age, dtype: float64"
      ]
     },
     "execution_count": 415,
     "metadata": {},
     "output_type": "execute_result"
    }
   ],
   "source": [
    "# Splitting each member of the 'Credit_History_Age' feature\n",
    "SplitHistoryAge = [str(date).split(' ') for date in train['Credit_History_Age']]\n",
    "\n",
    "# Getting the year\n",
    "CreditYear = [item[0] for item in SplitHistoryAge]\n",
    "\n",
    "# Converting the year to month\n",
    "CreditYear = [float(x) * 12 for x in CreditYear]\n",
    "\n",
    "# Getting the month\n",
    "CreditMonth = []\n",
    "for item in SplitHistoryAge:\n",
    "    if len(item) > 1:\n",
    "        CreditMonth.append(item[3]) # for non-nan member\n",
    "    else:\n",
    "        CreditMonth.append(item[0]) # for nan member\n",
    "\n",
    "# Combining the year and month\n",
    "CombinedCreditAge = [float(CreditYear[i]) + float(CreditMonth[i]) for i in range(len(CreditYear))]\n",
    "\n",
    "# Assigning the combined month to the 'Credit_History_Age' feature\n",
    "train['Credit_History_Age'] = CombinedCreditAge\n",
    "\n",
    "# Checking the first five rows again\n",
    "train['Credit_History_Age'].head()"
   ]
  },
  {
   "cell_type": "markdown",
   "metadata": {},
   "source": [
    "## **IV. Data Exploration 2: Categorical Features**"
   ]
  },
  {
   "cell_type": "markdown",
   "metadata": {},
   "source": [
    "Now that the data type of each feature has been corrected, let us proceed to checking the cleanliness of each feature itself: data validation, spelling errors, missing values, outliers, feature addition or deletion (if needed)."
   ]
  },
  {
   "cell_type": "code",
   "execution_count": 416,
   "metadata": {},
   "outputs": [
    {
     "name": "stdout",
     "output_type": "stream",
     "text": [
      "<class 'pandas.core.frame.DataFrame'>\n",
      "RangeIndex: 100000 entries, 0 to 99999\n",
      "Data columns (total 28 columns):\n",
      " #   Column                    Non-Null Count   Dtype  \n",
      "---  ------                    --------------   -----  \n",
      " 0   ID                        100000 non-null  object \n",
      " 1   Customer_ID               100000 non-null  object \n",
      " 2   Month                     100000 non-null  object \n",
      " 3   Name                      90015 non-null   object \n",
      " 4   Age                       100000 non-null  float64\n",
      " 5   SSN                       100000 non-null  object \n",
      " 6   Occupation                100000 non-null  object \n",
      " 7   Annual_Income             100000 non-null  float64\n",
      " 8   Monthly_Inhand_Salary     84998 non-null   float64\n",
      " 9   Num_Bank_Accounts         100000 non-null  int64  \n",
      " 10  Num_Credit_Card           100000 non-null  int64  \n",
      " 11  Interest_Rate             100000 non-null  int64  \n",
      " 12  Num_of_Loan               100000 non-null  float64\n",
      " 13  Type_of_Loan              88592 non-null   object \n",
      " 14  Delay_from_due_date       100000 non-null  int64  \n",
      " 15  Num_of_Delayed_Payment    92998 non-null   float64\n",
      " 16  Changed_Credit_Limit      97909 non-null   float64\n",
      " 17  Num_Credit_Inquiries      98035 non-null   float64\n",
      " 18  Credit_Mix                100000 non-null  object \n",
      " 19  Outstanding_Debt          100000 non-null  float64\n",
      " 20  Credit_Utilization_Ratio  100000 non-null  float64\n",
      " 21  Credit_History_Age        90970 non-null   float64\n",
      " 22  Payment_of_Min_Amount     100000 non-null  object \n",
      " 23  Total_EMI_per_month       100000 non-null  float64\n",
      " 24  Amount_invested_monthly   95521 non-null   float64\n",
      " 25  Payment_Behaviour         100000 non-null  object \n",
      " 26  Monthly_Balance           97132 non-null   float64\n",
      " 27  Credit_Score              100000 non-null  object \n",
      "dtypes: float64(13), int64(4), object(11)\n",
      "memory usage: 21.4+ MB\n"
     ]
    }
   ],
   "source": [
    "# Rechecking the general overview of the train dataset after it has been previously modified\n",
    "train.info()"
   ]
  },
  {
   "cell_type": "code",
   "execution_count": 417,
   "metadata": {},
   "outputs": [],
   "source": [
    "# Storing the categorical column name into a list\n",
    "CatFeatures = []\n",
    "for feature in train.columns:\n",
    "    if train[feature].dtype == 'object':\n",
    "        CatFeatures.append(feature)\n",
    "\n",
    "# Storing the numerical column name into a list\n",
    "NumFeatures = []\n",
    "for feature in train.columns:\n",
    "    if train[feature].dtype == 'float64' or train[feature].dtype == 'int64':\n",
    "        NumFeatures.append(feature)"
   ]
  },
  {
   "cell_type": "markdown",
   "metadata": {},
   "source": [
    "Checking the unique values of the categorical features"
   ]
  },
  {
   "cell_type": "code",
   "execution_count": 418,
   "metadata": {},
   "outputs": [
    {
     "name": "stdout",
     "output_type": "stream",
     "text": [
      "Feature: \n",
      " \u001b[1mID\u001b[0m \n",
      " ['0x1602' '0x1603' '0x1604' ... '0x25feb' '0x25fec' '0x25fed'] \n",
      " Unique values =  100000 \n",
      " -------------------------------------------------------------------------------- \n",
      "\n",
      "Feature: \n",
      " \u001b[1mCustomer_ID\u001b[0m \n",
      " ['CUS_0xd40' 'CUS_0x21b1' 'CUS_0x2dbc' ... 'CUS_0xaf61' 'CUS_0x8600'\n",
      " 'CUS_0x942c'] \n",
      " Unique values =  12500 \n",
      " -------------------------------------------------------------------------------- \n",
      "\n",
      "Feature: \n",
      " \u001b[1mMonth\u001b[0m \n",
      " ['January' 'February' 'March' 'April' 'May' 'June' 'July' 'August'] \n",
      " Unique values =  8 \n",
      " -------------------------------------------------------------------------------- \n",
      "\n",
      "Feature: \n",
      " \u001b[1mName\u001b[0m \n",
      " ['Aaron Maashoh' nan 'Rick Rothackerj' ... 'Chris Wickhamm'\n",
      " 'Sarah McBridec' 'Nicks'] \n",
      " Unique values =  10140 \n",
      " -------------------------------------------------------------------------------- \n",
      "\n",
      "Feature: \n",
      " \u001b[1mSSN\u001b[0m \n",
      " ['821-00-0265' '#F%$D@*&8' '004-07-5839' ... '133-16-7738' '031-35-0942'\n",
      " '078-73-5990'] \n",
      " Unique values =  12501 \n",
      " -------------------------------------------------------------------------------- \n",
      "\n",
      "Feature: \n",
      " \u001b[1mOccupation\u001b[0m \n",
      " ['Scientist' '_______' 'Teacher' 'Engineer' 'Entrepreneur' 'Developer'\n",
      " 'Lawyer' 'Media_Manager' 'Doctor' 'Journalist' 'Manager' 'Accountant'\n",
      " 'Musician' 'Mechanic' 'Writer' 'Architect'] \n",
      " Unique values =  16 \n",
      " -------------------------------------------------------------------------------- \n",
      "\n",
      "Feature: \n",
      " \u001b[1mType_of_Loan\u001b[0m \n",
      " ['Auto Loan, Credit-Builder Loan, Personal Loan, and Home Equity Loan'\n",
      " 'Credit-Builder Loan' 'Auto Loan, Auto Loan, and Not Specified' ...\n",
      " 'Home Equity Loan, Auto Loan, Auto Loan, and Auto Loan'\n",
      " 'Payday Loan, Student Loan, Mortgage Loan, and Not Specified'\n",
      " 'Personal Loan, Auto Loan, Mortgage Loan, Student Loan, and Student Loan'] \n",
      " Unique values =  6261 \n",
      " -------------------------------------------------------------------------------- \n",
      "\n",
      "Feature: \n",
      " \u001b[1mCredit_Mix\u001b[0m \n",
      " ['_' 'Good' 'Standard' 'Bad'] \n",
      " Unique values =  4 \n",
      " -------------------------------------------------------------------------------- \n",
      "\n",
      "Feature: \n",
      " \u001b[1mPayment_of_Min_Amount\u001b[0m \n",
      " ['No' 'NM' 'Yes'] \n",
      " Unique values =  3 \n",
      " -------------------------------------------------------------------------------- \n",
      "\n",
      "Feature: \n",
      " \u001b[1mPayment_Behaviour\u001b[0m \n",
      " ['High_spent_Small_value_payments' 'Low_spent_Large_value_payments'\n",
      " 'Low_spent_Medium_value_payments' 'Low_spent_Small_value_payments'\n",
      " 'High_spent_Medium_value_payments' '!@9#%8'\n",
      " 'High_spent_Large_value_payments'] \n",
      " Unique values =  7 \n",
      " -------------------------------------------------------------------------------- \n",
      "\n",
      "Feature: \n",
      " \u001b[1mCredit_Score\u001b[0m \n",
      " ['Good' 'Standard' 'Poor'] \n",
      " Unique values =  3 \n",
      " -------------------------------------------------------------------------------- \n",
      "\n"
     ]
    }
   ],
   "source": [
    "# Checking the unique values of the these features\n",
    "for feature in CatFeatures:\n",
    "    uniques = train[feature].unique()\n",
    "    print('Feature:', '\\n',\n",
    "          colored(feature, attrs = ['bold']), '\\n',\n",
    "          uniques, '\\n',\n",
    "          'Unique values = ', len(train[feature].unique()), '\\n',\n",
    "          '--'*40, '\\n')"
   ]
  },
  {
   "cell_type": "markdown",
   "metadata": {},
   "source": [
    "Findings:\n",
    "\n",
    "*   Each customer data is presented in 8 months, from January to August. The correlation between the total members of the ID and Customer_ID features match up this information, with ID having 100000 members and Customer_ID having 12500 members.\n",
    "*   The Name feature should have 12500 members as well, matching up to the value of the Customer_ID feature. The fact that the Name feature only consists of 10140 members might imply strongly that there are some of customer's names which completely miss from the dataset.\n",
    "*   The SSN feature has 12501 members, with one member having a seemingly weird data validation compared to the other members in the feature, that is: '#F%$D@*&8'.\n",
    "*   There are missing values in the Occupation feature, though not in the 'nan' format.\n",
    "*   The Type_of_Loan feature appears to have list values. Formatting will be needed for this feature.\n",
    "*   The Payment_Behavior also has a weird data validation compared to the other members in the feature, that is: '!@9#%8'\n",
    "*   Including the Occupation and Credit_Mix features, after the data with weird data validation that exists in SSN and Payment_Behavior features has been deleted, these four features will have some missing values that need to be dealt with afterwards."
   ]
  },
  {
   "cell_type": "markdown",
   "metadata": {},
   "source": [
    "## **V. Feature Engineering: Data Cleaning**"
   ]
  },
  {
   "cell_type": "markdown",
   "metadata": {},
   "source": [
    "### Va. Categorical Feature: Name"
   ]
  },
  {
   "cell_type": "markdown",
   "metadata": {},
   "source": [
    "The Name feature usually has a purpose as a unique identifier for each entry in the dataset, in this case a unique identifier for each customer. However, since there are missing values in this column and the purpose of the feature overlaps with the Customer_ID feature anyway, the Name feature will be dropped instead."
   ]
  },
  {
   "cell_type": "code",
   "execution_count": 419,
   "metadata": {},
   "outputs": [],
   "source": [
    "# Dropping the Name feature\n",
    "train.drop('Name', axis = 1, inplace = True)"
   ]
  },
  {
   "cell_type": "markdown",
   "metadata": {},
   "source": [
    "### Vb. Categorical Feature: SSN"
   ]
  },
  {
   "cell_type": "markdown",
   "metadata": {},
   "source": [
    "The '#F%$D@*&8' value will be dropped from the feature, as it contains an abnormal data validation compared to the other members in the feature."
   ]
  },
  {
   "cell_type": "code",
   "execution_count": 420,
   "metadata": {},
   "outputs": [],
   "source": [
    "# Dropping the '#F%$D@*&8' value from the SSN feature\n",
    "train['SSN'] = train['SSN'].replace('#F%$D@*&8', np.nan)"
   ]
  },
  {
   "cell_type": "markdown",
   "metadata": {},
   "source": [
    "The missing values now need to be filled in. SSN stands for Social Security Number, whose values are unique to each customer. Using this condition, we will be filling in the missing SSN values with the most frequently occuring method, with the Customer_ID feature as the reference."
   ]
  },
  {
   "cell_type": "code",
   "execution_count": 421,
   "metadata": {},
   "outputs": [],
   "source": [
    "# Filling in the missing values in SSN feature\n",
    "train['SSN'] = train['SSN'].fillna(train.groupby('Customer_ID')['SSN'].transform(lambda x:x.mode().iat[0]))"
   ]
  },
  {
   "cell_type": "markdown",
   "metadata": {},
   "source": [
    "### Vc. Categorical Feature: Occupation"
   ]
  },
  {
   "cell_type": "markdown",
   "metadata": {},
   "source": [
    "Similar to the SSN feature, each value in the Occupation feature is also unique to each customer, assuming that the customers do not change occupation during the time period contained in the dataset. We cannot immediately fill in the missing values though, since the missing values are written as '_______' and not in 'nan'. We will drop the '_______', then fill in the missing Occupation value with the most frequent value occuring for each customer."
   ]
  },
  {
   "cell_type": "code",
   "execution_count": 422,
   "metadata": {
    "scrolled": false
   },
   "outputs": [
    {
     "data": {
      "text/plain": [
       "array(['Scientist', 'Teacher', 'Engineer', 'Entrepreneur', 'Developer',\n",
       "       'Lawyer', 'Media_Manager', 'Doctor', 'Journalist', 'Manager',\n",
       "       'Accountant', 'Musician', 'Mechanic', 'Writer', 'Architect'],\n",
       "      dtype=object)"
      ]
     },
     "execution_count": 422,
     "metadata": {},
     "output_type": "execute_result"
    }
   ],
   "source": [
    "# Dropping the '_______' values\n",
    "train['Occupation'] = train['Occupation'].replace('_______', np.NaN)\n",
    "\n",
    "# Filling in the missing values in Occupation feature\n",
    "train['Occupation'] = train['Occupation'].fillna(train.groupby('Customer_ID')['Occupation'].transform(lambda x:x.mode().iat[0]))\n",
    "\n",
    "# Checking if there are still missing values\n",
    "train['Occupation'].unique()"
   ]
  },
  {
   "cell_type": "markdown",
   "metadata": {},
   "source": [
    "### Vd. Categorical Feature: Type_of_Loan"
   ]
  },
  {
   "cell_type": "markdown",
   "metadata": {},
   "source": [
    "The type of data contained in the Type_of_Loan feature is actually list, though Python considers it as regular string instead. For this data cleaning process, the Type of Loan will be extended in each separated features, with the value in boolean type, plus a feature that has the value count of the Type_of_Loan of each customer. We will first try to clean the format of the string values of this feature."
   ]
  },
  {
   "cell_type": "code",
   "execution_count": 423,
   "metadata": {},
   "outputs": [
    {
     "name": "stdout",
     "output_type": "stream",
     "text": [
      "Auto Loan, Credit-Builder Loan, Personal Loan, and Home Equity Loan\n",
      "<class 'str'>\n"
     ]
    }
   ],
   "source": [
    "# Checking how the data displays\n",
    "print(train['Type_of_Loan'][0])\n",
    "print(type(train['Type_of_Loan'][0]))"
   ]
  },
  {
   "cell_type": "code",
   "execution_count": 424,
   "metadata": {},
   "outputs": [],
   "source": [
    "# Converting every member of the feature as string (initially, the nan are categorized as float)\n",
    "train['Type_of_Loan'] = train['Type_of_Loan'].astype('str')\n",
    "\n",
    "# Dropping the 'and ' strings\n",
    "train['Type_of_Loan'] = [item.replace('and ', '') for item in train['Type_of_Loan']]"
   ]
  },
  {
   "cell_type": "code",
   "execution_count": 425,
   "metadata": {},
   "outputs": [],
   "source": [
    "# Dropping unuseful blank space\n",
    "train['Type_of_Loan'] = [item.replace(', ', ',') for item in train['Type_of_Loan']]\n",
    "\n",
    "# Splitting each item in the member of the feature by comma delimiter\n",
    "train['Type_of_Loan'] = [item.split(',') for item in train['Type_of_Loan']]"
   ]
  },
  {
   "cell_type": "code",
   "execution_count": 426,
   "metadata": {
    "scrolled": true
   },
   "outputs": [
    {
     "name": "stdout",
     "output_type": "stream",
     "text": [
      "['Auto Loan', 'Credit-Builder Loan', 'Personal Loan', 'Home Equity Loan']\n",
      "<class 'list'>\n"
     ]
    }
   ],
   "source": [
    "# Checking if the data has been successfully formatted\n",
    "print(train['Type_of_Loan'][0])\n",
    "print(type(train['Type_of_Loan'][0]))"
   ]
  },
  {
   "cell_type": "markdown",
   "metadata": {},
   "source": [
    "Now, before we spread each unique value of Type_of_Loan as separate boolean features, we will be filling in the missing values based on the frequency of each unique value. "
   ]
  },
  {
   "cell_type": "code",
   "execution_count": 455,
   "metadata": {
    "scrolled": true
   },
   "outputs": [
    {
     "data": {
      "text/html": [
       "<div>\n",
       "<style scoped>\n",
       "    .dataframe tbody tr th:only-of-type {\n",
       "        vertical-align: middle;\n",
       "    }\n",
       "\n",
       "    .dataframe tbody tr th {\n",
       "        vertical-align: top;\n",
       "    }\n",
       "\n",
       "    .dataframe thead th {\n",
       "        text-align: right;\n",
       "    }\n",
       "</style>\n",
       "<table border=\"1\" class=\"dataframe\">\n",
       "  <thead>\n",
       "    <tr style=\"text-align: right;\">\n",
       "      <th></th>\n",
       "      <th>Type_of_Loan</th>\n",
       "      <th>Count</th>\n",
       "      <th>Portion</th>\n",
       "    </tr>\n",
       "  </thead>\n",
       "  <tbody>\n",
       "    <tr>\n",
       "      <th>0</th>\n",
       "      <td>Payday Loan</td>\n",
       "      <td>40568</td>\n",
       "      <td>0.114830</td>\n",
       "    </tr>\n",
       "    <tr>\n",
       "      <th>1</th>\n",
       "      <td>Credit-Builder Loan</td>\n",
       "      <td>40440</td>\n",
       "      <td>0.114468</td>\n",
       "    </tr>\n",
       "    <tr>\n",
       "      <th>2</th>\n",
       "      <td>Not Specified</td>\n",
       "      <td>39616</td>\n",
       "      <td>0.112135</td>\n",
       "    </tr>\n",
       "    <tr>\n",
       "      <th>3</th>\n",
       "      <td>Home Equity Loan</td>\n",
       "      <td>39104</td>\n",
       "      <td>0.110686</td>\n",
       "    </tr>\n",
       "    <tr>\n",
       "      <th>4</th>\n",
       "      <td>Student Loan</td>\n",
       "      <td>38968</td>\n",
       "      <td>0.110301</td>\n",
       "    </tr>\n",
       "    <tr>\n",
       "      <th>5</th>\n",
       "      <td>Mortgage Loan</td>\n",
       "      <td>38936</td>\n",
       "      <td>0.110210</td>\n",
       "    </tr>\n",
       "    <tr>\n",
       "      <th>6</th>\n",
       "      <td>Personal Loan</td>\n",
       "      <td>38888</td>\n",
       "      <td>0.110075</td>\n",
       "    </tr>\n",
       "    <tr>\n",
       "      <th>7</th>\n",
       "      <td>Debt Consolidation Loan</td>\n",
       "      <td>38776</td>\n",
       "      <td>0.109757</td>\n",
       "    </tr>\n",
       "    <tr>\n",
       "      <th>8</th>\n",
       "      <td>Auto Loan</td>\n",
       "      <td>37992</td>\n",
       "      <td>0.107538</td>\n",
       "    </tr>\n",
       "  </tbody>\n",
       "</table>\n",
       "</div>"
      ],
      "text/plain": [
       "              Type_of_Loan  Count   Portion\n",
       "0              Payday Loan  40568  0.114830\n",
       "1      Credit-Builder Loan  40440  0.114468\n",
       "2            Not Specified  39616  0.112135\n",
       "3         Home Equity Loan  39104  0.110686\n",
       "4             Student Loan  38968  0.110301\n",
       "5            Mortgage Loan  38936  0.110210\n",
       "6            Personal Loan  38888  0.110075\n",
       "7  Debt Consolidation Loan  38776  0.109757\n",
       "8                Auto Loan  37992  0.107538"
      ]
     },
     "execution_count": 455,
     "metadata": {},
     "output_type": "execute_result"
    }
   ],
   "source": [
    "# unique value counts (frequency) of each unique value\n",
    "listUVcount = pd.Series([x for _list in train['Type_of_Loan'] for x in _list]).value_counts()\n",
    "listUVcount\n",
    "\n",
    "# Type_of_Loan unique values (excluding nan)\n",
    "listUV = list(listUVcount[:-1].index)\n",
    "listUV\n",
    "\n",
    "# The sum of all unique values (excluding nan)\n",
    "totalcount = sum(listUVcount[:-1])\n",
    "totalcount\n",
    "\n",
    "# Calculating the probabilities of each unique value\n",
    "listUVportion = []\n",
    "for UVcount in listUVcount[:-1]:\n",
    "    UVportion = UVcount / totalcount\n",
    "    listUVportion.append(UVportion)\n",
    "listUVportion\n",
    "\n",
    "# Creating the report table\n",
    "table = pd.DataFrame(list(zip(listUV, listUVCount[:-1], listUVportion)))\n",
    "table.columns = ['Type_of_Loan', 'Count', 'Portion']\n",
    "\n",
    "# Report\n",
    "table"
   ]
  },
  {
   "cell_type": "code",
   "execution_count": 456,
   "metadata": {},
   "outputs": [],
   "source": [
    "# Filling in the missing Type_of_Loan data\n",
    "train['Type_of_Loan'] = train['Type_of_Loan'].fillna(pd.Series(np.random.choice(listUV,\n",
    "                                                                                p = listUVportion,\n",
    "                                                                                size = len(train['Type_of_Loan']))))"
   ]
  },
  {
   "cell_type": "code",
   "execution_count": 457,
   "metadata": {},
   "outputs": [
    {
     "data": {
      "text/plain": [
       "0"
      ]
     },
     "execution_count": 457,
     "metadata": {},
     "output_type": "execute_result"
    }
   ],
   "source": [
    "# Checking if there are still missing values in the Type_of_Loan feature\n",
    "train['Type_of_Loan'].isnull().sum()"
   ]
  },
  {
   "cell_type": "markdown",
   "metadata": {},
   "source": [
    "Now that the missing values are not present anymore, let us separate each Type_of_Loan into separate features"
   ]
  },
  {
   "cell_type": "code",
   "execution_count": 458,
   "metadata": {},
   "outputs": [
    {
     "data": {
      "text/html": [
       "<div>\n",
       "<style scoped>\n",
       "    .dataframe tbody tr th:only-of-type {\n",
       "        vertical-align: middle;\n",
       "    }\n",
       "\n",
       "    .dataframe tbody tr th {\n",
       "        vertical-align: top;\n",
       "    }\n",
       "\n",
       "    .dataframe thead th {\n",
       "        text-align: right;\n",
       "    }\n",
       "</style>\n",
       "<table border=\"1\" class=\"dataframe\">\n",
       "  <thead>\n",
       "    <tr style=\"text-align: right;\">\n",
       "      <th></th>\n",
       "      <th>Auto Loan</th>\n",
       "      <th>Credit-Builder Loan</th>\n",
       "      <th>Debt Consolidation Loan</th>\n",
       "      <th>Home Equity Loan</th>\n",
       "      <th>Mortgage Loan</th>\n",
       "      <th>Not Specified</th>\n",
       "      <th>Payday Loan</th>\n",
       "      <th>Personal Loan</th>\n",
       "      <th>Student Loan</th>\n",
       "      <th>nan</th>\n",
       "    </tr>\n",
       "  </thead>\n",
       "  <tbody>\n",
       "    <tr>\n",
       "      <th>0</th>\n",
       "      <td>True</td>\n",
       "      <td>True</td>\n",
       "      <td>False</td>\n",
       "      <td>True</td>\n",
       "      <td>False</td>\n",
       "      <td>False</td>\n",
       "      <td>False</td>\n",
       "      <td>True</td>\n",
       "      <td>False</td>\n",
       "      <td>False</td>\n",
       "    </tr>\n",
       "    <tr>\n",
       "      <th>1</th>\n",
       "      <td>True</td>\n",
       "      <td>True</td>\n",
       "      <td>False</td>\n",
       "      <td>True</td>\n",
       "      <td>False</td>\n",
       "      <td>False</td>\n",
       "      <td>False</td>\n",
       "      <td>True</td>\n",
       "      <td>False</td>\n",
       "      <td>False</td>\n",
       "    </tr>\n",
       "    <tr>\n",
       "      <th>2</th>\n",
       "      <td>True</td>\n",
       "      <td>True</td>\n",
       "      <td>False</td>\n",
       "      <td>True</td>\n",
       "      <td>False</td>\n",
       "      <td>False</td>\n",
       "      <td>False</td>\n",
       "      <td>True</td>\n",
       "      <td>False</td>\n",
       "      <td>False</td>\n",
       "    </tr>\n",
       "    <tr>\n",
       "      <th>3</th>\n",
       "      <td>True</td>\n",
       "      <td>True</td>\n",
       "      <td>False</td>\n",
       "      <td>True</td>\n",
       "      <td>False</td>\n",
       "      <td>False</td>\n",
       "      <td>False</td>\n",
       "      <td>True</td>\n",
       "      <td>False</td>\n",
       "      <td>False</td>\n",
       "    </tr>\n",
       "    <tr>\n",
       "      <th>4</th>\n",
       "      <td>True</td>\n",
       "      <td>True</td>\n",
       "      <td>False</td>\n",
       "      <td>True</td>\n",
       "      <td>False</td>\n",
       "      <td>False</td>\n",
       "      <td>False</td>\n",
       "      <td>True</td>\n",
       "      <td>False</td>\n",
       "      <td>False</td>\n",
       "    </tr>\n",
       "    <tr>\n",
       "      <th>...</th>\n",
       "      <td>...</td>\n",
       "      <td>...</td>\n",
       "      <td>...</td>\n",
       "      <td>...</td>\n",
       "      <td>...</td>\n",
       "      <td>...</td>\n",
       "      <td>...</td>\n",
       "      <td>...</td>\n",
       "      <td>...</td>\n",
       "      <td>...</td>\n",
       "    </tr>\n",
       "    <tr>\n",
       "      <th>99995</th>\n",
       "      <td>True</td>\n",
       "      <td>False</td>\n",
       "      <td>False</td>\n",
       "      <td>False</td>\n",
       "      <td>False</td>\n",
       "      <td>False</td>\n",
       "      <td>False</td>\n",
       "      <td>False</td>\n",
       "      <td>True</td>\n",
       "      <td>False</td>\n",
       "    </tr>\n",
       "    <tr>\n",
       "      <th>99996</th>\n",
       "      <td>True</td>\n",
       "      <td>False</td>\n",
       "      <td>False</td>\n",
       "      <td>False</td>\n",
       "      <td>False</td>\n",
       "      <td>False</td>\n",
       "      <td>False</td>\n",
       "      <td>False</td>\n",
       "      <td>True</td>\n",
       "      <td>False</td>\n",
       "    </tr>\n",
       "    <tr>\n",
       "      <th>99997</th>\n",
       "      <td>True</td>\n",
       "      <td>False</td>\n",
       "      <td>False</td>\n",
       "      <td>False</td>\n",
       "      <td>False</td>\n",
       "      <td>False</td>\n",
       "      <td>False</td>\n",
       "      <td>False</td>\n",
       "      <td>True</td>\n",
       "      <td>False</td>\n",
       "    </tr>\n",
       "    <tr>\n",
       "      <th>99998</th>\n",
       "      <td>True</td>\n",
       "      <td>False</td>\n",
       "      <td>False</td>\n",
       "      <td>False</td>\n",
       "      <td>False</td>\n",
       "      <td>False</td>\n",
       "      <td>False</td>\n",
       "      <td>False</td>\n",
       "      <td>True</td>\n",
       "      <td>False</td>\n",
       "    </tr>\n",
       "    <tr>\n",
       "      <th>99999</th>\n",
       "      <td>True</td>\n",
       "      <td>False</td>\n",
       "      <td>False</td>\n",
       "      <td>False</td>\n",
       "      <td>False</td>\n",
       "      <td>False</td>\n",
       "      <td>False</td>\n",
       "      <td>False</td>\n",
       "      <td>True</td>\n",
       "      <td>False</td>\n",
       "    </tr>\n",
       "  </tbody>\n",
       "</table>\n",
       "<p>100000 rows × 10 columns</p>\n",
       "</div>"
      ],
      "text/plain": [
       "       Auto Loan  Credit-Builder Loan  Debt Consolidation Loan  \\\n",
       "0           True                 True                    False   \n",
       "1           True                 True                    False   \n",
       "2           True                 True                    False   \n",
       "3           True                 True                    False   \n",
       "4           True                 True                    False   \n",
       "...          ...                  ...                      ...   \n",
       "99995       True                False                    False   \n",
       "99996       True                False                    False   \n",
       "99997       True                False                    False   \n",
       "99998       True                False                    False   \n",
       "99999       True                False                    False   \n",
       "\n",
       "       Home Equity Loan  Mortgage Loan  Not Specified  Payday Loan  \\\n",
       "0                  True          False          False        False   \n",
       "1                  True          False          False        False   \n",
       "2                  True          False          False        False   \n",
       "3                  True          False          False        False   \n",
       "4                  True          False          False        False   \n",
       "...                 ...            ...            ...          ...   \n",
       "99995             False          False          False        False   \n",
       "99996             False          False          False        False   \n",
       "99997             False          False          False        False   \n",
       "99998             False          False          False        False   \n",
       "99999             False          False          False        False   \n",
       "\n",
       "       Personal Loan  Student Loan    nan  \n",
       "0               True         False  False  \n",
       "1               True         False  False  \n",
       "2               True         False  False  \n",
       "3               True         False  False  \n",
       "4               True         False  False  \n",
       "...              ...           ...    ...  \n",
       "99995          False          True  False  \n",
       "99996          False          True  False  \n",
       "99997          False          True  False  \n",
       "99998          False          True  False  \n",
       "99999          False          True  False  \n",
       "\n",
       "[100000 rows x 10 columns]"
      ]
     },
     "execution_count": 458,
     "metadata": {},
     "output_type": "execute_result"
    }
   ],
   "source": [
    "# Converting the list of list into a dataframe\n",
    "df_Type_of_Loan = pd.DataFrame(mlb.fit_transform(train['Type_of_Loan']),columns=mlb.classes_).astype(bool)\n",
    "df_Type_of_Loan"
   ]
  },
  {
   "cell_type": "code",
   "execution_count": 459,
   "metadata": {},
   "outputs": [
    {
     "data": {
      "text/plain": [
       "0"
      ]
     },
     "execution_count": 459,
     "metadata": {},
     "output_type": "execute_result"
    }
   ],
   "source": [
    "# Making sure the nan feature is empty\n",
    "sum(df_Type_of_Loan['nan'] == 'True')"
   ]
  },
  {
   "cell_type": "code",
   "execution_count": 460,
   "metadata": {
    "scrolled": true
   },
   "outputs": [],
   "source": [
    "# Dropping the nan feature\n",
    "df_Type_of_Loan.drop('nan', axis = 1, inplace = True)"
   ]
  },
  {
   "cell_type": "code",
   "execution_count": 461,
   "metadata": {},
   "outputs": [],
   "source": [
    "# Combining the original dataset and the Type_of_Loan dataset\n",
    "train2 = pd.concat([train, df_Type_of_Loan],\n",
    "                  axis = 1,\n",
    "                  ignore_index = False)\n",
    "\n",
    "# Moving the Credit_Score feature to the end of the dataframe\n",
    "temp1 = train2['Credit_Score'] # temporarily storing the Credit_Score feature\n",
    "train2.drop('Credit_Score', axis = 1, inplace = True) # Dropping the feature\n",
    "train2['Credit_Score'] = temp1 # Reinserting the Credit_Score feature"
   ]
  },
  {
   "cell_type": "markdown",
   "metadata": {},
   "source": [
    "The Type_of_Loan feature itself for now will not be dropped. This feature will still be useful when we are going to engineer the Num_of_Loan feature in the numerical feature section. Num_of_Loan basically counts the Type_of_Loan each entry has and it will be easier to count directly from the Type_of_Loan feature."
   ]
  },
  {
   "cell_type": "markdown",
   "metadata": {},
   "source": [
    "### Ve. Categorical Feature: Payment_Behavior"
   ]
  },
  {
   "cell_type": "markdown",
   "metadata": {},
   "source": [
    "The '!@9#%8' value will be dropped from the feature, as it contains an abnormal data validation compared to the other members in the feature."
   ]
  },
  {
   "cell_type": "code",
   "execution_count": 462,
   "metadata": {
    "scrolled": true
   },
   "outputs": [
    {
     "data": {
      "text/plain": [
       "7600"
      ]
     },
     "execution_count": 462,
     "metadata": {},
     "output_type": "execute_result"
    }
   ],
   "source": [
    "# Checking how many '!@9#%8' Payment_Behaviour values there are\n",
    "len(train2[train2['Payment_Behaviour'] == '!@9#%8'])"
   ]
  },
  {
   "cell_type": "code",
   "execution_count": 463,
   "metadata": {},
   "outputs": [],
   "source": [
    "# Dropping the '!@9#%8' value from the SSN feature\n",
    "train2['Payment_Behaviour'] = train2['Payment_Behaviour'].replace('!@9#%8', np.nan)"
   ]
  },
  {
   "cell_type": "code",
   "execution_count": 464,
   "metadata": {
    "scrolled": true
   },
   "outputs": [],
   "source": [
    "# Filling in the missing values in Payment_Behaviour feature\n",
    "train2['Payment_Behaviour'] = train2['Payment_Behaviour'].fillna(train.groupby('Customer_ID')['Payment_Behaviour'].transform(lambda x:x.mode().iat[0]))"
   ]
  },
  {
   "cell_type": "code",
   "execution_count": 465,
   "metadata": {},
   "outputs": [
    {
     "data": {
      "text/plain": [
       "1736"
      ]
     },
     "execution_count": 465,
     "metadata": {},
     "output_type": "execute_result"
    }
   ],
   "source": [
    "# Checking if there are still abnormal values\n",
    "len(train2[train2['Payment_Behaviour'] == '!@9#%8'])"
   ]
  },
  {
   "cell_type": "markdown",
   "metadata": {},
   "source": [
    "Note that after the fillna process, there are still 1736 '!@9#%8' values. This is because some customers have at least two type of Payment_Behaviour with same value counts. However, considering that the number is now small compared to the initial 7600 value counts, we will fill in the remaining with probability instead, the same as when we did with Type_of_Loan."
   ]
  },
  {
   "cell_type": "code",
   "execution_count": 466,
   "metadata": {},
   "outputs": [
    {
     "name": "stdout",
     "output_type": "stream",
     "text": [
      "               Payment_Behaviour  Count  Portion\n",
      "  Low_spent_Small_value_payments  27489 0.279746\n",
      "High_spent_Medium_value_payments  18911 0.192451\n",
      " High_spent_Large_value_payments  14911 0.151744\n",
      " Low_spent_Medium_value_payments  14414 0.146686\n",
      " High_spent_Small_value_payments  11771 0.119790\n",
      "  Low_spent_Large_value_payments  10768 0.109582\n"
     ]
    }
   ],
   "source": [
    "# Counting the portion of each unique value, excluding '!@9#%8'\n",
    "uniquevalueprob(train2, 'Payment_Behaviour', '!@9#%8')"
   ]
  },
  {
   "cell_type": "code",
   "execution_count": 491,
   "metadata": {},
   "outputs": [
    {
     "data": {
      "text/plain": [
       "0"
      ]
     },
     "execution_count": 491,
     "metadata": {},
     "output_type": "execute_result"
    }
   ],
   "source": [
    "# Dropping !@9#%8 values\n",
    "train2['Payment_Behaviour'] = train2['Payment_Behaviour'].replace('!@9#%8', np.nan)\n",
    "\n",
    "# Filling in the remaining missing values with the unique value probability\n",
    "train2['Payment_Behaviour'] = train2['Payment_Behaviour'].fillna(pd.Series(np.random.choice(listUV,\n",
    "                                                                                            p = listUVportion, \n",
    "                                                                                            size = len(train2['Payment_Behaviour']))))\n",
    "\n",
    "# Checking if there are still abnormal values\n",
    "len(train2[train2['Payment_Behaviour'] == '!@9#%8'])"
   ]
  },
  {
   "cell_type": "markdown",
   "metadata": {},
   "source": [
    "### Vf. Categorical Feature: Credit_Mix"
   ]
  },
  {
   "cell_type": "markdown",
   "metadata": {},
   "source": [
    "The 'Credit_Mix' feature also has missing values in the form of string, '_'. Like before, we are going to omit these '_' values first before filling in the missing values."
   ]
  },
  {
   "cell_type": "code",
   "execution_count": 494,
   "metadata": {
    "scrolled": false
   },
   "outputs": [
    {
     "name": "stdout",
     "output_type": "stream",
     "text": [
      "Credit_Mix  Count  Portion\n",
      "  Standard  45837  0.45837\n",
      "      Good  30391  0.30391\n",
      "       Bad  23772  0.23772\n"
     ]
    }
   ],
   "source": [
    "# Dropping the '_' value\n",
    "train2['Credit_Mix'] = train2['Credit_Mix'].replace('_', np.nan)\n",
    "\n",
    "# Counting the portion of each unique value\n",
    "uniquevalueprob(train2, 'Credit_Mix')"
   ]
  },
  {
   "cell_type": "code",
   "execution_count": 495,
   "metadata": {
    "scrolled": true
   },
   "outputs": [
    {
     "data": {
      "text/plain": [
       "0"
      ]
     },
     "execution_count": 495,
     "metadata": {},
     "output_type": "execute_result"
    }
   ],
   "source": [
    "# Filling in the remaining missing values with the unique value probability\n",
    "train2['Credit_Mix'] = train2['Credit_Mix'].fillna(pd.Series(np.random.choice(listUV,\n",
    "                                                                              p = listUVportion, \n",
    "                                                                              size = len(train2))))\n",
    "\n",
    "# Checking if there are still abnormal values\n",
    "len(train2[train2['Credit_Mix'] == '_'])"
   ]
  },
  {
   "cell_type": "markdown",
   "metadata": {},
   "source": [
    "## VI. Data Exploration 3: Numerical Features"
   ]
  },
  {
   "cell_type": "markdown",
   "metadata": {},
   "source": [
    "Now that we are done with the categorical features, let us move on to the numerical ones. A slightly different approcah is needed as we are dealing with both continuous and discrete numbers."
   ]
  },
  {
   "cell_type": "code",
   "execution_count": 551,
   "metadata": {
    "scrolled": false
   },
   "outputs": [
    {
     "data": {
      "text/html": [
       "<div>\n",
       "<style scoped>\n",
       "    .dataframe tbody tr th:only-of-type {\n",
       "        vertical-align: middle;\n",
       "    }\n",
       "\n",
       "    .dataframe tbody tr th {\n",
       "        vertical-align: top;\n",
       "    }\n",
       "\n",
       "    .dataframe thead th {\n",
       "        text-align: right;\n",
       "    }\n",
       "</style>\n",
       "<table border=\"1\" class=\"dataframe\">\n",
       "  <thead>\n",
       "    <tr style=\"text-align: right;\">\n",
       "      <th></th>\n",
       "      <th>Age</th>\n",
       "      <th>Annual_Income</th>\n",
       "      <th>Monthly_Inhand_Salary</th>\n",
       "      <th>Num_Bank_Accounts</th>\n",
       "      <th>Num_Credit_Card</th>\n",
       "      <th>Interest_Rate</th>\n",
       "      <th>Num_of_Loan</th>\n",
       "      <th>Delay_from_due_date</th>\n",
       "      <th>Num_of_Delayed_Payment</th>\n",
       "      <th>Changed_Credit_Limit</th>\n",
       "      <th>Num_Credit_Inquiries</th>\n",
       "      <th>Outstanding_Debt</th>\n",
       "      <th>Credit_Utilization_Ratio</th>\n",
       "      <th>Credit_History_Age</th>\n",
       "      <th>Total_EMI_per_month</th>\n",
       "      <th>Amount_invested_monthly</th>\n",
       "      <th>Monthly_Balance</th>\n",
       "    </tr>\n",
       "  </thead>\n",
       "  <tbody>\n",
       "    <tr>\n",
       "      <th>count</th>\n",
       "      <td>100000.000000</td>\n",
       "      <td>1.000000e+05</td>\n",
       "      <td>84998.000000</td>\n",
       "      <td>100000.000000</td>\n",
       "      <td>100000.00000</td>\n",
       "      <td>100000.000000</td>\n",
       "      <td>100000.000000</td>\n",
       "      <td>100000.000000</td>\n",
       "      <td>92998.000000</td>\n",
       "      <td>97909.000000</td>\n",
       "      <td>98035.000000</td>\n",
       "      <td>100000.000000</td>\n",
       "      <td>100000.000000</td>\n",
       "      <td>90970.000000</td>\n",
       "      <td>100000.000000</td>\n",
       "      <td>95521.000000</td>\n",
       "      <td>9.713200e+04</td>\n",
       "    </tr>\n",
       "    <tr>\n",
       "      <th>mean</th>\n",
       "      <td>119.509700</td>\n",
       "      <td>1.764157e+05</td>\n",
       "      <td>4194.170850</td>\n",
       "      <td>17.091280</td>\n",
       "      <td>22.47443</td>\n",
       "      <td>72.466040</td>\n",
       "      <td>10.761960</td>\n",
       "      <td>21.068780</td>\n",
       "      <td>30.946268</td>\n",
       "      <td>10.465678</td>\n",
       "      <td>27.754251</td>\n",
       "      <td>1426.220376</td>\n",
       "      <td>32.285173</td>\n",
       "      <td>221.195405</td>\n",
       "      <td>1403.118217</td>\n",
       "      <td>637.412998</td>\n",
       "      <td>3.088580e+22</td>\n",
       "    </tr>\n",
       "    <tr>\n",
       "      <th>std</th>\n",
       "      <td>684.757313</td>\n",
       "      <td>1.429618e+06</td>\n",
       "      <td>3183.686167</td>\n",
       "      <td>117.404834</td>\n",
       "      <td>129.05741</td>\n",
       "      <td>466.422621</td>\n",
       "      <td>61.789933</td>\n",
       "      <td>14.860104</td>\n",
       "      <td>226.028754</td>\n",
       "      <td>6.670732</td>\n",
       "      <td>193.177339</td>\n",
       "      <td>1155.129026</td>\n",
       "      <td>5.116875</td>\n",
       "      <td>99.741364</td>\n",
       "      <td>8306.041270</td>\n",
       "      <td>2043.319327</td>\n",
       "      <td>3.208492e+24</td>\n",
       "    </tr>\n",
       "    <tr>\n",
       "      <th>min</th>\n",
       "      <td>14.000000</td>\n",
       "      <td>7.005930e+03</td>\n",
       "      <td>303.645417</td>\n",
       "      <td>-1.000000</td>\n",
       "      <td>0.00000</td>\n",
       "      <td>1.000000</td>\n",
       "      <td>0.000000</td>\n",
       "      <td>-5.000000</td>\n",
       "      <td>0.000000</td>\n",
       "      <td>0.000000</td>\n",
       "      <td>0.000000</td>\n",
       "      <td>0.230000</td>\n",
       "      <td>20.000000</td>\n",
       "      <td>1.000000</td>\n",
       "      <td>0.000000</td>\n",
       "      <td>0.000000</td>\n",
       "      <td>7.759665e-03</td>\n",
       "    </tr>\n",
       "    <tr>\n",
       "      <th>25%</th>\n",
       "      <td>25.000000</td>\n",
       "      <td>1.945750e+04</td>\n",
       "      <td>1625.568229</td>\n",
       "      <td>3.000000</td>\n",
       "      <td>4.00000</td>\n",
       "      <td>8.000000</td>\n",
       "      <td>2.000000</td>\n",
       "      <td>10.000000</td>\n",
       "      <td>9.000000</td>\n",
       "      <td>5.350000</td>\n",
       "      <td>3.000000</td>\n",
       "      <td>566.072500</td>\n",
       "      <td>28.052567</td>\n",
       "      <td>144.000000</td>\n",
       "      <td>30.306660</td>\n",
       "      <td>74.534002</td>\n",
       "      <td>2.700037e+02</td>\n",
       "    </tr>\n",
       "    <tr>\n",
       "      <th>50%</th>\n",
       "      <td>34.000000</td>\n",
       "      <td>3.757861e+04</td>\n",
       "      <td>3093.745000</td>\n",
       "      <td>6.000000</td>\n",
       "      <td>5.00000</td>\n",
       "      <td>13.000000</td>\n",
       "      <td>3.000000</td>\n",
       "      <td>18.000000</td>\n",
       "      <td>14.000000</td>\n",
       "      <td>9.400000</td>\n",
       "      <td>6.000000</td>\n",
       "      <td>1166.155000</td>\n",
       "      <td>32.305784</td>\n",
       "      <td>219.000000</td>\n",
       "      <td>69.249473</td>\n",
       "      <td>135.925682</td>\n",
       "      <td>3.364770e+02</td>\n",
       "    </tr>\n",
       "    <tr>\n",
       "      <th>75%</th>\n",
       "      <td>42.000000</td>\n",
       "      <td>7.279092e+04</td>\n",
       "      <td>5957.448333</td>\n",
       "      <td>7.000000</td>\n",
       "      <td>7.00000</td>\n",
       "      <td>20.000000</td>\n",
       "      <td>6.000000</td>\n",
       "      <td>28.000000</td>\n",
       "      <td>18.000000</td>\n",
       "      <td>14.870000</td>\n",
       "      <td>9.000000</td>\n",
       "      <td>1945.962500</td>\n",
       "      <td>36.496663</td>\n",
       "      <td>302.000000</td>\n",
       "      <td>161.224249</td>\n",
       "      <td>265.731733</td>\n",
       "      <td>4.696852e+02</td>\n",
       "    </tr>\n",
       "    <tr>\n",
       "      <th>max</th>\n",
       "      <td>8698.000000</td>\n",
       "      <td>2.419806e+07</td>\n",
       "      <td>15204.633333</td>\n",
       "      <td>1798.000000</td>\n",
       "      <td>1499.00000</td>\n",
       "      <td>5797.000000</td>\n",
       "      <td>1496.000000</td>\n",
       "      <td>67.000000</td>\n",
       "      <td>4397.000000</td>\n",
       "      <td>36.970000</td>\n",
       "      <td>2597.000000</td>\n",
       "      <td>4998.070000</td>\n",
       "      <td>50.000000</td>\n",
       "      <td>404.000000</td>\n",
       "      <td>82331.000000</td>\n",
       "      <td>10000.000000</td>\n",
       "      <td>3.333333e+26</td>\n",
       "    </tr>\n",
       "  </tbody>\n",
       "</table>\n",
       "</div>"
      ],
      "text/plain": [
       "                 Age  Annual_Income  Monthly_Inhand_Salary  Num_Bank_Accounts  \\\n",
       "count  100000.000000   1.000000e+05           84998.000000      100000.000000   \n",
       "mean      119.509700   1.764157e+05            4194.170850          17.091280   \n",
       "std       684.757313   1.429618e+06            3183.686167         117.404834   \n",
       "min        14.000000   7.005930e+03             303.645417          -1.000000   \n",
       "25%        25.000000   1.945750e+04            1625.568229           3.000000   \n",
       "50%        34.000000   3.757861e+04            3093.745000           6.000000   \n",
       "75%        42.000000   7.279092e+04            5957.448333           7.000000   \n",
       "max      8698.000000   2.419806e+07           15204.633333        1798.000000   \n",
       "\n",
       "       Num_Credit_Card  Interest_Rate    Num_of_Loan  Delay_from_due_date  \\\n",
       "count     100000.00000  100000.000000  100000.000000        100000.000000   \n",
       "mean          22.47443      72.466040      10.761960            21.068780   \n",
       "std          129.05741     466.422621      61.789933            14.860104   \n",
       "min            0.00000       1.000000       0.000000            -5.000000   \n",
       "25%            4.00000       8.000000       2.000000            10.000000   \n",
       "50%            5.00000      13.000000       3.000000            18.000000   \n",
       "75%            7.00000      20.000000       6.000000            28.000000   \n",
       "max         1499.00000    5797.000000    1496.000000            67.000000   \n",
       "\n",
       "       Num_of_Delayed_Payment  Changed_Credit_Limit  Num_Credit_Inquiries  \\\n",
       "count            92998.000000          97909.000000          98035.000000   \n",
       "mean                30.946268             10.465678             27.754251   \n",
       "std                226.028754              6.670732            193.177339   \n",
       "min                  0.000000              0.000000              0.000000   \n",
       "25%                  9.000000              5.350000              3.000000   \n",
       "50%                 14.000000              9.400000              6.000000   \n",
       "75%                 18.000000             14.870000              9.000000   \n",
       "max               4397.000000             36.970000           2597.000000   \n",
       "\n",
       "       Outstanding_Debt  Credit_Utilization_Ratio  Credit_History_Age  \\\n",
       "count     100000.000000             100000.000000        90970.000000   \n",
       "mean        1426.220376                 32.285173          221.195405   \n",
       "std         1155.129026                  5.116875           99.741364   \n",
       "min            0.230000                 20.000000            1.000000   \n",
       "25%          566.072500                 28.052567          144.000000   \n",
       "50%         1166.155000                 32.305784          219.000000   \n",
       "75%         1945.962500                 36.496663          302.000000   \n",
       "max         4998.070000                 50.000000          404.000000   \n",
       "\n",
       "       Total_EMI_per_month  Amount_invested_monthly  Monthly_Balance  \n",
       "count        100000.000000             95521.000000     9.713200e+04  \n",
       "mean           1403.118217               637.412998     3.088580e+22  \n",
       "std            8306.041270              2043.319327     3.208492e+24  \n",
       "min               0.000000                 0.000000     7.759665e-03  \n",
       "25%              30.306660                74.534002     2.700037e+02  \n",
       "50%              69.249473               135.925682     3.364770e+02  \n",
       "75%             161.224249               265.731733     4.696852e+02  \n",
       "max           82331.000000             10000.000000     3.333333e+26  "
      ]
     },
     "execution_count": 551,
     "metadata": {},
     "output_type": "execute_result"
    }
   ],
   "source": [
    "# Numerical data overview\n",
    "NumDesc = train2.describe()\n",
    "NumDesc"
   ]
  },
  {
   "cell_type": "code",
   "execution_count": 550,
   "metadata": {},
   "outputs": [
    {
     "data": {
      "image/png": "[encoded data removed]",
      "text/plain": [
       "<Figure size 432x288 with 1 Axes>"
      ]
     },
     "metadata": {
      "needs_background": "light"
     },
     "output_type": "display_data"
    },
    {
     "data": {
      "image/png": "[encoded data removed]",
      "text/plain": [
       "<Figure size 432x288 with 1 Axes>"
      ]
     },
     "metadata": {
      "needs_background": "light"
     },
     "output_type": "display_data"
    },
    {
     "data": {
      "image/png": "[encoded data removed]",
      "text/plain": [
       "<Figure size 432x288 with 1 Axes>"
      ]
     },
     "metadata": {
      "needs_background": "light"
     },
     "output_type": "display_data"
    },
    {
     "data": {
      "image/png": "[encoded data removed]",
      "text/plain": [
       "<Figure size 432x288 with 1 Axes>"
      ]
     },
     "metadata": {
      "needs_background": "light"
     },
     "output_type": "display_data"
    },
    {
     "data": {
      "image/png": "[encoded data removed]",
      "text/plain": [
       "<Figure size 432x288 with 1 Axes>"
      ]
     },
     "metadata": {
      "needs_background": "light"
     },
     "output_type": "display_data"
    },
    {
     "data": {
      "image/png": "[encoded data removed]",
      "text/plain": [
       "<Figure size 432x288 with 1 Axes>"
      ]
     },
     "metadata": {
      "needs_background": "light"
     },
     "output_type": "display_data"
    },
    {
     "data": {
      "image/png": "[encoded data removed]",
      "text/plain": [
       "<Figure size 432x288 with 1 Axes>"
      ]
     },
     "metadata": {
      "needs_background": "light"
     },
     "output_type": "display_data"
    },
    {
     "data": {
      "image/png": "[encoded data removed]",
      "text/plain": [
       "<Figure size 432x288 with 1 Axes>"
      ]
     },
     "metadata": {
      "needs_background": "light"
     },
     "output_type": "display_data"
    },
    {
     "data": {
      "image/png": "[encoded data removed]",
      "text/plain": [
       "<Figure size 432x288 with 1 Axes>"
      ]
     },
     "metadata": {
      "needs_background": "light"
     },
     "output_type": "display_data"
    },
    {
     "data": {
      "image/png": "[encoded data removed]",
      "text/plain": [
       "<Figure size 432x288 with 1 Axes>"
      ]
     },
     "metadata": {
      "needs_background": "light"
     },
     "output_type": "display_data"
    },
    {
     "data": {
      "image/png": "[encoded data removed]",
      "text/plain": [
       "<Figure size 432x288 with 1 Axes>"
      ]
     },
     "metadata": {
      "needs_background": "light"
     },
     "output_type": "display_data"
    },
    {
     "data": {
      "image/png": "[encoded data removed]",
      "text/plain": [
       "<Figure size 432x288 with 1 Axes>"
      ]
     },
     "metadata": {
      "needs_background": "light"
     },
     "output_type": "display_data"
    },
    {
     "data": {
      "image/png": "[encoded data removed]",
      "text/plain": [
       "<Figure size 432x288 with 1 Axes>"
      ]
     },
     "metadata": {
      "needs_background": "light"
     },
     "output_type": "display_data"
    },
    {
     "data": {
      "image/png": "[encoded data removed]",
      "text/plain": [
       "<Figure size 432x288 with 1 Axes>"
      ]
     },
     "metadata": {
      "needs_background": "light"
     },
     "output_type": "display_data"
    },
    {
     "data": {
      "image/png": "[encoded data removed]",
      "text/plain": [
       "<Figure size 432x288 with 1 Axes>"
      ]
     },
     "metadata": {
      "needs_background": "light"
     },
     "output_type": "display_data"
    },
    {
     "data": {
      "image/png": "[encoded data removed]",
      "text/plain": [
       "<Figure size 432x288 with 1 Axes>"
      ]
     },
     "metadata": {
      "needs_background": "light"
     },
     "output_type": "display_data"
    },
    {
     "data": {
      "image/png": "[encoded data removed]",
      "text/plain": [
       "<Figure size 432x288 with 1 Axes>"
      ]
     },
     "metadata": {
      "needs_background": "light"
     },
     "output_type": "display_data"
    }
   ],
   "source": [
    "# Visualizing data distribution of each feature to spot outliers\n",
    "for i in NumFeatures:\n",
    "    plt.hist(train2[i])\n",
    "    plt.title(i)\n",
    "    plt.show()"
   ]
  },
  {
   "cell_type": "markdown",
   "metadata": {},
   "source": [
    "Findings:\n",
    "* 1. Monthly_Inhand_Salary, Num_of_Delayed_Payment, Changed_Credit_Limit, Num_Credit_Inquiries, Credit_History_Age, and Amount_invested_monthly features (total: 6 features) have missing values.\n",
    "* 2. Age, Num_Bank_Accounts, Num_Credit_Card, Interest_Rate, Num_of_Loan, Num_of_Delayed_Payment, Num_Credit_Inquiries, Total_EMI_per_month, Amount_invested_monthly, Monthly_Balance features (total: 10 features) has abnormal max value (upper outlier). These outliers should be addressed when we are filling in the missing values using mean +- stddev imputation method\n",
    "* 3. Continuing from the Type_of_Loan feature data cleaning, the Num_of_Loan feature will need to be updated with reference to the updated value in Type_of_Loan. The Type_of_Loan feature itself will be dropped afterwards."
   ]
  },
  {
   "cell_type": "markdown",
   "metadata": {},
   "source": [
    "Important numerical data cleaning note:\n",
    "In the numerical features data cleaning process, there might be cases in which each one needs a different approach. The cases:\n",
    "* 1. Missing value in an independent entry\n",
    "* 2. Missing value in one or more members of an aggregated entries\n",
    "* 3. Different value in one or more members of an aggregated entries\n",
    "* 4. Totally missing values of an aggregated entries\n",
    "<br>\n",
    "<br>\n",
    "For example, customer A has 8 entries in the dataset. The Age value of this customer is either supposed to be the same in all 8 entries or differ with +1 value in the forward entries (assuming he/she might have had a birthday during the period of the data collection). However, when we are looking at the dataset, the Age values of this customer's entries show that they either have missing values or varying values. This kind of case needs to be cleared."
   ]
  },
  {
   "cell_type": "markdown",
   "metadata": {},
   "source": [
    "# --(work still in progress, will be updated soon)--"
   ]
  }
 ],
 "metadata": {
  "colab": {
   "collapsed_sections": [],
   "name": "Credit Score Classification.ipynb",
   "provenance": []
  },
  "kernelspec": {
   "display_name": "Python 3 (ipykernel)",
   "language": "python",
   "name": "python3"
  },
  "language_info": {
   "codemirror_mode": {
    "name": "ipython",
    "version": 3
   },
   "file_extension": ".py",
   "mimetype": "text/x-python",
   "name": "python",
   "nbconvert_exporter": "python",
   "pygments_lexer": "ipython3",
   "version": "3.9.7"
  }
 },
 "nbformat": 4,
 "nbformat_minor": 1
}
