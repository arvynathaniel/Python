{
  "cells": [
    {
      "cell_type": "markdown",
      "metadata": {
        "id": "view-in-github",
        "colab_type": "text"
      },
      "source": [
        "<a href=\"https://colab.research.google.com/github/arvynathaniel/Python/blob/main/Credit_Score_Classification_Data_Cleaning_(Train_Dataset).ipynb\" target=\"_parent\"><img src=\"https://colab.research.google.com/assets/colab-badge.svg\" alt=\"Open In Colab\"/></a>"
      ]
    },
    {
      "cell_type": "markdown",
      "metadata": {
        "id": "uEcAt4x-YwKj"
      },
      "source": [
        "# **Data Cleaning Project: Credit Score Classification Train Dataset**"
      ]
    },
    {
      "cell_type": "markdown",
      "metadata": {
        "id": "gklkpEISZM2o"
      },
      "source": [
        "In this project, we will be doing some data cleaning and feature engineering to the training dataset about a credit score classification. The product of this project is a csv file that can further be used in a prediction project to classify clients' credit score. The testing dataset will be cleaned later after this train dataset has been cleaned. The data cleaning steps for the test dataset will pretty much follow those in this train dataset data cleaning project if the nature of the two datasets are the same (maybe with some tweaks, according to how the test dataset presents itself). The process for these two datasets are separated, so we can focus on one at hand, building the framework first before applying to the other.\n",
        "\n",
        "Our thanks to the provider of the original datasets:\n",
        "https://www.kaggle.com/datasets/parisrohan/credit-score-classification"
      ]
    },
    {
      "cell_type": "markdown",
      "metadata": {
        "id": "TFOGgQuMzcMG"
      },
      "source": [
        "## **I. Project Preparation**"
      ]
    },
    {
      "cell_type": "markdown",
      "metadata": {
        "id": "mk9rKNbHzoxh"
      },
      "source": [
        "### **Ia. Libraries**"
      ]
    },
    {
      "cell_type": "code",
      "execution_count": null,
      "metadata": {
        "id": "4uj3zWL_97j8",
        "outputId": "b744b757-9e5a-44e4-ef8e-b35ac302b68d"
      },
      "outputs": [
        {
          "name": "stdout",
          "output_type": "stream",
          "text": [
            "Requirement already satisfied: termcolor in c:\\users\\arvy\\anaconda3\\lib\\site-packages (1.1.0)\n"
          ]
        }
      ],
      "source": [
        "# importing libraries\n",
        "import pandas as pd\n",
        "\n",
        "import numpy as np\n",
        "\n",
        "import seaborn as sns\n",
        "\n",
        "import matplotlib.pyplot as plt\n",
        "\n",
        "import sys\n",
        "!{sys.executable} -m pip install termcolor\n",
        "\n",
        "from sklearn.preprocessing import MultiLabelBinarizer\n",
        "mlb = MultiLabelBinarizer()\n",
        "\n",
        "from termcolor import colored\n",
        "\n",
        "import warnings\n",
        "warnings.filterwarnings(\"ignore\") \n",
        "warnings.warn(\"this will not show\")"
      ]
    },
    {
      "cell_type": "markdown",
      "metadata": {
        "id": "v5jgaVG1ztgp"
      },
      "source": [
        "### **Ib. Datasets**"
      ]
    },
    {
      "cell_type": "code",
      "execution_count": null,
      "metadata": {
        "id": "Jln1oAj4Z9mt"
      },
      "outputs": [],
      "source": [
        "# original train dataset to serve as reset checkpoint\n",
        "train_ori = pd.read_csv('train.csv')\n",
        "\n",
        "# copy of train dataset\n",
        "train = train_ori.copy()"
      ]
    },
    {
      "cell_type": "markdown",
      "metadata": {
        "id": "ggD0yPZVQg2D"
      },
      "source": [
        "### **Ic. Functions**"
      ]
    },
    {
      "cell_type": "code",
      "execution_count": null,
      "metadata": {
        "id": "8B53eXvPQg2E"
      },
      "outputs": [],
      "source": [
        "# Function to get count of each unique value in a feature and its portion\n",
        "def uniquevalueprob(dataset, feature, excludeditem = None):\n",
        "    # Storing each unique value in a list\n",
        "    global listUV\n",
        "    listUV = list(dataset[feature].unique())\n",
        "    listUV = [i for i in listUV if type(i) is not float]\n",
        "    if excludeditem is not None:\n",
        "        listUV.remove(excludeditem)\n",
        "    else:\n",
        "        listUV = listUV\n",
        "    \n",
        "    #Storing the count of each unique value in a list\n",
        "    global listUVcount\n",
        "    listUVcount = []\n",
        "    for UV in listUV:\n",
        "        UVcount = (dataset[feature] == UV).sum()\n",
        "        listUVcount.append(UVcount)\n",
        "    \n",
        "    # Calculating the sum of all UVcount\n",
        "    totalcount = sum(listUVcount)\n",
        "    \n",
        "    # Calculating the portion of each unique value in the feature\n",
        "    global listUVportion\n",
        "    listUVportion = []\n",
        "    for item in listUVcount:\n",
        "        UVportion = item / totalcount\n",
        "        listUVportion.append(UVportion)\n",
        "    \n",
        "    # Creating the report table\n",
        "    table = pd.DataFrame(list(zip(listUV, listUVcount, listUVportion)))\n",
        "    table.columns = [feature, 'Count', 'Portion']\n",
        "    \n",
        "    # Displaying the report table\n",
        "    print(table.sort_values(['Count', feature], \n",
        "                            ascending = [0,1]).to_string(index = False))\n",
        "\n",
        "def countoutlier(dataset, feature):\n",
        "    # Setting outlier boundaries\n",
        "    Q1 = dataset[feature].quantile(0.25)\n",
        "    Q3 = dataset[feature].quantile(0.75)\n",
        "    IQR = Q3 - Q1\n",
        "    UBoundary = Q3 + 1.5 * IQR\n",
        "    LBoundary = Q1 - 1.5 * IQR\n",
        "    \n",
        "    # Counting outliers\n",
        "    outliercount = 0\n",
        "    for i in dataset[feature]:\n",
        "        if i > UBoundary or i < LBoundary:\n",
        "            outliercount = outliercount + 1\n",
        "        else:\n",
        "            pass\n",
        "    \n",
        "    # Outlier count report\n",
        "    print('Outlier count in', feature, ':', outliercount)\n",
        "    \n",
        "def omitoutlier(dataset, feature):\n",
        "    # Setting outlier boundaries\n",
        "    Q1 = dataset[feature].quantile(0.25)\n",
        "    Q3 = dataset[feature].quantile(0.75)\n",
        "    IQR = Q3 - Q1\n",
        "    UBoundary = Q3 + 1.5 * IQR\n",
        "    LBoundary = Q1 - 1.5 * IQR\n",
        "    \n",
        "    # Creating a new list to omit outliers\n",
        "    newlist = []\n",
        "    for i in dataset[feature]:\n",
        "        if i > UBoundary or i < LBoundary:\n",
        "            newlist.append(np.nan)\n",
        "        else:\n",
        "            newlist.append(i)\n",
        "    \n",
        "    # Dropping the outliers in the feature\n",
        "    dataset[feature] = newlist\n",
        "    \n",
        "    # Outliers ommission report\n",
        "    print(feature, ' data distribution after dropping the outliers : ')\n",
        "    plt.hist(dataset[feature])\n",
        "    plt.title(feature + ' Data Distribution')\n",
        "    plt.xlabel(feature)\n",
        "    plt.ylabel('Count')\n",
        "    \n",
        "def lookupreplacement(dataset, reference, feature):\n",
        "    # to fillna numerical values in a specific feature on a group of entries\n",
        "    # using their mode\n",
        "    \n",
        "    # Creating a dataframe containing the reference feature and feature to change\n",
        "    lookup = dataset[[reference, feature]]\n",
        "\n",
        "    # Returning the feature mode of each reference value\n",
        "    lookup = lookup.groupby(reference).agg(pd.Series.mode)\n",
        "\n",
        "    # Replacing the feature value of each reference with each one's Mode\n",
        "    dataset[feature] = dataset[reference].map(lookup[feature])\n",
        "    \n",
        "    # Eliminating any generated list values by using the first member of the list\n",
        "    newlist = []\n",
        "    for i in range(len(dataset[feature])):\n",
        "        # for float type members\n",
        "        if type(dataset[feature][i]) == np.float64:\n",
        "            newlist.append(dataset[feature][i])\n",
        "        # for empty list members\n",
        "        elif type(dataset[feature][i]) == np.ndarray and len(dataset[feature][i]) == 0:\n",
        "            newlist.append(np.nan)\n",
        "        # for non-empty list members\n",
        "        elif type(dataset[feature][i]) == np.ndarray and len(dataset[feature][i]) != 0:\n",
        "            newlist.append(dataset[feature][i][1])\n",
        "    dataset[feature] = newlist\n",
        "    \n",
        "    # Reconverting the feature into float\n",
        "    dataset[feature].astype(float)\n",
        "    \n",
        "    # Remaining missing value\n",
        "    remaining = dataset[feature].isnull().sum()\n",
        "    print('Remaining', feature, 'missing values :', remaining)\n",
        "    \n",
        "def aggregatedfillna(dataset, reference, feature):\n",
        "    # to randomly fillna numerical values in a specific feature on a group of entries\n",
        "    # using their mean +- standard deviation\n",
        "    \n",
        "    # feature lookup table for remaining misisng values, aggregated by the reference feature\n",
        "    table = dataset[[reference, feature]]\n",
        "\n",
        "    # Locating the entries in the feature with empty value\n",
        "    ref = table.loc[table[feature].isnull(), reference]\n",
        "\n",
        "    # Getting only the unique references\n",
        "    ref = ref.unique()\n",
        "\n",
        "    # Transforming the references with empty feature value into a list\n",
        "    ref = list(ref)\n",
        "\n",
        "    # Creating the empty feature list\n",
        "    fe = []\n",
        "    for i in range(len(ref)):\n",
        "        fe.append(np.nan)\n",
        "\n",
        "    # Creating the feature lookup table\n",
        "    featureLookup = pd.DataFrame(list(zip(ref, fe)))\n",
        "    featureLookup.columns = [reference, feature]\n",
        "\n",
        "    # Mean of the feature\n",
        "    featureMean = dataset[feature].mean()\n",
        "\n",
        "    # Standard deviation of the feature\n",
        "    featureStdDev = dataset[feature].std()\n",
        "\n",
        "    # Generating the feature value for the feature lookup table\n",
        "    featureLookup[feature] = featureLookup[feature].fillna(pd.Series(np.random.randint(int(featureMean - featureStdDev), \n",
        "                                                                                       int(featureMean + featureStdDev),\n",
        "                                                                                       size = featureLookup[feature].isnull().sum())))\n",
        "    \n",
        "    # Filling in the missing values in the feature in reference to the feature lookup table\n",
        "    dataset[feature] = dataset[feature].fillna(dataset[reference].map(featureLookup.set_index(reference)[feature]))\n",
        "\n",
        "    # Checking if there are still missing values in the feature\n",
        "    remaining = dataset[feature].isnull().sum()\n",
        "    print('Remaining', feature, 'missing values :', remaining)"
      ]
    },
    {
      "cell_type": "markdown",
      "metadata": {
        "id": "PksdQmVtzwLy"
      },
      "source": [
        "## **II. Light Data Exploration**"
      ]
    },
    {
      "cell_type": "markdown",
      "metadata": {
        "id": "QzNMLIUj0xxw"
      },
      "source": [
        "### **IIa. General overview**"
      ]
    },
    {
      "cell_type": "markdown",
      "metadata": {
        "id": "Q7vKzg_5Qg2G"
      },
      "source": [
        "There are some information regarding what each feature of the dataset represents given by the provider of the datasets. These information are very useful for us to better understand the datasets.\n",
        "\n",
        "* 1. ID: Represents a unique identification of an entry\n",
        "* 2. Customer_ID: Represents a unique identification of a person\n",
        "* 3. Month: Represents the month of the year\n",
        "* 4. Name: Represents the name of a person\n",
        "* 5. Age: Represents the age of the person\n",
        "* 6. SSN: Represents the social security number of a person\n",
        "* 7. Occupation: Represents the occupation of the person\n",
        "* 8. Annual_Income: Represents the annual income of the person\n",
        "* 9. Monthly_Inhand_Salary:Represents the monthly base salary of a person\n",
        "* 10. Num_Bank_Accounts: Represents the number of bank accounts a person holds\n",
        "* 11. Num_Credit_Card: Represents the number of other credit cards held by a person\n",
        "* 12. Interest_Rate: Represents the interest rate on credit card\n",
        "* 13. Num_of_Loan: Represents the number of loans taken from the bank\n",
        "* 14. Type_of_Loan: Represents the types of loan taken by a person\n",
        "* 15. Delay_from_due_date: Represents the average number of days delayed from the payment date\n",
        "* 16. Num_of_Delayed_Payment: Represents the average number of payments delayed by a person\n",
        "* 17. Changed_Credit_Limit: Represents the percentage change in credit card limit\n",
        "* 18. Num_Credit_Inquiries: Represents the number of credit card inquiries\n",
        "* 19. Credit_Mix: Represents the classification of the mix of credits\n",
        "* 20. Outstanding_Debt: Represents the remaining debt to be paid (in USD)\n",
        "* 21. Credit_Utilization_Ratio: Represents the utilization ratio of credit card\n",
        "* 22. Credit_History_Age: Represents the age of credit history of the person\n",
        "* 23. Payment_of_Min_Amount: Represents whether only the minimum amount was paid by the person\n",
        "* 24. Total_EMI_per_month: Represents the monthly EMI payments (in USD)\n",
        "* 25. Amount_invested_monthly: Represents the monthly amount invested by the customer (in USD)\n",
        "* 26. Payment_Behaviour: Represents the payment behavior of the customer (in USD)\n",
        "* 27. Monthly_Balance: Represents the monthly balance amount of the customer (in USD)"
      ]
    },
    {
      "cell_type": "code",
      "execution_count": null,
      "metadata": {
        "colab": {
          "base_uri": "https://localhost:8080/",
          "height": 617
        },
        "id": "Dnmt2dHJaHYa",
        "outputId": "c80eec91-9dec-4fd2-f7f0-2309848474a7",
        "scrolled": true
      },
      "outputs": [
        {
          "data": {
            "text/html": [
              "<div>\n",
              "<style scoped>\n",
              "    .dataframe tbody tr th:only-of-type {\n",
              "        vertical-align: middle;\n",
              "    }\n",
              "\n",
              "    .dataframe tbody tr th {\n",
              "        vertical-align: top;\n",
              "    }\n",
              "\n",
              "    .dataframe thead th {\n",
              "        text-align: right;\n",
              "    }\n",
              "</style>\n",
              "<table border=\"1\" class=\"dataframe\">\n",
              "  <thead>\n",
              "    <tr style=\"text-align: right;\">\n",
              "      <th></th>\n",
              "      <th>ID</th>\n",
              "      <th>Customer_ID</th>\n",
              "      <th>Month</th>\n",
              "      <th>Name</th>\n",
              "      <th>Age</th>\n",
              "      <th>SSN</th>\n",
              "      <th>Occupation</th>\n",
              "      <th>Annual_Income</th>\n",
              "      <th>Monthly_Inhand_Salary</th>\n",
              "      <th>Num_Bank_Accounts</th>\n",
              "      <th>Num_Credit_Card</th>\n",
              "      <th>Interest_Rate</th>\n",
              "      <th>Num_of_Loan</th>\n",
              "      <th>Type_of_Loan</th>\n",
              "      <th>Delay_from_due_date</th>\n",
              "      <th>Num_of_Delayed_Payment</th>\n",
              "      <th>Changed_Credit_Limit</th>\n",
              "      <th>Num_Credit_Inquiries</th>\n",
              "      <th>Credit_Mix</th>\n",
              "      <th>Outstanding_Debt</th>\n",
              "      <th>Credit_Utilization_Ratio</th>\n",
              "      <th>Credit_History_Age</th>\n",
              "      <th>Payment_of_Min_Amount</th>\n",
              "      <th>Total_EMI_per_month</th>\n",
              "      <th>Amount_invested_monthly</th>\n",
              "      <th>Payment_Behaviour</th>\n",
              "      <th>Monthly_Balance</th>\n",
              "      <th>Credit_Score</th>\n",
              "    </tr>\n",
              "  </thead>\n",
              "  <tbody>\n",
              "    <tr>\n",
              "      <th>0</th>\n",
              "      <td>0x1602</td>\n",
              "      <td>CUS_0xd40</td>\n",
              "      <td>January</td>\n",
              "      <td>Aaron Maashoh</td>\n",
              "      <td>23</td>\n",
              "      <td>821-00-0265</td>\n",
              "      <td>Scientist</td>\n",
              "      <td>19114.12</td>\n",
              "      <td>1824.843333</td>\n",
              "      <td>3</td>\n",
              "      <td>4</td>\n",
              "      <td>3</td>\n",
              "      <td>4</td>\n",
              "      <td>Auto Loan, Credit-Builder Loan, Personal Loan,...</td>\n",
              "      <td>3</td>\n",
              "      <td>7</td>\n",
              "      <td>11.27</td>\n",
              "      <td>4.0</td>\n",
              "      <td>_</td>\n",
              "      <td>809.98</td>\n",
              "      <td>26.822620</td>\n",
              "      <td>22 Years and 1 Months</td>\n",
              "      <td>No</td>\n",
              "      <td>49.574949</td>\n",
              "      <td>80.41529543900253</td>\n",
              "      <td>High_spent_Small_value_payments</td>\n",
              "      <td>312.49408867943663</td>\n",
              "      <td>Good</td>\n",
              "    </tr>\n",
              "    <tr>\n",
              "      <th>1</th>\n",
              "      <td>0x1603</td>\n",
              "      <td>CUS_0xd40</td>\n",
              "      <td>February</td>\n",
              "      <td>Aaron Maashoh</td>\n",
              "      <td>23</td>\n",
              "      <td>821-00-0265</td>\n",
              "      <td>Scientist</td>\n",
              "      <td>19114.12</td>\n",
              "      <td>NaN</td>\n",
              "      <td>3</td>\n",
              "      <td>4</td>\n",
              "      <td>3</td>\n",
              "      <td>4</td>\n",
              "      <td>Auto Loan, Credit-Builder Loan, Personal Loan,...</td>\n",
              "      <td>-1</td>\n",
              "      <td>NaN</td>\n",
              "      <td>11.27</td>\n",
              "      <td>4.0</td>\n",
              "      <td>Good</td>\n",
              "      <td>809.98</td>\n",
              "      <td>31.944960</td>\n",
              "      <td>NaN</td>\n",
              "      <td>No</td>\n",
              "      <td>49.574949</td>\n",
              "      <td>118.28022162236736</td>\n",
              "      <td>Low_spent_Large_value_payments</td>\n",
              "      <td>284.62916249607184</td>\n",
              "      <td>Good</td>\n",
              "    </tr>\n",
              "    <tr>\n",
              "      <th>2</th>\n",
              "      <td>0x1604</td>\n",
              "      <td>CUS_0xd40</td>\n",
              "      <td>March</td>\n",
              "      <td>Aaron Maashoh</td>\n",
              "      <td>-500</td>\n",
              "      <td>821-00-0265</td>\n",
              "      <td>Scientist</td>\n",
              "      <td>19114.12</td>\n",
              "      <td>NaN</td>\n",
              "      <td>3</td>\n",
              "      <td>4</td>\n",
              "      <td>3</td>\n",
              "      <td>4</td>\n",
              "      <td>Auto Loan, Credit-Builder Loan, Personal Loan,...</td>\n",
              "      <td>3</td>\n",
              "      <td>7</td>\n",
              "      <td>_</td>\n",
              "      <td>4.0</td>\n",
              "      <td>Good</td>\n",
              "      <td>809.98</td>\n",
              "      <td>28.609352</td>\n",
              "      <td>22 Years and 3 Months</td>\n",
              "      <td>No</td>\n",
              "      <td>49.574949</td>\n",
              "      <td>81.699521264648</td>\n",
              "      <td>Low_spent_Medium_value_payments</td>\n",
              "      <td>331.2098628537912</td>\n",
              "      <td>Good</td>\n",
              "    </tr>\n",
              "    <tr>\n",
              "      <th>3</th>\n",
              "      <td>0x1605</td>\n",
              "      <td>CUS_0xd40</td>\n",
              "      <td>April</td>\n",
              "      <td>Aaron Maashoh</td>\n",
              "      <td>23</td>\n",
              "      <td>821-00-0265</td>\n",
              "      <td>Scientist</td>\n",
              "      <td>19114.12</td>\n",
              "      <td>NaN</td>\n",
              "      <td>3</td>\n",
              "      <td>4</td>\n",
              "      <td>3</td>\n",
              "      <td>4</td>\n",
              "      <td>Auto Loan, Credit-Builder Loan, Personal Loan,...</td>\n",
              "      <td>5</td>\n",
              "      <td>4</td>\n",
              "      <td>6.27</td>\n",
              "      <td>4.0</td>\n",
              "      <td>Good</td>\n",
              "      <td>809.98</td>\n",
              "      <td>31.377862</td>\n",
              "      <td>22 Years and 4 Months</td>\n",
              "      <td>No</td>\n",
              "      <td>49.574949</td>\n",
              "      <td>199.4580743910713</td>\n",
              "      <td>Low_spent_Small_value_payments</td>\n",
              "      <td>223.45130972736786</td>\n",
              "      <td>Good</td>\n",
              "    </tr>\n",
              "    <tr>\n",
              "      <th>4</th>\n",
              "      <td>0x1606</td>\n",
              "      <td>CUS_0xd40</td>\n",
              "      <td>May</td>\n",
              "      <td>Aaron Maashoh</td>\n",
              "      <td>23</td>\n",
              "      <td>821-00-0265</td>\n",
              "      <td>Scientist</td>\n",
              "      <td>19114.12</td>\n",
              "      <td>1824.843333</td>\n",
              "      <td>3</td>\n",
              "      <td>4</td>\n",
              "      <td>3</td>\n",
              "      <td>4</td>\n",
              "      <td>Auto Loan, Credit-Builder Loan, Personal Loan,...</td>\n",
              "      <td>6</td>\n",
              "      <td>NaN</td>\n",
              "      <td>11.27</td>\n",
              "      <td>4.0</td>\n",
              "      <td>Good</td>\n",
              "      <td>809.98</td>\n",
              "      <td>24.797347</td>\n",
              "      <td>22 Years and 5 Months</td>\n",
              "      <td>No</td>\n",
              "      <td>49.574949</td>\n",
              "      <td>41.420153086217326</td>\n",
              "      <td>High_spent_Medium_value_payments</td>\n",
              "      <td>341.48923103222177</td>\n",
              "      <td>Good</td>\n",
              "    </tr>\n",
              "  </tbody>\n",
              "</table>\n",
              "</div>"
            ],
            "text/plain": [
              "       ID Customer_ID     Month           Name   Age          SSN Occupation  \\\n",
              "0  0x1602   CUS_0xd40   January  Aaron Maashoh    23  821-00-0265  Scientist   \n",
              "1  0x1603   CUS_0xd40  February  Aaron Maashoh    23  821-00-0265  Scientist   \n",
              "2  0x1604   CUS_0xd40     March  Aaron Maashoh  -500  821-00-0265  Scientist   \n",
              "3  0x1605   CUS_0xd40     April  Aaron Maashoh    23  821-00-0265  Scientist   \n",
              "4  0x1606   CUS_0xd40       May  Aaron Maashoh    23  821-00-0265  Scientist   \n",
              "\n",
              "  Annual_Income  Monthly_Inhand_Salary  Num_Bank_Accounts  Num_Credit_Card  \\\n",
              "0      19114.12            1824.843333                  3                4   \n",
              "1      19114.12                    NaN                  3                4   \n",
              "2      19114.12                    NaN                  3                4   \n",
              "3      19114.12                    NaN                  3                4   \n",
              "4      19114.12            1824.843333                  3                4   \n",
              "\n",
              "   Interest_Rate Num_of_Loan  \\\n",
              "0              3           4   \n",
              "1              3           4   \n",
              "2              3           4   \n",
              "3              3           4   \n",
              "4              3           4   \n",
              "\n",
              "                                        Type_of_Loan  Delay_from_due_date  \\\n",
              "0  Auto Loan, Credit-Builder Loan, Personal Loan,...                    3   \n",
              "1  Auto Loan, Credit-Builder Loan, Personal Loan,...                   -1   \n",
              "2  Auto Loan, Credit-Builder Loan, Personal Loan,...                    3   \n",
              "3  Auto Loan, Credit-Builder Loan, Personal Loan,...                    5   \n",
              "4  Auto Loan, Credit-Builder Loan, Personal Loan,...                    6   \n",
              "\n",
              "  Num_of_Delayed_Payment Changed_Credit_Limit  Num_Credit_Inquiries  \\\n",
              "0                      7                11.27                   4.0   \n",
              "1                    NaN                11.27                   4.0   \n",
              "2                      7                    _                   4.0   \n",
              "3                      4                 6.27                   4.0   \n",
              "4                    NaN                11.27                   4.0   \n",
              "\n",
              "  Credit_Mix Outstanding_Debt  Credit_Utilization_Ratio  \\\n",
              "0          _           809.98                 26.822620   \n",
              "1       Good           809.98                 31.944960   \n",
              "2       Good           809.98                 28.609352   \n",
              "3       Good           809.98                 31.377862   \n",
              "4       Good           809.98                 24.797347   \n",
              "\n",
              "      Credit_History_Age Payment_of_Min_Amount  Total_EMI_per_month  \\\n",
              "0  22 Years and 1 Months                    No            49.574949   \n",
              "1                    NaN                    No            49.574949   \n",
              "2  22 Years and 3 Months                    No            49.574949   \n",
              "3  22 Years and 4 Months                    No            49.574949   \n",
              "4  22 Years and 5 Months                    No            49.574949   \n",
              "\n",
              "  Amount_invested_monthly                 Payment_Behaviour  \\\n",
              "0       80.41529543900253   High_spent_Small_value_payments   \n",
              "1      118.28022162236736    Low_spent_Large_value_payments   \n",
              "2         81.699521264648   Low_spent_Medium_value_payments   \n",
              "3       199.4580743910713    Low_spent_Small_value_payments   \n",
              "4      41.420153086217326  High_spent_Medium_value_payments   \n",
              "\n",
              "      Monthly_Balance Credit_Score  \n",
              "0  312.49408867943663         Good  \n",
              "1  284.62916249607184         Good  \n",
              "2   331.2098628537912         Good  \n",
              "3  223.45130972736786         Good  \n",
              "4  341.48923103222177         Good  "
            ]
          },
          "execution_count": 5,
          "metadata": {},
          "output_type": "execute_result"
        }
      ],
      "source": [
        "# first five rows of the dataset\n",
        "pd.set_option('display.max_columns', None)\n",
        "train.head()"
      ]
    },
    {
      "cell_type": "code",
      "execution_count": null,
      "metadata": {
        "colab": {
          "base_uri": "https://localhost:8080/"
        },
        "id": "v_cc66bACH32",
        "outputId": "f66e0994-0253-48b7-c5e8-70b033ce157b"
      },
      "outputs": [
        {
          "name": "stdout",
          "output_type": "stream",
          "text": [
            "train dataset entries x features : (100000, 28)\n"
          ]
        }
      ],
      "source": [
        "# dataset shape\n",
        "print('train dataset entries x features :', train.shape)"
      ]
    },
    {
      "cell_type": "code",
      "execution_count": null,
      "metadata": {
        "colab": {
          "base_uri": "https://localhost:8080/"
        },
        "id": "nNe8elIIaeCT",
        "outputId": "5a9ab096-1446-4f5e-c256-ce787211133a"
      },
      "outputs": [
        {
          "name": "stdout",
          "output_type": "stream",
          "text": [
            "<class 'pandas.core.frame.DataFrame'>\n",
            "RangeIndex: 100000 entries, 0 to 99999\n",
            "Data columns (total 28 columns):\n",
            " #   Column                    Non-Null Count   Dtype  \n",
            "---  ------                    --------------   -----  \n",
            " 0   ID                        100000 non-null  object \n",
            " 1   Customer_ID               100000 non-null  object \n",
            " 2   Month                     100000 non-null  object \n",
            " 3   Name                      90015 non-null   object \n",
            " 4   Age                       100000 non-null  object \n",
            " 5   SSN                       100000 non-null  object \n",
            " 6   Occupation                100000 non-null  object \n",
            " 7   Annual_Income             100000 non-null  object \n",
            " 8   Monthly_Inhand_Salary     84998 non-null   float64\n",
            " 9   Num_Bank_Accounts         100000 non-null  int64  \n",
            " 10  Num_Credit_Card           100000 non-null  int64  \n",
            " 11  Interest_Rate             100000 non-null  int64  \n",
            " 12  Num_of_Loan               100000 non-null  object \n",
            " 13  Type_of_Loan              88592 non-null   object \n",
            " 14  Delay_from_due_date       100000 non-null  int64  \n",
            " 15  Num_of_Delayed_Payment    92998 non-null   object \n",
            " 16  Changed_Credit_Limit      100000 non-null  object \n",
            " 17  Num_Credit_Inquiries      98035 non-null   float64\n",
            " 18  Credit_Mix                100000 non-null  object \n",
            " 19  Outstanding_Debt          100000 non-null  object \n",
            " 20  Credit_Utilization_Ratio  100000 non-null  float64\n",
            " 21  Credit_History_Age        90970 non-null   object \n",
            " 22  Payment_of_Min_Amount     100000 non-null  object \n",
            " 23  Total_EMI_per_month       100000 non-null  float64\n",
            " 24  Amount_invested_monthly   95521 non-null   object \n",
            " 25  Payment_Behaviour         100000 non-null  object \n",
            " 26  Monthly_Balance           98800 non-null   object \n",
            " 27  Credit_Score              100000 non-null  object \n",
            "dtypes: float64(4), int64(4), object(20)\n",
            "memory usage: 21.4+ MB\n"
          ]
        }
      ],
      "source": [
        "# data type info\n",
        "train.info()"
      ]
    },
    {
      "cell_type": "code",
      "execution_count": null,
      "metadata": {
        "colab": {
          "base_uri": "https://localhost:8080/"
        },
        "id": "2TRJqr7m73n3",
        "outputId": "18dc89da-3c71-415a-a535-4eb5b06edbc5"
      },
      "outputs": [
        {
          "data": {
            "text/plain": [
              "['ID',\n",
              " 'Customer_ID',\n",
              " 'Month',\n",
              " 'Name',\n",
              " 'Age',\n",
              " 'SSN',\n",
              " 'Occupation',\n",
              " 'Annual_Income',\n",
              " 'Num_of_Loan',\n",
              " 'Type_of_Loan',\n",
              " 'Num_of_Delayed_Payment',\n",
              " 'Changed_Credit_Limit',\n",
              " 'Credit_Mix',\n",
              " 'Outstanding_Debt',\n",
              " 'Credit_History_Age',\n",
              " 'Payment_of_Min_Amount',\n",
              " 'Amount_invested_monthly',\n",
              " 'Payment_Behaviour',\n",
              " 'Monthly_Balance',\n",
              " 'Credit_Score']"
            ]
          },
          "execution_count": 8,
          "metadata": {},
          "output_type": "execute_result"
        }
      ],
      "source": [
        "# categorical features in train dataset\n",
        "trainCat = []\n",
        "for i in train.columns:\n",
        "    if train[i].dtype == 'object':\n",
        "        trainCat.append(i)\n",
        "trainCat"
      ]
    },
    {
      "cell_type": "code",
      "execution_count": null,
      "metadata": {
        "colab": {
          "base_uri": "https://localhost:8080/"
        },
        "id": "_W-x_g6f_ESC",
        "outputId": "eb12af80-4b1e-4fbe-b5ef-aa6d25d6c76d"
      },
      "outputs": [
        {
          "data": {
            "text/plain": [
              "['Monthly_Inhand_Salary',\n",
              " 'Num_Bank_Accounts',\n",
              " 'Num_Credit_Card',\n",
              " 'Interest_Rate',\n",
              " 'Delay_from_due_date',\n",
              " 'Num_Credit_Inquiries',\n",
              " 'Credit_Utilization_Ratio',\n",
              " 'Total_EMI_per_month']"
            ]
          },
          "execution_count": 9,
          "metadata": {},
          "output_type": "execute_result"
        }
      ],
      "source": [
        "# numerical features in train dataset\n",
        "trainNum = []\n",
        "for i in train.columns:\n",
        "    if train[i].dtype == 'float64':\n",
        "        trainNum.append(i)\n",
        "    if train[i].dtype == 'int64':\n",
        "        trainNum.append(i)\n",
        "trainNum"
      ]
    },
    {
      "cell_type": "markdown",
      "metadata": {
        "id": "K5ajA2cx2EQf"
      },
      "source": [
        "### **IIb. Missing values**"
      ]
    },
    {
      "cell_type": "code",
      "execution_count": null,
      "metadata": {
        "colab": {
          "base_uri": "https://localhost:8080/"
        },
        "id": "ECoWV6Tr2Ghl",
        "outputId": "07c2a823-ca96-4ebe-f89d-c1ec18d7fd67"
      },
      "outputs": [
        {
          "name": "stdout",
          "output_type": "stream",
          "text": [
            "Missing values on each feature (train) : \n",
            "                 Feature  Count  Percentage (%)\n",
            "                      ID      0            0.00\n",
            "             Customer_ID      0            0.00\n",
            "                   Month      0            0.00\n",
            "                    Name   9985            9.98\n",
            "                     Age      0            0.00\n",
            "                     SSN      0            0.00\n",
            "              Occupation      0            0.00\n",
            "           Annual_Income      0            0.00\n",
            "   Monthly_Inhand_Salary  15002           15.00\n",
            "       Num_Bank_Accounts      0            0.00\n",
            "         Num_Credit_Card      0            0.00\n",
            "           Interest_Rate      0            0.00\n",
            "             Num_of_Loan      0            0.00\n",
            "            Type_of_Loan  11408           11.41\n",
            "     Delay_from_due_date      0            0.00\n",
            "  Num_of_Delayed_Payment   7002            7.00\n",
            "    Changed_Credit_Limit      0            0.00\n",
            "    Num_Credit_Inquiries   1965            1.97\n",
            "              Credit_Mix      0            0.00\n",
            "        Outstanding_Debt      0            0.00\n",
            "Credit_Utilization_Ratio      0            0.00\n",
            "      Credit_History_Age   9030            9.03\n",
            "   Payment_of_Min_Amount      0            0.00\n",
            "     Total_EMI_per_month      0            0.00\n",
            " Amount_invested_monthly   4479            4.48\n",
            "       Payment_Behaviour      0            0.00\n",
            "         Monthly_Balance   1200            1.20\n",
            "            Credit_Score      0            0.00\n"
          ]
        }
      ],
      "source": [
        "# Calculating the missing values for each feature\n",
        "MissingValues = train.isnull().sum()\n",
        "\n",
        "# Turning the previous output into a dataframe format\n",
        "MissingValues = pd.DataFrame(MissingValues)\n",
        "MissingValues = MissingValues.reset_index()\n",
        "MissingValues.columns = ['Feature', 'Count']\n",
        "\n",
        "# Calculating each feature's missing values percentage\n",
        "ListMissingVPerc = []\n",
        "for i in MissingValues['Count']:\n",
        "    missingperc = i/len(train) * 100 # Total entries = 100000 (from previous step)\n",
        "    ListMissingVPerc.append(missingperc)\n",
        "ListMissingVPerc = [round(num, 2) for num in ListMissingVPerc]\n",
        "\n",
        "# Adding the missing values percentage column to the report\n",
        "MissingValues['Percentage (%)'] = ListMissingVPerc\n",
        "\n",
        "# Printing the missing values report\n",
        "print('Missing values on each feature (train) : ')\n",
        "print(MissingValues.to_string(index = False))"
      ]
    },
    {
      "cell_type": "markdown",
      "metadata": {
        "id": "fLhzqT-N2eOp"
      },
      "source": [
        "### **IIc. Duplicated entries**"
      ]
    },
    {
      "cell_type": "code",
      "execution_count": null,
      "metadata": {
        "colab": {
          "base_uri": "https://localhost:8080/"
        },
        "id": "6-Pja33P2g_l",
        "outputId": "4a2667bf-0d63-4bc1-b1c5-48a0b1b81639"
      },
      "outputs": [
        {
          "name": "stdout",
          "output_type": "stream",
          "text": [
            "Duplicated data (train) : 0\n"
          ]
        }
      ],
      "source": [
        "# duplicated entires\n",
        "DuplicatedValues = train.duplicated().sum()\n",
        "print('Duplicated data (train) : ' + str(DuplicatedValues))"
      ]
    },
    {
      "cell_type": "markdown",
      "metadata": {
        "id": "3qguSH8d2lKJ"
      },
      "source": [
        "### **IId. Unique values**"
      ]
    },
    {
      "cell_type": "code",
      "execution_count": null,
      "metadata": {
        "id": "l2ieAsvnQg2J",
        "outputId": "7aa36964-f5e9-45ab-d15e-1571aaf4c4ab"
      },
      "outputs": [
        {
          "name": "stdout",
          "output_type": "stream",
          "text": [
            "Unique values in each feature (train):\n",
            "                 Feature  Unique Values\n",
            "                      ID         100000\n",
            "             Customer_ID          12500\n",
            "                   Month              8\n",
            "                    Name          10140\n",
            "                     Age           1788\n",
            "                     SSN          12501\n",
            "              Occupation             16\n",
            "           Annual_Income          18940\n",
            "   Monthly_Inhand_Salary          13236\n",
            "       Num_Bank_Accounts            943\n",
            "         Num_Credit_Card           1179\n",
            "           Interest_Rate           1750\n",
            "             Num_of_Loan            434\n",
            "            Type_of_Loan           6261\n",
            "     Delay_from_due_date             73\n",
            "  Num_of_Delayed_Payment            750\n",
            "    Changed_Credit_Limit           4384\n",
            "    Num_Credit_Inquiries           1224\n",
            "              Credit_Mix              4\n",
            "        Outstanding_Debt          13178\n",
            "Credit_Utilization_Ratio         100000\n",
            "      Credit_History_Age            405\n",
            "   Payment_of_Min_Amount              3\n",
            "     Total_EMI_per_month          14950\n",
            " Amount_invested_monthly          91050\n",
            "       Payment_Behaviour              7\n",
            "         Monthly_Balance          98793\n",
            "            Credit_Score              3\n"
          ]
        }
      ],
      "source": [
        "# Getting the feature names in a list\n",
        "trainCols = list(train.columns.values)\n",
        "\n",
        "# Calculating the number of each feature's unique values\n",
        "ListUniqueC = []\n",
        "for i in train.columns:\n",
        "    UCount = len(train[i].unique())\n",
        "    ListUniqueC.append(UCount)\n",
        "\n",
        "# Creating the unique values table\n",
        "UniqueCTable = pd.DataFrame(list(zip(trainCols, ListUniqueC)))\n",
        "UniqueCTable.columns = ['Feature', 'Unique Values']\n",
        "\n",
        "# Printing the report\n",
        "print('Unique values in each feature (train):')\n",
        "print(UniqueCTable.to_string(index = False))"
      ]
    },
    {
      "cell_type": "markdown",
      "metadata": {
        "id": "xG6bDkt_CRj0"
      },
      "source": [
        "### **IIe. Findings**"
      ]
    },
    {
      "cell_type": "markdown",
      "metadata": {
        "id": "QzcYb_yU-JLp"
      },
      "source": [
        "Some findings from the observations above:\n",
        "<br>\n",
        "<br>\n",
        "1.   The shape of the train dataset is (100000 x 28)\n",
        "<br>\n",
        "<br>\n",
        "2.   There are some features which likely have wrong type of data type:\n",
        "*   'Annual_Income' to float64\n",
        "*   'Num_of_Loan' to int64\n",
        "*   'Num_of_Delayed_Payment' to int64\n",
        "*   'Changed_Credit_Limit' to float64\n",
        "*   'Outstanding_Debt' to float64\n",
        "*   'Credit_History_Age' to float64\n",
        "*   'Amount_invested_monthly' to float64\n",
        "*   'Monthly_Balance' to float 64\n",
        "<br>\n",
        "The data type of these features are currently in categorical type, while the data shown on the first five rows are numerical. We need to change this later.\n",
        "<br>\n",
        "<br>\n",
        "3.  Missing values findings on each feature:\n",
        "\n",
        "\n",
        "*   'Name'\n",
        "*   'Monthly_Inhand_Salary'\n",
        "*   'Type_of_Loan'\n",
        "*   'Num_of_Delayed_Payment'\n",
        "*   'Num_Credit_Inquiries'\n",
        "*   'Credit_History_Age'\n",
        "*   'Amount_invested_monthly'\n",
        "*   'Monthly_Balance'\n",
        "<br>\n",
        "<br>\n",
        "4. There are no duplicated entries.\n"
      ]
    },
    {
      "cell_type": "markdown",
      "metadata": {
        "id": "XeRFpKSg9tnc"
      },
      "source": [
        "## **III. Feature Engineering: Cleaning Data Type**"
      ]
    },
    {
      "cell_type": "markdown",
      "metadata": {
        "id": "6XqkUf9P969D"
      },
      "source": [
        "### **IIIa. Categorical feature that are suppossed to be numerical**"
      ]
    },
    {
      "cell_type": "markdown",
      "metadata": {
        "id": "Hvz6TWIQQg2J"
      },
      "source": [
        "Let's first take a look at the categorical features that supposedly have numerical type of data instead."
      ]
    },
    {
      "cell_type": "code",
      "execution_count": null,
      "metadata": {
        "id": "lYyNQVxbPWxx",
        "scrolled": true,
        "outputId": "1b90515e-20e4-4f6f-8838-aa833085d20b"
      },
      "outputs": [
        {
          "name": "stdout",
          "output_type": "stream",
          "text": [
            "Feature: \n",
            " \u001b[1mAge\u001b[0m \n",
            " ['23' '-500' '28_' ... '4808_' '2263' '1342'] \n",
            " -------------------------------------------------------------------------------- \n",
            "\n",
            "Feature: \n",
            " \u001b[1mAnnual_Income\u001b[0m \n",
            " ['19114.12' '34847.84' '34847.84_' ... '20002.88' '39628.99' '39628.99_'] \n",
            " -------------------------------------------------------------------------------- \n",
            "\n",
            "Feature: \n",
            " \u001b[1mNum_of_Loan\u001b[0m \n",
            " ['4' '1' '3' '967' '-100' '0' '0_' '2' '3_' '2_' '7' '5' '5_' '6' '8' '8_'\n",
            " '9' '9_' '4_' '7_' '1_' '1464' '6_' '622' '352' '472' '1017' '945' '146'\n",
            " '563' '341' '444' '720' '1485' '49' '737' '1106' '466' '728' '313' '843'\n",
            " '597_' '617' '119' '663' '640' '92_' '1019' '501' '1302' '39' '716' '848'\n",
            " '931' '1214' '186' '424' '1001' '1110' '1152' '457' '1433' '1187' '52'\n",
            " '1480' '1047' '1035' '1347_' '33' '193' '699' '329' '1451' '484' '132'\n",
            " '649' '995' '545' '684' '1135' '1094' '1204' '654' '58' '348' '614'\n",
            " '1363' '323' '1406' '1348' '430' '153' '1461' '905' '1312' '1424' '1154'\n",
            " '95' '1353' '1228' '819' '1006' '795' '359' '1209' '590' '696' '1185_'\n",
            " '1465' '911' '1181' '70' '816' '1369' '143' '1416' '455' '55' '1096'\n",
            " '1474' '420' '1131' '904' '89' '1259' '527' '1241' '449' '983' '418'\n",
            " '319' '23' '238' '638' '138' '235_' '280' '1070' '1484' '274' '494'\n",
            " '1459_' '404' '1354' '1495' '1391' '601' '1313' '1319' '898' '231' '752'\n",
            " '174' '961' '1046' '834' '284' '438' '288' '1463' '1151' '719' '198'\n",
            " '1015' '855' '841' '392' '1444' '103' '1320_' '745' '172' '252' '630_'\n",
            " '241' '31' '405' '1217' '1030' '1257' '137' '157' '164' '1088' '1236'\n",
            " '777' '1048' '613' '330' '1439' '321' '661' '952' '939' '562' '1202'\n",
            " '302' '943' '394' '955' '1318' '936' '781' '100' '1329' '1365' '860'\n",
            " '217' '191' '32' '282' '351' '1387' '757' '416' '833' '359_' '292'\n",
            " '1225_' '1227' '639' '859' '243' '267' '510' '332' '996' '597' '311'\n",
            " '492' '820' '336' '123' '540' '131_' '1311_' '1441' '895' '891' '50'\n",
            " '940' '935' '596' '29' '1182' '1129_' '1014' '251' '365' '291' '1447'\n",
            " '742' '1085' '148' '462' '832' '881' '1225' '1412' '785_' '1127' '910'\n",
            " '538' '999' '733' '101' '237' '87' '659' '633' '387' '447' '629' '831'\n",
            " '1384' '773' '621' '1419' '289' '143_' '285' '1393' '1131_' '27_' '1359'\n",
            " '1482' '1189' '1294' '201' '579' '814' '141' '1320' '581' '1171_' '295'\n",
            " '290' '433' '679' '1040' '1054' '1430' '1023' '1077' '1457' '1150' '701'\n",
            " '1382' '889' '437' '372' '1222' '126' '1159' '868' '19' '1297' '227_'\n",
            " '190' '809' '1216' '1074' '571' '520' '1274' '1340' '991' '316' '697'\n",
            " '926' '873' '1002' '378_' '65' '875' '867' '548' '652' '1372' '606'\n",
            " '1036' '1300' '17' '1178' '802' '1219_' '1271' '1137' '1496' '439' '196'\n",
            " '636' '192' '228' '1053' '229' '753' '1296' '1371' '254' '863' '464'\n",
            " '515' '838' '1160' '1289' '1298' '799' '182' '574' '527_' '242' '415'\n",
            " '869' '958' '54' '1265' '656' '275' '778' '208' '147' '350' '507' '463'\n",
            " '497' '1129' '927' '653' '662' '529' '635' '1027_' '897' '1039' '227'\n",
            " '1345' '924' '696_' '1279' '546' '1112' '1210' '526' '300' '1103' '504'\n",
            " '136' '1400' '78' '686' '1091' '344' '215' '84' '628' '1470' '968' '1478'\n",
            " '83' '1196' '1307' '1132_' '1008' '917' '657' '56' '18' '41' '801' '978'\n",
            " '216' '349' '966'] \n",
            " -------------------------------------------------------------------------------- \n",
            "\n",
            "Feature: \n",
            " \u001b[1mNum_of_Delayed_Payment\u001b[0m \n",
            " ['7' nan '4' '8_' '6' '1' '-1' '3_' '0' '8' '5' '3' '9' '12' '15' '17'\n",
            " '10' '2' '2_' '11' '14' '20' '22' '13' '13_' '14_' '16' '12_' '18' '19'\n",
            " '23' '24' '21' '3318' '3083' '22_' '1338' '4_' '26' '11_' '3104' '21_'\n",
            " '25' '10_' '183_' '9_' '1106' '834' '19_' '24_' '17_' '23_' '2672' '20_'\n",
            " '2008' '-3' '538' '6_' '1_' '16_' '27' '-2' '3478' '2420' '15_' '707'\n",
            " '708' '26_' '18_' '3815' '28' '5_' '1867' '2250' '1463' '25_' '7_' '4126'\n",
            " '2882' '1941' '2655' '2628' '132' '3069' '306' '0_' '3539' '3684' '1823'\n",
            " '4128' '1946' '827' '2297' '2566' '904' '182' '929' '3568' '2503' '1552'\n",
            " '2812' '1697' '3764' '851' '3905' '923' '88' '1668' '3253' '808' '2689'\n",
            " '3858' '642' '3457' '1402' '1732' '3154' '847' '3037' '2204' '3103'\n",
            " '1063' '2056' '1282' '1841' '2569_' '211' '793' '3484' '411' '3491'\n",
            " '2072' '3050' '1049' '2162' '3402' '2753' '27_' '1718' '1014' '3260'\n",
            " '3855' '84' '2311' '3251' '1832' '4069' '3010' '733' '4241' '166' '2461'\n",
            " '1749' '3200' '663_' '2185' '4161' '3009' '359' '2015' '1523' '594'\n",
            " '1079' '1199' '186' '1015' '1989' '281' '559' '2165' '1509' '3545' '779'\n",
            " '192' '4311' '-2_' '2323' '1471' '1538' '3529' '439' '3456' '3040' '2697'\n",
            " '3179' '1332' '3175' '3112' '829' '4022' '3870' '4023' '531' '1511'\n",
            " '3092' '3191' '2400' '3621' '3536' '544' '1864' '28_' '142' '2300' '264'\n",
            " '72' '497' '398' '2222' '3960' '1473' '3043' '4216' '2903' '2658' '-1_'\n",
            " '4042' '1323_' '2184' '921' '1328' '3404' '2438' '809' '47' '1996' '4164'\n",
            " '1370' '1204' '2167' '4011' '2590' '2594' '2533' '1663' '1018' '2919'\n",
            " '3458' '3316' '2589' '2801' '3355' '2529' '2488' '4266' '1243' '739'\n",
            " '845' '4107' '1884' '337' '2660' '290' '674' '2450' '3738' '1792' '2823'\n",
            " '2570' '775' '960' '482' '1706' '2493' '3623' '3031' '2794_' '2219_'\n",
            " '758_' '1849' '3559' '4096' '3726' '1953' '2657' '4043' '2938' '4384'\n",
            " '1647' '2694' '3533' '519' '2677' '2413' '-3_' '4139' '2609' '4326'\n",
            " '4211' '823' '3011' '1608' '2860' '4219' '4047' '1531' '742' '52' '4024'\n",
            " '1673' '49' '2243' '1685' '1869' '2587' '3489' '749' '1164' '2616' '848_'\n",
            " '4134' '1530' '1502' '4075' '3845' '1060' '2573' '2128' '328' '640'\n",
            " '2585' '2230' '1795' '1180' '1534' '3739' '3313' '4191' '996' '372'\n",
            " '3340' '3177' '602' '787' '4135' '3878' '4059' '1218' '4051' '1766'\n",
            " '1359' '3107' '585' '1263' '2511' '709' '3632' '4077' '2943' '2793'\n",
            " '3245' '2317' '1640' '2237_' '3819' '252' '3978' '1498' '1833' '2737'\n",
            " '1192' '1481' '700' '271' '2286' '273' '1215' '3944' '2070' '1478' '3749'\n",
            " '871' '2508' '2959' '130' '294' '3097_' '3511' '415' '2196' '2138' '2149'\n",
            " '1874' '1553' '3847' '3222' '1222' '2907' '3051' '98' '1598' '416' '2314'\n",
            " '2955' '1691' '1450' '2021' '1636' '80' '3708' '195' '320' '2945' '1911'\n",
            " '3416' '3796' '4159' '2255' '938' '4397' '3776' '2148' '1994' '853'\n",
            " '1178' '1633' '196' '3864' '714' '1687' '1034' '468' '1337' '2044' '1541'\n",
            " '3661' '1211' '2645' '2007' '102' '1891' '3162' '3142' '2566_' '2766'\n",
            " '3881' '2728' '2671' '1952' '3580' '2705' '4251' '3840_' '972' '3119'\n",
            " '3502' '4185' '2954' '683' '1614' '1572' '4302' '3447' '1852' '2131'\n",
            " '1900' '1699' '133' '2018' '2127' '508' '210' '577' '1664' '2604' '1411'\n",
            " '2351' '867' '1371' '2352' '1191' '905' '4053' '3869' '933' '3660' '3300'\n",
            " '3629' '3208' '2142' '2521' '450' '583' '876' '121' '3919' '2560' '2578'\n",
            " '2060' '813' '1236' '1489' '4360' '1154' '2544' '4172' '2924' '426'\n",
            " '4270' '2768' '3909' '3951' '2712' '2498' '3171' '1750' '197' '2569'\n",
            " '265' '4293' '887' '2707' '2397' '4337' '4249' '2751' '2950' '1859' '107'\n",
            " '2348' '2506' '2810' '2873' '1301' '2262' '1890' '3078' '3865' '3268'\n",
            " '2777' '3105' '1278' '3793' '2276' '2879' '4298' '2141' '223' '2239'\n",
            " '846' '1862' '2756' '1181' '1184' '2617' '3972' '2334' '3900' '2759'\n",
            " '4169' '2280' '2492' '2729' '3750' '1825' '309' '2431' '3099' '2080'\n",
            " '2279' '2666' '3722' '1976' '529' '1985' '3060' '4278' '3212' '46' '3148'\n",
            " '3467' '4231' '3790' '473' '1536' '3955' '2324' '2381' '1177' '371'\n",
            " '2896' '3880' '2991' '4319' '1061' '662' '4144' '693' '2006' '3115'\n",
            " '2278_' '3751' '1861' '4262' '2913' '2615' '3492' '800' '3766' '384'\n",
            " '3407' '1087' '3329' '1086' '2216' '1087_' '2457' '3522' '3274' '3488'\n",
            " '2854' '238' '351' '3706' '4280' '4095' '2926' '1329' '3370' '283' '1392'\n",
            " '1743' '2429' '974' '3156' '1133' '4388' '3243' '4282' '2523' '4281'\n",
            " '3415' '2001' '441' '94' '3499' '969' '3368' '106' '1004' '2638' '3946'\n",
            " '2956' '4324' '85' '4113' '819' '615' '1172' '2553' '1765' '3495' '2820'\n",
            " '4239' '4340' '1295_' '2636' '4295' '1653' '1325' '1879' '1096' '1735'\n",
            " '3584' '1073' '1975' '3827' '2552' '3754' '2378' '532' '926' '2376'\n",
            " '3636' '3763' '778' '2621' '804' '754' '2418' '4019' '3926' '3861_'\n",
            " '3574' '175' '162' '2834' '3765' '2354' '523' '2274' '1606' '1443' '1354'\n",
            " '2142_' '1422' '2278' '1045' '4106' '3155' '666' '659' '3229' '1216'\n",
            " '2076' '1473_' '2384' '1954' '719' '2534' '4002' '541' '2875' '4344'\n",
            " '2081' '3894' '1256' '676' '4178' '399' '86' '1571' '4037' '1967' '4005'\n",
            " '3216' '1150' '2591' '1801' '3721' '1775' '2260' '3707' '4292' '1820'\n",
            " '145' '1480' '1850' '430' '217' '3920_' '1389' '1579' '3391' '2385'\n",
            " '3336' '3392' '3688' '221' '2047'] \n",
            " -------------------------------------------------------------------------------- \n",
            "\n",
            "Feature: \n",
            " \u001b[1mChanged_Credit_Limit\u001b[0m \n",
            " ['11.27' '_' '6.27' ... '17.509999999999998' '25.16' '21.17'] \n",
            " -------------------------------------------------------------------------------- \n",
            "\n",
            "Feature: \n",
            " \u001b[1mOutstanding_Debt\u001b[0m \n",
            " ['809.98' '605.03' '1303.01' ... '3571.7_' '3571.7' '502.38'] \n",
            " -------------------------------------------------------------------------------- \n",
            "\n",
            "Feature: \n",
            " \u001b[1mAmount_invested_monthly\u001b[0m \n",
            " ['80.41529543900253' '118.28022162236736' '81.699521264648' ...\n",
            " '24.02847744864441' '251.67258219721603' '167.1638651610451'] \n",
            " -------------------------------------------------------------------------------- \n",
            "\n",
            "Feature: \n",
            " \u001b[1mMonthly_Balance\u001b[0m \n",
            " ['312.49408867943663' '284.62916249607184' '331.2098628537912' ...\n",
            " 516.8090832742814 319.1649785257098 393.6736955618808] \n",
            " -------------------------------------------------------------------------------- \n",
            "\n"
          ]
        }
      ],
      "source": [
        "# Categorical features that are supposedly to be numerical instead\n",
        "FeaturesToConvert = ['Age',\n",
        "                     'Annual_Income',\n",
        "                     'Num_of_Loan',\n",
        "                     'Num_of_Delayed_Payment',\n",
        "                     'Changed_Credit_Limit',\n",
        "                     'Outstanding_Debt',\n",
        "                     'Amount_invested_monthly',\n",
        "                     'Monthly_Balance'] \n",
        "# 'Credit_History_Age' feature will be dealt with later\n",
        "\n",
        "# Checking the unique values of these features\n",
        "for feature in FeaturesToConvert:\n",
        "    uniques = train[feature].unique()\n",
        "    print('Feature:', '\\n',\n",
        "          colored(feature, attrs = ['bold']), '\\n',\n",
        "          uniques, '\\n',\n",
        "          '--'*40, '\\n')"
      ]
    },
    {
      "cell_type": "markdown",
      "metadata": {
        "id": "QnxsUKM_Qg2K"
      },
      "source": [
        "By looking at some of the entries above, one thing that could be noticed is that some of these entries contain non-numerical character, such as '-' and '_', while they are supposed to have only numerical character. We will omit both of these special characters from the features, and see if they can be converted into numerical features afterwards."
      ]
    },
    {
      "cell_type": "code",
      "execution_count": null,
      "metadata": {
        "id": "DQ-mWnNrQg2K",
        "outputId": "1437175d-b6b5-4746-80be-418361068b36"
      },
      "outputs": [
        {
          "name": "stdout",
          "output_type": "stream",
          "text": [
            "Age \n",
            " float64\n",
            "Annual_Income \n",
            " float64\n",
            "Num_of_Loan \n",
            " float64\n",
            "Num_of_Delayed_Payment \n",
            " float64\n",
            "Changed_Credit_Limit \n",
            " float64\n",
            "Outstanding_Debt \n",
            " float64\n",
            "Amount_invested_monthly \n",
            " float64\n",
            "Monthly_Balance \n",
            " float64\n"
          ]
        }
      ],
      "source": [
        "# Removing the '-' and '_' characters\n",
        "for feature in FeaturesToConvert:\n",
        "    train[feature] = train[feature].str.strip('-_')\n",
        "\n",
        "# Handling the empty members in each feature\n",
        "for feature in FeaturesToConvert:\n",
        "    train[feature] = train[feature].replace({'':np.nan})\n",
        "\n",
        "# Trying converting the categorical features into numerical type\n",
        "for feature in FeaturesToConvert:\n",
        "    train[feature] = train[feature].astype('float64')\n",
        "\n",
        "# Checking if the conversion is successful\n",
        "for feature in FeaturesToConvert:\n",
        "    print(feature, '\\n',\n",
        "          train[feature].dtype)"
      ]
    },
    {
      "cell_type": "markdown",
      "metadata": {
        "id": "SiVFu9TMQg2K"
      },
      "source": [
        "### **IIIb. Credit_History_Age engineering**"
      ]
    },
    {
      "cell_type": "markdown",
      "metadata": {
        "id": "P7MsAQpxQg2K"
      },
      "source": [
        "The data contained in this feature is meant to show a duration type of data, so for the sake of praticality when dealing with this data later in the analysis and prediction process, the type of data is better not be categorical, but numerical instead. Let's process the data contained in this feature."
      ]
    },
    {
      "cell_type": "code",
      "execution_count": null,
      "metadata": {
        "scrolled": true,
        "id": "D89Ec-pkQg2K",
        "outputId": "07a9b5a6-43f4-4c2d-c679-594e55e21e41"
      },
      "outputs": [
        {
          "data": {
            "text/plain": [
              "0    22 Years and 1 Months\n",
              "1                      NaN\n",
              "2    22 Years and 3 Months\n",
              "3    22 Years and 4 Months\n",
              "4    22 Years and 5 Months\n",
              "Name: Credit_History_Age, dtype: object"
            ]
          },
          "execution_count": 15,
          "metadata": {},
          "output_type": "execute_result"
        }
      ],
      "source": [
        "# Taking a quick look again at the data\n",
        "train['Credit_History_Age'].head()"
      ]
    },
    {
      "cell_type": "markdown",
      "metadata": {
        "id": "xd0JSC86Qg2K"
      },
      "source": [
        "Since the smallest unit is monthly, we are going to convert the data in monthly unit."
      ]
    },
    {
      "cell_type": "code",
      "execution_count": null,
      "metadata": {
        "id": "fnT__fiBQg2L",
        "outputId": "20f3f6ce-1393-4e1b-d82d-ffe5bbe040ba"
      },
      "outputs": [
        {
          "data": {
            "text/plain": [
              "0    265.0\n",
              "1      NaN\n",
              "2    267.0\n",
              "3    268.0\n",
              "4    269.0\n",
              "Name: Credit_History_Age, dtype: float64"
            ]
          },
          "execution_count": 16,
          "metadata": {},
          "output_type": "execute_result"
        }
      ],
      "source": [
        "# Splitting each member of the 'Credit_History_Age' feature\n",
        "SplitHistoryAge = [str(date).split(' ') for date in train['Credit_History_Age']]\n",
        "\n",
        "# Getting the year\n",
        "CreditYear = [item[0] for item in SplitHistoryAge]\n",
        "\n",
        "# Converting the year to month\n",
        "CreditYear = [float(x) * 12 for x in CreditYear]\n",
        "\n",
        "# Getting the month\n",
        "CreditMonth = []\n",
        "for item in SplitHistoryAge:\n",
        "    if len(item) > 1:\n",
        "        CreditMonth.append(item[3]) # for non-nan member\n",
        "    else:\n",
        "        CreditMonth.append(item[0]) # for nan member\n",
        "\n",
        "# Combining the year and month\n",
        "CombinedCreditAge = [float(CreditYear[i]) + float(CreditMonth[i]) for i in range(len(CreditYear))]\n",
        "\n",
        "# Assigning the combined month to the 'Credit_History_Age' feature\n",
        "train['Credit_History_Age'] = CombinedCreditAge\n",
        "\n",
        "# Checking the first five rows again\n",
        "train['Credit_History_Age'].head()"
      ]
    },
    {
      "cell_type": "markdown",
      "metadata": {
        "id": "Rv9FNHUqQg2L"
      },
      "source": [
        "## **IV. Data Exploration 2: Categorical Features**"
      ]
    },
    {
      "cell_type": "markdown",
      "metadata": {
        "id": "cRk_0UuOQg2M"
      },
      "source": [
        "Now that the data type of each feature has been corrected, let us proceed to checking the cleanliness of each feature itself: data validation, spelling errors, missing values, outliers, feature addition or deletion (if needed)."
      ]
    },
    {
      "cell_type": "code",
      "execution_count": null,
      "metadata": {
        "id": "cwJ62YIhQg2M",
        "outputId": "3eb3201a-eda3-44c7-e5bb-880db446d444"
      },
      "outputs": [
        {
          "name": "stdout",
          "output_type": "stream",
          "text": [
            "<class 'pandas.core.frame.DataFrame'>\n",
            "RangeIndex: 100000 entries, 0 to 99999\n",
            "Data columns (total 28 columns):\n",
            " #   Column                    Non-Null Count   Dtype  \n",
            "---  ------                    --------------   -----  \n",
            " 0   ID                        100000 non-null  object \n",
            " 1   Customer_ID               100000 non-null  object \n",
            " 2   Month                     100000 non-null  object \n",
            " 3   Name                      90015 non-null   object \n",
            " 4   Age                       100000 non-null  float64\n",
            " 5   SSN                       100000 non-null  object \n",
            " 6   Occupation                100000 non-null  object \n",
            " 7   Annual_Income             100000 non-null  float64\n",
            " 8   Monthly_Inhand_Salary     84998 non-null   float64\n",
            " 9   Num_Bank_Accounts         100000 non-null  int64  \n",
            " 10  Num_Credit_Card           100000 non-null  int64  \n",
            " 11  Interest_Rate             100000 non-null  int64  \n",
            " 12  Num_of_Loan               100000 non-null  float64\n",
            " 13  Type_of_Loan              88592 non-null   object \n",
            " 14  Delay_from_due_date       100000 non-null  int64  \n",
            " 15  Num_of_Delayed_Payment    92998 non-null   float64\n",
            " 16  Changed_Credit_Limit      97909 non-null   float64\n",
            " 17  Num_Credit_Inquiries      98035 non-null   float64\n",
            " 18  Credit_Mix                100000 non-null  object \n",
            " 19  Outstanding_Debt          100000 non-null  float64\n",
            " 20  Credit_Utilization_Ratio  100000 non-null  float64\n",
            " 21  Credit_History_Age        90970 non-null   float64\n",
            " 22  Payment_of_Min_Amount     100000 non-null  object \n",
            " 23  Total_EMI_per_month       100000 non-null  float64\n",
            " 24  Amount_invested_monthly   95521 non-null   float64\n",
            " 25  Payment_Behaviour         100000 non-null  object \n",
            " 26  Monthly_Balance           97132 non-null   float64\n",
            " 27  Credit_Score              100000 non-null  object \n",
            "dtypes: float64(13), int64(4), object(11)\n",
            "memory usage: 21.4+ MB\n"
          ]
        }
      ],
      "source": [
        "# Rechecking the general overview of the train dataset after it has been previously modified\n",
        "train.info()"
      ]
    },
    {
      "cell_type": "code",
      "execution_count": null,
      "metadata": {
        "id": "60S1YeVuQg2M"
      },
      "outputs": [],
      "source": [
        "# Storing the categorical column name into a list\n",
        "CatFeatures = []\n",
        "for feature in train.columns:\n",
        "    if train[feature].dtype == 'object':\n",
        "        CatFeatures.append(feature)\n",
        "\n",
        "# Storing the numerical column name into a list\n",
        "NumFeatures = []\n",
        "for feature in train.columns:\n",
        "    if train[feature].dtype == 'float64' or train[feature].dtype == 'int64':\n",
        "        NumFeatures.append(feature)"
      ]
    },
    {
      "cell_type": "markdown",
      "metadata": {
        "id": "mDw_ekA3Qg2M"
      },
      "source": [
        "Checking the unique values of the categorical features"
      ]
    },
    {
      "cell_type": "code",
      "execution_count": null,
      "metadata": {
        "id": "QmObhf1uQg2N",
        "outputId": "32a9d774-ba6f-44ac-c4bc-74b6200e8bd5"
      },
      "outputs": [
        {
          "name": "stdout",
          "output_type": "stream",
          "text": [
            "Feature: \n",
            " \u001b[1mID\u001b[0m \n",
            " ['0x1602' '0x1603' '0x1604' ... '0x25feb' '0x25fec' '0x25fed'] \n",
            " Unique values =  100000 \n",
            " -------------------------------------------------------------------------------- \n",
            "\n",
            "Feature: \n",
            " \u001b[1mCustomer_ID\u001b[0m \n",
            " ['CUS_0xd40' 'CUS_0x21b1' 'CUS_0x2dbc' ... 'CUS_0xaf61' 'CUS_0x8600'\n",
            " 'CUS_0x942c'] \n",
            " Unique values =  12500 \n",
            " -------------------------------------------------------------------------------- \n",
            "\n",
            "Feature: \n",
            " \u001b[1mMonth\u001b[0m \n",
            " ['January' 'February' 'March' 'April' 'May' 'June' 'July' 'August'] \n",
            " Unique values =  8 \n",
            " -------------------------------------------------------------------------------- \n",
            "\n",
            "Feature: \n",
            " \u001b[1mName\u001b[0m \n",
            " ['Aaron Maashoh' nan 'Rick Rothackerj' ... 'Chris Wickhamm'\n",
            " 'Sarah McBridec' 'Nicks'] \n",
            " Unique values =  10140 \n",
            " -------------------------------------------------------------------------------- \n",
            "\n",
            "Feature: \n",
            " \u001b[1mSSN\u001b[0m \n",
            " ['821-00-0265' '#F%$D@*&8' '004-07-5839' ... '133-16-7738' '031-35-0942'\n",
            " '078-73-5990'] \n",
            " Unique values =  12501 \n",
            " -------------------------------------------------------------------------------- \n",
            "\n",
            "Feature: \n",
            " \u001b[1mOccupation\u001b[0m \n",
            " ['Scientist' '_______' 'Teacher' 'Engineer' 'Entrepreneur' 'Developer'\n",
            " 'Lawyer' 'Media_Manager' 'Doctor' 'Journalist' 'Manager' 'Accountant'\n",
            " 'Musician' 'Mechanic' 'Writer' 'Architect'] \n",
            " Unique values =  16 \n",
            " -------------------------------------------------------------------------------- \n",
            "\n",
            "Feature: \n",
            " \u001b[1mType_of_Loan\u001b[0m \n",
            " ['Auto Loan, Credit-Builder Loan, Personal Loan, and Home Equity Loan'\n",
            " 'Credit-Builder Loan' 'Auto Loan, Auto Loan, and Not Specified' ...\n",
            " 'Home Equity Loan, Auto Loan, Auto Loan, and Auto Loan'\n",
            " 'Payday Loan, Student Loan, Mortgage Loan, and Not Specified'\n",
            " 'Personal Loan, Auto Loan, Mortgage Loan, Student Loan, and Student Loan'] \n",
            " Unique values =  6261 \n",
            " -------------------------------------------------------------------------------- \n",
            "\n",
            "Feature: \n",
            " \u001b[1mCredit_Mix\u001b[0m \n",
            " ['_' 'Good' 'Standard' 'Bad'] \n",
            " Unique values =  4 \n",
            " -------------------------------------------------------------------------------- \n",
            "\n",
            "Feature: \n",
            " \u001b[1mPayment_of_Min_Amount\u001b[0m \n",
            " ['No' 'NM' 'Yes'] \n",
            " Unique values =  3 \n",
            " -------------------------------------------------------------------------------- \n",
            "\n",
            "Feature: \n",
            " \u001b[1mPayment_Behaviour\u001b[0m \n",
            " ['High_spent_Small_value_payments' 'Low_spent_Large_value_payments'\n",
            " 'Low_spent_Medium_value_payments' 'Low_spent_Small_value_payments'\n",
            " 'High_spent_Medium_value_payments' '!@9#%8'\n",
            " 'High_spent_Large_value_payments'] \n",
            " Unique values =  7 \n",
            " -------------------------------------------------------------------------------- \n",
            "\n",
            "Feature: \n",
            " \u001b[1mCredit_Score\u001b[0m \n",
            " ['Good' 'Standard' 'Poor'] \n",
            " Unique values =  3 \n",
            " -------------------------------------------------------------------------------- \n",
            "\n"
          ]
        }
      ],
      "source": [
        "# Checking the unique values of the these features\n",
        "for feature in CatFeatures:\n",
        "    uniques = train[feature].unique()\n",
        "    print('Feature:', '\\n',\n",
        "          colored(feature, attrs = ['bold']), '\\n',\n",
        "          uniques, '\\n',\n",
        "          'Unique values = ', len(train[feature].unique()), '\\n',\n",
        "          '--'*40, '\\n')"
      ]
    },
    {
      "cell_type": "markdown",
      "metadata": {
        "id": "j_GrbffgQg2N"
      },
      "source": [
        "Findings:\n",
        "\n",
        "*   Each customer data is presented in 8 months, from January to August. The correlation between the total members of the ID and Customer_ID features match up this information, with ID having 100000 members and Customer_ID having 12500 members.\n",
        "*   The Name feature should have 12500 members as well, matching up to the value of the Customer_ID feature. The fact that the Name feature only consists of 10140 members might imply strongly that there are some of customer's names which completely miss from the dataset.\n",
        "*   The SSN feature has 12501 members, with one member having a seemingly weird data validation compared to the other members in the feature, that is: '#F%$D@*&8'.\n",
        "*   There are missing values in the Occupation feature, though not in the 'nan' format.\n",
        "*   The Type_of_Loan feature appears to have list values. Formatting will be needed for this feature.\n",
        "*   The Payment_Behavior also has a weird data validation compared to the other members in the feature, that is: '!@9#%8'\n",
        "*   Including the Occupation and Credit_Mix features, after the data with weird data validation that exists in SSN and Payment_Behavior features has been deleted, these four features will have some missing values that need to be dealt with afterwards."
      ]
    },
    {
      "cell_type": "markdown",
      "metadata": {
        "id": "m8Kor6IhQg2N"
      },
      "source": [
        "## **V.  Categorical Feature Engineering: Data Cleaning**"
      ]
    },
    {
      "cell_type": "markdown",
      "metadata": {
        "id": "tF7EwSNZQg2N"
      },
      "source": [
        "### **Va. Categorical Feature: Name**"
      ]
    },
    {
      "cell_type": "markdown",
      "metadata": {
        "id": "VeeiExq6Qg2N"
      },
      "source": [
        "The Name feature usually has a purpose as a unique identifier for each entry in the dataset, in this case a unique identifier for each customer. However, since there are missing values in this column and the purpose of the feature overlaps with the Customer_ID feature anyway, the Name feature will be dropped instead."
      ]
    },
    {
      "cell_type": "code",
      "execution_count": null,
      "metadata": {
        "id": "cAWzrgkiQg2N"
      },
      "outputs": [],
      "source": [
        "# Dropping the Name feature\n",
        "train.drop('Name', axis = 1, inplace = True)"
      ]
    },
    {
      "cell_type": "markdown",
      "metadata": {
        "id": "Ct62fzWOQg2N"
      },
      "source": [
        "### **Vb. Categorical Feature: SSN**"
      ]
    },
    {
      "cell_type": "markdown",
      "metadata": {
        "id": "756-rrrZQg2N"
      },
      "source": [
        "The '#F%$D@*&8' value will be dropped from the feature, as it contains an abnormal data validation compared to the other members in the feature."
      ]
    },
    {
      "cell_type": "code",
      "execution_count": null,
      "metadata": {
        "id": "mkYdFQ59Qg2N"
      },
      "outputs": [],
      "source": [
        "# Dropping the '#F%$D@*&8' value from the SSN feature\n",
        "train['SSN'] = train['SSN'].replace('#F%$D@*&8', np.nan)"
      ]
    },
    {
      "cell_type": "markdown",
      "metadata": {
        "id": "FFCZRO3bQg2O"
      },
      "source": [
        "The missing values now need to be filled in. SSN stands for Social Security Number, whose values are unique to each customer. Using this condition, we will be filling in the missing SSN values with the most frequently occuring method, with the Customer_ID feature as the reference."
      ]
    },
    {
      "cell_type": "code",
      "execution_count": null,
      "metadata": {
        "id": "28FJRVEYQg2O"
      },
      "outputs": [],
      "source": [
        "# Filling in the missing values in SSN feature\n",
        "train['SSN'] = train['SSN'].fillna(train.groupby('Customer_ID')['SSN'].transform(lambda x:x.mode().iat[0]))"
      ]
    },
    {
      "cell_type": "markdown",
      "metadata": {
        "id": "zU8VjTt0Qg2O"
      },
      "source": [
        "### **Vc. Categorical Feature: Occupation**"
      ]
    },
    {
      "cell_type": "markdown",
      "metadata": {
        "id": "xZR9_bDuQg2O"
      },
      "source": [
        "Similar to the SSN feature, each value in the Occupation feature is also unique to each customer, assuming that the customers do not change occupation during the time period contained in the dataset. We cannot immediately fill in the missing values though, since the missing values are written as '_______' and not in 'nan'. We will drop the '_______', then fill in the missing Occupation value with the most frequent value occuring for each customer."
      ]
    },
    {
      "cell_type": "code",
      "execution_count": null,
      "metadata": {
        "scrolled": false,
        "id": "We3WjH2UQg2O",
        "outputId": "4070ef43-8821-47d6-c637-37995f97f516"
      },
      "outputs": [
        {
          "data": {
            "text/plain": [
              "array(['Scientist', 'Teacher', 'Engineer', 'Entrepreneur', 'Developer',\n",
              "       'Lawyer', 'Media_Manager', 'Doctor', 'Journalist', 'Manager',\n",
              "       'Accountant', 'Musician', 'Mechanic', 'Writer', 'Architect'],\n",
              "      dtype=object)"
            ]
          },
          "execution_count": 23,
          "metadata": {},
          "output_type": "execute_result"
        }
      ],
      "source": [
        "# Dropping the '_______' values\n",
        "train['Occupation'] = train['Occupation'].replace('_______', np.NaN)\n",
        "\n",
        "# Filling in the missing values in Occupation feature\n",
        "train['Occupation'] = train['Occupation'].fillna(train.groupby('Customer_ID')['Occupation'].transform(lambda x:x.mode().iat[0]))\n",
        "\n",
        "# Checking if there are still missing values\n",
        "train['Occupation'].unique()"
      ]
    },
    {
      "cell_type": "markdown",
      "metadata": {
        "id": "4QDMVv_AQg2O"
      },
      "source": [
        "### **Vd. Categorical Feature: Type_of_Loan**"
      ]
    },
    {
      "cell_type": "markdown",
      "metadata": {
        "id": "xT3KLmTFQg2O"
      },
      "source": [
        "The type of data contained in the Type_of_Loan feature is actually list, though Python considers it as regular string instead. For this data cleaning process, the Type of Loan will be extended in each separated features, with the value in boolean type, plus a feature that has the value count of the Type_of_Loan of each customer. We will first try to clean the format of the string values of this feature."
      ]
    },
    {
      "cell_type": "code",
      "execution_count": null,
      "metadata": {
        "id": "63GoXrZ-Qg2O",
        "outputId": "c7fe5340-317c-4177-f026-e4369ae0ab31"
      },
      "outputs": [
        {
          "name": "stdout",
          "output_type": "stream",
          "text": [
            "Auto Loan, Credit-Builder Loan, Personal Loan, and Home Equity Loan\n",
            "<class 'str'>\n"
          ]
        }
      ],
      "source": [
        "# Checking how the data displays\n",
        "print(train['Type_of_Loan'][0])\n",
        "print(type(train['Type_of_Loan'][0]))"
      ]
    },
    {
      "cell_type": "code",
      "execution_count": null,
      "metadata": {
        "id": "00pqb2B_Qg2P"
      },
      "outputs": [],
      "source": [
        "# Converting every member of the feature as string (initially, the nan are categorized as float)\n",
        "train['Type_of_Loan'] = train['Type_of_Loan'].astype('str')\n",
        "\n",
        "# Dropping the 'and ' strings\n",
        "train['Type_of_Loan'] = [item.replace('and ', '') for item in train['Type_of_Loan']]"
      ]
    },
    {
      "cell_type": "code",
      "execution_count": null,
      "metadata": {
        "id": "aUOmeAabQg2P"
      },
      "outputs": [],
      "source": [
        "# Dropping unuseful blank space\n",
        "train['Type_of_Loan'] = [item.replace(', ', ',') for item in train['Type_of_Loan']]\n",
        "\n",
        "# Splitting each item in the member of the feature by comma delimiter\n",
        "train['Type_of_Loan'] = [item.split(',') for item in train['Type_of_Loan']]"
      ]
    },
    {
      "cell_type": "code",
      "execution_count": null,
      "metadata": {
        "scrolled": true,
        "id": "LTjgu121Qg2P",
        "outputId": "04b94fbb-7b58-42dc-b54b-ae64acaec5e3"
      },
      "outputs": [
        {
          "name": "stdout",
          "output_type": "stream",
          "text": [
            "['Auto Loan', 'Credit-Builder Loan', 'Personal Loan', 'Home Equity Loan']\n",
            "<class 'list'>\n"
          ]
        }
      ],
      "source": [
        "# Checking if the data has been successfully formatted\n",
        "print(train['Type_of_Loan'][0])\n",
        "print(type(train['Type_of_Loan'][0]))"
      ]
    },
    {
      "cell_type": "markdown",
      "metadata": {
        "id": "NMXx9PxaQg2P"
      },
      "source": [
        "Now, before we spread each unique value of Type_of_Loan as separate boolean features, we will be filling in the missing values based on the frequency of each unique value. "
      ]
    },
    {
      "cell_type": "code",
      "execution_count": null,
      "metadata": {
        "scrolled": true,
        "id": "fRBUTrvGQg2P",
        "outputId": "044a6bed-9fa1-4e6f-e1bc-eeb6a5a48011"
      },
      "outputs": [
        {
          "data": {
            "text/html": [
              "<div>\n",
              "<style scoped>\n",
              "    .dataframe tbody tr th:only-of-type {\n",
              "        vertical-align: middle;\n",
              "    }\n",
              "\n",
              "    .dataframe tbody tr th {\n",
              "        vertical-align: top;\n",
              "    }\n",
              "\n",
              "    .dataframe thead th {\n",
              "        text-align: right;\n",
              "    }\n",
              "</style>\n",
              "<table border=\"1\" class=\"dataframe\">\n",
              "  <thead>\n",
              "    <tr style=\"text-align: right;\">\n",
              "      <th></th>\n",
              "      <th>Type_of_Loan</th>\n",
              "      <th>Count</th>\n",
              "      <th>Portion</th>\n",
              "    </tr>\n",
              "  </thead>\n",
              "  <tbody>\n",
              "    <tr>\n",
              "      <th>0</th>\n",
              "      <td>Payday Loan</td>\n",
              "      <td>40568</td>\n",
              "      <td>0.114830</td>\n",
              "    </tr>\n",
              "    <tr>\n",
              "      <th>1</th>\n",
              "      <td>Credit-Builder Loan</td>\n",
              "      <td>40440</td>\n",
              "      <td>0.114468</td>\n",
              "    </tr>\n",
              "    <tr>\n",
              "      <th>2</th>\n",
              "      <td>Not Specified</td>\n",
              "      <td>39616</td>\n",
              "      <td>0.112135</td>\n",
              "    </tr>\n",
              "    <tr>\n",
              "      <th>3</th>\n",
              "      <td>Home Equity Loan</td>\n",
              "      <td>39104</td>\n",
              "      <td>0.110686</td>\n",
              "    </tr>\n",
              "    <tr>\n",
              "      <th>4</th>\n",
              "      <td>Student Loan</td>\n",
              "      <td>38968</td>\n",
              "      <td>0.110301</td>\n",
              "    </tr>\n",
              "    <tr>\n",
              "      <th>5</th>\n",
              "      <td>Mortgage Loan</td>\n",
              "      <td>38936</td>\n",
              "      <td>0.110210</td>\n",
              "    </tr>\n",
              "    <tr>\n",
              "      <th>6</th>\n",
              "      <td>Personal Loan</td>\n",
              "      <td>38888</td>\n",
              "      <td>0.110075</td>\n",
              "    </tr>\n",
              "    <tr>\n",
              "      <th>7</th>\n",
              "      <td>Debt Consolidation Loan</td>\n",
              "      <td>38776</td>\n",
              "      <td>0.109757</td>\n",
              "    </tr>\n",
              "    <tr>\n",
              "      <th>8</th>\n",
              "      <td>Auto Loan</td>\n",
              "      <td>37992</td>\n",
              "      <td>0.107538</td>\n",
              "    </tr>\n",
              "  </tbody>\n",
              "</table>\n",
              "</div>"
            ],
            "text/plain": [
              "              Type_of_Loan  Count   Portion\n",
              "0              Payday Loan  40568  0.114830\n",
              "1      Credit-Builder Loan  40440  0.114468\n",
              "2            Not Specified  39616  0.112135\n",
              "3         Home Equity Loan  39104  0.110686\n",
              "4             Student Loan  38968  0.110301\n",
              "5            Mortgage Loan  38936  0.110210\n",
              "6            Personal Loan  38888  0.110075\n",
              "7  Debt Consolidation Loan  38776  0.109757\n",
              "8                Auto Loan  37992  0.107538"
            ]
          },
          "execution_count": 28,
          "metadata": {},
          "output_type": "execute_result"
        }
      ],
      "source": [
        "# unique value counts (frequency) of each unique value\n",
        "listUVcount = pd.Series([x for _list in train['Type_of_Loan'] for x in _list]).value_counts()\n",
        "listUVcount\n",
        "\n",
        "# Type_of_Loan unique values (excluding nan)\n",
        "listUV = list(listUVcount[:-1].index)\n",
        "listUV\n",
        "\n",
        "# The sum of all unique values (excluding nan)\n",
        "totalcount = sum(listUVcount[:-1])\n",
        "totalcount\n",
        "\n",
        "# Calculating the probabilities of each unique value\n",
        "listUVportion = []\n",
        "for UVcount in listUVcount[:-1]:\n",
        "    UVportion = UVcount / totalcount\n",
        "    listUVportion.append(UVportion)\n",
        "listUVportion\n",
        "\n",
        "# Creating the report table\n",
        "table = pd.DataFrame(list(zip(listUV, listUVcount[:-1], listUVportion)))\n",
        "table.columns = ['Type_of_Loan', 'Count', 'Portion']\n",
        "\n",
        "# Report\n",
        "table"
      ]
    },
    {
      "cell_type": "code",
      "execution_count": null,
      "metadata": {
        "id": "ks7C2o4NQg2P"
      },
      "outputs": [],
      "source": [
        "# Filling in the missing Type_of_Loan data\n",
        "train['Type_of_Loan'] = train['Type_of_Loan'].fillna(pd.Series(np.random.choice(listUV,\n",
        "                                                                                p = listUVportion,\n",
        "                                                                                size = len(train['Type_of_Loan']))))"
      ]
    },
    {
      "cell_type": "code",
      "execution_count": null,
      "metadata": {
        "id": "aLb5xd91Qg2P",
        "outputId": "4e1baac6-3abd-498d-ed1f-30e24e1ae8f6"
      },
      "outputs": [
        {
          "data": {
            "text/plain": [
              "0"
            ]
          },
          "execution_count": 30,
          "metadata": {},
          "output_type": "execute_result"
        }
      ],
      "source": [
        "# Checking if there are still missing values in the Type_of_Loan feature\n",
        "train['Type_of_Loan'].isnull().sum()"
      ]
    },
    {
      "cell_type": "markdown",
      "metadata": {
        "id": "dd-3RG6WQg2P"
      },
      "source": [
        "Now that the missing values are not present anymore, let us separate each Type_of_Loan into separate features"
      ]
    },
    {
      "cell_type": "code",
      "execution_count": null,
      "metadata": {
        "id": "1HttzKsyQg2Q",
        "outputId": "ef53366d-b473-47de-9ee3-2a6ab9ecb06d"
      },
      "outputs": [
        {
          "data": {
            "text/html": [
              "<div>\n",
              "<style scoped>\n",
              "    .dataframe tbody tr th:only-of-type {\n",
              "        vertical-align: middle;\n",
              "    }\n",
              "\n",
              "    .dataframe tbody tr th {\n",
              "        vertical-align: top;\n",
              "    }\n",
              "\n",
              "    .dataframe thead th {\n",
              "        text-align: right;\n",
              "    }\n",
              "</style>\n",
              "<table border=\"1\" class=\"dataframe\">\n",
              "  <thead>\n",
              "    <tr style=\"text-align: right;\">\n",
              "      <th></th>\n",
              "      <th>Auto Loan</th>\n",
              "      <th>Credit-Builder Loan</th>\n",
              "      <th>Debt Consolidation Loan</th>\n",
              "      <th>Home Equity Loan</th>\n",
              "      <th>Mortgage Loan</th>\n",
              "      <th>Not Specified</th>\n",
              "      <th>Payday Loan</th>\n",
              "      <th>Personal Loan</th>\n",
              "      <th>Student Loan</th>\n",
              "      <th>nan</th>\n",
              "    </tr>\n",
              "  </thead>\n",
              "  <tbody>\n",
              "    <tr>\n",
              "      <th>0</th>\n",
              "      <td>True</td>\n",
              "      <td>True</td>\n",
              "      <td>False</td>\n",
              "      <td>True</td>\n",
              "      <td>False</td>\n",
              "      <td>False</td>\n",
              "      <td>False</td>\n",
              "      <td>True</td>\n",
              "      <td>False</td>\n",
              "      <td>False</td>\n",
              "    </tr>\n",
              "    <tr>\n",
              "      <th>1</th>\n",
              "      <td>True</td>\n",
              "      <td>True</td>\n",
              "      <td>False</td>\n",
              "      <td>True</td>\n",
              "      <td>False</td>\n",
              "      <td>False</td>\n",
              "      <td>False</td>\n",
              "      <td>True</td>\n",
              "      <td>False</td>\n",
              "      <td>False</td>\n",
              "    </tr>\n",
              "    <tr>\n",
              "      <th>2</th>\n",
              "      <td>True</td>\n",
              "      <td>True</td>\n",
              "      <td>False</td>\n",
              "      <td>True</td>\n",
              "      <td>False</td>\n",
              "      <td>False</td>\n",
              "      <td>False</td>\n",
              "      <td>True</td>\n",
              "      <td>False</td>\n",
              "      <td>False</td>\n",
              "    </tr>\n",
              "    <tr>\n",
              "      <th>3</th>\n",
              "      <td>True</td>\n",
              "      <td>True</td>\n",
              "      <td>False</td>\n",
              "      <td>True</td>\n",
              "      <td>False</td>\n",
              "      <td>False</td>\n",
              "      <td>False</td>\n",
              "      <td>True</td>\n",
              "      <td>False</td>\n",
              "      <td>False</td>\n",
              "    </tr>\n",
              "    <tr>\n",
              "      <th>4</th>\n",
              "      <td>True</td>\n",
              "      <td>True</td>\n",
              "      <td>False</td>\n",
              "      <td>True</td>\n",
              "      <td>False</td>\n",
              "      <td>False</td>\n",
              "      <td>False</td>\n",
              "      <td>True</td>\n",
              "      <td>False</td>\n",
              "      <td>False</td>\n",
              "    </tr>\n",
              "    <tr>\n",
              "      <th>...</th>\n",
              "      <td>...</td>\n",
              "      <td>...</td>\n",
              "      <td>...</td>\n",
              "      <td>...</td>\n",
              "      <td>...</td>\n",
              "      <td>...</td>\n",
              "      <td>...</td>\n",
              "      <td>...</td>\n",
              "      <td>...</td>\n",
              "      <td>...</td>\n",
              "    </tr>\n",
              "    <tr>\n",
              "      <th>99995</th>\n",
              "      <td>True</td>\n",
              "      <td>False</td>\n",
              "      <td>False</td>\n",
              "      <td>False</td>\n",
              "      <td>False</td>\n",
              "      <td>False</td>\n",
              "      <td>False</td>\n",
              "      <td>False</td>\n",
              "      <td>True</td>\n",
              "      <td>False</td>\n",
              "    </tr>\n",
              "    <tr>\n",
              "      <th>99996</th>\n",
              "      <td>True</td>\n",
              "      <td>False</td>\n",
              "      <td>False</td>\n",
              "      <td>False</td>\n",
              "      <td>False</td>\n",
              "      <td>False</td>\n",
              "      <td>False</td>\n",
              "      <td>False</td>\n",
              "      <td>True</td>\n",
              "      <td>False</td>\n",
              "    </tr>\n",
              "    <tr>\n",
              "      <th>99997</th>\n",
              "      <td>True</td>\n",
              "      <td>False</td>\n",
              "      <td>False</td>\n",
              "      <td>False</td>\n",
              "      <td>False</td>\n",
              "      <td>False</td>\n",
              "      <td>False</td>\n",
              "      <td>False</td>\n",
              "      <td>True</td>\n",
              "      <td>False</td>\n",
              "    </tr>\n",
              "    <tr>\n",
              "      <th>99998</th>\n",
              "      <td>True</td>\n",
              "      <td>False</td>\n",
              "      <td>False</td>\n",
              "      <td>False</td>\n",
              "      <td>False</td>\n",
              "      <td>False</td>\n",
              "      <td>False</td>\n",
              "      <td>False</td>\n",
              "      <td>True</td>\n",
              "      <td>False</td>\n",
              "    </tr>\n",
              "    <tr>\n",
              "      <th>99999</th>\n",
              "      <td>True</td>\n",
              "      <td>False</td>\n",
              "      <td>False</td>\n",
              "      <td>False</td>\n",
              "      <td>False</td>\n",
              "      <td>False</td>\n",
              "      <td>False</td>\n",
              "      <td>False</td>\n",
              "      <td>True</td>\n",
              "      <td>False</td>\n",
              "    </tr>\n",
              "  </tbody>\n",
              "</table>\n",
              "<p>100000 rows × 10 columns</p>\n",
              "</div>"
            ],
            "text/plain": [
              "       Auto Loan  Credit-Builder Loan  Debt Consolidation Loan  \\\n",
              "0           True                 True                    False   \n",
              "1           True                 True                    False   \n",
              "2           True                 True                    False   \n",
              "3           True                 True                    False   \n",
              "4           True                 True                    False   \n",
              "...          ...                  ...                      ...   \n",
              "99995       True                False                    False   \n",
              "99996       True                False                    False   \n",
              "99997       True                False                    False   \n",
              "99998       True                False                    False   \n",
              "99999       True                False                    False   \n",
              "\n",
              "       Home Equity Loan  Mortgage Loan  Not Specified  Payday Loan  \\\n",
              "0                  True          False          False        False   \n",
              "1                  True          False          False        False   \n",
              "2                  True          False          False        False   \n",
              "3                  True          False          False        False   \n",
              "4                  True          False          False        False   \n",
              "...                 ...            ...            ...          ...   \n",
              "99995             False          False          False        False   \n",
              "99996             False          False          False        False   \n",
              "99997             False          False          False        False   \n",
              "99998             False          False          False        False   \n",
              "99999             False          False          False        False   \n",
              "\n",
              "       Personal Loan  Student Loan    nan  \n",
              "0               True         False  False  \n",
              "1               True         False  False  \n",
              "2               True         False  False  \n",
              "3               True         False  False  \n",
              "4               True         False  False  \n",
              "...              ...           ...    ...  \n",
              "99995          False          True  False  \n",
              "99996          False          True  False  \n",
              "99997          False          True  False  \n",
              "99998          False          True  False  \n",
              "99999          False          True  False  \n",
              "\n",
              "[100000 rows x 10 columns]"
            ]
          },
          "execution_count": 31,
          "metadata": {},
          "output_type": "execute_result"
        }
      ],
      "source": [
        "# Converting the list of list into a dataframe\n",
        "df_Type_of_Loan = pd.DataFrame(mlb.fit_transform(train['Type_of_Loan']),columns=mlb.classes_).astype(bool)\n",
        "df_Type_of_Loan"
      ]
    },
    {
      "cell_type": "code",
      "execution_count": null,
      "metadata": {
        "id": "f_Pi9NKJQg2Q",
        "outputId": "5f0b6172-c4fa-49e5-c96f-d6cf8aabe6c7"
      },
      "outputs": [
        {
          "data": {
            "text/plain": [
              "0"
            ]
          },
          "execution_count": 32,
          "metadata": {},
          "output_type": "execute_result"
        }
      ],
      "source": [
        "# Making sure the nan feature is empty\n",
        "sum(df_Type_of_Loan['nan'] == 'True')"
      ]
    },
    {
      "cell_type": "code",
      "execution_count": null,
      "metadata": {
        "scrolled": true,
        "id": "XWsQpcycQg2Q"
      },
      "outputs": [],
      "source": [
        "# Dropping the nan feature\n",
        "df_Type_of_Loan.drop('nan', axis = 1, inplace = True)"
      ]
    },
    {
      "cell_type": "code",
      "execution_count": null,
      "metadata": {
        "id": "eyrCdB-fQg2Q"
      },
      "outputs": [],
      "source": [
        "# Combining the original dataset and the Type_of_Loan dataset\n",
        "train2 = pd.concat([train, df_Type_of_Loan],\n",
        "                  axis = 1,\n",
        "                  ignore_index = False)\n",
        "\n",
        "# Moving the Credit_Score feature to the end of the dataframe\n",
        "temp1 = train2['Credit_Score'] # temporarily storing the Credit_Score feature\n",
        "train2.drop('Credit_Score', axis = 1, inplace = True) # Dropping the feature\n",
        "train2['Credit_Score'] = temp1 # Reinserting the Credit_Score feature"
      ]
    },
    {
      "cell_type": "markdown",
      "metadata": {
        "id": "HJCG9ikJQg2Q"
      },
      "source": [
        "The Type_of_Loan feature itself for now will not be dropped. This feature will still be useful when we are going to engineer the Num_of_Loan feature in the numerical feature section. Num_of_Loan basically counts the Type_of_Loan each entry has and it will be easier to count directly from the Type_of_Loan feature."
      ]
    },
    {
      "cell_type": "markdown",
      "metadata": {
        "id": "3gH8HOg1Qg2Q"
      },
      "source": [
        "### **Ve. Categorical Feature: Payment_Behavior**"
      ]
    },
    {
      "cell_type": "markdown",
      "metadata": {
        "id": "rBd0XhkaQg2Q"
      },
      "source": [
        "The '!@9#%8' value will be dropped from the feature, as it contains an abnormal data validation compared to the other members in the feature."
      ]
    },
    {
      "cell_type": "code",
      "execution_count": null,
      "metadata": {
        "scrolled": true,
        "id": "0LTRofYsQg2Q",
        "outputId": "096518c8-efff-4997-dca5-2214923463b8"
      },
      "outputs": [
        {
          "data": {
            "text/plain": [
              "7600"
            ]
          },
          "execution_count": 35,
          "metadata": {},
          "output_type": "execute_result"
        }
      ],
      "source": [
        "# Checking how many '!@9#%8' Payment_Behaviour values there are\n",
        "len(train2[train2['Payment_Behaviour'] == '!@9#%8'])"
      ]
    },
    {
      "cell_type": "code",
      "execution_count": null,
      "metadata": {
        "id": "ZZlV52SfQg2Q"
      },
      "outputs": [],
      "source": [
        "# Dropping the '!@9#%8' value from the SSN feature\n",
        "train2['Payment_Behaviour'] = train2['Payment_Behaviour'].replace('!@9#%8', np.nan)"
      ]
    },
    {
      "cell_type": "code",
      "execution_count": null,
      "metadata": {
        "scrolled": true,
        "id": "7eyCAfg-Qg2R"
      },
      "outputs": [],
      "source": [
        "# Filling in the missing values in Payment_Behaviour feature\n",
        "train2['Payment_Behaviour'] = train2['Payment_Behaviour'].fillna(train.groupby('Customer_ID')['Payment_Behaviour'].transform(lambda x:x.mode().iat[0]))"
      ]
    },
    {
      "cell_type": "code",
      "execution_count": null,
      "metadata": {
        "id": "C5zFcMSSQg2R",
        "outputId": "9f6da9e2-bfea-43ca-a441-3ade6e152c6c"
      },
      "outputs": [
        {
          "data": {
            "text/plain": [
              "1736"
            ]
          },
          "execution_count": 38,
          "metadata": {},
          "output_type": "execute_result"
        }
      ],
      "source": [
        "# Checking if there are still abnormal values\n",
        "len(train2[train2['Payment_Behaviour'] == '!@9#%8'])"
      ]
    },
    {
      "cell_type": "markdown",
      "metadata": {
        "id": "1LfUxUfwQg2R"
      },
      "source": [
        "Note that after the fillna process, there are still 1736 '!@9#%8' values. This is because some customers have at least two type of Payment_Behaviour with same value counts. However, considering that the number is now small compared to the initial 7600 value counts, we will fill in the remaining with probability instead, the same as when we did with Type_of_Loan."
      ]
    },
    {
      "cell_type": "code",
      "execution_count": null,
      "metadata": {
        "id": "OYV0NCA_Qg2R",
        "outputId": "23ff020c-9747-4cd4-a3f2-7b483d063edd"
      },
      "outputs": [
        {
          "name": "stdout",
          "output_type": "stream",
          "text": [
            "               Payment_Behaviour  Count  Portion\n",
            "  Low_spent_Small_value_payments  27489 0.279746\n",
            "High_spent_Medium_value_payments  18911 0.192451\n",
            " High_spent_Large_value_payments  14911 0.151744\n",
            " Low_spent_Medium_value_payments  14414 0.146686\n",
            " High_spent_Small_value_payments  11771 0.119790\n",
            "  Low_spent_Large_value_payments  10768 0.109582\n"
          ]
        }
      ],
      "source": [
        "# Counting the portion of each unique value, excluding '!@9#%8'\n",
        "uniquevalueprob(train2, 'Payment_Behaviour', '!@9#%8')"
      ]
    },
    {
      "cell_type": "code",
      "execution_count": null,
      "metadata": {
        "id": "63OTqUzvQg2R",
        "outputId": "b5a8f38b-6732-4421-ccb1-5188ac9e982d"
      },
      "outputs": [
        {
          "data": {
            "text/plain": [
              "0"
            ]
          },
          "execution_count": 40,
          "metadata": {},
          "output_type": "execute_result"
        }
      ],
      "source": [
        "# Dropping !@9#%8 values\n",
        "train2['Payment_Behaviour'] = train2['Payment_Behaviour'].replace('!@9#%8', np.nan)\n",
        "\n",
        "# Filling in the remaining missing values with the unique value probability\n",
        "train2['Payment_Behaviour'] = train2['Payment_Behaviour'].fillna(pd.Series(np.random.choice(listUV,\n",
        "                                                                                            p = listUVportion, \n",
        "                                                                                            size = len(train2['Payment_Behaviour']))))\n",
        "\n",
        "# Checking if there are still abnormal values\n",
        "len(train2[train2['Payment_Behaviour'] == '!@9#%8'])"
      ]
    },
    {
      "cell_type": "markdown",
      "metadata": {
        "id": "2gLiNbL8Qg2R"
      },
      "source": [
        "### **Vf. Categorical Feature: Credit_Mix**"
      ]
    },
    {
      "cell_type": "markdown",
      "metadata": {
        "id": "qKtd5BOLQg2R"
      },
      "source": [
        "The 'Credit_Mix' feature also has missing values in the form of string, '_'. Like before, we are going to omit these '_' values first before filling in the missing values."
      ]
    },
    {
      "cell_type": "code",
      "execution_count": null,
      "metadata": {
        "scrolled": false,
        "id": "CDmlllLRQg2R",
        "outputId": "df98eb94-c274-472a-9379-54ecf6f917f9"
      },
      "outputs": [
        {
          "name": "stdout",
          "output_type": "stream",
          "text": [
            "Credit_Mix  Count  Portion\n",
            "  Standard  36479 0.457102\n",
            "      Good  24337 0.304956\n",
            "       Bad  18989 0.237942\n"
          ]
        }
      ],
      "source": [
        "# Dropping the '_' value\n",
        "train2['Credit_Mix'] = train2['Credit_Mix'].replace('_', np.nan)\n",
        "\n",
        "# Counting the portion of each unique value\n",
        "uniquevalueprob(train2, 'Credit_Mix')"
      ]
    },
    {
      "cell_type": "code",
      "execution_count": null,
      "metadata": {
        "scrolled": true,
        "id": "7SSPhF1MQg2S",
        "outputId": "5a105279-637e-470a-872a-ed43ec656a8e"
      },
      "outputs": [
        {
          "data": {
            "text/plain": [
              "0"
            ]
          },
          "execution_count": 42,
          "metadata": {},
          "output_type": "execute_result"
        }
      ],
      "source": [
        "# Filling in the remaining missing values with the unique value probability\n",
        "train2['Credit_Mix'] = train2['Credit_Mix'].fillna(pd.Series(np.random.choice(listUV,\n",
        "                                                                              p = listUVportion, \n",
        "                                                                              size = len(train2))))\n",
        "\n",
        "# Checking if there are still abnormal values\n",
        "len(train2[train2['Credit_Mix'] == '_'])"
      ]
    },
    {
      "cell_type": "markdown",
      "metadata": {
        "id": "0eLBDIrLQg2S"
      },
      "source": [
        "## **VI. Data Exploration 3: Numerical Features**"
      ]
    },
    {
      "cell_type": "markdown",
      "metadata": {
        "id": "UItWjcOtQg2S"
      },
      "source": [
        "Now that we are done with the categorical features, let us move on to the numerical ones. A slightly different approcah is needed as we are dealing with both continuous and discrete numbers."
      ]
    },
    {
      "cell_type": "code",
      "execution_count": null,
      "metadata": {
        "id": "NC7RqtAMQg2S",
        "outputId": "b638f445-44f7-44e1-b5ba-ac2b2aafe58d"
      },
      "outputs": [
        {
          "name": "stdout",
          "output_type": "stream",
          "text": [
            "<class 'pandas.core.frame.DataFrame'>\n",
            "RangeIndex: 100000 entries, 0 to 99999\n",
            "Data columns (total 17 columns):\n",
            " #   Column                    Non-Null Count   Dtype  \n",
            "---  ------                    --------------   -----  \n",
            " 0   Age                       100000 non-null  float64\n",
            " 1   Annual_Income             100000 non-null  float64\n",
            " 2   Monthly_Inhand_Salary     84998 non-null   float64\n",
            " 3   Num_Bank_Accounts         100000 non-null  int64  \n",
            " 4   Num_Credit_Card           100000 non-null  int64  \n",
            " 5   Interest_Rate             100000 non-null  int64  \n",
            " 6   Num_of_Loan               100000 non-null  float64\n",
            " 7   Delay_from_due_date       100000 non-null  int64  \n",
            " 8   Num_of_Delayed_Payment    92998 non-null   float64\n",
            " 9   Changed_Credit_Limit      97909 non-null   float64\n",
            " 10  Num_Credit_Inquiries      98035 non-null   float64\n",
            " 11  Outstanding_Debt          100000 non-null  float64\n",
            " 12  Credit_Utilization_Ratio  100000 non-null  float64\n",
            " 13  Credit_History_Age        90970 non-null   float64\n",
            " 14  Total_EMI_per_month       100000 non-null  float64\n",
            " 15  Amount_invested_monthly   95521 non-null   float64\n",
            " 16  Monthly_Balance           97132 non-null   float64\n",
            "dtypes: float64(13), int64(4)\n",
            "memory usage: 13.0 MB\n"
          ]
        }
      ],
      "source": [
        "# Numerical data overview\n",
        "NumDesc = train2[NumFeatures].info()\n",
        "NumDesc"
      ]
    },
    {
      "cell_type": "code",
      "execution_count": null,
      "metadata": {
        "scrolled": true,
        "id": "lPRPP7dGQg2S",
        "outputId": "197f6d92-412f-43e0-cb89-27d858b3ca92"
      },
      "outputs": [
        {
          "data": {
            "text/html": [
              "<div>\n",
              "<style scoped>\n",
              "    .dataframe tbody tr th:only-of-type {\n",
              "        vertical-align: middle;\n",
              "    }\n",
              "\n",
              "    .dataframe tbody tr th {\n",
              "        vertical-align: top;\n",
              "    }\n",
              "\n",
              "    .dataframe thead th {\n",
              "        text-align: right;\n",
              "    }\n",
              "</style>\n",
              "<table border=\"1\" class=\"dataframe\">\n",
              "  <thead>\n",
              "    <tr style=\"text-align: right;\">\n",
              "      <th></th>\n",
              "      <th>Age</th>\n",
              "      <th>Annual_Income</th>\n",
              "      <th>Monthly_Inhand_Salary</th>\n",
              "      <th>Num_Bank_Accounts</th>\n",
              "      <th>Num_Credit_Card</th>\n",
              "      <th>Interest_Rate</th>\n",
              "      <th>Num_of_Loan</th>\n",
              "      <th>Delay_from_due_date</th>\n",
              "      <th>Num_of_Delayed_Payment</th>\n",
              "      <th>Changed_Credit_Limit</th>\n",
              "      <th>Num_Credit_Inquiries</th>\n",
              "      <th>Outstanding_Debt</th>\n",
              "      <th>Credit_Utilization_Ratio</th>\n",
              "      <th>Credit_History_Age</th>\n",
              "      <th>Total_EMI_per_month</th>\n",
              "      <th>Amount_invested_monthly</th>\n",
              "      <th>Monthly_Balance</th>\n",
              "    </tr>\n",
              "  </thead>\n",
              "  <tbody>\n",
              "    <tr>\n",
              "      <th>count</th>\n",
              "      <td>100000.000000</td>\n",
              "      <td>1.000000e+05</td>\n",
              "      <td>84998.000000</td>\n",
              "      <td>100000.000000</td>\n",
              "      <td>100000.00000</td>\n",
              "      <td>100000.000000</td>\n",
              "      <td>100000.000000</td>\n",
              "      <td>100000.000000</td>\n",
              "      <td>92998.000000</td>\n",
              "      <td>97909.000000</td>\n",
              "      <td>98035.000000</td>\n",
              "      <td>100000.000000</td>\n",
              "      <td>100000.000000</td>\n",
              "      <td>90970.000000</td>\n",
              "      <td>100000.000000</td>\n",
              "      <td>95521.000000</td>\n",
              "      <td>9.713200e+04</td>\n",
              "    </tr>\n",
              "    <tr>\n",
              "      <th>mean</th>\n",
              "      <td>119.509700</td>\n",
              "      <td>1.764157e+05</td>\n",
              "      <td>4194.170850</td>\n",
              "      <td>17.091280</td>\n",
              "      <td>22.47443</td>\n",
              "      <td>72.466040</td>\n",
              "      <td>10.761960</td>\n",
              "      <td>21.068780</td>\n",
              "      <td>30.946268</td>\n",
              "      <td>10.465678</td>\n",
              "      <td>27.754251</td>\n",
              "      <td>1426.220376</td>\n",
              "      <td>32.285173</td>\n",
              "      <td>221.195405</td>\n",
              "      <td>1403.118217</td>\n",
              "      <td>637.412998</td>\n",
              "      <td>3.088580e+22</td>\n",
              "    </tr>\n",
              "    <tr>\n",
              "      <th>std</th>\n",
              "      <td>684.757313</td>\n",
              "      <td>1.429618e+06</td>\n",
              "      <td>3183.686167</td>\n",
              "      <td>117.404834</td>\n",
              "      <td>129.05741</td>\n",
              "      <td>466.422621</td>\n",
              "      <td>61.789933</td>\n",
              "      <td>14.860104</td>\n",
              "      <td>226.028754</td>\n",
              "      <td>6.670732</td>\n",
              "      <td>193.177339</td>\n",
              "      <td>1155.129026</td>\n",
              "      <td>5.116875</td>\n",
              "      <td>99.741364</td>\n",
              "      <td>8306.041270</td>\n",
              "      <td>2043.319327</td>\n",
              "      <td>3.208492e+24</td>\n",
              "    </tr>\n",
              "    <tr>\n",
              "      <th>min</th>\n",
              "      <td>14.000000</td>\n",
              "      <td>7.005930e+03</td>\n",
              "      <td>303.645417</td>\n",
              "      <td>-1.000000</td>\n",
              "      <td>0.00000</td>\n",
              "      <td>1.000000</td>\n",
              "      <td>0.000000</td>\n",
              "      <td>-5.000000</td>\n",
              "      <td>0.000000</td>\n",
              "      <td>0.000000</td>\n",
              "      <td>0.000000</td>\n",
              "      <td>0.230000</td>\n",
              "      <td>20.000000</td>\n",
              "      <td>1.000000</td>\n",
              "      <td>0.000000</td>\n",
              "      <td>0.000000</td>\n",
              "      <td>7.759665e-03</td>\n",
              "    </tr>\n",
              "    <tr>\n",
              "      <th>25%</th>\n",
              "      <td>25.000000</td>\n",
              "      <td>1.945750e+04</td>\n",
              "      <td>1625.568229</td>\n",
              "      <td>3.000000</td>\n",
              "      <td>4.00000</td>\n",
              "      <td>8.000000</td>\n",
              "      <td>2.000000</td>\n",
              "      <td>10.000000</td>\n",
              "      <td>9.000000</td>\n",
              "      <td>5.350000</td>\n",
              "      <td>3.000000</td>\n",
              "      <td>566.072500</td>\n",
              "      <td>28.052567</td>\n",
              "      <td>144.000000</td>\n",
              "      <td>30.306660</td>\n",
              "      <td>74.534002</td>\n",
              "      <td>2.700037e+02</td>\n",
              "    </tr>\n",
              "    <tr>\n",
              "      <th>50%</th>\n",
              "      <td>34.000000</td>\n",
              "      <td>3.757861e+04</td>\n",
              "      <td>3093.745000</td>\n",
              "      <td>6.000000</td>\n",
              "      <td>5.00000</td>\n",
              "      <td>13.000000</td>\n",
              "      <td>3.000000</td>\n",
              "      <td>18.000000</td>\n",
              "      <td>14.000000</td>\n",
              "      <td>9.400000</td>\n",
              "      <td>6.000000</td>\n",
              "      <td>1166.155000</td>\n",
              "      <td>32.305784</td>\n",
              "      <td>219.000000</td>\n",
              "      <td>69.249473</td>\n",
              "      <td>135.925682</td>\n",
              "      <td>3.364770e+02</td>\n",
              "    </tr>\n",
              "    <tr>\n",
              "      <th>75%</th>\n",
              "      <td>42.000000</td>\n",
              "      <td>7.279092e+04</td>\n",
              "      <td>5957.448333</td>\n",
              "      <td>7.000000</td>\n",
              "      <td>7.00000</td>\n",
              "      <td>20.000000</td>\n",
              "      <td>6.000000</td>\n",
              "      <td>28.000000</td>\n",
              "      <td>18.000000</td>\n",
              "      <td>14.870000</td>\n",
              "      <td>9.000000</td>\n",
              "      <td>1945.962500</td>\n",
              "      <td>36.496663</td>\n",
              "      <td>302.000000</td>\n",
              "      <td>161.224249</td>\n",
              "      <td>265.731733</td>\n",
              "      <td>4.696852e+02</td>\n",
              "    </tr>\n",
              "    <tr>\n",
              "      <th>max</th>\n",
              "      <td>8698.000000</td>\n",
              "      <td>2.419806e+07</td>\n",
              "      <td>15204.633333</td>\n",
              "      <td>1798.000000</td>\n",
              "      <td>1499.00000</td>\n",
              "      <td>5797.000000</td>\n",
              "      <td>1496.000000</td>\n",
              "      <td>67.000000</td>\n",
              "      <td>4397.000000</td>\n",
              "      <td>36.970000</td>\n",
              "      <td>2597.000000</td>\n",
              "      <td>4998.070000</td>\n",
              "      <td>50.000000</td>\n",
              "      <td>404.000000</td>\n",
              "      <td>82331.000000</td>\n",
              "      <td>10000.000000</td>\n",
              "      <td>3.333333e+26</td>\n",
              "    </tr>\n",
              "  </tbody>\n",
              "</table>\n",
              "</div>"
            ],
            "text/plain": [
              "                 Age  Annual_Income  Monthly_Inhand_Salary  Num_Bank_Accounts  \\\n",
              "count  100000.000000   1.000000e+05           84998.000000      100000.000000   \n",
              "mean      119.509700   1.764157e+05            4194.170850          17.091280   \n",
              "std       684.757313   1.429618e+06            3183.686167         117.404834   \n",
              "min        14.000000   7.005930e+03             303.645417          -1.000000   \n",
              "25%        25.000000   1.945750e+04            1625.568229           3.000000   \n",
              "50%        34.000000   3.757861e+04            3093.745000           6.000000   \n",
              "75%        42.000000   7.279092e+04            5957.448333           7.000000   \n",
              "max      8698.000000   2.419806e+07           15204.633333        1798.000000   \n",
              "\n",
              "       Num_Credit_Card  Interest_Rate    Num_of_Loan  Delay_from_due_date  \\\n",
              "count     100000.00000  100000.000000  100000.000000        100000.000000   \n",
              "mean          22.47443      72.466040      10.761960            21.068780   \n",
              "std          129.05741     466.422621      61.789933            14.860104   \n",
              "min            0.00000       1.000000       0.000000            -5.000000   \n",
              "25%            4.00000       8.000000       2.000000            10.000000   \n",
              "50%            5.00000      13.000000       3.000000            18.000000   \n",
              "75%            7.00000      20.000000       6.000000            28.000000   \n",
              "max         1499.00000    5797.000000    1496.000000            67.000000   \n",
              "\n",
              "       Num_of_Delayed_Payment  Changed_Credit_Limit  Num_Credit_Inquiries  \\\n",
              "count            92998.000000          97909.000000          98035.000000   \n",
              "mean                30.946268             10.465678             27.754251   \n",
              "std                226.028754              6.670732            193.177339   \n",
              "min                  0.000000              0.000000              0.000000   \n",
              "25%                  9.000000              5.350000              3.000000   \n",
              "50%                 14.000000              9.400000              6.000000   \n",
              "75%                 18.000000             14.870000              9.000000   \n",
              "max               4397.000000             36.970000           2597.000000   \n",
              "\n",
              "       Outstanding_Debt  Credit_Utilization_Ratio  Credit_History_Age  \\\n",
              "count     100000.000000             100000.000000        90970.000000   \n",
              "mean        1426.220376                 32.285173          221.195405   \n",
              "std         1155.129026                  5.116875           99.741364   \n",
              "min            0.230000                 20.000000            1.000000   \n",
              "25%          566.072500                 28.052567          144.000000   \n",
              "50%         1166.155000                 32.305784          219.000000   \n",
              "75%         1945.962500                 36.496663          302.000000   \n",
              "max         4998.070000                 50.000000          404.000000   \n",
              "\n",
              "       Total_EMI_per_month  Amount_invested_monthly  Monthly_Balance  \n",
              "count        100000.000000             95521.000000     9.713200e+04  \n",
              "mean           1403.118217               637.412998     3.088580e+22  \n",
              "std            8306.041270              2043.319327     3.208492e+24  \n",
              "min               0.000000                 0.000000     7.759665e-03  \n",
              "25%              30.306660                74.534002     2.700037e+02  \n",
              "50%              69.249473               135.925682     3.364770e+02  \n",
              "75%             161.224249               265.731733     4.696852e+02  \n",
              "max           82331.000000             10000.000000     3.333333e+26  "
            ]
          },
          "execution_count": 44,
          "metadata": {},
          "output_type": "execute_result"
        }
      ],
      "source": [
        "# Numerical data dispersion of variation overview\n",
        "NumDesc = train2.describe()\n",
        "NumDesc"
      ]
    },
    {
      "cell_type": "code",
      "execution_count": null,
      "metadata": {
        "scrolled": false,
        "id": "01jo4Ov_Qg2S",
        "outputId": "a94c98f0-41c0-4dad-fd2f-37666b19ee18"
      },
      "outputs": [
        {
          "data": {
            "image/png": "[encoded data removed]",
            "text/plain": [
              "<Figure size 432x288 with 1 Axes>"
            ]
          },
          "metadata": {
            "needs_background": "light"
          },
          "output_type": "display_data"
        },
        {
          "data": {
            "image/png": "[encoded data removed]",
            "text/plain": [
              "<Figure size 432x288 with 1 Axes>"
            ]
          },
          "metadata": {
            "needs_background": "light"
          },
          "output_type": "display_data"
        },
        {
          "data": {
            "image/png": "[encoded data removed]",
            "text/plain": [
              "<Figure size 432x288 with 1 Axes>"
            ]
          },
          "metadata": {
            "needs_background": "light"
          },
          "output_type": "display_data"
        },
        {
          "data": {
            "image/png": "[encoded data removed]",
            "text/plain": [
              "<Figure size 432x288 with 1 Axes>"
            ]
          },
          "metadata": {
            "needs_background": "light"
          },
          "output_type": "display_data"
        },
        {
          "data": {
            "image/png": "[encoded data removed]",
            "text/plain": [
              "<Figure size 432x288 with 1 Axes>"
            ]
          },
          "metadata": {
            "needs_background": "light"
          },
          "output_type": "display_data"
        },
        {
          "data": {
            "image/png": "[encoded data removed]",
            "text/plain": [
              "<Figure size 432x288 with 1 Axes>"
            ]
          },
          "metadata": {
            "needs_background": "light"
          },
          "output_type": "display_data"
        },
        {
          "data": {
            "image/png": "[encoded data removed]",
            "text/plain": [
              "<Figure size 432x288 with 1 Axes>"
            ]
          },
          "metadata": {
            "needs_background": "light"
          },
          "output_type": "display_data"
        },
        {
          "data": {
            "image/png": "[encoded data removed]",
            "text/plain": [
              "<Figure size 432x288 with 1 Axes>"
            ]
          },
          "metadata": {
            "needs_background": "light"
          },
          "output_type": "display_data"
        },
        {
          "data": {
            "image/png": "[encoded data removed]",
            "text/plain": [
              "<Figure size 432x288 with 1 Axes>"
            ]
          },
          "metadata": {
            "needs_background": "light"
          },
          "output_type": "display_data"
        },
        {
          "data": {
            "image/png": "[encoded data removed]",
            "text/plain": [
              "<Figure size 432x288 with 1 Axes>"
            ]
          },
          "metadata": {
            "needs_background": "light"
          },
          "output_type": "display_data"
        },
        {
          "data": {
            "image/png": "[encoded data removed]",
            "text/plain": [
              "<Figure size 432x288 with 1 Axes>"
            ]
          },
          "metadata": {
            "needs_background": "light"
          },
          "output_type": "display_data"
        },
        {
          "data": {
            "image/png": "[encoded data removed]",
            "text/plain": [
              "<Figure size 432x288 with 1 Axes>"
            ]
          },
          "metadata": {
            "needs_background": "light"
          },
          "output_type": "display_data"
        },
        {
          "data": {
            "image/png": "[encoded data removed]",
            "text/plain": [
              "<Figure size 432x288 with 1 Axes>"
            ]
          },
          "metadata": {
            "needs_background": "light"
          },
          "output_type": "display_data"
        },
        {
          "data": {
            "image/png": "[encoded data removed]",
            "text/plain": [
              "<Figure size 432x288 with 1 Axes>"
            ]
          },
          "metadata": {
            "needs_background": "light"
          },
          "output_type": "display_data"
        },
        {
          "data": {
            "image/png": "[encoded data removed]",
            "text/plain": [
              "<Figure size 432x288 with 1 Axes>"
            ]
          },
          "metadata": {
            "needs_background": "light"
          },
          "output_type": "display_data"
        },
        {
          "data": {
            "image/png": "[encoded data removed]",
            "text/plain": [
              "<Figure size 432x288 with 1 Axes>"
            ]
          },
          "metadata": {
            "needs_background": "light"
          },
          "output_type": "display_data"
        },
        {
          "data": {
            "image/png": "[encoded data removed]",
            "text/plain": [
              "<Figure size 432x288 with 1 Axes>"
            ]
          },
          "metadata": {
            "needs_background": "light"
          },
          "output_type": "display_data"
        }
      ],
      "source": [
        "# Visualizing data distribution of each feature to spot outliers\n",
        "for i in NumFeatures:\n",
        "    plt.hist(train2[i])\n",
        "    plt.title(i)\n",
        "    plt.show()"
      ]
    },
    {
      "cell_type": "markdown",
      "metadata": {
        "id": "nGib8SX2Qg2S"
      },
      "source": [
        "Findings:\n",
        "1. Monthly_Inhand_Salary, Num_of_Delayed_Payment, Changed_Credit_Limit, Num_Credit_Inquiries, Credit_History_Age, Amount_invested_monthly, and Monthly_Balance features (total: 7 features) have missing values.\n",
        "2. Age, Annual_Income, Num_Bank_Accounts, Num_Credit_Card, Interest_Rate, Num_of_Loan, Num_of_Delayed_Payment, Changed_Credit_Limit, Num_Credit_Inquiries, Total_EMI_per_month, Amount_invested_monthly, and Monthly_Balance features (total: 12 features) has abnormal max value (upper outlier). These outliers should be addressed when we are filling in the missing values using mean +- stddev imputation method\n",
        "3. Continuing from the Type_of_Loan feature data cleaning, the Num_of_Loan feature will need to be updated with reference to the updated value in Type_of_Loan. The Type_of_Loan feature itself will be dropped afterwards."
      ]
    },
    {
      "cell_type": "markdown",
      "metadata": {
        "id": "mNqgK_hgQg2S"
      },
      "source": [
        "Important numerical data cleaning note:\n",
        "In the numerical features data cleaning process, there might be cases in which each one needs a different approach. The cases:\n",
        "1. Missing value in an independent entry\n",
        "2. Missing value in one or more members of an aggregated entries\n",
        "3. Different value in one or more members of an aggregated entries\n",
        "4. Totally missing values of an aggregated entries"
      ]
    },
    {
      "cell_type": "markdown",
      "metadata": {
        "id": "c-HADMAGQg2T"
      },
      "source": [
        "For example:\n",
        "Customer A has 8 entries in the dataset. The Age value of this customer is either supposed to be the same in all 8 entries or differ with +1 value in the forward entries (assuming he/she might have had a birthday during the period of the data collection). However, when we are looking at the dataset, the Age values of this customer's entries show that they either have missing values or varying values. This kind of case needs to be made distinct from the other cases."
      ]
    },
    {
      "cell_type": "markdown",
      "metadata": {
        "id": "2alNt5-1Qg2T"
      },
      "source": [
        "## **VII. Numerical Feature Engineering: Data Cleaning**"
      ]
    },
    {
      "cell_type": "markdown",
      "metadata": {
        "id": "L9wpZzw7Qg2T"
      },
      "source": [
        "### **VIIa. Numerical Feature: Age**"
      ]
    },
    {
      "cell_type": "markdown",
      "metadata": {
        "id": "rohI9MzlQg2T"
      },
      "source": [
        "The first thing we want to do with the Age feature is to get rid of the illogical values. Let us assume that the oldest people can get in this dataset and still have active credit activities are 90 years old and the youngest ones are 18 years old, based on the general legal age of 18 to be able to have a credit card. Thus, the value above 90 and below 18 will be omitted."
      ]
    },
    {
      "cell_type": "code",
      "execution_count": null,
      "metadata": {
        "id": "JhLYnnVBQg2T",
        "outputId": "1688c961-53cb-4b34-abdc-25242c5fd61d"
      },
      "outputs": [
        {
          "name": "stdout",
          "output_type": "stream",
          "text": [
            " Age with value larger than 90  : 2781   ( 0.02781 % ) \n",
            " Age with value smaller than 18 : 5706   ( 0.05706 % )\n"
          ]
        }
      ],
      "source": [
        "# Age with value larger than 90\n",
        "sample1 =  (train2['Age'] > 90).sum()\n",
        "population = len(train2['Age'])\n",
        "percentage1 = sample1 / population\n",
        "\n",
        "# Age with value smaller than 18\n",
        "sample2 = (train2['Age'] < 18).sum()\n",
        "percentage2 = sample2 / population\n",
        "\n",
        "# report\n",
        "print(' Age with value larger than 90  :', \n",
        "      sample1,\n",
        "      ' ',\n",
        "      '(', percentage1, '% )', '\\n',\n",
        "      'Age with value smaller than 18 :', \n",
        "      sample2,\n",
        "      ' ',\n",
        "      '(', percentage2, '% )')"
      ]
    },
    {
      "cell_type": "code",
      "execution_count": null,
      "metadata": {
        "id": "WcqfAhKDQg2T"
      },
      "outputs": [],
      "source": [
        "# Dropping Age value larger than 90 and smaller than 18\n",
        "NewAge = []\n",
        "for i in range(len(train2.Age)):\n",
        "    if train2.Age[i] > 90 or train2.Age[i] < 18:\n",
        "        NewAge.append(np.nan)\n",
        "    else:\n",
        "        NewAge.append(train2.Age[i])       \n",
        "train2['Age'] = NewAge"
      ]
    },
    {
      "cell_type": "markdown",
      "metadata": {
        "id": "nW7N10JrQg2U"
      },
      "source": [
        "We are now going to fill in the missing values which appeared because of the previous omission. It is important to differ the type of missing values in this feature. Each customer has 8 entries in the dataset. These 8 entries are supposed to have the same Age value or +1 Age value in the forward entries, considering that he or she might have had a birthday during the data collection period (however, for practicality purpose, we will be assuming the same Age value in all 8 entries for one customer instead). Taking this into consideration, we can not immediately fill in all of the missing values with Age median +- standard deviation. We need to first try filling in the missing values with each customer's mode first."
      ]
    },
    {
      "cell_type": "code",
      "execution_count": null,
      "metadata": {
        "id": "fBHiU74KQg2U"
      },
      "outputs": [],
      "source": [
        "# Age lookup table, aggregated by customer ID\n",
        "\n",
        "# Creating the dataframe containing Customer_ID and Age\n",
        "AgeLookup = train2[['Customer_ID', 'Age']]\n",
        "\n",
        "# Returning the Age mode of each customer\n",
        "AgeLookup = AgeLookup.groupby('Customer_ID').agg(pd.Series.mode)\n",
        "\n",
        "# Replacing the Age value of each customer with each one's Mode\n",
        "train2['Age'] = train2['Customer_ID'].map(AgeLookup.Age)"
      ]
    },
    {
      "cell_type": "markdown",
      "metadata": {
        "id": "0sAMguisQg2U"
      },
      "source": [
        "With this replacement method, it is possible to generate Age value in type of a list for some customers. This is due to the possibility of those customers having two or three Age values which each has the same amount of occurence in their entries. We are going to eliminate these list values by using the first members of the lists instead."
      ]
    },
    {
      "cell_type": "code",
      "execution_count": null,
      "metadata": {
        "id": "5YA2D-jsQg2U"
      },
      "outputs": [],
      "source": [
        "# Eliminating any generated list values by using the first member of the list\n",
        "NewAge = []\n",
        "for i in range(len(train2.Age)):\n",
        "    # for float type members\n",
        "    if type(train2.Age[i]) == np.float64:\n",
        "        NewAge.append(train2.Age[i])\n",
        "    # for empty list members\n",
        "    elif type(train2.Age[i]) == np.ndarray and len(train2.Age[i]) == 0:\n",
        "        NewAge.append(np.nan)\n",
        "    # for non-empty list members\n",
        "    elif type(train2.Age[i]) == np.ndarray and len(train2.Age[i]) != 0:\n",
        "        NewAge.append(train2.Age[i][1])\n",
        "train2['Age'] = NewAge"
      ]
    },
    {
      "cell_type": "code",
      "execution_count": null,
      "metadata": {
        "id": "CktMo6ZWQg2U",
        "outputId": "662677a3-8cbb-4d70-b8ad-db75d6ac528b"
      },
      "outputs": [
        {
          "data": {
            "text/plain": [
              "0        23.0\n",
              "1        23.0\n",
              "2        23.0\n",
              "3        23.0\n",
              "4        23.0\n",
              "         ... \n",
              "99995    25.0\n",
              "99996    25.0\n",
              "99997    25.0\n",
              "99998    25.0\n",
              "99999    25.0\n",
              "Name: Age, Length: 100000, dtype: float64"
            ]
          },
          "execution_count": 50,
          "metadata": {},
          "output_type": "execute_result"
        }
      ],
      "source": [
        "# Reconverting the Age feature into float\n",
        "train2['Age'].astype('float')"
      ]
    },
    {
      "cell_type": "code",
      "execution_count": null,
      "metadata": {
        "scrolled": true,
        "id": "-W8IYBcuQg2V",
        "outputId": "f3051903-0bd8-4296-88fa-63cdf41a34e3"
      },
      "outputs": [
        {
          "name": "stdout",
          "output_type": "stream",
          "text": [
            "Remaining Age missing values : 5504\n"
          ]
        }
      ],
      "source": [
        "# Rechecking the missing values in Age feature\n",
        "remaining = train2['Age'].isnull().sum()\n",
        "print('Remaining Age missing values :', remaining)"
      ]
    },
    {
      "cell_type": "markdown",
      "metadata": {
        "id": "bS9DGTNCQg2V"
      },
      "source": [
        "There are still 5504 missing values in Age feature. We are now going to fill in these remaining missing values."
      ]
    },
    {
      "cell_type": "code",
      "execution_count": null,
      "metadata": {
        "scrolled": false,
        "id": "iSBI4l-8Qg2V",
        "outputId": "b0ba1ce5-bb66-4366-eb12-eb10d5a2c783"
      },
      "outputs": [
        {
          "data": {
            "image/png": "[encoded data removed]",
            "text/plain": [
              "<Figure size 432x288 with 1 Axes>"
            ]
          },
          "metadata": {
            "needs_background": "light"
          },
          "output_type": "display_data"
        }
      ],
      "source": [
        "# Checking the Age data distribution\n",
        "plt.hist(train2.Age)\n",
        "plt.title('Age Data Distribution')\n",
        "plt.xlabel('Age')\n",
        "plt.ylabel('Count')\n",
        "plt.show()"
      ]
    },
    {
      "cell_type": "markdown",
      "metadata": {
        "id": "EBZRBMp9Qg2V"
      },
      "source": [
        "The distribution looks good, distributed quite evenly. We then can fill in these remaining missing values with the mean +- standard deviation imputation."
      ]
    },
    {
      "cell_type": "code",
      "execution_count": null,
      "metadata": {
        "id": "BS09Vbz6Qg2V"
      },
      "outputs": [],
      "source": [
        "# Age lookup table for remaining misisng values, aggregated by customer ID\n",
        "table = train2[['Customer_ID', 'Age']]\n",
        "\n",
        "# Locating the entries with empty Age value\n",
        "Cust_ID = table.loc[table['Age'].isnull(), 'Customer_ID']\n",
        "\n",
        "# Getting only the unique Customer_ID\n",
        "Cust_ID = Cust_ID.unique()\n",
        "\n",
        "# Transforming the Customer_ID with empty Age value into a list\n",
        "Cust_ID = list(Cust_ID)\n",
        "\n",
        "# Creating the empty Age feature\n",
        "Age = []\n",
        "for i in range(len(Cust_ID)):\n",
        "    Age.append(np.nan)\n",
        "\n",
        "# Creating the Age lookup table\n",
        "AgeLookup = pd.DataFrame(list(zip(Cust_ID, Age)))\n",
        "AgeLookup.columns = ['Customer_ID', 'Age']\n",
        "\n",
        "# Mean of Age feature\n",
        "AgeMean = train2.Age.mean()\n",
        "\n",
        "# Standard deviation of Age feature\n",
        "AgeStdDev = train2.Age.std()\n",
        "\n",
        "# Generating the Age value for the AgeLookup table\n",
        "AgeLookup['Age'] = AgeLookup['Age'].fillna(pd.Series(np.random.randint(int(AgeMean - AgeStdDev), \n",
        "                                                                       int(AgeMean + AgeStdDev),\n",
        "                                                                       size = AgeLookup.Age.isnull().sum())))"
      ]
    },
    {
      "cell_type": "code",
      "execution_count": null,
      "metadata": {
        "scrolled": false,
        "id": "3pX30PhQQg2V",
        "outputId": "b785a163-81f0-4cae-8ed3-417447fc71c8"
      },
      "outputs": [
        {
          "data": {
            "text/plain": [
              "0"
            ]
          },
          "execution_count": 54,
          "metadata": {},
          "output_type": "execute_result"
        }
      ],
      "source": [
        "# Filling in the missing Age values in reference to the AgeLookup table\n",
        "train2['Age'] = train2['Age'].fillna(train2['Customer_ID'].map(AgeLookup.set_index('Customer_ID')['Age']))\n",
        "\n",
        "# Checking if there are still missing Age values\n",
        "train2['Age'].isnull().sum()"
      ]
    },
    {
      "cell_type": "markdown",
      "metadata": {
        "id": "fCJ2s2ZKQg2V"
      },
      "source": [
        "### **VIIb. Numerical Feature: Annual_ Income**"
      ]
    },
    {
      "cell_type": "code",
      "execution_count": null,
      "metadata": {
        "id": "3zgdgI9ZQg2V"
      },
      "outputs": [],
      "source": [
        "# restore point\n",
        "train2['Annual_Income'] = train['Annual_Income']"
      ]
    },
    {
      "cell_type": "markdown",
      "metadata": {
        "id": "axOhN27hQg2V"
      },
      "source": [
        "By looking at the previous histogram, there exists some outliers in the Annual_Income feature as well, with upper outliers the most obvious. Luckily, there are no missing values. Let's deal with the outliers first."
      ]
    },
    {
      "cell_type": "code",
      "execution_count": null,
      "metadata": {
        "id": "g88xE1LMQg2W",
        "outputId": "db32d2b4-5678-4708-cfe6-74e4c3ef907f"
      },
      "outputs": [
        {
          "name": "stdout",
          "output_type": "stream",
          "text": [
            "Outlier count in Annual_Income : 2783\n"
          ]
        }
      ],
      "source": [
        "# Counting the outliers in Annual_Income\n",
        "countoutlier(train2, 'Annual_Income')"
      ]
    },
    {
      "cell_type": "code",
      "execution_count": null,
      "metadata": {
        "scrolled": false,
        "id": "kCuf5RiPQg2W",
        "outputId": "85869497-1c46-4d20-d77f-51f0f5d663a7"
      },
      "outputs": [
        {
          "name": "stdout",
          "output_type": "stream",
          "text": [
            "Annual_Income  data distribution after dropping the outliers : \n"
          ]
        },
        {
          "data": {
            "image/png": "[encoded data removed]",
            "text/plain": [
              "<Figure size 432x288 with 1 Axes>"
            ]
          },
          "metadata": {
            "needs_background": "light"
          },
          "output_type": "display_data"
        }
      ],
      "source": [
        "# Dropping the outliers in Annual_Income\n",
        "omitoutlier(train2, 'Annual_Income')"
      ]
    },
    {
      "cell_type": "markdown",
      "metadata": {
        "id": "oYeWmJlfQg2W"
      },
      "source": [
        "The Annual_Income values per customer should share a same value, since the data collection only spans over a period of eight months. This is based on the assumption that each customer did not change occupation during the data collection period. For practicality purpose, the eight Annual_Income values per customer will share a same value."
      ]
    },
    {
      "cell_type": "markdown",
      "metadata": {
        "id": "Mk3y7k7pQg2W"
      },
      "source": [
        "The data cleaning operation for this feature is basically the same as the previous Age feature, but is now using some defined functions instead to make the process simpler."
      ]
    },
    {
      "cell_type": "code",
      "execution_count": null,
      "metadata": {
        "scrolled": true,
        "id": "G3eryYWAQg2W",
        "outputId": "c543bc01-e2e4-43bf-ca81-878e93470257"
      },
      "outputs": [
        {
          "name": "stdout",
          "output_type": "stream",
          "text": [
            "Remaining Annual_Income missing values : 1800\n"
          ]
        }
      ],
      "source": [
        "# Replacing the Annual_Income value of each customer with each one's Mode\n",
        "lookupreplacement(train2, 'Customer_ID', 'Annual_Income')"
      ]
    },
    {
      "cell_type": "markdown",
      "metadata": {
        "id": "limKUgnzQg2W"
      },
      "source": [
        "There are still 1800 (or 225 customers) with totally missing Annual_Income values. We will fill in these missing values."
      ]
    },
    {
      "cell_type": "code",
      "execution_count": null,
      "metadata": {
        "scrolled": true,
        "id": "-jfq7DRkQg2W",
        "outputId": "78ffd6d2-c88b-4097-dfeb-15373c2a3c73"
      },
      "outputs": [
        {
          "name": "stdout",
          "output_type": "stream",
          "text": [
            "Remaining Annual_Income missing values : 0\n"
          ]
        }
      ],
      "source": [
        "# Filling in the remaining Annual_Income missing values\n",
        "aggregatedfillna(train2, 'Customer_ID', 'Annual_Income')"
      ]
    },
    {
      "cell_type": "markdown",
      "metadata": {
        "id": "wanKh1BOQg2W"
      },
      "source": [
        "### **VIIc. Numerical Feature: Monthly_Inhand_Salary**"
      ]
    },
    {
      "cell_type": "markdown",
      "metadata": {
        "id": "cUG_G75tQg2W"
      },
      "source": [
        "By looking at the previous histogram, there does not seem to exist notable outliers. However, there are some missing values that need to be dealt with. Considering that the Monthly_Inhand_Salary values per customer should share a same value, we will be dealing with this feature using the defined lookupreplacement and aggregatedfillna functions."
      ]
    },
    {
      "cell_type": "code",
      "execution_count": null,
      "metadata": {
        "scrolled": true,
        "id": "9gaOVSy1Qg2X",
        "outputId": "0b40131b-1653-4e78-e89f-79c8910b65a1"
      },
      "outputs": [
        {
          "name": "stdout",
          "output_type": "stream",
          "text": [
            "Remaining Monthly_Inhand_Salary missing values : 0\n"
          ]
        }
      ],
      "source": [
        "# Replacing the Monthly_Inhand_Salary value of each customer with each one's Mode\n",
        "lookupreplacement(train2, 'Customer_ID', 'Monthly_Inhand_Salary')"
      ]
    },
    {
      "cell_type": "markdown",
      "metadata": {
        "id": "_nPB8kDwQg2X"
      },
      "source": [
        "There are no remaining missing values after the lookupreplacement operation, so we will proceed with the next numerical feature."
      ]
    },
    {
      "cell_type": "markdown",
      "metadata": {
        "id": "ee_fEF1jQg2X"
      },
      "source": [
        "### **VIId. Numerical Feature: Num_Bank_Accounts**"
      ]
    },
    {
      "cell_type": "markdown",
      "metadata": {
        "id": "F_gZPcn1Qg2X"
      },
      "source": [
        "By looking at the previous histogram, there exists some outliers in the Num_Bank_Accounts feature, with upper outliers the most obvious. Luckily, there are no missing values. Let's deal with the outliers first."
      ]
    },
    {
      "cell_type": "code",
      "execution_count": null,
      "metadata": {
        "id": "gzwaUhV5Qg2X",
        "outputId": "331e57b6-1ff3-411b-a4c9-84516ca5b13a"
      },
      "outputs": [
        {
          "name": "stdout",
          "output_type": "stream",
          "text": [
            "Outlier count in Num_Bank_Accounts : 1315\n"
          ]
        }
      ],
      "source": [
        "# Counting the outliers in Num_Bank_Accounts\n",
        "countoutlier(train2, 'Num_Bank_Accounts')"
      ]
    },
    {
      "cell_type": "code",
      "execution_count": null,
      "metadata": {
        "scrolled": true,
        "id": "7lBgUXS3Qg2X",
        "outputId": "1e01a4b4-9a95-49e1-975b-eadd73ad96f8"
      },
      "outputs": [
        {
          "name": "stdout",
          "output_type": "stream",
          "text": [
            "Num_Bank_Accounts  data distribution after dropping the outliers : \n"
          ]
        },
        {
          "data": {
            "image/png": "[encoded data removed]",
            "text/plain": [
              "<Figure size 432x288 with 1 Axes>"
            ]
          },
          "metadata": {
            "needs_background": "light"
          },
          "output_type": "display_data"
        }
      ],
      "source": [
        "# Dropping the outliers in Num_Bank_Accounts\n",
        "omitoutlier(train2, 'Num_Bank_Accounts')"
      ]
    },
    {
      "cell_type": "markdown",
      "metadata": {
        "id": "FCX66iKaQg2Y"
      },
      "source": [
        "The data distribution looks nice. Since the Num_Bank_Accounts values per customer share a same value, we will be dealing with this feature using the defined lookupreplacement and aggregatedfillna functions."
      ]
    },
    {
      "cell_type": "code",
      "execution_count": null,
      "metadata": {
        "scrolled": false,
        "id": "Oz5c38FEQg2Y",
        "outputId": "c24b76bc-3efd-4b25-fe43-55b86bc45b52"
      },
      "outputs": [
        {
          "name": "stdout",
          "output_type": "stream",
          "text": [
            "Remaining Num_Bank_Accounts missing values : 0\n"
          ]
        }
      ],
      "source": [
        "# Replacing the Num_Bank_Accounts value of each customer with each one's Mode\n",
        "lookupreplacement(train2, 'Customer_ID', 'Num_Bank_Accounts')"
      ]
    },
    {
      "cell_type": "markdown",
      "metadata": {
        "id": "tW-kzjYnQg2Y"
      },
      "source": [
        "There are no remaining missing values after the lookupreplacement operation, so we will proceed with the next numerical feature."
      ]
    },
    {
      "cell_type": "markdown",
      "metadata": {
        "id": "UMJF90b8Qg2Y"
      },
      "source": [
        "### **VIIe. Numerical Feature: Num_Credit_Card**"
      ]
    },
    {
      "cell_type": "markdown",
      "metadata": {
        "id": "UILrYsRiQg2Y"
      },
      "source": [
        "By looking at the previous histogram, there exists some outliers in the Num_Credit_Card feature, with upper outliers the most obvious. Luckily, there are no missing values. Let's deal with the outliers first."
      ]
    },
    {
      "cell_type": "code",
      "execution_count": null,
      "metadata": {
        "id": "MxjD_guUQg2Y",
        "outputId": "107adc40-667b-4ab0-9a65-e920a0349de0"
      },
      "outputs": [
        {
          "name": "stdout",
          "output_type": "stream",
          "text": [
            "Outlier count in Num_Credit_Card : 2271\n"
          ]
        }
      ],
      "source": [
        "# Counting the outliers in Num_Credit_Card\n",
        "countoutlier(train2, 'Num_Credit_Card')"
      ]
    },
    {
      "cell_type": "code",
      "execution_count": null,
      "metadata": {
        "scrolled": true,
        "id": "HpS4PycVQg2Y",
        "outputId": "46866262-fb45-4a16-ebe5-60ee5ef2b460"
      },
      "outputs": [
        {
          "name": "stdout",
          "output_type": "stream",
          "text": [
            "Num_Credit_Card  data distribution after dropping the outliers : \n"
          ]
        },
        {
          "data": {
            "image/png": "[encoded data removed]",
            "text/plain": [
              "<Figure size 432x288 with 1 Axes>"
            ]
          },
          "metadata": {
            "needs_background": "light"
          },
          "output_type": "display_data"
        }
      ],
      "source": [
        "# Dropping the outliers in Num_Credit_Card\n",
        "omitoutlier(train2, 'Num_Credit_Card')"
      ]
    },
    {
      "cell_type": "markdown",
      "metadata": {
        "id": "FP9m59muQg2Y"
      },
      "source": [
        "The data distribution looks nice. Since the Num_Credit_Card values per customer share a same value, we will be dealing with this feature using the defined lookupreplacement and aggregatedfillna functions."
      ]
    },
    {
      "cell_type": "code",
      "execution_count": null,
      "metadata": {
        "scrolled": true,
        "id": "xZcDY8ulQg2Z",
        "outputId": "5b03c1c2-334c-408c-a3b4-ef41e1a465ee"
      },
      "outputs": [
        {
          "name": "stdout",
          "output_type": "stream",
          "text": [
            "Remaining Num_Credit_Card missing values : 0\n"
          ]
        }
      ],
      "source": [
        "# Replacing the Num_Credit_Card value of each customer with each one's Mode\n",
        "lookupreplacement(train2, 'Customer_ID', 'Num_Credit_Card')"
      ]
    },
    {
      "cell_type": "markdown",
      "metadata": {
        "id": "pB79kZWuQg2Z"
      },
      "source": [
        "There are no remaining missing values after the lookupreplacement operation, so we will proceed with the next numerical feature."
      ]
    },
    {
      "cell_type": "markdown",
      "metadata": {
        "id": "Ic5_9vWgQg2Z"
      },
      "source": [
        "### **VIIf. Numerical Feature: Interest_Rate**"
      ]
    },
    {
      "cell_type": "markdown",
      "metadata": {
        "id": "DU66WTdhQg2Z"
      },
      "source": [
        "By looking at the previous histogram, there exists some outliers in the Interest_Rate feature, with upper outliers the most obvious. Luckily, there are no missing values. Let's deal with the outliers first."
      ]
    },
    {
      "cell_type": "code",
      "execution_count": null,
      "metadata": {
        "id": "0ImrXpXgQg2Z",
        "outputId": "87cc47af-36ac-4c8c-f86f-57483f31bfdd"
      },
      "outputs": [
        {
          "name": "stdout",
          "output_type": "stream",
          "text": [
            "Outlier count in Interest_Rate : 2034\n"
          ]
        }
      ],
      "source": [
        "# Counting the outliers in Interest_Rate\n",
        "countoutlier(train2, 'Interest_Rate')"
      ]
    },
    {
      "cell_type": "code",
      "execution_count": null,
      "metadata": {
        "scrolled": false,
        "id": "WV-nLVrLQg2Z",
        "outputId": "e6e31937-0837-4397-8a4d-3d3cdb95a380"
      },
      "outputs": [
        {
          "name": "stdout",
          "output_type": "stream",
          "text": [
            "Interest_Rate  data distribution after dropping the outliers : \n"
          ]
        },
        {
          "data": {
            "image/png": "[encoded data removed]",
            "text/plain": [
              "<Figure size 432x288 with 1 Axes>"
            ]
          },
          "metadata": {
            "needs_background": "light"
          },
          "output_type": "display_data"
        }
      ],
      "source": [
        "# Dropping the outliers in Interest_Rate\n",
        "omitoutlier(train2, 'Interest_Rate')"
      ]
    },
    {
      "cell_type": "markdown",
      "metadata": {
        "id": "fWijQM1KQg2Z"
      },
      "source": [
        "The data distribution looks nice. Since the Interest_Rate values per customer share a same value, we will be dealing with this feature using the defined lookupreplacement and aggregatedfillna functions."
      ]
    },
    {
      "cell_type": "code",
      "execution_count": null,
      "metadata": {
        "scrolled": true,
        "id": "KP-2SdCMQg2Z",
        "outputId": "04241649-86cb-43fa-f052-3287e5ba1bfd"
      },
      "outputs": [
        {
          "name": "stdout",
          "output_type": "stream",
          "text": [
            "Remaining Interest_Rate missing values : 0\n"
          ]
        }
      ],
      "source": [
        "# Replacing the Interest_Rate value of each customer with each one's Mode\n",
        "lookupreplacement(train2, 'Customer_ID', 'Interest_Rate')"
      ]
    },
    {
      "cell_type": "markdown",
      "metadata": {
        "id": "FswXSCvoQg2Z"
      },
      "source": [
        "There are no remaining missing values after the lookupreplacement operation, so we will proceed with the next numerical feature."
      ]
    },
    {
      "cell_type": "markdown",
      "metadata": {
        "id": "c7LEnO8-Qg2a"
      },
      "source": [
        "### **VIIg. Numerical Feature: Num_of_Loan**"
      ]
    },
    {
      "cell_type": "markdown",
      "metadata": {
        "id": "2upCTxUWQg2a"
      },
      "source": [
        "The Num_of_Loan feature is dependent to the Type_of_Loan feature. Num_of_Loan is basically the count of loan types that are present in the Type_of_Loan feature. Therefore, we are going to replace the outliers and possibly any wrong values by the count of the previously cleaned Type_of_Loan feature."
      ]
    },
    {
      "cell_type": "code",
      "execution_count": null,
      "metadata": {
        "id": "nvjSEszzQg2a"
      },
      "outputs": [],
      "source": [
        "# Creating a list to store the Type_of_Loan count of each row\n",
        "Num_of_Loan = []\n",
        "\n",
        "# Counting Type_of_Loan in each row and storing them in Num_of_Loan\n",
        "for row in range(len(train2['Type_of_Loan'])):\n",
        "    num = len(train2['Type_of_Loan'][row])\n",
        "    Num_of_Loan.append(num)\n",
        "\n",
        "# Replacing the Num_of_Loan feature with the new list\n",
        "train2['Num_of_Loan'] = Num_of_Loan\n",
        "\n",
        "# Dropping the Type_of_Loan feature since it's redundant\n",
        "train2.drop('Type_of_Loan', axis = 1, inplace = True)"
      ]
    },
    {
      "cell_type": "markdown",
      "metadata": {
        "id": "wP3naydAQg2a"
      },
      "source": [
        "To make it more intuitive when further analyzing the data, we will move the Num_of_Loan feature just before the Type_of_Loan features."
      ]
    },
    {
      "cell_type": "code",
      "execution_count": null,
      "metadata": {
        "scrolled": true,
        "id": "vGyJIjygQg2a",
        "outputId": "7843d00b-9b01-4593-eed6-5ccc33adee1e"
      },
      "outputs": [
        {
          "name": "stdout",
          "output_type": "stream",
          "text": [
            "['ID', 'Customer_ID', 'Month', 'Age', 'SSN', 'Occupation', 'Annual_Income', 'Monthly_Inhand_Salary', 'Num_Bank_Accounts', 'Num_Credit_Card', 'Interest_Rate', 'Delay_from_due_date', 'Num_of_Delayed_Payment', 'Changed_Credit_Limit', 'Num_Credit_Inquiries', 'Credit_Mix', 'Outstanding_Debt', 'Credit_Utilization_Ratio', 'Credit_History_Age', 'Payment_of_Min_Amount', 'Total_EMI_per_month', 'Amount_invested_monthly', 'Payment_Behaviour', 'Monthly_Balance', 'Num_of_Loan', 'Auto Loan', 'Credit-Builder Loan', 'Debt Consolidation Loan', 'Home Equity Loan', 'Mortgage Loan', 'Not Specified', 'Payday Loan', 'Personal Loan', 'Student Loan', 'Credit_Score']\n"
          ]
        }
      ],
      "source": [
        "# Moving the Num_of_Loan feature just before the now-spread Type_of_Loan features\n",
        "\n",
        "# Temporarily storing the features as a list\n",
        "cols = train2.columns.tolist() \n",
        "\n",
        "# Rearranging the features\n",
        "cols = cols[:11] + cols[12:-10] + [cols[11]] + cols[-10:]\n",
        "print(cols) # Checking if the order of the features\n",
        "\n",
        "# Turning back the data into a dataframe\n",
        "train2 = train2[cols]"
      ]
    },
    {
      "cell_type": "markdown",
      "metadata": {
        "id": "muN1akSLQg2a"
      },
      "source": [
        "### **VIIh. Numerical Feature: Num_of_Delayed_Payment**"
      ]
    },
    {
      "cell_type": "markdown",
      "metadata": {
        "id": "984dFQjLQg2a"
      },
      "source": [
        "By looking at the previous histogram, there exists some outliers in the Num_of_Delayed_Payment feature, with upper outliers the most obvious. Luckily, there are no missing values. Let's deal with the outliers first."
      ]
    },
    {
      "cell_type": "code",
      "execution_count": null,
      "metadata": {
        "id": "NV3TU50wQg2a",
        "outputId": "1c90b365-b0ee-46b5-ac6a-f51c58b8e5d4"
      },
      "outputs": [
        {
          "name": "stdout",
          "output_type": "stream",
          "text": [
            "Outlier count in Num_of_Delayed_Payment : 736\n"
          ]
        }
      ],
      "source": [
        "# Counting the outliers in Num_of_Delayed_Payment\n",
        "countoutlier(train2, 'Num_of_Delayed_Payment')"
      ]
    },
    {
      "cell_type": "code",
      "execution_count": null,
      "metadata": {
        "scrolled": false,
        "id": "thS9nz91Qg2a",
        "outputId": "beb317c6-6eb1-40b6-99c4-90350ed4fb0a"
      },
      "outputs": [
        {
          "name": "stdout",
          "output_type": "stream",
          "text": [
            "Num_of_Delayed_Payment  data distribution after dropping the outliers : \n"
          ]
        },
        {
          "data": {
            "image/png": "[encoded data removed]",
            "text/plain": [
              "<Figure size 432x288 with 1 Axes>"
            ]
          },
          "metadata": {
            "needs_background": "light"
          },
          "output_type": "display_data"
        }
      ],
      "source": [
        "# Dropping the outliers in Num_of_Delayed_Payment\n",
        "omitoutlier(train2, 'Num_of_Delayed_Payment')"
      ]
    },
    {
      "cell_type": "markdown",
      "metadata": {
        "id": "YJz4CuU0Qg2b"
      },
      "source": [
        "The data distribution looks nice. In Num_of_Loan feature, the eight values shared by a customer does not necessarily have to be a same value. There are two ways to fill in the missing values, that is to simply change the nan values to 0 or using forward fill method. We will be using the later if there exists any 0 value in the feature, since the existence may imply that the nan value does not necessarily mean empty or zero. Forward fill method is one of the better ways to fill in this type of missing values to maintain the similarity between the values shared by each customer."
      ]
    },
    {
      "cell_type": "code",
      "execution_count": null,
      "metadata": {
        "id": "SdLn3BGvQg2b",
        "outputId": "3155c832-5b50-49ff-c923-0d8b82cf051e"
      },
      "outputs": [
        {
          "data": {
            "text/plain": [
              "1609"
            ]
          },
          "execution_count": 74,
          "metadata": {},
          "output_type": "execute_result"
        }
      ],
      "source": [
        "# Checking if there are any Num_of_Delayed_Payment with 0 value\n",
        "(train2['Num_of_Delayed_Payment'] == 0).sum()"
      ]
    },
    {
      "cell_type": "markdown",
      "metadata": {
        "id": "2i0atdOZQg2b"
      },
      "source": [
        "There exists the 0 values. Therefore, we will be using the forward fill method to fill in the missing values."
      ]
    },
    {
      "cell_type": "code",
      "execution_count": null,
      "metadata": {
        "id": "6KnMQ1vYQg2b",
        "outputId": "d43b08d8-b3a4-4671-e36b-1390aa59710a"
      },
      "outputs": [
        {
          "data": {
            "text/plain": [
              "0"
            ]
          },
          "execution_count": 75,
          "metadata": {},
          "output_type": "execute_result"
        }
      ],
      "source": [
        "# Filling in the missing Num_of_Delayed_Payment values with forward fill method\n",
        "train2['Num_of_Delayed_Payment'] = train2['Num_of_Delayed_Payment'].fillna(method = 'ffill')\n",
        "\n",
        "# Checking if there are still missing values in the Num_of_Delayed_Payment feature\n",
        "train2['Num_of_Delayed_Payment'].isnull().sum()"
      ]
    },
    {
      "cell_type": "markdown",
      "metadata": {
        "id": "XRa2_ic0Qg2b"
      },
      "source": [
        "### **VIIi. Numerical Feature: Changed_Credit_Limit**"
      ]
    },
    {
      "cell_type": "markdown",
      "metadata": {
        "id": "Pb3MFXMUQg2b"
      },
      "source": [
        "By looking at the previous histogram, there does not seem to exist notable outliers. However, there are some missing values that need to be dealt with. In Changed_Credit_Limit feature, the eight values shared by a customer does not necessarily have to be a same value. Same as before, we will be filling in the missing values by either changing the nan values to 0 method or using forward fill method."
      ]
    },
    {
      "cell_type": "code",
      "execution_count": null,
      "metadata": {
        "id": "uoTO3Kb3Qg2b",
        "outputId": "10e5b13f-b309-4013-b9b8-e7a6fac7d4e1"
      },
      "outputs": [
        {
          "data": {
            "text/plain": [
              "2091"
            ]
          },
          "execution_count": 76,
          "metadata": {},
          "output_type": "execute_result"
        }
      ],
      "source": [
        "train2['Changed_Credit_Limit'].isnull().sum()"
      ]
    },
    {
      "cell_type": "code",
      "execution_count": null,
      "metadata": {
        "id": "Qn4JvHN-Qg2b",
        "outputId": "8d21a779-5716-437f-8a53-5c65fcb516a8"
      },
      "outputs": [
        {
          "data": {
            "text/plain": [
              "4"
            ]
          },
          "execution_count": 77,
          "metadata": {},
          "output_type": "execute_result"
        }
      ],
      "source": [
        "# Checking if there are any Changed_Credit_Limit with 0 value\n",
        "(train2['Changed_Credit_Limit'] == 0).sum()"
      ]
    },
    {
      "cell_type": "markdown",
      "metadata": {
        "id": "ZOprEtwnQg2c"
      },
      "source": [
        "There exists the 0 values. Therefore, we will be using the forward fill method to fill in the missing values."
      ]
    },
    {
      "cell_type": "code",
      "execution_count": null,
      "metadata": {
        "id": "YR-KIrnLQg2c",
        "outputId": "2df3fd2a-6d33-4ecf-aa55-28e4fd6b3821"
      },
      "outputs": [
        {
          "data": {
            "text/plain": [
              "0"
            ]
          },
          "execution_count": 78,
          "metadata": {},
          "output_type": "execute_result"
        }
      ],
      "source": [
        "# Filling in the missing Changed_Credit_Limit values with forward fill method\n",
        "train2['Changed_Credit_Limit'] = train2['Changed_Credit_Limit'].fillna(method = 'ffill')\n",
        "\n",
        "# Checking if there are still missing values in the Changed_Credit_Limit feature\n",
        "train2['Changed_Credit_Limit'].isnull().sum()"
      ]
    },
    {
      "cell_type": "markdown",
      "metadata": {
        "id": "ABpacELJQg2c"
      },
      "source": [
        "### **VIIj. Numerical Feature: Num_Credit_Inquiries**"
      ]
    },
    {
      "cell_type": "raw",
      "metadata": {
        "id": "l65ndg-yQg2c"
      },
      "source": [
        "By looking at the previous histogram, there exists some outliers in the Num_Credit_Inquiries feature, with upper outliers the most obvious. There are missing values as well. Let's deal with the outliers first."
      ]
    },
    {
      "cell_type": "code",
      "execution_count": null,
      "metadata": {
        "scrolled": true,
        "id": "bH8jlVgVQg2c",
        "outputId": "5fe60670-c965-4438-a1d5-32a3c42fc6e2"
      },
      "outputs": [
        {
          "name": "stdout",
          "output_type": "stream",
          "text": [
            "Outlier count in Num_Credit_Inquiries : 1650\n"
          ]
        }
      ],
      "source": [
        "# Counting the outliers in Num_Credit_Inquiries\n",
        "countoutlier(train2, 'Num_Credit_Inquiries')"
      ]
    },
    {
      "cell_type": "code",
      "execution_count": null,
      "metadata": {
        "scrolled": true,
        "id": "GRgjNjMbQg2c",
        "outputId": "cc8204ab-253c-4860-aae4-acd56b983a75"
      },
      "outputs": [
        {
          "name": "stdout",
          "output_type": "stream",
          "text": [
            "Num_Credit_Inquiries  data distribution after dropping the outliers : \n"
          ]
        },
        {
          "data": {
            "image/png": "[encoded data removed]",
            "text/plain": [
              "<Figure size 432x288 with 1 Axes>"
            ]
          },
          "metadata": {
            "needs_background": "light"
          },
          "output_type": "display_data"
        }
      ],
      "source": [
        "# Dropping the outliers in Num_Credit_Inquiries\n",
        "omitoutlier(train2, 'Num_Credit_Inquiries')"
      ]
    },
    {
      "cell_type": "markdown",
      "metadata": {
        "id": "OTkljd11Qg2c"
      },
      "source": [
        "The data distribution looks nice. In Num_Credit_Inquiries feature, the eight values shared by a customer does not necessarily have to be a same value. Same as before, we will be filling in the missing values by either changing the nan values to 0 method or using forward fill method."
      ]
    },
    {
      "cell_type": "code",
      "execution_count": null,
      "metadata": {
        "id": "Vup6X8kcQg2c",
        "outputId": "a8634d96-54fc-4362-9219-b9ed1f0abf6b"
      },
      "outputs": [
        {
          "data": {
            "text/plain": [
              "6972"
            ]
          },
          "execution_count": 81,
          "metadata": {},
          "output_type": "execute_result"
        }
      ],
      "source": [
        "# Checking if there are any Num_Credit_Inquiries with 0 value\n",
        "(train2['Num_Credit_Inquiries'] == 0).sum()"
      ]
    },
    {
      "cell_type": "markdown",
      "metadata": {
        "id": "fL8Pe5vuQg2d"
      },
      "source": [
        "There exists the 0 values. Therefore, we will be using the forward fill method to fill in the missing values."
      ]
    },
    {
      "cell_type": "code",
      "execution_count": null,
      "metadata": {
        "id": "-pYiPnV4Qg2d",
        "outputId": "d016b8cd-4a08-4423-af9b-e6a0b451a227"
      },
      "outputs": [
        {
          "data": {
            "text/plain": [
              "0"
            ]
          },
          "execution_count": 82,
          "metadata": {},
          "output_type": "execute_result"
        }
      ],
      "source": [
        "# Filling in the missing Num_Credit_Inquiries values with forward fill method\n",
        "train2['Num_Credit_Inquiries'] = train2['Num_Credit_Inquiries'].fillna(method = 'ffill')\n",
        "\n",
        "# Checking if there are still missing values in the Num_Credit_Inquiries feature\n",
        "train2['Num_Credit_Inquiries'].isnull().sum()"
      ]
    },
    {
      "cell_type": "markdown",
      "metadata": {
        "id": "ozO_XIV-Qg2d"
      },
      "source": [
        "### **VIIk. Numerical Feature: Credit_History_Age**"
      ]
    },
    {
      "cell_type": "markdown",
      "metadata": {
        "id": "mtQNWgjlQg2d"
      },
      "source": [
        "By looking at the previous histogram, there does not seem to exist notable outliers. However, there are some missing values that need to be dealt with. In Credit_History_Age feature, the eight values shared by a customer does not necessarily have to be a same value. In fact, the values shared by each customer act differently compared to the values in other features."
      ]
    },
    {
      "cell_type": "code",
      "execution_count": null,
      "metadata": {
        "scrolled": false,
        "id": "OpsGX43LQg2d",
        "outputId": "8b45ab44-3195-4853-8e72-32fd7695191d"
      },
      "outputs": [
        {
          "data": {
            "text/plain": [
              "0"
            ]
          },
          "execution_count": 98,
          "metadata": {},
          "output_type": "execute_result"
        }
      ],
      "source": [
        "# Creating a list containing index with step 8 to locate the start of each customer\n",
        "# range start\n",
        "start = 0\n",
        "# range stop: the number of the entries\n",
        "stop = len(train2)\n",
        "# range step: the number of entries for each customer\n",
        "step = len(train2[train2['Customer_ID'] == train2['Customer_ID'].unique()[0]])\n",
        "# Defining CustomerIndexer\n",
        "CustomerIndexer = range(start, stop, step)\n",
        "\n",
        "# Start of the moving index\n",
        "i = 0\n",
        "\n",
        "# Iterating through each customer to fill the missing values\n",
        "for indexstart, ID in zip(CustomerIndexer, train2['Customer_ID'].unique()):\n",
        "    \n",
        "    # Dealing with the first n missing values\n",
        "    \n",
        "    i = indexstart # Index start for each new customer\n",
        "    \n",
        "    # While the beginning entry of the current customer is still empty\n",
        "    while i > -1 and np.isnan(train2['Credit_History_Age'][indexstart]) == True:\n",
        "        if np.isnan(train2['Credit_History_Age'][i]) == True: # Encountering missing value\n",
        "            i = i + 1\n",
        "        else: # Encountering filled entry\n",
        "            train2['Credit_History_Age'][i - 1] = train2['Credit_History_Age'][i] - 1\n",
        "            i = i - 1\n",
        "    \n",
        "    # Dealing with the rest of the missing values\n",
        "    \n",
        "    i = indexstart # Restarting the loop from the current customer's first entry\n",
        "    \n",
        "    # While i is still in bound and the Customer_ID is according to the current cuustomer\n",
        "    while i < len(train2['Customer_ID']) and train2['Customer_ID'][i] == ID:\n",
        "        if np.isnan(train2['Credit_History_Age'][i]) == False: # Encountering filled entry\n",
        "            i = i + 1\n",
        "        else: # Encountering missing value\n",
        "            train2['Credit_History_Age'][i] = train2['Credit_History_Age'][i - 1] + 1\n",
        "            i = i + 1\n",
        "\n",
        "# Checking if there are still missing values in the Credit_History_Age feature\n",
        "train2['Credit_History_Age'].isnull().sum()"
      ]
    },
    {
      "cell_type": "markdown",
      "metadata": {
        "id": "W7EHWPuEQg2d"
      },
      "source": [
        "### **VIIl. Numerical Feature: Total_EMI_per_month**"
      ]
    },
    {
      "cell_type": "markdown",
      "metadata": {
        "id": "rQ0ryEPLQg2d"
      },
      "source": [
        "By looking at the previous histogram, there exists some outliers in the Num_of_Loan feature, with upper outliers the most obvious. Luckily, there are no missing values. Let's deal with the outliers first."
      ]
    },
    {
      "cell_type": "code",
      "execution_count": null,
      "metadata": {
        "scrolled": true,
        "id": "MrJk_HIyQg2e",
        "outputId": "41eb1943-e06c-4ddd-efa1-ee1f82be68cb"
      },
      "outputs": [
        {
          "name": "stdout",
          "output_type": "stream",
          "text": [
            "Outlier count in Total_EMI_per_month : 6795\n"
          ]
        }
      ],
      "source": [
        "# Counting the outliers in Total_EMI_per_month\n",
        "countoutlier(train2, 'Total_EMI_per_month')"
      ]
    },
    {
      "cell_type": "code",
      "execution_count": null,
      "metadata": {
        "scrolled": false,
        "id": "3z191Wg2Qg2e",
        "outputId": "4bf8a5a0-fc3d-496f-fcd7-be9702c89bd9"
      },
      "outputs": [
        {
          "name": "stdout",
          "output_type": "stream",
          "text": [
            "Total_EMI_per_month  data distribution after dropping the outliers : \n"
          ]
        },
        {
          "data": {
            "image/png": "[encoded data removed]",
            "text/plain": [
              "<Figure size 432x288 with 1 Axes>"
            ]
          },
          "metadata": {
            "needs_background": "light"
          },
          "output_type": "display_data"
        }
      ],
      "source": [
        "# Dropping the outliers in Total_EMI_per_month\n",
        "omitoutlier(train2, 'Total_EMI_per_month')"
      ]
    },
    {
      "cell_type": "markdown",
      "metadata": {
        "id": "TJQzbwXaQg2e"
      },
      "source": [
        "The data distribution looks nice. Since the Total_EMI_per_month values per customer share a same value, we will be dealing with this feature using the defined lookupreplacement and aggregatedfillna functions."
      ]
    },
    {
      "cell_type": "code",
      "execution_count": null,
      "metadata": {
        "scrolled": false,
        "id": "2M60P0yLQg2e",
        "outputId": "0d363792-119a-468f-cba0-86057fe06c22"
      },
      "outputs": [
        {
          "name": "stdout",
          "output_type": "stream",
          "text": [
            "Remaining Total_EMI_per_month missing values : 2376\n"
          ]
        }
      ],
      "source": [
        "# Replacing the Total_EMI_per_month value of each customer with each one's Mode\n",
        "lookupreplacement(train2, 'Customer_ID', 'Total_EMI_per_month')"
      ]
    },
    {
      "cell_type": "markdown",
      "metadata": {
        "id": "mBD6vzrgQg2e"
      },
      "source": [
        "There are still 2376 (or 297 customers) with totally missing Total_EMI_per_month values. We will fill in these missing values."
      ]
    },
    {
      "cell_type": "code",
      "execution_count": null,
      "metadata": {
        "scrolled": true,
        "id": "o0YdaXm_Qg2e",
        "outputId": "1df7aaf0-b85b-4c15-a69a-a5e5b12edf02"
      },
      "outputs": [
        {
          "name": "stdout",
          "output_type": "stream",
          "text": [
            "Remaining Total_EMI_per_month missing values : 0\n"
          ]
        }
      ],
      "source": [
        "# Filling in the remaining Total_EMI_per_month missing values\n",
        "aggregatedfillna(train2, 'Customer_ID', 'Total_EMI_per_month')"
      ]
    },
    {
      "cell_type": "markdown",
      "metadata": {
        "id": "OqCuoGVDQg2e"
      },
      "source": [
        "### **VIIm. Numerical Feature: Amount_invested_monthly**"
      ]
    },
    {
      "cell_type": "raw",
      "metadata": {
        "id": "0cpKGE3cQg2e"
      },
      "source": [
        "By looking at the previous histogram, there exists some outliers in the Amount_invested_monthly feature, with upper outliers the most obvious. There are missing values as well. Moreover, the eight values shared by a customer do not necessarily have to be a same value. Let's deal with the outliers first."
      ]
    },
    {
      "cell_type": "code",
      "execution_count": null,
      "metadata": {
        "scrolled": true,
        "id": "8J7rVlv_Qg2e",
        "outputId": "9ec16ef9-b44c-4834-c1c0-e0da5a661a53"
      },
      "outputs": [
        {
          "name": "stdout",
          "output_type": "stream",
          "text": [
            "Outlier count in Amount_invested_monthly : 10096\n"
          ]
        }
      ],
      "source": [
        "# Counting the outliers in Amount_invested_monthly\n",
        "countoutlier(train2, 'Amount_invested_monthly')"
      ]
    },
    {
      "cell_type": "code",
      "execution_count": null,
      "metadata": {
        "scrolled": true,
        "id": "ybgGw7D5Qg2f",
        "outputId": "92391cd5-8259-4990-e784-4f5c92f647a3"
      },
      "outputs": [
        {
          "name": "stdout",
          "output_type": "stream",
          "text": [
            "Amount_invested_monthly  data distribution after dropping the outliers : \n"
          ]
        },
        {
          "data": {
            "image/png": "[encoded data removed]",
            "text/plain": [
              "<Figure size 432x288 with 1 Axes>"
            ]
          },
          "metadata": {
            "needs_background": "light"
          },
          "output_type": "display_data"
        }
      ],
      "source": [
        "# Dropping the outliers in Amount_invested_monthly\n",
        "omitoutlier(train2, 'Amount_invested_monthly')"
      ]
    },
    {
      "cell_type": "code",
      "execution_count": null,
      "metadata": {
        "id": "fT8P71ezQg2f",
        "outputId": "90adabb4-1c90-4cb9-a100-3c9033c7ccc3"
      },
      "outputs": [
        {
          "data": {
            "text/plain": [
              "14575"
            ]
          },
          "execution_count": 90,
          "metadata": {},
          "output_type": "execute_result"
        }
      ],
      "source": [
        "# Checking the remaining missing values\n",
        "train2['Amount_invested_monthly'].isnull().sum()"
      ]
    },
    {
      "cell_type": "markdown",
      "metadata": {
        "id": "EVr-Lv6uQg2f"
      },
      "source": [
        "Let's fill in the missing values using the aggregatedfillna defined function since the eight values shared by each customer do not necessarily have to be a same value."
      ]
    },
    {
      "cell_type": "code",
      "execution_count": null,
      "metadata": {
        "id": "B0P89xRrQg2f",
        "outputId": "8a63947c-d882-45a4-80e8-21f4f424eb0a"
      },
      "outputs": [
        {
          "name": "stdout",
          "output_type": "stream",
          "text": [
            "Remaining Amount_invested_monthly missing values : 0\n"
          ]
        }
      ],
      "source": [
        "# Filling in the remaining Amount_invested_monthly missing values\n",
        "aggregatedfillna(train2, 'Customer_ID', 'Amount_invested_monthly')"
      ]
    },
    {
      "cell_type": "markdown",
      "metadata": {
        "id": "VBzqAY9kQg2f"
      },
      "source": [
        "### **VIIn. Numerical Feature: Monthly_Balance**"
      ]
    },
    {
      "cell_type": "raw",
      "metadata": {
        "id": "kvL2iSHlQg2f"
      },
      "source": [
        "By looking at the previous histogram, there exists some outliers in the Monthly_Balance feature, with upper outliers the most obvious. There are missing values as well. Moreover, the eight values shared by a customer do not necessarily have to be a same value. Let's deal with the outliers first."
      ]
    },
    {
      "cell_type": "code",
      "execution_count": null,
      "metadata": {
        "scrolled": false,
        "id": "9yxd_mD4Qg2f",
        "outputId": "c4b0cfd9-c0cd-49e9-db6f-59d141dbf478"
      },
      "outputs": [
        {
          "name": "stdout",
          "output_type": "stream",
          "text": [
            "Outlier count in Monthly_Balance : 7516\n"
          ]
        }
      ],
      "source": [
        "# Counting the outliers in Monthly_Balance\n",
        "countoutlier(train2, 'Monthly_Balance')"
      ]
    },
    {
      "cell_type": "code",
      "execution_count": null,
      "metadata": {
        "scrolled": false,
        "id": "G4NSQ2IJQg2f",
        "outputId": "f2c4142f-2013-4fb7-ac31-3f10c8b38094"
      },
      "outputs": [
        {
          "name": "stdout",
          "output_type": "stream",
          "text": [
            "Monthly_Balance  data distribution after dropping the outliers : \n"
          ]
        },
        {
          "data": {
            "image/png": "[encoded data removed]",
            "text/plain": [
              "<Figure size 432x288 with 1 Axes>"
            ]
          },
          "metadata": {
            "needs_background": "light"
          },
          "output_type": "display_data"
        }
      ],
      "source": [
        "# Dropping the outliers in Monthly_Balance\n",
        "omitoutlier(train2, 'Monthly_Balance')"
      ]
    },
    {
      "cell_type": "markdown",
      "metadata": {
        "id": "pHMvQuoTQg2g"
      },
      "source": [
        "Assuming that it is not very likely for people to have zero monthly balance, we are going to fill in the missing values in this feature with mean +- standard deviation method."
      ]
    },
    {
      "cell_type": "code",
      "execution_count": null,
      "metadata": {
        "id": "Wlt1DugGQg2g",
        "outputId": "b3968bc5-9b92-4b10-f460-8229e241d549"
      },
      "outputs": [
        {
          "name": "stdout",
          "output_type": "stream",
          "text": [
            "Remaining Monthly_Balance missing values : 0\n"
          ]
        }
      ],
      "source": [
        "aggregatedfillna(train2, 'Customer_ID', 'Monthly_Balance')"
      ]
    },
    {
      "cell_type": "markdown",
      "metadata": {
        "id": "BrgNTNBwQg2g"
      },
      "source": [
        "## **VIII. Finishing**"
      ]
    },
    {
      "cell_type": "markdown",
      "metadata": {
        "id": "hbLC241_Qg2g"
      },
      "source": [
        "Now that we have pretty much finished with the train dataset data cleaning, let's do a final check before exporting the result into a new file."
      ]
    },
    {
      "cell_type": "markdown",
      "metadata": {
        "id": "Q5CgLaOWQg2g"
      },
      "source": [
        "### **VIIIa. Rechecking the dataset**"
      ]
    },
    {
      "cell_type": "code",
      "execution_count": null,
      "metadata": {
        "id": "IhhUoUz6Qg2g",
        "outputId": "384e42b7-2653-4ae2-9ca1-3caff7dcb6b4"
      },
      "outputs": [
        {
          "name": "stdout",
          "output_type": "stream",
          "text": [
            "<class 'pandas.core.frame.DataFrame'>\n",
            "RangeIndex: 100000 entries, 0 to 99999\n",
            "Data columns (total 35 columns):\n",
            " #   Column                    Non-Null Count   Dtype  \n",
            "---  ------                    --------------   -----  \n",
            " 0   ID                        100000 non-null  object \n",
            " 1   Customer_ID               100000 non-null  object \n",
            " 2   Month                     100000 non-null  object \n",
            " 3   Age                       100000 non-null  float64\n",
            " 4   SSN                       100000 non-null  object \n",
            " 5   Occupation                100000 non-null  object \n",
            " 6   Annual_Income             100000 non-null  float64\n",
            " 7   Monthly_Inhand_Salary     100000 non-null  float64\n",
            " 8   Num_Bank_Accounts         100000 non-null  float64\n",
            " 9   Num_Credit_Card           100000 non-null  float64\n",
            " 10  Interest_Rate             100000 non-null  float64\n",
            " 11  Delay_from_due_date       100000 non-null  int64  \n",
            " 12  Num_of_Delayed_Payment    100000 non-null  float64\n",
            " 13  Changed_Credit_Limit      100000 non-null  float64\n",
            " 14  Num_Credit_Inquiries      100000 non-null  float64\n",
            " 15  Credit_Mix                100000 non-null  object \n",
            " 16  Outstanding_Debt          100000 non-null  float64\n",
            " 17  Credit_Utilization_Ratio  100000 non-null  float64\n",
            " 18  Credit_History_Age        100000 non-null  float64\n",
            " 19  Payment_of_Min_Amount     100000 non-null  object \n",
            " 20  Total_EMI_per_month       100000 non-null  float64\n",
            " 21  Amount_invested_monthly   100000 non-null  float64\n",
            " 22  Payment_Behaviour         100000 non-null  object \n",
            " 23  Monthly_Balance           100000 non-null  float64\n",
            " 24  Num_of_Loan               100000 non-null  int64  \n",
            " 25  Auto Loan                 100000 non-null  bool   \n",
            " 26  Credit-Builder Loan       100000 non-null  bool   \n",
            " 27  Debt Consolidation Loan   100000 non-null  bool   \n",
            " 28  Home Equity Loan          100000 non-null  bool   \n",
            " 29  Mortgage Loan             100000 non-null  bool   \n",
            " 30  Not Specified             100000 non-null  bool   \n",
            " 31  Payday Loan               100000 non-null  bool   \n",
            " 32  Personal Loan             100000 non-null  bool   \n",
            " 33  Student Loan              100000 non-null  bool   \n",
            " 34  Credit_Score              100000 non-null  object \n",
            "dtypes: bool(9), float64(15), int64(2), object(9)\n",
            "memory usage: 20.7+ MB\n"
          ]
        }
      ],
      "source": [
        "# dataset overview\n",
        "train2.info()"
      ]
    },
    {
      "cell_type": "code",
      "execution_count": null,
      "metadata": {
        "scrolled": false,
        "id": "0a72REX1Qg2g",
        "outputId": "5457a7e0-522d-4150-fc90-8adfbc0f2642"
      },
      "outputs": [
        {
          "data": {
            "image/png": "[encoded data removed]",
            "text/plain": [
              "<Figure size 432x288 with 1 Axes>"
            ]
          },
          "metadata": {
            "needs_background": "light"
          },
          "output_type": "display_data"
        },
        {
          "data": {
            "image/png": "[encoded data removed]",
            "text/plain": [
              "<Figure size 432x288 with 1 Axes>"
            ]
          },
          "metadata": {
            "needs_background": "light"
          },
          "output_type": "display_data"
        },
        {
          "data": {
            "image/png": "[encoded data removed]",
            "text/plain": [
              "<Figure size 432x288 with 1 Axes>"
            ]
          },
          "metadata": {
            "needs_background": "light"
          },
          "output_type": "display_data"
        },
        {
          "data": {
            "image/png": "[encoded data removed]",
            "text/plain": [
              "<Figure size 432x288 with 1 Axes>"
            ]
          },
          "metadata": {
            "needs_background": "light"
          },
          "output_type": "display_data"
        },
        {
          "data": {
            "image/png": "[encoded data removed]",
            "text/plain": [
              "<Figure size 432x288 with 1 Axes>"
            ]
          },
          "metadata": {
            "needs_background": "light"
          },
          "output_type": "display_data"
        },
        {
          "data": {
            "image/png": "[encoded data removed]",
            "text/plain": [
              "<Figure size 432x288 with 1 Axes>"
            ]
          },
          "metadata": {
            "needs_background": "light"
          },
          "output_type": "display_data"
        },
        {
          "data": {
            "image/png": "[encoded data removed]",
            "text/plain": [
              "<Figure size 432x288 with 1 Axes>"
            ]
          },
          "metadata": {
            "needs_background": "light"
          },
          "output_type": "display_data"
        },
        {
          "data": {
            "image/png": "[encoded data removed]",
            "text/plain": [
              "<Figure size 432x288 with 1 Axes>"
            ]
          },
          "metadata": {
            "needs_background": "light"
          },
          "output_type": "display_data"
        },
        {
          "data": {
            "image/png": "[encoded data removed]",
            "text/plain": [
              "<Figure size 432x288 with 1 Axes>"
            ]
          },
          "metadata": {
            "needs_background": "light"
          },
          "output_type": "display_data"
        },
        {
          "data": {
            "image/png": "[encoded data removed]",
            "text/plain": [
              "<Figure size 432x288 with 1 Axes>"
            ]
          },
          "metadata": {
            "needs_background": "light"
          },
          "output_type": "display_data"
        },
        {
          "data": {
            "image/png": "[encoded data removed]",
            "text/plain": [
              "<Figure size 432x288 with 1 Axes>"
            ]
          },
          "metadata": {
            "needs_background": "light"
          },
          "output_type": "display_data"
        },
        {
          "data": {
            "image/png": "[encoded data removed]",
            "text/plain": [
              "<Figure size 432x288 with 1 Axes>"
            ]
          },
          "metadata": {
            "needs_background": "light"
          },
          "output_type": "display_data"
        },
        {
          "data": {
            "image/png": "[encoded data removed]",
            "text/plain": [
              "<Figure size 432x288 with 1 Axes>"
            ]
          },
          "metadata": {
            "needs_background": "light"
          },
          "output_type": "display_data"
        },
        {
          "data": {
            "image/png": "[encoded data removed]",
            "text/plain": [
              "<Figure size 432x288 with 1 Axes>"
            ]
          },
          "metadata": {
            "needs_background": "light"
          },
          "output_type": "display_data"
        },
        {
          "data": {
            "image/png": "[encoded data removed]",
            "text/plain": [
              "<Figure size 432x288 with 1 Axes>"
            ]
          },
          "metadata": {
            "needs_background": "light"
          },
          "output_type": "display_data"
        },
        {
          "data": {
            "image/png": "[encoded data removed]",
            "text/plain": [
              "<Figure size 432x288 with 1 Axes>"
            ]
          },
          "metadata": {
            "needs_background": "light"
          },
          "output_type": "display_data"
        },
        {
          "data": {
            "image/png": "[encoded data removed]",
            "text/plain": [
              "<Figure size 432x288 with 1 Axes>"
            ]
          },
          "metadata": {
            "needs_background": "light"
          },
          "output_type": "display_data"
        }
      ],
      "source": [
        "# Data distribution of each numerical feature\n",
        "for i in NumFeatures:\n",
        "    plt.hist(train2[i])\n",
        "    plt.title(i)\n",
        "    plt.show()"
      ]
    },
    {
      "cell_type": "markdown",
      "metadata": {
        "id": "HEhzjs5rQg2g"
      },
      "source": [
        "There are no missing values now and no notable extreme outliers present in the dataset. Any further data distribution engineering will take place in the next data analysis, with method tentative to the analysis method used when analyzing the data."
      ]
    },
    {
      "cell_type": "markdown",
      "metadata": {
        "id": "_kekwiqeQg2g"
      },
      "source": [
        "### **VIIIb. Exporting the dataset**"
      ]
    },
    {
      "cell_type": "markdown",
      "metadata": {
        "id": "ETeEwmUlQg2h"
      },
      "source": [
        "We are now done. What is left is to export the result of this data cleaning project to a csv file for further analysis."
      ]
    },
    {
      "cell_type": "code",
      "execution_count": null,
      "metadata": {
        "scrolled": true,
        "id": "deSJZSfhQg2h"
      },
      "outputs": [],
      "source": [
        "train2.to_csv('Credit Score Classification (Cleaned Train Dataset).csv')"
      ]
    }
  ],
  "metadata": {
    "colab": {
      "collapsed_sections": [],
      "name": "Credit_Score_Classification_Data_Cleaning_(Train_Dataset).ipynb",
      "provenance": [],
      "include_colab_link": true
    },
    "kernelspec": {
      "display_name": "Python 3 (ipykernel)",
      "language": "python",
      "name": "python3"
    },
    "language_info": {
      "codemirror_mode": {
        "name": "ipython",
        "version": 3
      },
      "file_extension": ".py",
      "mimetype": "text/x-python",
      "name": "python",
      "nbconvert_exporter": "python",
      "pygments_lexer": "ipython3",
      "version": "3.9.7"
    }
  },
  "nbformat": 4,
  "nbformat_minor": 0
}