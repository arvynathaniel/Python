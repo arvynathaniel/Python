{
  "nbformat": 4,
  "nbformat_minor": 0,
  "metadata": {
    "colab": {
      "name": "Mental Health Data Cleaning (Shortened).ipynb",
      "provenance": [],
      "toc_visible": true,
      "collapsed_sections": [],
      "authorship_tag": "ABX9TyNA6NrVbtE6HkS3072FpVth",
      "include_colab_link": true
    },
    "kernelspec": {
      "name": "python3",
      "display_name": "Python 3"
    },
    "language_info": {
      "name": "python"
    }
  },
  "cells": [
    {
      "cell_type": "markdown",
      "metadata": {
        "id": "view-in-github",
        "colab_type": "text"
      },
      "source": [
        "<a href=\"https://colab.research.google.com/github/arvynathaniel/Python/blob/main/Mental_Health_Data_Cleaning_(Shortened).ipynb\" target=\"_parent\"><img src=\"https://colab.research.google.com/assets/colab-badge.svg\" alt=\"Open In Colab\"/></a>"
      ]
    },
    {
      "cell_type": "markdown",
      "source": [
        "##**Mental Health Survey Data Cleaning Project**"
      ],
      "metadata": {
        "id": "gcWiMdOmej4o"
      }
    },
    {
      "cell_type": "markdown",
      "source": [
        "In this project, we will be looking at the 'Mental Health Survey' dataset. The main goal of this project is to take a look at the data presented by this dataset and then clean it, so that the cleaned data can further be used on the next exploratory data analysis (EDA) project.\n",
        "\n",
        "The main work sequence that will be performed in this project:\n",
        "1.   Calling in the libraries and dataset\n",
        "2.   Performing a light data exploration on the dataset\n",
        "3.   Cleaning the data and performing some feature engineering if needed\n",
        "4.   Exporting the dataset into a new csv file\n",
        "\n",
        "Our thanks to the provider of this dataset:\n",
        "\n",
        "https://www.kaggle.com/datasets/osmi/mental-health-in-tech-survey\n"
      ],
      "metadata": {
        "id": "dY_2JoDEgbdS"
      }
    },
    {
      "cell_type": "markdown",
      "source": [
        "##**1. Preparation**"
      ],
      "metadata": {
        "id": "fOkmh0JbhnSe"
      }
    },
    {
      "cell_type": "markdown",
      "source": [
        "###1a. Libraries"
      ],
      "metadata": {
        "id": "iLUwLAQzip6B"
      }
    },
    {
      "cell_type": "code",
      "execution_count": 20,
      "metadata": {
        "id": "d67pwgLNHNqO"
      },
      "outputs": [],
      "source": [
        "# pandas to help us performing actions on the dataset in a tabular form\n",
        "import pandas as pd\n",
        "\n",
        "# numpy to help us performing mathematical operations\n",
        "import numpy as np\n",
        "\n",
        "# termcolor to help us coloring printed string\n",
        "from termcolor import colored"
      ]
    },
    {
      "cell_type": "markdown",
      "source": [
        "###1b. Dataset"
      ],
      "metadata": {
        "id": "4bVO9LJnivVY"
      }
    },
    {
      "cell_type": "code",
      "source": [
        "data = pd.read_csv('Mental Health Survey.csv')"
      ],
      "metadata": {
        "id": "VfOrKyoAHnfB"
      },
      "execution_count": 4,
      "outputs": []
    },
    {
      "cell_type": "markdown",
      "source": [
        "###1c. Functions"
      ],
      "metadata": {
        "id": "UCmCoUxvo4dJ"
      }
    },
    {
      "cell_type": "code",
      "source": [
        "# A function to get the unique values in a feature and each of its counts\n",
        "def uniquevaluescount(data, feature):\n",
        "    # Storing each unique value of feature in a list\n",
        "    features = data[feature]\n",
        "    listUV = features.unique()\n",
        "    listUV = [i for i in listUV if type(i) is not float]\n",
        "\n",
        "    # Storing the count of each unique value of feature in a list\n",
        "    listUVcount = []\n",
        "    for i in listUV:\n",
        "        UVcount = (data[feature] == i).sum()\n",
        "        listUVcount.append(UVcount)\n",
        "    \n",
        "    # Displaying the report in a table\n",
        "    table = pd.DataFrame(list(zip(listUV, listUVcount)))\n",
        "    table.columns = [feature, 'Count']\n",
        "    print(colored(('Unique value count of ' + feature), 'blue'))\n",
        "    print(table.\n",
        "          sort_values(['Count', feature], \n",
        "                      ascending = [0,1]).\n",
        "          to_string(index = False))\n",
        "    print('Total : ' + str(sum(listUVcount)) + '\\n')\n",
        "\n",
        "# A function to get the percentage of missing values in a feature\n",
        "def missingvaluepercentage(data, feature):\n",
        "    # Count of missing value\n",
        "    missingvaluecount = data[feature].isnull().sum()\n",
        "    \n",
        "    # Count of total data\n",
        "    totalcount = len(data[feature])\n",
        "\n",
        "    # Missing value percentage calculation\n",
        "    missingvalue = missingvaluecount / totalcount * 100\n",
        "    missingvalue = \"{:.2f}\".format(missingvalue)\n",
        "\n",
        "    # Displaying the misisng value report\n",
        "    print('Missing value : ' + str(missingvalue) + '%')\n",
        "\n",
        "# A function to calculate the probability of each unique value in a feature\n",
        "def valueprobability(data, feature):\n",
        "    # Storing each unique value of feature in a list\n",
        "    features = data[feature]\n",
        "    global listUV\n",
        "    listUV = features.unique()\n",
        "    listUV = [i for i in listUV if type(i) is not float]\n",
        "\n",
        "    # Storing the count of each unique value of feature in a list\n",
        "    global listUVcount\n",
        "    listUVcount = []\n",
        "    for i in listUV:\n",
        "        UVcount = (data[feature] == i).sum()\n",
        "        listUVcount.append(UVcount)\n",
        "    \n",
        "    # Calculating the total count of the feature\n",
        "    totalcount = sum(listUVcount)\n",
        "\n",
        "    # Calculating the probability of each unique value in the feature\n",
        "    global listUVprob\n",
        "    listUVprob = []\n",
        "    for i in listUVcount:\n",
        "        UVprob = i / totalcount\n",
        "        listUVprob.append(UVprob)\n",
        "    \n",
        "    # Displaying the report in a table\n",
        "    table = pd.DataFrame(list(zip(listUV, listUVcount, listUVprob)))\n",
        "    table.columns = [feature, 'Count', 'Probabiity']\n",
        "    print(table.\n",
        "          sort_values(['Count', feature], \n",
        "                      ascending = [0,1]).\n",
        "          to_string(index = False))"
      ],
      "metadata": {
        "id": "BskBIrx4o8tm"
      },
      "execution_count": 25,
      "outputs": []
    },
    {
      "cell_type": "markdown",
      "source": [
        "##**2. Light Data Exploration**"
      ],
      "metadata": {
        "id": "4LpXWETMiEXo"
      }
    },
    {
      "cell_type": "markdown",
      "source": [
        "###2a. General overview"
      ],
      "metadata": {
        "id": "aeTM9vYbiyNB"
      }
    },
    {
      "cell_type": "code",
      "source": [
        "data.head()"
      ],
      "metadata": {
        "colab": {
          "base_uri": "https://localhost:8080/",
          "height": 473
        },
        "id": "MGT72cUfIH1p",
        "outputId": "7426c3d8-147c-4a80-b180-8c54c1cdb21f"
      },
      "execution_count": 5,
      "outputs": [
        {
          "output_type": "execute_result",
          "data": {
            "text/plain": [
              "             Timestamp  Age  Gender         Country state self_employed  \\\n",
              "0  2014-08-27 11:29:31   37  Female   United States    IL           NaN   \n",
              "1  2014-08-27 11:29:37   44       M   United States    IN           NaN   \n",
              "2  2014-08-27 11:29:44   32    Male          Canada   NaN           NaN   \n",
              "3  2014-08-27 11:29:46   31    Male  United Kingdom   NaN           NaN   \n",
              "4  2014-08-27 11:30:22   31    Male   United States    TX           NaN   \n",
              "\n",
              "  family_history treatment work_interfere    no_employees  ...  \\\n",
              "0             No       Yes          Often            6-25  ...   \n",
              "1             No        No         Rarely  More than 1000  ...   \n",
              "2             No        No         Rarely            6-25  ...   \n",
              "3            Yes       Yes          Often          26-100  ...   \n",
              "4             No        No          Never         100-500  ...   \n",
              "\n",
              "                leave mental_health_consequence phys_health_consequence  \\\n",
              "0       Somewhat easy                        No                      No   \n",
              "1          Don't know                     Maybe                      No   \n",
              "2  Somewhat difficult                        No                      No   \n",
              "3  Somewhat difficult                       Yes                     Yes   \n",
              "4          Don't know                        No                      No   \n",
              "\n",
              "      coworkers supervisor mental_health_interview phys_health_interview  \\\n",
              "0  Some of them        Yes                      No                 Maybe   \n",
              "1            No         No                      No                    No   \n",
              "2           Yes        Yes                     Yes                   Yes   \n",
              "3  Some of them         No                   Maybe                 Maybe   \n",
              "4  Some of them        Yes                     Yes                   Yes   \n",
              "\n",
              "  mental_vs_physical obs_consequence comments  \n",
              "0                Yes              No      NaN  \n",
              "1         Don't know              No      NaN  \n",
              "2                 No              No      NaN  \n",
              "3                 No             Yes      NaN  \n",
              "4         Don't know              No      NaN  \n",
              "\n",
              "[5 rows x 27 columns]"
            ],
            "text/html": [
              "\n",
              "  <div id=\"df-7d91fd73-04c9-4b85-bd53-6c5755462d91\">\n",
              "    <div class=\"colab-df-container\">\n",
              "      <div>\n",
              "<style scoped>\n",
              "    .dataframe tbody tr th:only-of-type {\n",
              "        vertical-align: middle;\n",
              "    }\n",
              "\n",
              "    .dataframe tbody tr th {\n",
              "        vertical-align: top;\n",
              "    }\n",
              "\n",
              "    .dataframe thead th {\n",
              "        text-align: right;\n",
              "    }\n",
              "</style>\n",
              "<table border=\"1\" class=\"dataframe\">\n",
              "  <thead>\n",
              "    <tr style=\"text-align: right;\">\n",
              "      <th></th>\n",
              "      <th>Timestamp</th>\n",
              "      <th>Age</th>\n",
              "      <th>Gender</th>\n",
              "      <th>Country</th>\n",
              "      <th>state</th>\n",
              "      <th>self_employed</th>\n",
              "      <th>family_history</th>\n",
              "      <th>treatment</th>\n",
              "      <th>work_interfere</th>\n",
              "      <th>no_employees</th>\n",
              "      <th>...</th>\n",
              "      <th>leave</th>\n",
              "      <th>mental_health_consequence</th>\n",
              "      <th>phys_health_consequence</th>\n",
              "      <th>coworkers</th>\n",
              "      <th>supervisor</th>\n",
              "      <th>mental_health_interview</th>\n",
              "      <th>phys_health_interview</th>\n",
              "      <th>mental_vs_physical</th>\n",
              "      <th>obs_consequence</th>\n",
              "      <th>comments</th>\n",
              "    </tr>\n",
              "  </thead>\n",
              "  <tbody>\n",
              "    <tr>\n",
              "      <th>0</th>\n",
              "      <td>2014-08-27 11:29:31</td>\n",
              "      <td>37</td>\n",
              "      <td>Female</td>\n",
              "      <td>United States</td>\n",
              "      <td>IL</td>\n",
              "      <td>NaN</td>\n",
              "      <td>No</td>\n",
              "      <td>Yes</td>\n",
              "      <td>Often</td>\n",
              "      <td>6-25</td>\n",
              "      <td>...</td>\n",
              "      <td>Somewhat easy</td>\n",
              "      <td>No</td>\n",
              "      <td>No</td>\n",
              "      <td>Some of them</td>\n",
              "      <td>Yes</td>\n",
              "      <td>No</td>\n",
              "      <td>Maybe</td>\n",
              "      <td>Yes</td>\n",
              "      <td>No</td>\n",
              "      <td>NaN</td>\n",
              "    </tr>\n",
              "    <tr>\n",
              "      <th>1</th>\n",
              "      <td>2014-08-27 11:29:37</td>\n",
              "      <td>44</td>\n",
              "      <td>M</td>\n",
              "      <td>United States</td>\n",
              "      <td>IN</td>\n",
              "      <td>NaN</td>\n",
              "      <td>No</td>\n",
              "      <td>No</td>\n",
              "      <td>Rarely</td>\n",
              "      <td>More than 1000</td>\n",
              "      <td>...</td>\n",
              "      <td>Don't know</td>\n",
              "      <td>Maybe</td>\n",
              "      <td>No</td>\n",
              "      <td>No</td>\n",
              "      <td>No</td>\n",
              "      <td>No</td>\n",
              "      <td>No</td>\n",
              "      <td>Don't know</td>\n",
              "      <td>No</td>\n",
              "      <td>NaN</td>\n",
              "    </tr>\n",
              "    <tr>\n",
              "      <th>2</th>\n",
              "      <td>2014-08-27 11:29:44</td>\n",
              "      <td>32</td>\n",
              "      <td>Male</td>\n",
              "      <td>Canada</td>\n",
              "      <td>NaN</td>\n",
              "      <td>NaN</td>\n",
              "      <td>No</td>\n",
              "      <td>No</td>\n",
              "      <td>Rarely</td>\n",
              "      <td>6-25</td>\n",
              "      <td>...</td>\n",
              "      <td>Somewhat difficult</td>\n",
              "      <td>No</td>\n",
              "      <td>No</td>\n",
              "      <td>Yes</td>\n",
              "      <td>Yes</td>\n",
              "      <td>Yes</td>\n",
              "      <td>Yes</td>\n",
              "      <td>No</td>\n",
              "      <td>No</td>\n",
              "      <td>NaN</td>\n",
              "    </tr>\n",
              "    <tr>\n",
              "      <th>3</th>\n",
              "      <td>2014-08-27 11:29:46</td>\n",
              "      <td>31</td>\n",
              "      <td>Male</td>\n",
              "      <td>United Kingdom</td>\n",
              "      <td>NaN</td>\n",
              "      <td>NaN</td>\n",
              "      <td>Yes</td>\n",
              "      <td>Yes</td>\n",
              "      <td>Often</td>\n",
              "      <td>26-100</td>\n",
              "      <td>...</td>\n",
              "      <td>Somewhat difficult</td>\n",
              "      <td>Yes</td>\n",
              "      <td>Yes</td>\n",
              "      <td>Some of them</td>\n",
              "      <td>No</td>\n",
              "      <td>Maybe</td>\n",
              "      <td>Maybe</td>\n",
              "      <td>No</td>\n",
              "      <td>Yes</td>\n",
              "      <td>NaN</td>\n",
              "    </tr>\n",
              "    <tr>\n",
              "      <th>4</th>\n",
              "      <td>2014-08-27 11:30:22</td>\n",
              "      <td>31</td>\n",
              "      <td>Male</td>\n",
              "      <td>United States</td>\n",
              "      <td>TX</td>\n",
              "      <td>NaN</td>\n",
              "      <td>No</td>\n",
              "      <td>No</td>\n",
              "      <td>Never</td>\n",
              "      <td>100-500</td>\n",
              "      <td>...</td>\n",
              "      <td>Don't know</td>\n",
              "      <td>No</td>\n",
              "      <td>No</td>\n",
              "      <td>Some of them</td>\n",
              "      <td>Yes</td>\n",
              "      <td>Yes</td>\n",
              "      <td>Yes</td>\n",
              "      <td>Don't know</td>\n",
              "      <td>No</td>\n",
              "      <td>NaN</td>\n",
              "    </tr>\n",
              "  </tbody>\n",
              "</table>\n",
              "<p>5 rows × 27 columns</p>\n",
              "</div>\n",
              "      <button class=\"colab-df-convert\" onclick=\"convertToInteractive('df-7d91fd73-04c9-4b85-bd53-6c5755462d91')\"\n",
              "              title=\"Convert this dataframe to an interactive table.\"\n",
              "              style=\"display:none;\">\n",
              "        \n",
              "  <svg xmlns=\"http://www.w3.org/2000/svg\" height=\"24px\"viewBox=\"0 0 24 24\"\n",
              "       width=\"24px\">\n",
              "    <path d=\"M0 0h24v24H0V0z\" fill=\"none\"/>\n",
              "    <path d=\"M18.56 5.44l.94 2.06.94-2.06 2.06-.94-2.06-.94-.94-2.06-.94 2.06-2.06.94zm-11 1L8.5 8.5l.94-2.06 2.06-.94-2.06-.94L8.5 2.5l-.94 2.06-2.06.94zm10 10l.94 2.06.94-2.06 2.06-.94-2.06-.94-.94-2.06-.94 2.06-2.06.94z\"/><path d=\"M17.41 7.96l-1.37-1.37c-.4-.4-.92-.59-1.43-.59-.52 0-1.04.2-1.43.59L10.3 9.45l-7.72 7.72c-.78.78-.78 2.05 0 2.83L4 21.41c.39.39.9.59 1.41.59.51 0 1.02-.2 1.41-.59l7.78-7.78 2.81-2.81c.8-.78.8-2.07 0-2.86zM5.41 20L4 18.59l7.72-7.72 1.47 1.35L5.41 20z\"/>\n",
              "  </svg>\n",
              "      </button>\n",
              "      \n",
              "  <style>\n",
              "    .colab-df-container {\n",
              "      display:flex;\n",
              "      flex-wrap:wrap;\n",
              "      gap: 12px;\n",
              "    }\n",
              "\n",
              "    .colab-df-convert {\n",
              "      background-color: #E8F0FE;\n",
              "      border: none;\n",
              "      border-radius: 50%;\n",
              "      cursor: pointer;\n",
              "      display: none;\n",
              "      fill: #1967D2;\n",
              "      height: 32px;\n",
              "      padding: 0 0 0 0;\n",
              "      width: 32px;\n",
              "    }\n",
              "\n",
              "    .colab-df-convert:hover {\n",
              "      background-color: #E2EBFA;\n",
              "      box-shadow: 0px 1px 2px rgba(60, 64, 67, 0.3), 0px 1px 3px 1px rgba(60, 64, 67, 0.15);\n",
              "      fill: #174EA6;\n",
              "    }\n",
              "\n",
              "    [theme=dark] .colab-df-convert {\n",
              "      background-color: #3B4455;\n",
              "      fill: #D2E3FC;\n",
              "    }\n",
              "\n",
              "    [theme=dark] .colab-df-convert:hover {\n",
              "      background-color: #434B5C;\n",
              "      box-shadow: 0px 1px 3px 1px rgba(0, 0, 0, 0.15);\n",
              "      filter: drop-shadow(0px 1px 2px rgba(0, 0, 0, 0.3));\n",
              "      fill: #FFFFFF;\n",
              "    }\n",
              "  </style>\n",
              "\n",
              "      <script>\n",
              "        const buttonEl =\n",
              "          document.querySelector('#df-7d91fd73-04c9-4b85-bd53-6c5755462d91 button.colab-df-convert');\n",
              "        buttonEl.style.display =\n",
              "          google.colab.kernel.accessAllowed ? 'block' : 'none';\n",
              "\n",
              "        async function convertToInteractive(key) {\n",
              "          const element = document.querySelector('#df-7d91fd73-04c9-4b85-bd53-6c5755462d91');\n",
              "          const dataTable =\n",
              "            await google.colab.kernel.invokeFunction('convertToInteractive',\n",
              "                                                     [key], {});\n",
              "          if (!dataTable) return;\n",
              "\n",
              "          const docLinkHtml = 'Like what you see? Visit the ' +\n",
              "            '<a target=\"_blank\" href=https://colab.research.google.com/notebooks/data_table.ipynb>data table notebook</a>'\n",
              "            + ' to learn more about interactive tables.';\n",
              "          element.innerHTML = '';\n",
              "          dataTable['output_type'] = 'display_data';\n",
              "          await google.colab.output.renderOutput(dataTable, element);\n",
              "          const docLink = document.createElement('div');\n",
              "          docLink.innerHTML = docLinkHtml;\n",
              "          element.appendChild(docLink);\n",
              "        }\n",
              "      </script>\n",
              "    </div>\n",
              "  </div>\n",
              "  "
            ]
          },
          "metadata": {},
          "execution_count": 5
        }
      ]
    },
    {
      "cell_type": "code",
      "source": [
        "data.info()"
      ],
      "metadata": {
        "colab": {
          "base_uri": "https://localhost:8080/"
        },
        "id": "4tHcrcKbH_kl",
        "outputId": "df684b75-aa9e-41e7-9282-ae74e8e51a17"
      },
      "execution_count": 6,
      "outputs": [
        {
          "output_type": "stream",
          "name": "stdout",
          "text": [
            "<class 'pandas.core.frame.DataFrame'>\n",
            "RangeIndex: 1259 entries, 0 to 1258\n",
            "Data columns (total 27 columns):\n",
            " #   Column                     Non-Null Count  Dtype \n",
            "---  ------                     --------------  ----- \n",
            " 0   Timestamp                  1259 non-null   object\n",
            " 1   Age                        1259 non-null   int64 \n",
            " 2   Gender                     1259 non-null   object\n",
            " 3   Country                    1259 non-null   object\n",
            " 4   state                      744 non-null    object\n",
            " 5   self_employed              1241 non-null   object\n",
            " 6   family_history             1259 non-null   object\n",
            " 7   treatment                  1259 non-null   object\n",
            " 8   work_interfere             995 non-null    object\n",
            " 9   no_employees               1259 non-null   object\n",
            " 10  remote_work                1259 non-null   object\n",
            " 11  tech_company               1259 non-null   object\n",
            " 12  benefits                   1259 non-null   object\n",
            " 13  care_options               1259 non-null   object\n",
            " 14  wellness_program           1259 non-null   object\n",
            " 15  seek_help                  1259 non-null   object\n",
            " 16  anonymity                  1259 non-null   object\n",
            " 17  leave                      1259 non-null   object\n",
            " 18  mental_health_consequence  1259 non-null   object\n",
            " 19  phys_health_consequence    1259 non-null   object\n",
            " 20  coworkers                  1259 non-null   object\n",
            " 21  supervisor                 1259 non-null   object\n",
            " 22  mental_health_interview    1259 non-null   object\n",
            " 23  phys_health_interview      1259 non-null   object\n",
            " 24  mental_vs_physical         1259 non-null   object\n",
            " 25  obs_consequence            1259 non-null   object\n",
            " 26  comments                   164 non-null    object\n",
            "dtypes: int64(1), object(26)\n",
            "memory usage: 265.7+ KB\n"
          ]
        }
      ]
    },
    {
      "cell_type": "markdown",
      "source": [
        "Regarding the feature names of the dataset, the provider of this dataset previously gave us a clue about what data each feature represent. We will be displaying them in a Pandas dataframe format so that it is easier for us to read."
      ],
      "metadata": {
        "id": "WQ4kjKcp4T4o"
      }
    },
    {
      "cell_type": "code",
      "source": [
        "# Storing all the feature description in a variable\n",
        "RawFeatures = 'Timestamp;Age;Gender;Country;state: If you live in the United States,which state or territory do you live in?;self_employed: Are you self-employed?;family_history: Do you have a family history of mental illness?;treatment: Have you sought treatment for a mental health condition?;work_interfere: If you have a mental health condition,do you feel that it interferes with your work?;no_employees: How many employees does your company or organization have?;remote_work: Do you work remotely (outside of an office) at least 50% of the time?;tech_company: Is your employer primarily a tech company/organization?;benefits: Does your employer provide mental health benefits?;care_options: Do you know the options for mental health care your employer provides?;wellness_program: Has your employer ever discussed mental health as part of an employee wellness program?;seek_help: Does your employer provide resources to learn more about mental health issues and how to seek help?;anonymity: Is your anonymity protected if you choose to take advantage of mental health or substance abuse treatment resources?;leave: How easy is it for you to take medical leave for a mental health condition?;mentalhealthconsequence: Do you think that discussing a mental health issue with your employer would have negative consequences?;physhealthconsequence: Do you think that discussing a physical health issue with your employer would have negative consequences?;coworkers: Would you be willing to discuss a mental health issue with your coworkers?;supervisor: Would you be willing to discuss a mental health issue with your direct supervisor(s)?;mentalhealthinterview: Would you bring up a mental health issue with a potential employer in an interview?;physhealthinterview: Would you bring up a physical health issue with a potential employer in an interview?;mentalvsphysical: Do you feel that your employer takes mental health as seriously as physical health?;obs_consequence: Have you heard of or observed negative consequences for coworkers with mental health conditions in your workplace?;comments: Any additional notes or comments'\n",
        "\n",
        "# Splitting each feature into a separate item in a list\n",
        "Features = RawFeatures.split(';')\n",
        "\n",
        "# Separating each feature and its description into two separate lists\n",
        "ListFeature = []\n",
        "ListDesc = []\n",
        "for i in Features:\n",
        "    part1 = i.partition(':')[0]\n",
        "    part2 = i.partition(':')[2]\n",
        "    ListFeature.append(part1)\n",
        "    ListDesc.append(part2)\n",
        "\n",
        "# Creating the description dataframe\n",
        "FeaturesTable = pd.DataFrame(list(zip(ListFeature, ListDesc))) # Creating the dataframe\n",
        "pd.set_option(\"display.max_colwidth\", 0)                       # Displaying the description's column in a full length\n",
        "FeaturesTable.columns = ['Feature', 'Description']             # Giving each dataframe's column a name\n",
        "\n",
        "# Displaying the description dataframe\n",
        "print('Feature Description')\n",
        "FeaturesTable"
      ],
      "metadata": {
        "colab": {
          "base_uri": "https://localhost:8080/",
          "height": 913
        },
        "id": "fMWaB2yUvxNL",
        "outputId": "8ab31fb2-361c-493e-b677-0596427a5c25"
      },
      "execution_count": 7,
      "outputs": [
        {
          "output_type": "stream",
          "name": "stdout",
          "text": [
            "Feature Description\n"
          ]
        },
        {
          "output_type": "execute_result",
          "data": {
            "text/plain": [
              "                    Feature  \\\n",
              "0   Timestamp                 \n",
              "1   Age                       \n",
              "2   Gender                    \n",
              "3   Country                   \n",
              "4   state                     \n",
              "5   self_employed             \n",
              "6   family_history            \n",
              "7   treatment                 \n",
              "8   work_interfere            \n",
              "9   no_employees              \n",
              "10  remote_work               \n",
              "11  tech_company              \n",
              "12  benefits                  \n",
              "13  care_options              \n",
              "14  wellness_program          \n",
              "15  seek_help                 \n",
              "16  anonymity                 \n",
              "17  leave                     \n",
              "18  mentalhealthconsequence   \n",
              "19  physhealthconsequence     \n",
              "20  coworkers                 \n",
              "21  supervisor                \n",
              "22  mentalhealthinterview     \n",
              "23  physhealthinterview       \n",
              "24  mentalvsphysical          \n",
              "25  obs_consequence           \n",
              "26  comments                  \n",
              "\n",
              "                                                                                                              Description  \n",
              "0                                                                                                                          \n",
              "1                                                                                                                          \n",
              "2                                                                                                                          \n",
              "3                                                                                                                          \n",
              "4    If you live in the United States,which state or territory do you live in?                                             \n",
              "5    Are you self-employed?                                                                                                \n",
              "6    Do you have a family history of mental illness?                                                                       \n",
              "7    Have you sought treatment for a mental health condition?                                                              \n",
              "8    If you have a mental health condition,do you feel that it interferes with your work?                                  \n",
              "9    How many employees does your company or organization have?                                                            \n",
              "10   Do you work remotely (outside of an office) at least 50% of the time?                                                 \n",
              "11   Is your employer primarily a tech company/organization?                                                               \n",
              "12   Does your employer provide mental health benefits?                                                                    \n",
              "13   Do you know the options for mental health care your employer provides?                                                \n",
              "14   Has your employer ever discussed mental health as part of an employee wellness program?                               \n",
              "15   Does your employer provide resources to learn more about mental health issues and how to seek help?                   \n",
              "16   Is your anonymity protected if you choose to take advantage of mental health or substance abuse treatment resources?  \n",
              "17   How easy is it for you to take medical leave for a mental health condition?                                           \n",
              "18   Do you think that discussing a mental health issue with your employer would have negative consequences?               \n",
              "19   Do you think that discussing a physical health issue with your employer would have negative consequences?             \n",
              "20   Would you be willing to discuss a mental health issue with your coworkers?                                            \n",
              "21   Would you be willing to discuss a mental health issue with your direct supervisor(s)?                                 \n",
              "22   Would you bring up a mental health issue with a potential employer in an interview?                                   \n",
              "23   Would you bring up a physical health issue with a potential employer in an interview?                                 \n",
              "24   Do you feel that your employer takes mental health as seriously as physical health?                                   \n",
              "25   Have you heard of or observed negative consequences for coworkers with mental health conditions in your workplace?    \n",
              "26   Any additional notes or comments                                                                                      "
            ],
            "text/html": [
              "\n",
              "  <div id=\"df-d337b178-9aed-48b8-88e0-b123f79eac26\">\n",
              "    <div class=\"colab-df-container\">\n",
              "      <div>\n",
              "<style scoped>\n",
              "    .dataframe tbody tr th:only-of-type {\n",
              "        vertical-align: middle;\n",
              "    }\n",
              "\n",
              "    .dataframe tbody tr th {\n",
              "        vertical-align: top;\n",
              "    }\n",
              "\n",
              "    .dataframe thead th {\n",
              "        text-align: right;\n",
              "    }\n",
              "</style>\n",
              "<table border=\"1\" class=\"dataframe\">\n",
              "  <thead>\n",
              "    <tr style=\"text-align: right;\">\n",
              "      <th></th>\n",
              "      <th>Feature</th>\n",
              "      <th>Description</th>\n",
              "    </tr>\n",
              "  </thead>\n",
              "  <tbody>\n",
              "    <tr>\n",
              "      <th>0</th>\n",
              "      <td>Timestamp</td>\n",
              "      <td></td>\n",
              "    </tr>\n",
              "    <tr>\n",
              "      <th>1</th>\n",
              "      <td>Age</td>\n",
              "      <td></td>\n",
              "    </tr>\n",
              "    <tr>\n",
              "      <th>2</th>\n",
              "      <td>Gender</td>\n",
              "      <td></td>\n",
              "    </tr>\n",
              "    <tr>\n",
              "      <th>3</th>\n",
              "      <td>Country</td>\n",
              "      <td></td>\n",
              "    </tr>\n",
              "    <tr>\n",
              "      <th>4</th>\n",
              "      <td>state</td>\n",
              "      <td>If you live in the United States,which state or territory do you live in?</td>\n",
              "    </tr>\n",
              "    <tr>\n",
              "      <th>5</th>\n",
              "      <td>self_employed</td>\n",
              "      <td>Are you self-employed?</td>\n",
              "    </tr>\n",
              "    <tr>\n",
              "      <th>6</th>\n",
              "      <td>family_history</td>\n",
              "      <td>Do you have a family history of mental illness?</td>\n",
              "    </tr>\n",
              "    <tr>\n",
              "      <th>7</th>\n",
              "      <td>treatment</td>\n",
              "      <td>Have you sought treatment for a mental health condition?</td>\n",
              "    </tr>\n",
              "    <tr>\n",
              "      <th>8</th>\n",
              "      <td>work_interfere</td>\n",
              "      <td>If you have a mental health condition,do you feel that it interferes with your work?</td>\n",
              "    </tr>\n",
              "    <tr>\n",
              "      <th>9</th>\n",
              "      <td>no_employees</td>\n",
              "      <td>How many employees does your company or organization have?</td>\n",
              "    </tr>\n",
              "    <tr>\n",
              "      <th>10</th>\n",
              "      <td>remote_work</td>\n",
              "      <td>Do you work remotely (outside of an office) at least 50% of the time?</td>\n",
              "    </tr>\n",
              "    <tr>\n",
              "      <th>11</th>\n",
              "      <td>tech_company</td>\n",
              "      <td>Is your employer primarily a tech company/organization?</td>\n",
              "    </tr>\n",
              "    <tr>\n",
              "      <th>12</th>\n",
              "      <td>benefits</td>\n",
              "      <td>Does your employer provide mental health benefits?</td>\n",
              "    </tr>\n",
              "    <tr>\n",
              "      <th>13</th>\n",
              "      <td>care_options</td>\n",
              "      <td>Do you know the options for mental health care your employer provides?</td>\n",
              "    </tr>\n",
              "    <tr>\n",
              "      <th>14</th>\n",
              "      <td>wellness_program</td>\n",
              "      <td>Has your employer ever discussed mental health as part of an employee wellness program?</td>\n",
              "    </tr>\n",
              "    <tr>\n",
              "      <th>15</th>\n",
              "      <td>seek_help</td>\n",
              "      <td>Does your employer provide resources to learn more about mental health issues and how to seek help?</td>\n",
              "    </tr>\n",
              "    <tr>\n",
              "      <th>16</th>\n",
              "      <td>anonymity</td>\n",
              "      <td>Is your anonymity protected if you choose to take advantage of mental health or substance abuse treatment resources?</td>\n",
              "    </tr>\n",
              "    <tr>\n",
              "      <th>17</th>\n",
              "      <td>leave</td>\n",
              "      <td>How easy is it for you to take medical leave for a mental health condition?</td>\n",
              "    </tr>\n",
              "    <tr>\n",
              "      <th>18</th>\n",
              "      <td>mentalhealthconsequence</td>\n",
              "      <td>Do you think that discussing a mental health issue with your employer would have negative consequences?</td>\n",
              "    </tr>\n",
              "    <tr>\n",
              "      <th>19</th>\n",
              "      <td>physhealthconsequence</td>\n",
              "      <td>Do you think that discussing a physical health issue with your employer would have negative consequences?</td>\n",
              "    </tr>\n",
              "    <tr>\n",
              "      <th>20</th>\n",
              "      <td>coworkers</td>\n",
              "      <td>Would you be willing to discuss a mental health issue with your coworkers?</td>\n",
              "    </tr>\n",
              "    <tr>\n",
              "      <th>21</th>\n",
              "      <td>supervisor</td>\n",
              "      <td>Would you be willing to discuss a mental health issue with your direct supervisor(s)?</td>\n",
              "    </tr>\n",
              "    <tr>\n",
              "      <th>22</th>\n",
              "      <td>mentalhealthinterview</td>\n",
              "      <td>Would you bring up a mental health issue with a potential employer in an interview?</td>\n",
              "    </tr>\n",
              "    <tr>\n",
              "      <th>23</th>\n",
              "      <td>physhealthinterview</td>\n",
              "      <td>Would you bring up a physical health issue with a potential employer in an interview?</td>\n",
              "    </tr>\n",
              "    <tr>\n",
              "      <th>24</th>\n",
              "      <td>mentalvsphysical</td>\n",
              "      <td>Do you feel that your employer takes mental health as seriously as physical health?</td>\n",
              "    </tr>\n",
              "    <tr>\n",
              "      <th>25</th>\n",
              "      <td>obs_consequence</td>\n",
              "      <td>Have you heard of or observed negative consequences for coworkers with mental health conditions in your workplace?</td>\n",
              "    </tr>\n",
              "    <tr>\n",
              "      <th>26</th>\n",
              "      <td>comments</td>\n",
              "      <td>Any additional notes or comments</td>\n",
              "    </tr>\n",
              "  </tbody>\n",
              "</table>\n",
              "</div>\n",
              "      <button class=\"colab-df-convert\" onclick=\"convertToInteractive('df-d337b178-9aed-48b8-88e0-b123f79eac26')\"\n",
              "              title=\"Convert this dataframe to an interactive table.\"\n",
              "              style=\"display:none;\">\n",
              "        \n",
              "  <svg xmlns=\"http://www.w3.org/2000/svg\" height=\"24px\"viewBox=\"0 0 24 24\"\n",
              "       width=\"24px\">\n",
              "    <path d=\"M0 0h24v24H0V0z\" fill=\"none\"/>\n",
              "    <path d=\"M18.56 5.44l.94 2.06.94-2.06 2.06-.94-2.06-.94-.94-2.06-.94 2.06-2.06.94zm-11 1L8.5 8.5l.94-2.06 2.06-.94-2.06-.94L8.5 2.5l-.94 2.06-2.06.94zm10 10l.94 2.06.94-2.06 2.06-.94-2.06-.94-.94-2.06-.94 2.06-2.06.94z\"/><path d=\"M17.41 7.96l-1.37-1.37c-.4-.4-.92-.59-1.43-.59-.52 0-1.04.2-1.43.59L10.3 9.45l-7.72 7.72c-.78.78-.78 2.05 0 2.83L4 21.41c.39.39.9.59 1.41.59.51 0 1.02-.2 1.41-.59l7.78-7.78 2.81-2.81c.8-.78.8-2.07 0-2.86zM5.41 20L4 18.59l7.72-7.72 1.47 1.35L5.41 20z\"/>\n",
              "  </svg>\n",
              "      </button>\n",
              "      \n",
              "  <style>\n",
              "    .colab-df-container {\n",
              "      display:flex;\n",
              "      flex-wrap:wrap;\n",
              "      gap: 12px;\n",
              "    }\n",
              "\n",
              "    .colab-df-convert {\n",
              "      background-color: #E8F0FE;\n",
              "      border: none;\n",
              "      border-radius: 50%;\n",
              "      cursor: pointer;\n",
              "      display: none;\n",
              "      fill: #1967D2;\n",
              "      height: 32px;\n",
              "      padding: 0 0 0 0;\n",
              "      width: 32px;\n",
              "    }\n",
              "\n",
              "    .colab-df-convert:hover {\n",
              "      background-color: #E2EBFA;\n",
              "      box-shadow: 0px 1px 2px rgba(60, 64, 67, 0.3), 0px 1px 3px 1px rgba(60, 64, 67, 0.15);\n",
              "      fill: #174EA6;\n",
              "    }\n",
              "\n",
              "    [theme=dark] .colab-df-convert {\n",
              "      background-color: #3B4455;\n",
              "      fill: #D2E3FC;\n",
              "    }\n",
              "\n",
              "    [theme=dark] .colab-df-convert:hover {\n",
              "      background-color: #434B5C;\n",
              "      box-shadow: 0px 1px 3px 1px rgba(0, 0, 0, 0.15);\n",
              "      filter: drop-shadow(0px 1px 2px rgba(0, 0, 0, 0.3));\n",
              "      fill: #FFFFFF;\n",
              "    }\n",
              "  </style>\n",
              "\n",
              "      <script>\n",
              "        const buttonEl =\n",
              "          document.querySelector('#df-d337b178-9aed-48b8-88e0-b123f79eac26 button.colab-df-convert');\n",
              "        buttonEl.style.display =\n",
              "          google.colab.kernel.accessAllowed ? 'block' : 'none';\n",
              "\n",
              "        async function convertToInteractive(key) {\n",
              "          const element = document.querySelector('#df-d337b178-9aed-48b8-88e0-b123f79eac26');\n",
              "          const dataTable =\n",
              "            await google.colab.kernel.invokeFunction('convertToInteractive',\n",
              "                                                     [key], {});\n",
              "          if (!dataTable) return;\n",
              "\n",
              "          const docLinkHtml = 'Like what you see? Visit the ' +\n",
              "            '<a target=\"_blank\" href=https://colab.research.google.com/notebooks/data_table.ipynb>data table notebook</a>'\n",
              "            + ' to learn more about interactive tables.';\n",
              "          element.innerHTML = '';\n",
              "          dataTable['output_type'] = 'display_data';\n",
              "          await google.colab.output.renderOutput(dataTable, element);\n",
              "          const docLink = document.createElement('div');\n",
              "          docLink.innerHTML = docLinkHtml;\n",
              "          element.appendChild(docLink);\n",
              "        }\n",
              "      </script>\n",
              "    </div>\n",
              "  </div>\n",
              "  "
            ]
          },
          "metadata": {},
          "execution_count": 7
        }
      ]
    },
    {
      "cell_type": "markdown",
      "source": [
        "###2b. Missing values"
      ],
      "metadata": {
        "id": "kkdLBav4i3pc"
      }
    },
    {
      "cell_type": "code",
      "source": [
        "# Calculating the missing values for each feature\n",
        "MissingValues = data.isnull().sum()\n",
        "\n",
        "# Turning the previous output into a dataframe format\n",
        "MissingValues = pd.DataFrame(MissingValues)\n",
        "MissingValues = MissingValues.reset_index()\n",
        "MissingValues.columns = ['Feature', 'Count']\n",
        "\n",
        "# Calculating each feature's missing values percentage\n",
        "ListMissingVPerc = []\n",
        "for i in MissingValues['Count']:\n",
        "    missingperc = i/1259 * 100 # Total entries = 1259 (from previous step)\n",
        "    ListMissingVPerc.append(missingperc)\n",
        "ListMissingVPerc = [round(num, 2) for num in ListMissingVPerc]\n",
        "\n",
        "# Adding the missing values percentage column to the report\n",
        "MissingValues['Percentage (%)'] = ListMissingVPerc\n",
        "\n",
        "# Printing the missing values report\n",
        "print('Missing values on each feature: ')\n",
        "print(MissingValues.to_string(index = False))"
      ],
      "metadata": {
        "colab": {
          "base_uri": "https://localhost:8080/"
        },
        "id": "3QI6y1C8IBf7",
        "outputId": "3e26c9c8-6617-4f2b-c923-493b4ceb0eca"
      },
      "execution_count": 8,
      "outputs": [
        {
          "output_type": "stream",
          "name": "stdout",
          "text": [
            "Missing values on each feature: \n",
            "                  Feature  Count  Percentage (%)\n",
            "                Timestamp      0            0.00\n",
            "                      Age      0            0.00\n",
            "                   Gender      0            0.00\n",
            "                  Country      0            0.00\n",
            "                    state    515           40.91\n",
            "            self_employed     18            1.43\n",
            "           family_history      0            0.00\n",
            "                treatment      0            0.00\n",
            "           work_interfere    264           20.97\n",
            "             no_employees      0            0.00\n",
            "              remote_work      0            0.00\n",
            "             tech_company      0            0.00\n",
            "                 benefits      0            0.00\n",
            "             care_options      0            0.00\n",
            "         wellness_program      0            0.00\n",
            "                seek_help      0            0.00\n",
            "                anonymity      0            0.00\n",
            "                    leave      0            0.00\n",
            "mental_health_consequence      0            0.00\n",
            "  phys_health_consequence      0            0.00\n",
            "                coworkers      0            0.00\n",
            "               supervisor      0            0.00\n",
            "  mental_health_interview      0            0.00\n",
            "    phys_health_interview      0            0.00\n",
            "       mental_vs_physical      0            0.00\n",
            "          obs_consequence      0            0.00\n",
            "                 comments   1095           86.97\n"
          ]
        }
      ]
    },
    {
      "cell_type": "markdown",
      "source": [
        "###2c. Duplicated values"
      ],
      "metadata": {
        "id": "PzFChoBW5n0E"
      }
    },
    {
      "cell_type": "code",
      "source": [
        "DuplicatedValues = data.duplicated().sum()\n",
        "print('Duplicated data : ' + str(DuplicatedValues))"
      ],
      "metadata": {
        "colab": {
          "base_uri": "https://localhost:8080/"
        },
        "id": "XVgx1pfO5tln",
        "outputId": "8c96bba5-d182-4f07-a6fa-0749069a73cf"
      },
      "execution_count": 9,
      "outputs": [
        {
          "output_type": "stream",
          "name": "stdout",
          "text": [
            "Duplicated data : 0\n"
          ]
        }
      ]
    },
    {
      "cell_type": "markdown",
      "source": [
        "###2d. Unique values"
      ],
      "metadata": {
        "id": "8EFGxdv3kcyn"
      }
    },
    {
      "cell_type": "code",
      "source": [
        "# Getting the feature names in a list\n",
        "DataCols = list(data.columns.values)\n",
        "\n",
        "# Calculating the number of each feature's unique values\n",
        "ListUniqueC = []\n",
        "for i in data.columns:\n",
        "    UCount = len(data[i].unique())\n",
        "    ListUniqueC.append(UCount)\n",
        "\n",
        "# Creating the unique values table\n",
        "UniqueCTable = pd.DataFrame(list(zip(DataCols, ListUniqueC)))\n",
        "UniqueCTable.columns = ['Feature', 'Unique Values']\n",
        "\n",
        "# Printing the report\n",
        "print('Unique values in each feature:')\n",
        "print(UniqueCTable.to_string(index = False))"
      ],
      "metadata": {
        "colab": {
          "base_uri": "https://localhost:8080/"
        },
        "id": "MlIpSLeOrFmI",
        "outputId": "1c57bc4b-35ef-489b-88b0-9c16841e5465"
      },
      "execution_count": 10,
      "outputs": [
        {
          "output_type": "stream",
          "name": "stdout",
          "text": [
            "Unique values in each feature:\n",
            "                  Feature  Unique Values\n",
            "                Timestamp           1246\n",
            "                      Age             53\n",
            "                   Gender             49\n",
            "                  Country             48\n",
            "                    state             46\n",
            "            self_employed              3\n",
            "           family_history              2\n",
            "                treatment              2\n",
            "           work_interfere              5\n",
            "             no_employees              6\n",
            "              remote_work              2\n",
            "             tech_company              2\n",
            "                 benefits              3\n",
            "             care_options              3\n",
            "         wellness_program              3\n",
            "                seek_help              3\n",
            "                anonymity              3\n",
            "                    leave              5\n",
            "mental_health_consequence              3\n",
            "  phys_health_consequence              3\n",
            "                coworkers              3\n",
            "               supervisor              3\n",
            "  mental_health_interview              3\n",
            "    phys_health_interview              3\n",
            "       mental_vs_physical              3\n",
            "          obs_consequence              2\n",
            "                 comments            161\n"
          ]
        }
      ]
    },
    {
      "cell_type": "markdown",
      "source": [
        "##**3. Data Cleaning and Feature Engineering**"
      ],
      "metadata": {
        "id": "Q9aNWkuSiIt1"
      }
    },
    {
      "cell_type": "markdown",
      "source": [
        "###Checking unique values of each feature"
      ],
      "metadata": {
        "id": "1sjkPcBUor4D"
      }
    },
    {
      "cell_type": "markdown",
      "source": [
        "As the first step of the data cleaning process, we will be looking at the unique values contained in each feature of the dataset. The 'Timestamp' and 'comments' features will be checked and dealt with later as the 'Timestamp' feature possess too many unique values that are irrelevant for further analysis and the 'comments' feature possess too many null values that it demands a different approach. The 'Age' feature will also be dealt in a different approach as it contains a continuous data and logically lies within a specific range."
      ],
      "metadata": {
        "id": "NAWcbcnNmRmz"
      }
    },
    {
      "cell_type": "code",
      "source": [
        "# Checking unique values of each feature, except ['Timestamp', 'Age', 'comments']\n",
        "for column in data.columns[1:-1]:\n",
        "    uniquevaluescount(data, column)"
      ],
      "metadata": {
        "colab": {
          "base_uri": "https://localhost:8080/"
        },
        "id": "g8bmKyRxuyk_",
        "outputId": "73a18638-cf5d-406e-fa2b-c226a373dca7"
      },
      "execution_count": 27,
      "outputs": [
        {
          "output_type": "stream",
          "name": "stdout",
          "text": [
            "\u001b[34mUnique value count of Age\u001b[0m\n",
            "        Age  Count\n",
            "         29     85\n",
            "         32     82\n",
            "         26     75\n",
            "         27     71\n",
            "         33     70\n",
            "         28     68\n",
            "         31     67\n",
            "         34     65\n",
            "         30     63\n",
            "         25     61\n",
            "         35     55\n",
            "         23     51\n",
            "         24     46\n",
            "         37     43\n",
            "         38     39\n",
            "         36     37\n",
            "         39     33\n",
            "         40     33\n",
            "         43     28\n",
            "         22     21\n",
            "         41     21\n",
            "         42     20\n",
            "         21     16\n",
            "         45     12\n",
            "         46     12\n",
            "         44     11\n",
            "         19      9\n",
            "         18      7\n",
            "         20      6\n",
            "         48      6\n",
            "         50      6\n",
            "         51      5\n",
            "         49      4\n",
            "         56      4\n",
            "         54      3\n",
            "         55      3\n",
            "         57      3\n",
            "         47      2\n",
            "         60      2\n",
            "      -1726      1\n",
            "        -29      1\n",
            "         -1      1\n",
            "          5      1\n",
            "          8      1\n",
            "         11      1\n",
            "         53      1\n",
            "         58      1\n",
            "         61      1\n",
            "         62      1\n",
            "         65      1\n",
            "         72      1\n",
            "        329      1\n",
            "99999999999      1\n",
            "Total : 1259\n",
            "\n",
            "\u001b[34mUnique value count of Gender\u001b[0m\n",
            "                                        Gender  Count\n",
            "                                          Male    615\n",
            "                                          male    206\n",
            "                                        Female    121\n",
            "                                             M    116\n",
            "                                        female     62\n",
            "                                             F     38\n",
            "                                             m     34\n",
            "                                             f     15\n",
            "                                          Make      4\n",
            "                                         Male       3\n",
            "                                         Woman      3\n",
            "                                      Cis Male      2\n",
            "                                       Female       2\n",
            "                                Female (trans)      2\n",
            "                                           Man      2\n",
            "                            A little about you      1\n",
            "                                       Agender      1\n",
            "                                           All      1\n",
            "                                     Androgyne      1\n",
            "                                    Cis Female      1\n",
            "                                       Cis Man      1\n",
            "                                          Enby      1\n",
            "                                        Femake      1\n",
            "                                  Female (cis)      1\n",
            "                                   Genderqueer      1\n",
            "                                Guy (-ish) ^_^      1\n",
            "                                          Mail      1\n",
            "                                           Mal      1\n",
            "                                    Male (CIS)      1\n",
            "                                      Male-ish      1\n",
            "                                          Malr      1\n",
            "                                           Nah      1\n",
            "                                        Neuter      1\n",
            "                                   Trans woman      1\n",
            "                                  Trans-female      1\n",
            "                                      cis male      1\n",
            "                              cis-female/femme      1\n",
            "                                        femail      1\n",
            "                                         fluid      1\n",
            "                                         maile      1\n",
            "                      male leaning androgynous      1\n",
            "                                          msle      1\n",
            "                                    non-binary      1\n",
            "ostensibly male, unsure what that really means      1\n",
            "                                             p      1\n",
            "                                         queer      1\n",
            "                                queer/she/they      1\n",
            "                         something kinda male?      1\n",
            "                                         woman      1\n",
            "Total : 1259\n",
            "\n",
            "\u001b[34mUnique value count of Country\u001b[0m\n",
            "               Country  Count\n",
            "         United States    751\n",
            "        United Kingdom    185\n",
            "                Canada     72\n",
            "               Germany     45\n",
            "               Ireland     27\n",
            "           Netherlands     27\n",
            "             Australia     21\n",
            "                France     13\n",
            "                 India     10\n",
            "           New Zealand      8\n",
            "                 Italy      7\n",
            "                Poland      7\n",
            "                Sweden      7\n",
            "           Switzerland      7\n",
            "               Belgium      6\n",
            "                Brazil      6\n",
            "          South Africa      6\n",
            "                Israel      5\n",
            "              Bulgaria      4\n",
            "             Singapore      4\n",
            "               Austria      3\n",
            "               Finland      3\n",
            "                Mexico      3\n",
            "                Russia      3\n",
            "              Colombia      2\n",
            "               Croatia      2\n",
            "               Denmark      2\n",
            "                Greece      2\n",
            "              Portugal      2\n",
            "          Bahamas, The      1\n",
            "Bosnia and Herzegovina      1\n",
            "                 China      1\n",
            "            Costa Rica      1\n",
            "        Czech Republic      1\n",
            "               Georgia      1\n",
            "               Hungary      1\n",
            "                 Japan      1\n",
            "                Latvia      1\n",
            "               Moldova      1\n",
            "               Nigeria      1\n",
            "                Norway      1\n",
            "           Philippines      1\n",
            "               Romania      1\n",
            "              Slovenia      1\n",
            "                 Spain      1\n",
            "              Thailand      1\n",
            "               Uruguay      1\n",
            "              Zimbabwe      1\n",
            "Total : 1259\n",
            "\n",
            "\u001b[34mUnique value count of state\u001b[0m\n",
            "state  Count\n",
            "   CA    138\n",
            "   WA     70\n",
            "   NY     57\n",
            "   TN     45\n",
            "   TX     44\n",
            "   OH     30\n",
            "   IL     29\n",
            "   OR     29\n",
            "   PA     29\n",
            "   IN     27\n",
            "   MI     22\n",
            "   MN     21\n",
            "   MA     20\n",
            "   FL     15\n",
            "   NC     14\n",
            "   VA     14\n",
            "   GA     12\n",
            "   MO     12\n",
            "   WI     12\n",
            "   UT     11\n",
            "   CO      9\n",
            "   AL      8\n",
            "   MD      8\n",
            "   AZ      7\n",
            "   NJ      6\n",
            "   OK      6\n",
            "   KY      5\n",
            "   SC      5\n",
            "   CT      4\n",
            "   DC      4\n",
            "   IA      4\n",
            "   KS      3\n",
            "   NH      3\n",
            "   NV      3\n",
            "   SD      3\n",
            "   VT      3\n",
            "   NE      2\n",
            "   NM      2\n",
            "   WY      2\n",
            "   ID      1\n",
            "   LA      1\n",
            "   ME      1\n",
            "   MS      1\n",
            "   RI      1\n",
            "   WV      1\n",
            "Total : 744\n",
            "\n",
            "\u001b[34mUnique value count of self_employed\u001b[0m\n",
            "self_employed  Count\n",
            "           No   1095\n",
            "          Yes    146\n",
            "Total : 1241\n",
            "\n",
            "\u001b[34mUnique value count of family_history\u001b[0m\n",
            "family_history  Count\n",
            "            No    767\n",
            "           Yes    492\n",
            "Total : 1259\n",
            "\n",
            "\u001b[34mUnique value count of treatment\u001b[0m\n",
            "treatment  Count\n",
            "      Yes    637\n",
            "       No    622\n",
            "Total : 1259\n",
            "\n",
            "\u001b[34mUnique value count of work_interfere\u001b[0m\n",
            "work_interfere  Count\n",
            "     Sometimes    465\n",
            "         Never    213\n",
            "        Rarely    173\n",
            "         Often    144\n",
            "Total : 995\n",
            "\n",
            "\u001b[34mUnique value count of no_employees\u001b[0m\n",
            "  no_employees  Count\n",
            "          6-25    290\n",
            "        26-100    289\n",
            "More than 1000    282\n",
            "       100-500    176\n",
            "           1-5    162\n",
            "      500-1000     60\n",
            "Total : 1259\n",
            "\n",
            "\u001b[34mUnique value count of remote_work\u001b[0m\n",
            "remote_work  Count\n",
            "         No    883\n",
            "        Yes    376\n",
            "Total : 1259\n",
            "\n",
            "\u001b[34mUnique value count of tech_company\u001b[0m\n",
            "tech_company  Count\n",
            "         Yes   1031\n",
            "          No    228\n",
            "Total : 1259\n",
            "\n",
            "\u001b[34mUnique value count of benefits\u001b[0m\n",
            "  benefits  Count\n",
            "       Yes    477\n",
            "Don't know    408\n",
            "        No    374\n",
            "Total : 1259\n",
            "\n",
            "\u001b[34mUnique value count of care_options\u001b[0m\n",
            "care_options  Count\n",
            "          No    501\n",
            "         Yes    444\n",
            "    Not sure    314\n",
            "Total : 1259\n",
            "\n",
            "\u001b[34mUnique value count of wellness_program\u001b[0m\n",
            "wellness_program  Count\n",
            "              No    842\n",
            "             Yes    229\n",
            "      Don't know    188\n",
            "Total : 1259\n",
            "\n",
            "\u001b[34mUnique value count of seek_help\u001b[0m\n",
            " seek_help  Count\n",
            "        No    646\n",
            "Don't know    363\n",
            "       Yes    250\n",
            "Total : 1259\n",
            "\n",
            "\u001b[34mUnique value count of anonymity\u001b[0m\n",
            " anonymity  Count\n",
            "Don't know    819\n",
            "       Yes    375\n",
            "        No     65\n",
            "Total : 1259\n",
            "\n",
            "\u001b[34mUnique value count of leave\u001b[0m\n",
            "             leave  Count\n",
            "        Don't know    563\n",
            "     Somewhat easy    266\n",
            "         Very easy    206\n",
            "Somewhat difficult    126\n",
            "    Very difficult     98\n",
            "Total : 1259\n",
            "\n",
            "\u001b[34mUnique value count of mental_health_consequence\u001b[0m\n",
            "mental_health_consequence  Count\n",
            "                       No    490\n",
            "                    Maybe    477\n",
            "                      Yes    292\n",
            "Total : 1259\n",
            "\n",
            "\u001b[34mUnique value count of phys_health_consequence\u001b[0m\n",
            "phys_health_consequence  Count\n",
            "                     No    925\n",
            "                  Maybe    273\n",
            "                    Yes     61\n",
            "Total : 1259\n",
            "\n",
            "\u001b[34mUnique value count of coworkers\u001b[0m\n",
            "   coworkers  Count\n",
            "Some of them    774\n",
            "          No    260\n",
            "         Yes    225\n",
            "Total : 1259\n",
            "\n",
            "\u001b[34mUnique value count of supervisor\u001b[0m\n",
            "  supervisor  Count\n",
            "         Yes    516\n",
            "          No    393\n",
            "Some of them    350\n",
            "Total : 1259\n",
            "\n",
            "\u001b[34mUnique value count of mental_health_interview\u001b[0m\n",
            "mental_health_interview  Count\n",
            "                     No   1008\n",
            "                  Maybe    207\n",
            "                    Yes     44\n",
            "Total : 1259\n",
            "\n",
            "\u001b[34mUnique value count of phys_health_interview\u001b[0m\n",
            "phys_health_interview  Count\n",
            "                Maybe    557\n",
            "                   No    500\n",
            "                  Yes    202\n",
            "Total : 1259\n",
            "\n",
            "\u001b[34mUnique value count of mental_vs_physical\u001b[0m\n",
            "mental_vs_physical  Count\n",
            "        Don't know    576\n",
            "               Yes    343\n",
            "                No    340\n",
            "Total : 1259\n",
            "\n",
            "\u001b[34mUnique value count of obs_consequence\u001b[0m\n",
            "obs_consequence  Count\n",
            "             No   1075\n",
            "            Yes    184\n",
            "Total : 1259\n",
            "\n"
          ]
        }
      ]
    },
    {
      "cell_type": "markdown",
      "source": [
        "There are some features that are seemingly need to be engineered, namely:\n",
        "\n",
        "\n",
        "1.   Timestamp: irrelevant for further analysis\n",
        "2.   Age: contains abnormal age values\n",
        "3.   Gender: no data validation and contains too many categories\n",
        "4.   State: contains missing values\n",
        "5.   self_employed: contains missing values\n",
        "6.   work_interfere: contains missing values\n",
        "7.   no_employees: needs a little change to avoid data auto-formatting\n",
        "8.   comments: no data validation and too many missing values\n",
        "\n"
      ],
      "metadata": {
        "id": "YHL25xTlzaQu"
      }
    },
    {
      "cell_type": "markdown",
      "source": [
        "###Timestamp"
      ],
      "metadata": {
        "id": "yxvpQ1UhCWQA"
      }
    },
    {
      "cell_type": "markdown",
      "source": [
        "The 'Timestamp' feature does not really have any meaning or importance in this dataset - it does not indicate a time when a person is doing the survey. We will drop this feature."
      ],
      "metadata": {
        "id": "AFtk7_BYCXM4"
      }
    },
    {
      "cell_type": "code",
      "source": [
        "# Dropping the 'Timestamp' feature\n",
        "data.drop('Timestamp', axis = 1, inplace = True)\n",
        "\n",
        "# Checking the features of the dataset\n",
        "print(data.columns)"
      ],
      "metadata": {
        "colab": {
          "base_uri": "https://localhost:8080/"
        },
        "id": "atNSDn1vCqrc",
        "outputId": "e16726b9-91e6-4384-fc39-c76b8156300b"
      },
      "execution_count": 28,
      "outputs": [
        {
          "output_type": "stream",
          "name": "stdout",
          "text": [
            "Index(['Age', 'Gender', 'Country', 'state', 'self_employed', 'family_history',\n",
            "       'treatment', 'work_interfere', 'no_employees', 'remote_work',\n",
            "       'tech_company', 'benefits', 'care_options', 'wellness_program',\n",
            "       'seek_help', 'anonymity', 'leave', 'mental_health_consequence',\n",
            "       'phys_health_consequence', 'coworkers', 'supervisor',\n",
            "       'mental_health_interview', 'phys_health_interview',\n",
            "       'mental_vs_physical', 'obs_consequence', 'comments'],\n",
            "      dtype='object')\n"
          ]
        }
      ]
    },
    {
      "cell_type": "markdown",
      "source": [
        "###Age"
      ],
      "metadata": {
        "id": "6slK7fRF6aI_"
      }
    },
    {
      "cell_type": "markdown",
      "source": [
        "We will check if there are any entries with abnormal 'Age' value. By knowing that the target of the dataset are people who work in tech industry, it can be assumed that the youngest of the population should be around 18 (US legal age) and the oldest around 80 (still possible)."
      ],
      "metadata": {
        "id": "3g3j4uZr-soS"
      }
    },
    {
      "cell_type": "code",
      "source": [
        "# Storing the age feature in a variable\n",
        "Age = data['Age']\n",
        "\n",
        "# Age feature range\n",
        "AgeMin = min(Age)\n",
        "AgeMax = max(Age)\n",
        "\n",
        "# Entries with abnormal age value count\n",
        "AgeLO = (Age < 18).sum()\n",
        "AgeUO = (Age > 80).sum()\n",
        "AgeOCount = AgeLO + AgeUO\n",
        "AgeOCountP = AgeOCount / 1259\n",
        "\n",
        "# Displaying the information\n",
        "print('Highest age in the entries : ' + str(AgeMax))\n",
        "print('Lowest age in the entries  : ' + str(AgeMin))\n",
        "print('People younger than 18     : ' + str(AgeLO) + ' people')\n",
        "print('People older than 80       : ' + str(AgeUO) + ' people')\n",
        "print('Abnormal entries count     : ' + str(AgeOCount))\n",
        "print('Abnormal entries percentage: ' + str(AgeOCountP))"
      ],
      "metadata": {
        "colab": {
          "base_uri": "https://localhost:8080/"
        },
        "id": "vNDH2TwJiLtC",
        "outputId": "4acb912a-834b-4c3e-ce7b-4c9881c1a2f3"
      },
      "execution_count": 29,
      "outputs": [
        {
          "output_type": "stream",
          "name": "stdout",
          "text": [
            "Highest age in the entries : 99999999999\n",
            "Lowest age in the entries  : -1726\n",
            "People younger than 18     : 6 people\n",
            "People older than 80       : 2 people\n",
            "Abnormal entries count     : 8\n",
            "Abnormal entries percentage: 0.006354249404289118\n"
          ]
        }
      ]
    },
    {
      "cell_type": "markdown",
      "source": [
        "Luckily, there are only 8 entries with an abnormal 'Age' value, accounting for around 0.64% of the total entries. We need to replace these values with a value that is more likely to occur. A simple method to do this is to re-input them with the mean of the 'Age' feature. However, since the mean value is affected by the highly abnormal outlier (99999999999), we will instead use the median value for this process. Let us first check the what the median value of the 'Age' feature is.\n",
        "\n"
      ],
      "metadata": {
        "id": "PERrRoVLCeRD"
      }
    },
    {
      "cell_type": "code",
      "source": [
        "AgeMedian = data['Age'].median()\n",
        "print('Median of age feature : ' + str(AgeMedian))"
      ],
      "metadata": {
        "colab": {
          "base_uri": "https://localhost:8080/"
        },
        "id": "3zLUu6xZr6-o",
        "outputId": "fc189b1b-90f2-4f68-a8d1-35c824b9a607"
      },
      "execution_count": 30,
      "outputs": [
        {
          "output_type": "stream",
          "name": "stdout",
          "text": [
            "Median of age feature : 31.0\n"
          ]
        }
      ]
    },
    {
      "cell_type": "markdown",
      "source": [
        "The median looks quite normal and can be used to impute for the abnormal values."
      ],
      "metadata": {
        "id": "z8F-0Lf5sGOX"
      }
    },
    {
      "cell_type": "code",
      "source": [
        "# Replacing the age value of the abnormal age entries\n",
        "data['Age'].mask((data['Age'] < 18) | (data['Age'] > 90),\n",
        "                 31,\n",
        "                 inplace = True)\n",
        "\n",
        "# Checking if the values are replaced correctly\n",
        "Age2 = data['Age']\n",
        "AgeMin2 = min(Age2)\n",
        "AgeMax2 = max(Age2)\n",
        "AgeCount2 = len(Age2)\n",
        "print('Lowest age in the entries       : ' + str(AgeMin2))\n",
        "print('Highest age in the entries      : ' + str(AgeMax2))\n",
        "print('Total counts of the age entries : ' + str(AgeCount2))"
      ],
      "metadata": {
        "colab": {
          "base_uri": "https://localhost:8080/"
        },
        "id": "zDz59uR6sZKW",
        "outputId": "877fc805-2f36-465c-ab04-6b59deeecf34"
      },
      "execution_count": 31,
      "outputs": [
        {
          "output_type": "stream",
          "name": "stdout",
          "text": [
            "Lowest age in the entries       : 18\n",
            "Highest age in the entries      : 72\n",
            "Total counts of the age entries : 1259\n"
          ]
        }
      ]
    },
    {
      "cell_type": "markdown",
      "source": [
        "###Gender"
      ],
      "metadata": {
        "id": "N76Cc-97zaEO"
      }
    },
    {
      "cell_type": "markdown",
      "source": [
        "We have checked that the 'Gender' feature has too many unique values with no data validation. For the sake of simplicity, we will do some feature engineering and categorize the 'Gender' feature into only three values: 'Male', 'Female', and 'Other'."
      ],
      "metadata": {
        "id": "4DDKsce005RB"
      }
    },
    {
      "cell_type": "code",
      "source": [
        "# Defining the Male and Female categories\n",
        "male = ['M', 'Male', 'male', 'm', 'maile', 'Mal', 'Make', 'Male ', 'Man', 'msle', 'Mail', 'Malr']\n",
        "female = ['Female', 'female', 'F', 'Woman', 'f', 'Femake', 'woman', 'Female ', 'femail']\n",
        "\n",
        "# Storing the unique values in a list\n",
        "GenderUV = data['Gender'].unique()\n",
        "\n",
        "# Defining the Other category\n",
        "other1 = [x for x in GenderUV if x not in male]\n",
        "other2 = [x for x in other1 if x not in female]\n",
        "\n",
        "# Replacing the values in Gender feature into three categories only\n",
        "data['Gender'].replace(to_replace = male, value = 'Male', inplace=True)\n",
        "data['Gender'].replace(to_replace = female, value = 'Female', inplace=True)\n",
        "data['Gender'].replace(to_replace = other2, value = 'Other', inplace=True)\n",
        "\n",
        "# Displaying the report\n",
        "print('Number of unique values in Gender feature : ' + \n",
        "      str(len(data['Gender'].unique())))\n",
        "print('Unique values in Gender feature           : ' + \n",
        "      str(data['Gender'].unique()))"
      ],
      "metadata": {
        "colab": {
          "base_uri": "https://localhost:8080/"
        },
        "id": "K4yCxtEq1a_E",
        "outputId": "4519b201-51b4-464c-922f-40c602f33079"
      },
      "execution_count": 34,
      "outputs": [
        {
          "output_type": "stream",
          "name": "stdout",
          "text": [
            "Number of unique values in Gender feature : 3\n",
            "Unique values in Gender feature           : ['Female' 'Male' 'Other']\n"
          ]
        }
      ]
    },
    {
      "cell_type": "markdown",
      "source": [
        "###State"
      ],
      "metadata": {
        "id": "EVxDSitiqvnJ"
      }
    },
    {
      "cell_type": "markdown",
      "source": [
        "In the 'state' feature, the number of missing value is quite large, accounting for 40.91% of the total number of entries. Before deciding what to do with the missing values, we first need to check a possible explanation as to why the missing value is that large.\n",
        "\n",
        "'state' is applicable for only certain countries that have states in them, for example: United States that has 50 states. For countries that have no states, then it is most likely that their 'state' feature is empty. Let us check if this is the case."
      ],
      "metadata": {
        "id": "HuijZobmia5u"
      }
    },
    {
      "cell_type": "code",
      "source": [
        "# Count: Entries outside US\n",
        "NotUS = (data['Country'] != 'United States').sum()\n",
        "\n",
        "# Count: Entries outside US that have empty state feature\n",
        "NotUSNullState = data[data['Country'] != 'United States']['state'].isnull().sum()\n",
        "\n",
        "# Count: Entries in US\n",
        "US = (data['Country'] == 'United States').sum()\n",
        "\n",
        "# Count: Entries in US that have empty state feature\n",
        "USNullState = data[data['Country'] == 'United States']['state'].isnull().sum()\n",
        "\n",
        "# Total entries with empty state\n",
        "NullState = data['state'].isnull().sum()\n",
        "\n",
        "# Displaying the report\n",
        "print('Entries Outside US                  : ' + str(NotUS))\n",
        "print('Entries Outside US with empty state : ' + str(NotUSNullState))\n",
        "print('Entries In US                       : ' + str(US))\n",
        "print('Entries In US with empty state      : ' + str(USNullState))\n",
        "print('Total entries with empty state      : ' + str(NullState))"
      ],
      "metadata": {
        "colab": {
          "base_uri": "https://localhost:8080/"
        },
        "id": "k-aChSDmZGRb",
        "outputId": "f788b357-e186-47bf-c22f-dd3cc1821382"
      },
      "execution_count": 38,
      "outputs": [
        {
          "output_type": "stream",
          "name": "stdout",
          "text": [
            "Entries Outside US                  : 508\n",
            "Entries Outside US with empty state : 504\n",
            "Entries In US                       : 751\n",
            "Entries In US with empty state      : 0\n",
            "Total entries with empty state      : 504\n"
          ]
        }
      ]
    },
    {
      "cell_type": "markdown",
      "source": [
        "From the report above, it can be seen that most of the non-empty 'state' feature only occur in the entries with 'Country' value 'United States'. There are only 4 entries that are outside of 'United States' that have non-empty 'state' feature. When we are specifically analyzing the data inside 'United States', this 'state' feature can be pretty useful. Because of this, we will not discard the entire 'state' feature despite the large missing values, but will instead do a little cleaning on this feature. "
      ],
      "metadata": {
        "id": "lEGj6OXEnCFN"
      }
    },
    {
      "cell_type": "markdown",
      "source": [
        "####Inside of United States"
      ],
      "metadata": {
        "id": "2Y2iNaa99K6T"
      }
    },
    {
      "cell_type": "markdown",
      "source": [
        "Let us check the unique values in the 'state' feature of the US 'Country' entries."
      ],
      "metadata": {
        "id": "_behgJIH9SNW"
      }
    },
    {
      "cell_type": "code",
      "source": [
        "uniquevaluescount(data[data['Country'] == 'United States'], 'state')"
      ],
      "metadata": {
        "colab": {
          "base_uri": "https://localhost:8080/"
        },
        "id": "A-8sM7PDq7SD",
        "outputId": "50c1c98c-bf81-4525-86c9-abe827f09ccc"
      },
      "execution_count": null,
      "outputs": [
        {
          "output_type": "stream",
          "name": "stdout",
          "text": [
            "state  Count\n",
            "   CA    138\n",
            "   WA     70\n",
            "   NY     56\n",
            "   TN     45\n",
            "   TX     44\n",
            "   OH     30\n",
            "   OR     29\n",
            "   PA     29\n",
            "   IL     28\n",
            "   IN     27\n",
            "   MI     22\n",
            "   MN     21\n",
            "   MA     20\n",
            "   FL     15\n",
            "   NC     14\n",
            "   VA     14\n",
            "   GA     12\n",
            "   MO     12\n",
            "   WI     12\n",
            "   UT     10\n",
            "   CO      9\n",
            "   AL      8\n",
            "   AZ      7\n",
            "   MD      7\n",
            "   NJ      6\n",
            "   OK      6\n",
            "   KY      5\n",
            "   SC      5\n",
            "   CT      4\n",
            "   DC      4\n",
            "   IA      4\n",
            "   KS      3\n",
            "   NH      3\n",
            "   NV      3\n",
            "   SD      3\n",
            "   VT      3\n",
            "   NE      2\n",
            "   NM      2\n",
            "   WY      2\n",
            "   ID      1\n",
            "   LA      1\n",
            "   ME      1\n",
            "   MS      1\n",
            "   RI      1\n",
            "   WV      1\n",
            "Total : 740\n"
          ]
        }
      ]
    },
    {
      "cell_type": "markdown",
      "source": [
        "There seems no problem with the unique values: no typo or any abnormal format. Now, let us count the count percentage of the missing values."
      ],
      "metadata": {
        "id": "MPOSWIyh9T3J"
      }
    },
    {
      "cell_type": "code",
      "source": [
        "# Calculating the 'state' missing value percentage of the 'United States' entries\n",
        "print(\"'United States' entries with missing 'State' value\")\n",
        "missingvaluepercentage(data[data['Country'] == 'United States'], 'state')"
      ],
      "metadata": {
        "colab": {
          "base_uri": "https://localhost:8080/"
        },
        "id": "LRctQZCS4M1N",
        "outputId": "6cbfeb6a-a2f0-4305-c0d3-05be8e80690c"
      },
      "execution_count": 36,
      "outputs": [
        {
          "output_type": "stream",
          "name": "stdout",
          "text": [
            "'United States' entries with missing 'State' value\n",
            "Missing value : 1.46%\n"
          ]
        }
      ]
    },
    {
      "cell_type": "markdown",
      "source": [
        "The percentage of missing values in the 'state' feature of the entries in 'United States' is relatively small, around 1.46% and still can be used for further analysis. We will just rename the missing values with 'No Data' and see if further deeper analysis can extract some information out of it."
      ],
      "metadata": {
        "id": "46NhpYWOEZSw"
      }
    },
    {
      "cell_type": "code",
      "source": [
        "# Replacing the 'state' missing values of the 'United States' entries with 'No Data'\n",
        "data.loc[data.Country == 'United States', 'state'] = data.loc[data.Country == 'United States', 'state'].fillna('No Data')\n",
        "\n",
        "# Checking if the missing values have been replaced correctly\n",
        "USNoDataState = len(data[data['Country'] == 'United States'][data['state'] == 'No Data'])\n",
        "USNullState = data[data['Country'] == 'United States']['state'].isnull().sum()\n",
        "NullState = data['state'].isnull().sum()\n",
        "\n",
        "# Displaying the report\n",
        "print(\"Entries In US With 'No Data' State : \" + str(USNoDataState))\n",
        "print('Entries in US with empty state     : ' + str(USNullState))\n",
        "print('Total entries with empty state     : ' + str(NullState))\n",
        "print('Entries Outside US                 : ' + str(NotUS))"
      ],
      "metadata": {
        "colab": {
          "base_uri": "https://localhost:8080/"
        },
        "id": "YDIurRUXE7Y7",
        "outputId": "56eefb2d-e94a-4ccb-ad86-8cfabb21e6f3"
      },
      "execution_count": 39,
      "outputs": [
        {
          "output_type": "stream",
          "name": "stdout",
          "text": [
            "Entries In US With 'No Data' State : 11\n",
            "Entries in US with empty state     : 0\n",
            "Total entries with empty state     : 504\n",
            "Entries Outside US                 : 508\n"
          ]
        },
        {
          "output_type": "stream",
          "name": "stderr",
          "text": [
            "/usr/local/lib/python3.7/dist-packages/ipykernel_launcher.py:5: UserWarning: Boolean Series key will be reindexed to match DataFrame index.\n",
            "  \"\"\"\n"
          ]
        }
      ]
    },
    {
      "cell_type": "markdown",
      "source": [
        "The 'state' missing values of the 'United States' entries have been successfully replaced with 'No Data'. We will no proceed to the entries outside of the 'United States'."
      ],
      "metadata": {
        "id": "X3SyRMa6QMdk"
      }
    },
    {
      "cell_type": "markdown",
      "source": [
        "####Outside of United States"
      ],
      "metadata": {
        "id": "DWm31RLuQcy3"
      }
    },
    {
      "cell_type": "markdown",
      "source": [
        "Let us check the unique values in the 'state' feature of entries outside of the US 'Country'."
      ],
      "metadata": {
        "id": "og5rW6o0QjTk"
      }
    },
    {
      "cell_type": "code",
      "source": [
        "uniquevaluescount(data[data['Country'] != 'United States'], 'state')"
      ],
      "metadata": {
        "colab": {
          "base_uri": "https://localhost:8080/"
        },
        "id": "Tdd7lYxIQtcX",
        "outputId": "4cbaf086-271a-4cdf-9417-c7c52e63cfc6"
      },
      "execution_count": 40,
      "outputs": [
        {
          "output_type": "stream",
          "name": "stdout",
          "text": [
            "\u001b[34mUnique value count of state\u001b[0m\n",
            "state  Count\n",
            "   IL      1\n",
            "   MD      1\n",
            "   NY      1\n",
            "   UT      1\n",
            "Total : 4\n",
            "\n"
          ]
        }
      ]
    },
    {
      "cell_type": "code",
      "source": [
        "# Getting the unique 'state' values of entries outside 'United States'\n",
        "liststateOutsideUS = list(data[data['Country'] != 'United States']['state'].unique())\n",
        "\n",
        "# Omitting the nan numerical value\n",
        "liststateOutsideUS = [i for i in liststateOutsideUS if type(i) is not float]\n",
        "\n",
        "# Getting the 'Country' for each of the 'state'\n",
        "listcountryOutsideUS = []\n",
        "for i in liststateOutsideUS:\n",
        "    countryOutsideUS = data[data['Country'] != 'United States'].loc[data['state'] == i, 'Country'].iloc[0]\n",
        "    listcountryOutsideUS.append(str(countryOutsideUS))\n",
        "\n",
        "# Displaying the report\n",
        "Table = pd.DataFrame(list(zip(liststateOutsideUS, listcountryOutsideUS)))\n",
        "Table.columns = ['State', 'Country']\n",
        "print(\"Unique 'state' value of entries outside of 'United States' and their corresponding 'Country :'\")\n",
        "print(Table.to_string(index = False))"
      ],
      "metadata": {
        "colab": {
          "base_uri": "https://localhost:8080/"
        },
        "id": "07RYiVns5rZL",
        "outputId": "abed2c07-111d-4416-e5ba-64ae3619272c"
      },
      "execution_count": 43,
      "outputs": [
        {
          "output_type": "stream",
          "name": "stdout",
          "text": [
            "Unique 'state' value of entries outside of 'United States' and their corresponding 'Country :'\n",
            "State      Country\n",
            "   NY       Latvia\n",
            "   MD       Israel\n",
            "   IL Bahamas, The\n",
            "   UT     Bulgaria\n"
          ]
        }
      ]
    },
    {
      "cell_type": "markdown",
      "source": [
        "Each 'state' resides on different countries. In further analysis, these 'state' values might not be used. We will just leave them like that for now."
      ],
      "metadata": {
        "id": "wRnnl5fyF3eH"
      }
    },
    {
      "cell_type": "markdown",
      "source": [
        "###self_employed"
      ],
      "metadata": {
        "id": "maFdmt-EZqo8"
      }
    },
    {
      "cell_type": "markdown",
      "source": [
        "The percentage of missing values in the 'self_employed' feature is relatively small, around 1.43% and still can be used for further analysis. We will try filling in the missing values randomly based on the probability of each 'yes' or 'no' value."
      ],
      "metadata": {
        "id": "6MsNkuVXja8N"
      }
    },
    {
      "cell_type": "code",
      "source": [
        "# Calculating the probability of each value\n",
        "valueprobability(data, 'self_employed')"
      ],
      "metadata": {
        "id": "2NFEYZocl8ZD",
        "colab": {
          "base_uri": "https://localhost:8080/"
        },
        "outputId": "f8ec4264-07d0-44e9-fd25-b8b01b6b6059"
      },
      "execution_count": 44,
      "outputs": [
        {
          "output_type": "stream",
          "name": "stdout",
          "text": [
            "self_employed  Count  Probabiity\n",
            "           No   1095    0.882353\n",
            "          Yes    146    0.117647\n"
          ]
        }
      ]
    },
    {
      "cell_type": "markdown",
      "source": [
        "Filling in the missing values of the 'self_employed' feature based on the probability of each unique value in the feature."
      ],
      "metadata": {
        "id": "Ch5EwwRQysgM"
      }
    },
    {
      "cell_type": "code",
      "source": [
        "# Filling in the missing values\n",
        "data['self_employed'] = data['self_employed'].fillna(pd.Series(np.random.choice(listUV,\n",
        "                                                                               p = listUVprob,\n",
        "                                                                               size = len(data))))"
      ],
      "metadata": {
        "id": "PNsoM9dAoqy1"
      },
      "execution_count": 45,
      "outputs": []
    },
    {
      "cell_type": "markdown",
      "source": [
        "Checking if the missing values have been filled in, then the count of unique values of the updated feature."
      ],
      "metadata": {
        "id": "HISdg0VqzKZn"
      }
    },
    {
      "cell_type": "code",
      "source": [
        "# Checking if the missing values have been filled in\n",
        "print(missingvaluepercentage(data, 'self_employed'))"
      ],
      "metadata": {
        "colab": {
          "base_uri": "https://localhost:8080/"
        },
        "id": "OXEgJUrsy9IP",
        "outputId": "9509e1ca-0b32-48ed-9d96-66a41f62920a"
      },
      "execution_count": 46,
      "outputs": [
        {
          "output_type": "stream",
          "name": "stdout",
          "text": [
            "Missing value : 0.00%\n",
            "None\n"
          ]
        }
      ]
    },
    {
      "cell_type": "code",
      "source": [
        "# Checking the unique values in the 'self_employed' feature\n",
        "print(uniquevaluescount(data, 'self_employed'))"
      ],
      "metadata": {
        "colab": {
          "base_uri": "https://localhost:8080/"
        },
        "id": "XnLOprn6xoaq",
        "outputId": "a5e5293d-bf93-4fd9-9162-342226554b9c"
      },
      "execution_count": 47,
      "outputs": [
        {
          "output_type": "stream",
          "name": "stdout",
          "text": [
            "\u001b[34mUnique value count of self_employed\u001b[0m\n",
            "self_employed  Count\n",
            "           No   1111\n",
            "          Yes    148\n",
            "Total : 1259\n",
            "\n",
            "None\n"
          ]
        }
      ]
    },
    {
      "cell_type": "markdown",
      "source": [
        "###work_interfere"
      ],
      "metadata": {
        "id": "eJGfQAum0lcy"
      }
    },
    {
      "cell_type": "markdown",
      "source": [
        "The missing values in the 'work_interfere' feature is quite large. However, since this feature may present a rather important insight when we analyze the dataset further, we will try to fill in the missing values instead of dropping the entire feature. "
      ],
      "metadata": {
        "id": "fkmKn7ik28BW"
      }
    },
    {
      "cell_type": "code",
      "source": [
        "# Calculating the probability of each value\n",
        "valueprobability(data, 'work_interfere')"
      ],
      "metadata": {
        "colab": {
          "base_uri": "https://localhost:8080/"
        },
        "id": "UQskZp7i3L1B",
        "outputId": "86686259-cee7-44bc-c634-08adfcf59cd1"
      },
      "execution_count": 48,
      "outputs": [
        {
          "output_type": "stream",
          "name": "stdout",
          "text": [
            "work_interfere  Count  Probabiity\n",
            "     Sometimes    465    0.467337\n",
            "         Never    213    0.214070\n",
            "        Rarely    173    0.173869\n",
            "         Often    144    0.144724\n"
          ]
        }
      ]
    },
    {
      "cell_type": "code",
      "source": [
        "# Filling in the missing values based on the probability of each unique value\n",
        "data['work_interfere'] = data['work_interfere'].fillna(pd.Series(np.random.choice(listUV,\n",
        "                                                                                  p = listUVprob,\n",
        "                                                                                  size = len(data))))"
      ],
      "metadata": {
        "id": "ZcswvMkS3nq5"
      },
      "execution_count": 49,
      "outputs": []
    },
    {
      "cell_type": "markdown",
      "source": [
        "Checking if the missing values have been filled in, then the count of unique values of the updated feature."
      ],
      "metadata": {
        "id": "8AqfDqY_4LDV"
      }
    },
    {
      "cell_type": "code",
      "source": [
        "# Checking if the missing values have been filled in\n",
        "print(missingvaluepercentage(data, 'work_interfere'))"
      ],
      "metadata": {
        "colab": {
          "base_uri": "https://localhost:8080/"
        },
        "outputId": "35a2d3cf-91cd-4104-d220-9dc8b6257714",
        "id": "r5Up6tjX4LDV"
      },
      "execution_count": 50,
      "outputs": [
        {
          "output_type": "stream",
          "name": "stdout",
          "text": [
            "Missing value : 0.00%\n",
            "None\n"
          ]
        }
      ]
    },
    {
      "cell_type": "code",
      "source": [
        "# Checking the unique values in the 'self_employed' feature\n",
        "print(uniquevaluescount(data, 'work_interfere'))"
      ],
      "metadata": {
        "colab": {
          "base_uri": "https://localhost:8080/"
        },
        "outputId": "ff2079bb-06e7-41a7-fac9-283485b2c5a7",
        "id": "a01Q-Kwy4LDW"
      },
      "execution_count": 51,
      "outputs": [
        {
          "output_type": "stream",
          "name": "stdout",
          "text": [
            "\u001b[34mUnique value count of work_interfere\u001b[0m\n",
            "work_interfere  Count\n",
            "     Sometimes    577\n",
            "         Never    282\n",
            "        Rarely    218\n",
            "         Often    182\n",
            "Total : 1259\n",
            "\n",
            "None\n"
          ]
        }
      ]
    },
    {
      "cell_type": "markdown",
      "source": [
        "###no_employees"
      ],
      "metadata": {
        "id": "C1UsD_KJ4QQd"
      }
    },
    {
      "cell_type": "markdown",
      "source": [
        "We will rename the unique value 'More than 1000' to '>1000' instead to make it shorter and changing the '-' character to ' to ' instead to avoid data auto-formatting in the future when we export the data into a csv file."
      ],
      "metadata": {
        "id": "LqnLUuCt56z8"
      }
    },
    {
      "cell_type": "code",
      "source": [
        "# Renaming the 'More than 1000' data\n",
        "data['no_employees'] = data['no_employees'].replace(['More than 1000'], '>1000')\n",
        "\n",
        "# Finding and replacing the character\n",
        "data['no_employees'] = [w.replace('-', ' to ') for w in data['no_employees']]\n",
        "\n",
        "# Checking if the data has been properly changed\n",
        "uniquevaluescount(data, 'no_employees')"
      ],
      "metadata": {
        "id": "3kUDK-Ez6hYr",
        "colab": {
          "base_uri": "https://localhost:8080/"
        },
        "outputId": "c66c416a-8f5a-4228-fc7a-7bfe15a3385b"
      },
      "execution_count": 52,
      "outputs": [
        {
          "output_type": "stream",
          "name": "stdout",
          "text": [
            "\u001b[34mUnique value count of no_employees\u001b[0m\n",
            "no_employees  Count\n",
            "     6 to 25    290\n",
            "   26 to 100    289\n",
            "       >1000    282\n",
            "  100 to 500    176\n",
            "      1 to 5    162\n",
            " 500 to 1000     60\n",
            "Total : 1259\n",
            "\n"
          ]
        }
      ]
    },
    {
      "cell_type": "markdown",
      "source": [
        "###comments"
      ],
      "metadata": {
        "id": "TSbc0az0501N"
      }
    },
    {
      "cell_type": "markdown",
      "source": [
        "The 'comments' feature has 161 unique values large missing values. We will check the percentage of the missing values."
      ],
      "metadata": {
        "id": "7Tz19dG1-ZTj"
      }
    },
    {
      "cell_type": "code",
      "source": [
        "# Checking the missing value percentage of 'comments' feature\n",
        "missingvaluepercentage(data, 'comments')"
      ],
      "metadata": {
        "colab": {
          "base_uri": "https://localhost:8080/"
        },
        "id": "DFKx1TFD-OBG",
        "outputId": "3a401cf4-b7a6-432d-fa73-1d8c263389ab"
      },
      "execution_count": 53,
      "outputs": [
        {
          "output_type": "stream",
          "name": "stdout",
          "text": [
            "Missing value : 86.97%\n"
          ]
        }
      ]
    },
    {
      "cell_type": "markdown",
      "source": [
        "Since the feature has a large missing values, we will omit this feature."
      ],
      "metadata": {
        "id": "NX871u6l-lo_"
      }
    },
    {
      "cell_type": "code",
      "source": [
        "# Dropping the 'comments' feature\n",
        "data.drop('comments', axis = 1, inplace = True)\n",
        "\n",
        "# Checking the features of the dataset\n",
        "print(data.columns)"
      ],
      "metadata": {
        "colab": {
          "base_uri": "https://localhost:8080/"
        },
        "id": "AOdOVQgc_IKN",
        "outputId": "3f1e0ec4-a695-4d18-9434-0457d83333e6"
      },
      "execution_count": 54,
      "outputs": [
        {
          "output_type": "stream",
          "name": "stdout",
          "text": [
            "Index(['Age', 'Gender', 'Country', 'state', 'self_employed', 'family_history',\n",
            "       'treatment', 'work_interfere', 'no_employees', 'remote_work',\n",
            "       'tech_company', 'benefits', 'care_options', 'wellness_program',\n",
            "       'seek_help', 'anonymity', 'leave', 'mental_health_consequence',\n",
            "       'phys_health_consequence', 'coworkers', 'supervisor',\n",
            "       'mental_health_interview', 'phys_health_interview',\n",
            "       'mental_vs_physical', 'obs_consequence'],\n",
            "      dtype='object')\n"
          ]
        }
      ]
    },
    {
      "cell_type": "markdown",
      "source": [
        "The 'comments' feature has been successfully omitted while retaining the other features."
      ],
      "metadata": {
        "id": "8pzkSZ2k_r0x"
      }
    },
    {
      "cell_type": "markdown",
      "source": [
        "##**4. Data Exporting and Next Actions**"
      ],
      "metadata": {
        "id": "z3jBKl_9iTTp"
      }
    },
    {
      "cell_type": "markdown",
      "source": [
        "Now we have done cleaning and doing some feature engineering to the initial dataset. What is left is to export the result in a new csv. file."
      ],
      "metadata": {
        "id": "JCfnQPDOABko"
      }
    },
    {
      "cell_type": "code",
      "source": [
        "data.to_csv('Mental Health Survey (Cleaned).csv')"
      ],
      "metadata": {
        "id": "viu5x2RniXQ-"
      },
      "execution_count": 55,
      "outputs": []
    }
  ]
}