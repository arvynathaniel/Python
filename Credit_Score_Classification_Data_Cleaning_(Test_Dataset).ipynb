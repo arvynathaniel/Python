{
  "cells": [
    {
      "cell_type": "markdown",
      "metadata": {
        "id": "view-in-github",
        "colab_type": "text"
      },
      "source": [
        "<a href=\"https://colab.research.google.com/github/arvynathaniel/Python/blob/main/Credit_Score_Classification_Data_Cleaning_(Test_Dataset).ipynb\" target=\"_parent\"><img src=\"https://colab.research.google.com/assets/colab-badge.svg\" alt=\"Open In Colab\"/></a>"
      ]
    },
    {
      "cell_type": "markdown",
      "metadata": {
        "id": "uEcAt4x-YwKj"
      },
      "source": [
        "# **Data Cleaning Project: Credit Score Classification Test Dataset**"
      ]
    },
    {
      "cell_type": "markdown",
      "metadata": {
        "id": "gklkpEISZM2o"
      },
      "source": [
        "In this project, we will be doing some data cleaning and feature engineering to the testing dataset about a credit score classification. The product of this project is a csv file that can further be used in a prediction project to classify clients' credit score. Previously, we have done the data cleaning and feature engineering for the training dataset. In the current project, the principle is to do mainly the same steps for the testing dataset data cleaning and feature engineering as we did with the testing dataset. However, due to the possibility of some different natures between the two datasets, we will still be looking at and learning about the testing dataset, finding out its differences from the training dataset, then make some tweaks to the data cleaning and feature engineering steps to better fit with the testing dataset.\n",
        "\n",
        "Our thanks to the provider of the original datasets:\n",
        "https://www.kaggle.com/datasets/parisrohan/credit-score-classification"
      ]
    },
    {
      "cell_type": "markdown",
      "metadata": {
        "id": "TFOGgQuMzcMG"
      },
      "source": [
        "## **I. Project Preparation**"
      ]
    },
    {
      "cell_type": "markdown",
      "metadata": {
        "id": "mk9rKNbHzoxh"
      },
      "source": [
        "### **Ia. Libraries**"
      ]
    },
    {
      "cell_type": "code",
      "execution_count": 1,
      "metadata": {
        "id": "4uj3zWL_97j8",
        "colab": {
          "base_uri": "https://localhost:8080/"
        },
        "outputId": "e840d5f8-8f44-4de7-de1c-dca50dad8c2f"
      },
      "outputs": [
        {
          "output_type": "stream",
          "name": "stdout",
          "text": [
            "Looking in indexes: https://pypi.org/simple, https://us-python.pkg.dev/colab-wheels/public/simple/\n",
            "Requirement already satisfied: termcolor in /usr/local/lib/python3.7/dist-packages (1.1.0)\n"
          ]
        }
      ],
      "source": [
        "# importing libraries\n",
        "import pandas as pd\n",
        "\n",
        "import numpy as np\n",
        "\n",
        "import seaborn as sns\n",
        "\n",
        "import matplotlib.pyplot as plt\n",
        "\n",
        "import sys\n",
        "!{sys.executable} -m pip install termcolor\n",
        "\n",
        "from sklearn.preprocessing import MultiLabelBinarizer\n",
        "mlb = MultiLabelBinarizer()\n",
        "\n",
        "from termcolor import colored\n",
        "\n",
        "import warnings\n",
        "warnings.filterwarnings(\"ignore\") \n",
        "warnings.warn(\"this will not show\")"
      ]
    },
    {
      "cell_type": "markdown",
      "metadata": {
        "id": "v5jgaVG1ztgp"
      },
      "source": [
        "### **Ib. Datasets**"
      ]
    },
    {
      "cell_type": "code",
      "execution_count": 2,
      "metadata": {
        "id": "Jln1oAj4Z9mt"
      },
      "outputs": [],
      "source": [
        "# original test dataset to serve as reset checkpoint\n",
        "test_ori = pd.read_csv('test.csv')\n",
        "\n",
        "# copy of test dataset\n",
        "test = test_ori.copy()"
      ]
    },
    {
      "cell_type": "markdown",
      "metadata": {
        "id": "-mKcsVsLRIKt"
      },
      "source": [
        "### **Ic. Functions**"
      ]
    },
    {
      "cell_type": "code",
      "execution_count": 3,
      "metadata": {
        "id": "ShlMemyhRIKt"
      },
      "outputs": [],
      "source": [
        "# Function to get count of each unique value in a feature and its portion\n",
        "def uniquevalueprob(dataset, feature, excludeditem = None):\n",
        "    # Storing each unique value in a list\n",
        "    global listUV\n",
        "    listUV = list(dataset[feature].unique())\n",
        "    listUV = [i for i in listUV if type(i) is not float]\n",
        "    if excludeditem is not None:\n",
        "        listUV.remove(excludeditem)\n",
        "    else:\n",
        "        listUV = listUV\n",
        "    \n",
        "    #Storing the count of each unique value in a list\n",
        "    global listUVcount\n",
        "    listUVcount = []\n",
        "    for UV in listUV:\n",
        "        UVcount = (dataset[feature] == UV).sum()\n",
        "        listUVcount.append(UVcount)\n",
        "    \n",
        "    # Calculating the sum of all UVcount\n",
        "    totalcount = sum(listUVcount)\n",
        "    \n",
        "    # Calculating the portion of each unique value in the feature\n",
        "    global listUVportion\n",
        "    listUVportion = []\n",
        "    for item in listUVcount:\n",
        "        UVportion = item / totalcount\n",
        "        listUVportion.append(UVportion)\n",
        "    \n",
        "    # Creating the report table\n",
        "    table = pd.DataFrame(list(zip(listUV, listUVcount, listUVportion)))\n",
        "    table.columns = [feature, 'Count', 'Portion']\n",
        "    \n",
        "    # Displaying the report table\n",
        "    print(table.sort_values(['Count', feature], \n",
        "                            ascending = [0,1]).to_string(index = False))\n",
        "\n",
        "def countoutlier(dataset, feature):\n",
        "    # Setting outlier boundaries\n",
        "    Q1 = dataset[feature].quantile(0.25)\n",
        "    Q3 = dataset[feature].quantile(0.75)\n",
        "    IQR = Q3 - Q1\n",
        "    UBoundary = Q3 + 1.5 * IQR\n",
        "    LBoundary = Q1 - 1.5 * IQR\n",
        "    \n",
        "    # Counting outliers\n",
        "    outliercount = 0\n",
        "    for i in dataset[feature]:\n",
        "        if i > UBoundary or i < LBoundary:\n",
        "            outliercount = outliercount + 1\n",
        "        else:\n",
        "            pass\n",
        "    \n",
        "    # Outlier count report\n",
        "    print('Outlier count in', feature, ':', outliercount)\n",
        "    \n",
        "def omitoutlier(dataset, feature):\n",
        "    # Setting outlier boundaries\n",
        "    Q1 = dataset[feature].quantile(0.25)\n",
        "    Q3 = dataset[feature].quantile(0.75)\n",
        "    IQR = Q3 - Q1\n",
        "    UBoundary = Q3 + 1.5 * IQR\n",
        "    LBoundary = Q1 - 1.5 * IQR\n",
        "    \n",
        "    # Creating a new list to omit outliers\n",
        "    newlist = []\n",
        "    for i in dataset[feature]:\n",
        "        if i > UBoundary or i < LBoundary:\n",
        "            newlist.append(np.nan)\n",
        "        else:\n",
        "            newlist.append(i)\n",
        "    \n",
        "    # Dropping the outliers in the feature\n",
        "    dataset[feature] = newlist\n",
        "    \n",
        "    # Outliers ommission report\n",
        "    print(feature, ' data distribution after dropping the outliers : ')\n",
        "    plt.hist(dataset[feature])\n",
        "    plt.title(feature + ' Data Distribution')\n",
        "    plt.xlabel(feature)\n",
        "    plt.ylabel('Count')\n",
        "    \n",
        "def lookupreplacement(dataset, reference, feature):\n",
        "    # to fillna numerical values in a specific feature on a group of entries\n",
        "    # using their mode\n",
        "    \n",
        "    # Creating a dataframe containing the reference feature and feature to change\n",
        "    lookup = dataset[[reference, feature]]\n",
        "\n",
        "    # Returning the feature mode of each reference value\n",
        "    lookup = lookup.groupby(reference).agg(pd.Series.mode)\n",
        "\n",
        "    # Replacing the feature value of each reference with each one's Mode\n",
        "    dataset[feature] = dataset[reference].map(lookup[feature])\n",
        "    \n",
        "    # Eliminating any generated list values by using the first member of the list\n",
        "    newlist = []\n",
        "    for i in range(len(dataset[feature])):\n",
        "        # for float type members\n",
        "        if type(dataset[feature][i]) == np.float64:\n",
        "            newlist.append(dataset[feature][i])\n",
        "        # for empty list members\n",
        "        elif type(dataset[feature][i]) == np.ndarray and len(dataset[feature][i]) == 0:\n",
        "            newlist.append(np.nan)\n",
        "        # for non-empty list members\n",
        "        elif type(dataset[feature][i]) == np.ndarray and len(dataset[feature][i]) != 0:\n",
        "            newlist.append(dataset[feature][i][1])\n",
        "    dataset[feature] = newlist\n",
        "    \n",
        "    # Reconverting the feature into float\n",
        "    dataset[feature].astype(float)\n",
        "    \n",
        "    # Remaining missing value\n",
        "    remaining = dataset[feature].isnull().sum()\n",
        "    print('Remaining', feature, 'missing values :', remaining)\n",
        "    \n",
        "def aggregatedfillna(dataset, reference, feature):\n",
        "    # to randomly fillna numerical values in a specific feature on a group of entries\n",
        "    # using their mean +- standard deviation\n",
        "    \n",
        "    # feature lookup table for remaining misisng values, aggregated by the reference feature\n",
        "    table = dataset[[reference, feature]]\n",
        "\n",
        "    # Locating the entries in the feature with empty value\n",
        "    ref = table.loc[table[feature].isnull(), reference]\n",
        "\n",
        "    # Getting only the unique references\n",
        "    ref = ref.unique()\n",
        "\n",
        "    # Transforming the references with empty feature value into a list\n",
        "    ref = list(ref)\n",
        "\n",
        "    # Creating the empty feature list\n",
        "    fe = []\n",
        "    for i in range(len(ref)):\n",
        "        fe.append(np.nan)\n",
        "\n",
        "    # Creating the feature lookup table\n",
        "    featureLookup = pd.DataFrame(list(zip(ref, fe)))\n",
        "    featureLookup.columns = [reference, feature]\n",
        "\n",
        "    # Mean of the feature\n",
        "    featureMean = dataset[feature].mean()\n",
        "\n",
        "    # Standard deviation of the feature\n",
        "    featureStdDev = dataset[feature].std()\n",
        "\n",
        "    # Generating the feature value for the feature lookup table\n",
        "    featureLookup[feature] = featureLookup[feature].fillna(pd.Series(np.random.randint(int(featureMean - featureStdDev), \n",
        "                                                                                       int(featureMean + featureStdDev),\n",
        "                                                                                       size = featureLookup[feature].isnull().sum())))\n",
        "    \n",
        "    # Filling in the missing values in the feature in reference to the feature lookup table\n",
        "    dataset[feature] = dataset[feature].fillna(dataset[reference].map(featureLookup.set_index(reference)[feature]))\n",
        "\n",
        "    # Checking if there are still missing values in the feature\n",
        "    remaining = dataset[feature].isnull().sum()\n",
        "    print('Remaining', feature, 'missing values :', remaining)"
      ]
    },
    {
      "cell_type": "markdown",
      "metadata": {
        "id": "PksdQmVtzwLy"
      },
      "source": [
        "## **II. Light Data Exploration**"
      ]
    },
    {
      "cell_type": "markdown",
      "metadata": {
        "id": "QzNMLIUj0xxw"
      },
      "source": [
        "### **IIa. General overview**"
      ]
    },
    {
      "cell_type": "markdown",
      "metadata": {
        "id": "Iv-n5t22RIKv"
      },
      "source": [
        "There are some information regarding what each feature of the dataset represents given by the provider of the datasets. These information are very useful for us to better understand the datasets.\n",
        "\n",
        "* 1. ID: Represents a unique identification of an entry\n",
        "* 2. Customer_ID: Represents a unique identification of a person\n",
        "* 3. Month: Represents the month of the year\n",
        "* 4. Name: Represents the name of a person\n",
        "* 5. Age: Represents the age of the person\n",
        "* 6. SSN: Represents the social security number of a person\n",
        "* 7. Occupation: Represents the occupation of the person\n",
        "* 8. Annual_Income: Represents the annual income of the person\n",
        "* 9. Monthly_Inhand_Salary:Represents the monthly base salary of a person\n",
        "* 10. Num_Bank_Accounts: Represents the number of bank accounts a person holds\n",
        "* 11. Num_Credit_Card: Represents the number of other credit cards held by a person\n",
        "* 12. Interest_Rate: Represents the interest rate on credit card\n",
        "* 13. Num_of_Loan: Represents the number of loans taken from the bank\n",
        "* 14. Type_of_Loan: Represents the types of loan taken by a person\n",
        "* 15. Delay_from_due_date: Represents the average number of days delayed from the payment date\n",
        "* 16. Num_of_Delayed_Payment: Represents the average number of payments delayed by a person\n",
        "* 17. Changed_Credit_Limit: Represents the percentage change in credit card limit\n",
        "* 18. Num_Credit_Inquiries: Represents the number of credit card inquiries\n",
        "* 19. Credit_Mix: Represents the classification of the mix of credits\n",
        "* 20. Outstanding_Debt: Represents the remaining debt to be paid (in USD)\n",
        "* 21. Credit_Utilization_Ratio: Represents the utilization ratio of credit card\n",
        "* 22. Credit_History_Age: Represents the age of credit history of the person\n",
        "* 23. Payment_of_Min_Amount: Represents whether only the minimum amount was paid by the person\n",
        "* 24. Total_EMI_per_month: Represents the monthly EMI payments (in USD)\n",
        "* 25. Amount_invested_monthly: Represents the monthly amount invested by the customer (in USD)\n",
        "* 26. Payment_Behaviour: Represents the payment behavior of the customer (in USD)\n",
        "* 27. Monthly_Balance: Represents the monthly balance amount of the customer (in USD)"
      ]
    },
    {
      "cell_type": "code",
      "execution_count": 4,
      "metadata": {
        "colab": {
          "base_uri": "https://localhost:8080/",
          "height": 583
        },
        "id": "Dnmt2dHJaHYa",
        "outputId": "6d05f6bc-53f6-4aeb-8aa9-d1acdb72b769",
        "scrolled": true
      },
      "outputs": [
        {
          "output_type": "execute_result",
          "data": {
            "text/plain": [
              "       ID Customer_ID      Month             Name  Age          SSN  \\\n",
              "0  0x160a   CUS_0xd40  September    Aaron Maashoh   23  821-00-0265   \n",
              "1  0x160b   CUS_0xd40    October    Aaron Maashoh   24  821-00-0265   \n",
              "2  0x160c   CUS_0xd40   November    Aaron Maashoh   24  821-00-0265   \n",
              "3  0x160d   CUS_0xd40   December    Aaron Maashoh  24_  821-00-0265   \n",
              "4  0x1616  CUS_0x21b1  September  Rick Rothackerj   28  004-07-5839   \n",
              "\n",
              "  Occupation Annual_Income  Monthly_Inhand_Salary  Num_Bank_Accounts  \\\n",
              "0  Scientist      19114.12            1824.843333                  3   \n",
              "1  Scientist      19114.12            1824.843333                  3   \n",
              "2  Scientist      19114.12            1824.843333                  3   \n",
              "3  Scientist      19114.12                    NaN                  3   \n",
              "4    _______      34847.84            3037.986667                  2   \n",
              "\n",
              "   Num_Credit_Card  Interest_Rate Num_of_Loan  \\\n",
              "0                4              3           4   \n",
              "1                4              3           4   \n",
              "2                4              3           4   \n",
              "3                4              3           4   \n",
              "4                4              6           1   \n",
              "\n",
              "                                        Type_of_Loan  Delay_from_due_date  \\\n",
              "0  Auto Loan, Credit-Builder Loan, Personal Loan,...                    3   \n",
              "1  Auto Loan, Credit-Builder Loan, Personal Loan,...                    3   \n",
              "2  Auto Loan, Credit-Builder Loan, Personal Loan,...                   -1   \n",
              "3  Auto Loan, Credit-Builder Loan, Personal Loan,...                    4   \n",
              "4                                Credit-Builder Loan                    3   \n",
              "\n",
              "  Num_of_Delayed_Payment Changed_Credit_Limit  Num_Credit_Inquiries  \\\n",
              "0                      7                11.27                2022.0   \n",
              "1                      9                13.27                   4.0   \n",
              "2                      4                12.27                   4.0   \n",
              "3                      5                11.27                   4.0   \n",
              "4                      1                 5.42                   5.0   \n",
              "\n",
              "  Credit_Mix Outstanding_Debt  Credit_Utilization_Ratio  \\\n",
              "0       Good           809.98                 35.030402   \n",
              "1       Good           809.98                 33.053114   \n",
              "2       Good           809.98                 33.811894   \n",
              "3       Good           809.98                 32.430559   \n",
              "4       Good           605.03                 25.926822   \n",
              "\n",
              "       Credit_History_Age Payment_of_Min_Amount  Total_EMI_per_month  \\\n",
              "0   22 Years and 9 Months                    No            49.574949   \n",
              "1  22 Years and 10 Months                    No            49.574949   \n",
              "2                     NaN                    No            49.574949   \n",
              "3   23 Years and 0 Months                    No            49.574949   \n",
              "4   27 Years and 3 Months                    No            18.816215   \n",
              "\n",
              "  Amount_invested_monthly                 Payment_Behaviour  \\\n",
              "0      236.64268203272135    Low_spent_Small_value_payments   \n",
              "1      21.465380264657146  High_spent_Medium_value_payments   \n",
              "2      148.23393788500925   Low_spent_Medium_value_payments   \n",
              "3       39.08251089460281  High_spent_Medium_value_payments   \n",
              "4      39.684018417945296   High_spent_Large_value_payments   \n",
              "\n",
              "      Monthly_Balance  \n",
              "0  186.26670208571772  \n",
              "1  361.44400385378196  \n",
              "2  264.67544623342997  \n",
              "3  343.82687322383634  \n",
              "4   485.2984336755923  "
            ],
            "text/html": [
              "\n",
              "  <div id=\"df-f804d143-583c-4b34-a8ac-d872f0401be1\">\n",
              "    <div class=\"colab-df-container\">\n",
              "      <div>\n",
              "<style scoped>\n",
              "    .dataframe tbody tr th:only-of-type {\n",
              "        vertical-align: middle;\n",
              "    }\n",
              "\n",
              "    .dataframe tbody tr th {\n",
              "        vertical-align: top;\n",
              "    }\n",
              "\n",
              "    .dataframe thead th {\n",
              "        text-align: right;\n",
              "    }\n",
              "</style>\n",
              "<table border=\"1\" class=\"dataframe\">\n",
              "  <thead>\n",
              "    <tr style=\"text-align: right;\">\n",
              "      <th></th>\n",
              "      <th>ID</th>\n",
              "      <th>Customer_ID</th>\n",
              "      <th>Month</th>\n",
              "      <th>Name</th>\n",
              "      <th>Age</th>\n",
              "      <th>SSN</th>\n",
              "      <th>Occupation</th>\n",
              "      <th>Annual_Income</th>\n",
              "      <th>Monthly_Inhand_Salary</th>\n",
              "      <th>Num_Bank_Accounts</th>\n",
              "      <th>Num_Credit_Card</th>\n",
              "      <th>Interest_Rate</th>\n",
              "      <th>Num_of_Loan</th>\n",
              "      <th>Type_of_Loan</th>\n",
              "      <th>Delay_from_due_date</th>\n",
              "      <th>Num_of_Delayed_Payment</th>\n",
              "      <th>Changed_Credit_Limit</th>\n",
              "      <th>Num_Credit_Inquiries</th>\n",
              "      <th>Credit_Mix</th>\n",
              "      <th>Outstanding_Debt</th>\n",
              "      <th>Credit_Utilization_Ratio</th>\n",
              "      <th>Credit_History_Age</th>\n",
              "      <th>Payment_of_Min_Amount</th>\n",
              "      <th>Total_EMI_per_month</th>\n",
              "      <th>Amount_invested_monthly</th>\n",
              "      <th>Payment_Behaviour</th>\n",
              "      <th>Monthly_Balance</th>\n",
              "    </tr>\n",
              "  </thead>\n",
              "  <tbody>\n",
              "    <tr>\n",
              "      <th>0</th>\n",
              "      <td>0x160a</td>\n",
              "      <td>CUS_0xd40</td>\n",
              "      <td>September</td>\n",
              "      <td>Aaron Maashoh</td>\n",
              "      <td>23</td>\n",
              "      <td>821-00-0265</td>\n",
              "      <td>Scientist</td>\n",
              "      <td>19114.12</td>\n",
              "      <td>1824.843333</td>\n",
              "      <td>3</td>\n",
              "      <td>4</td>\n",
              "      <td>3</td>\n",
              "      <td>4</td>\n",
              "      <td>Auto Loan, Credit-Builder Loan, Personal Loan,...</td>\n",
              "      <td>3</td>\n",
              "      <td>7</td>\n",
              "      <td>11.27</td>\n",
              "      <td>2022.0</td>\n",
              "      <td>Good</td>\n",
              "      <td>809.98</td>\n",
              "      <td>35.030402</td>\n",
              "      <td>22 Years and 9 Months</td>\n",
              "      <td>No</td>\n",
              "      <td>49.574949</td>\n",
              "      <td>236.64268203272135</td>\n",
              "      <td>Low_spent_Small_value_payments</td>\n",
              "      <td>186.26670208571772</td>\n",
              "    </tr>\n",
              "    <tr>\n",
              "      <th>1</th>\n",
              "      <td>0x160b</td>\n",
              "      <td>CUS_0xd40</td>\n",
              "      <td>October</td>\n",
              "      <td>Aaron Maashoh</td>\n",
              "      <td>24</td>\n",
              "      <td>821-00-0265</td>\n",
              "      <td>Scientist</td>\n",
              "      <td>19114.12</td>\n",
              "      <td>1824.843333</td>\n",
              "      <td>3</td>\n",
              "      <td>4</td>\n",
              "      <td>3</td>\n",
              "      <td>4</td>\n",
              "      <td>Auto Loan, Credit-Builder Loan, Personal Loan,...</td>\n",
              "      <td>3</td>\n",
              "      <td>9</td>\n",
              "      <td>13.27</td>\n",
              "      <td>4.0</td>\n",
              "      <td>Good</td>\n",
              "      <td>809.98</td>\n",
              "      <td>33.053114</td>\n",
              "      <td>22 Years and 10 Months</td>\n",
              "      <td>No</td>\n",
              "      <td>49.574949</td>\n",
              "      <td>21.465380264657146</td>\n",
              "      <td>High_spent_Medium_value_payments</td>\n",
              "      <td>361.44400385378196</td>\n",
              "    </tr>\n",
              "    <tr>\n",
              "      <th>2</th>\n",
              "      <td>0x160c</td>\n",
              "      <td>CUS_0xd40</td>\n",
              "      <td>November</td>\n",
              "      <td>Aaron Maashoh</td>\n",
              "      <td>24</td>\n",
              "      <td>821-00-0265</td>\n",
              "      <td>Scientist</td>\n",
              "      <td>19114.12</td>\n",
              "      <td>1824.843333</td>\n",
              "      <td>3</td>\n",
              "      <td>4</td>\n",
              "      <td>3</td>\n",
              "      <td>4</td>\n",
              "      <td>Auto Loan, Credit-Builder Loan, Personal Loan,...</td>\n",
              "      <td>-1</td>\n",
              "      <td>4</td>\n",
              "      <td>12.27</td>\n",
              "      <td>4.0</td>\n",
              "      <td>Good</td>\n",
              "      <td>809.98</td>\n",
              "      <td>33.811894</td>\n",
              "      <td>NaN</td>\n",
              "      <td>No</td>\n",
              "      <td>49.574949</td>\n",
              "      <td>148.23393788500925</td>\n",
              "      <td>Low_spent_Medium_value_payments</td>\n",
              "      <td>264.67544623342997</td>\n",
              "    </tr>\n",
              "    <tr>\n",
              "      <th>3</th>\n",
              "      <td>0x160d</td>\n",
              "      <td>CUS_0xd40</td>\n",
              "      <td>December</td>\n",
              "      <td>Aaron Maashoh</td>\n",
              "      <td>24_</td>\n",
              "      <td>821-00-0265</td>\n",
              "      <td>Scientist</td>\n",
              "      <td>19114.12</td>\n",
              "      <td>NaN</td>\n",
              "      <td>3</td>\n",
              "      <td>4</td>\n",
              "      <td>3</td>\n",
              "      <td>4</td>\n",
              "      <td>Auto Loan, Credit-Builder Loan, Personal Loan,...</td>\n",
              "      <td>4</td>\n",
              "      <td>5</td>\n",
              "      <td>11.27</td>\n",
              "      <td>4.0</td>\n",
              "      <td>Good</td>\n",
              "      <td>809.98</td>\n",
              "      <td>32.430559</td>\n",
              "      <td>23 Years and 0 Months</td>\n",
              "      <td>No</td>\n",
              "      <td>49.574949</td>\n",
              "      <td>39.08251089460281</td>\n",
              "      <td>High_spent_Medium_value_payments</td>\n",
              "      <td>343.82687322383634</td>\n",
              "    </tr>\n",
              "    <tr>\n",
              "      <th>4</th>\n",
              "      <td>0x1616</td>\n",
              "      <td>CUS_0x21b1</td>\n",
              "      <td>September</td>\n",
              "      <td>Rick Rothackerj</td>\n",
              "      <td>28</td>\n",
              "      <td>004-07-5839</td>\n",
              "      <td>_______</td>\n",
              "      <td>34847.84</td>\n",
              "      <td>3037.986667</td>\n",
              "      <td>2</td>\n",
              "      <td>4</td>\n",
              "      <td>6</td>\n",
              "      <td>1</td>\n",
              "      <td>Credit-Builder Loan</td>\n",
              "      <td>3</td>\n",
              "      <td>1</td>\n",
              "      <td>5.42</td>\n",
              "      <td>5.0</td>\n",
              "      <td>Good</td>\n",
              "      <td>605.03</td>\n",
              "      <td>25.926822</td>\n",
              "      <td>27 Years and 3 Months</td>\n",
              "      <td>No</td>\n",
              "      <td>18.816215</td>\n",
              "      <td>39.684018417945296</td>\n",
              "      <td>High_spent_Large_value_payments</td>\n",
              "      <td>485.2984336755923</td>\n",
              "    </tr>\n",
              "  </tbody>\n",
              "</table>\n",
              "</div>\n",
              "      <button class=\"colab-df-convert\" onclick=\"convertToInteractive('df-f804d143-583c-4b34-a8ac-d872f0401be1')\"\n",
              "              title=\"Convert this dataframe to an interactive table.\"\n",
              "              style=\"display:none;\">\n",
              "        \n",
              "  <svg xmlns=\"http://www.w3.org/2000/svg\" height=\"24px\"viewBox=\"0 0 24 24\"\n",
              "       width=\"24px\">\n",
              "    <path d=\"M0 0h24v24H0V0z\" fill=\"none\"/>\n",
              "    <path d=\"M18.56 5.44l.94 2.06.94-2.06 2.06-.94-2.06-.94-.94-2.06-.94 2.06-2.06.94zm-11 1L8.5 8.5l.94-2.06 2.06-.94-2.06-.94L8.5 2.5l-.94 2.06-2.06.94zm10 10l.94 2.06.94-2.06 2.06-.94-2.06-.94-.94-2.06-.94 2.06-2.06.94z\"/><path d=\"M17.41 7.96l-1.37-1.37c-.4-.4-.92-.59-1.43-.59-.52 0-1.04.2-1.43.59L10.3 9.45l-7.72 7.72c-.78.78-.78 2.05 0 2.83L4 21.41c.39.39.9.59 1.41.59.51 0 1.02-.2 1.41-.59l7.78-7.78 2.81-2.81c.8-.78.8-2.07 0-2.86zM5.41 20L4 18.59l7.72-7.72 1.47 1.35L5.41 20z\"/>\n",
              "  </svg>\n",
              "      </button>\n",
              "      \n",
              "  <style>\n",
              "    .colab-df-container {\n",
              "      display:flex;\n",
              "      flex-wrap:wrap;\n",
              "      gap: 12px;\n",
              "    }\n",
              "\n",
              "    .colab-df-convert {\n",
              "      background-color: #E8F0FE;\n",
              "      border: none;\n",
              "      border-radius: 50%;\n",
              "      cursor: pointer;\n",
              "      display: none;\n",
              "      fill: #1967D2;\n",
              "      height: 32px;\n",
              "      padding: 0 0 0 0;\n",
              "      width: 32px;\n",
              "    }\n",
              "\n",
              "    .colab-df-convert:hover {\n",
              "      background-color: #E2EBFA;\n",
              "      box-shadow: 0px 1px 2px rgba(60, 64, 67, 0.3), 0px 1px 3px 1px rgba(60, 64, 67, 0.15);\n",
              "      fill: #174EA6;\n",
              "    }\n",
              "\n",
              "    [theme=dark] .colab-df-convert {\n",
              "      background-color: #3B4455;\n",
              "      fill: #D2E3FC;\n",
              "    }\n",
              "\n",
              "    [theme=dark] .colab-df-convert:hover {\n",
              "      background-color: #434B5C;\n",
              "      box-shadow: 0px 1px 3px 1px rgba(0, 0, 0, 0.15);\n",
              "      filter: drop-shadow(0px 1px 2px rgba(0, 0, 0, 0.3));\n",
              "      fill: #FFFFFF;\n",
              "    }\n",
              "  </style>\n",
              "\n",
              "      <script>\n",
              "        const buttonEl =\n",
              "          document.querySelector('#df-f804d143-583c-4b34-a8ac-d872f0401be1 button.colab-df-convert');\n",
              "        buttonEl.style.display =\n",
              "          google.colab.kernel.accessAllowed ? 'block' : 'none';\n",
              "\n",
              "        async function convertToInteractive(key) {\n",
              "          const element = document.querySelector('#df-f804d143-583c-4b34-a8ac-d872f0401be1');\n",
              "          const dataTable =\n",
              "            await google.colab.kernel.invokeFunction('convertToInteractive',\n",
              "                                                     [key], {});\n",
              "          if (!dataTable) return;\n",
              "\n",
              "          const docLinkHtml = 'Like what you see? Visit the ' +\n",
              "            '<a target=\"_blank\" href=https://colab.research.google.com/notebooks/data_table.ipynb>data table notebook</a>'\n",
              "            + ' to learn more about interactive tables.';\n",
              "          element.innerHTML = '';\n",
              "          dataTable['output_type'] = 'display_data';\n",
              "          await google.colab.output.renderOutput(dataTable, element);\n",
              "          const docLink = document.createElement('div');\n",
              "          docLink.innerHTML = docLinkHtml;\n",
              "          element.appendChild(docLink);\n",
              "        }\n",
              "      </script>\n",
              "    </div>\n",
              "  </div>\n",
              "  "
            ]
          },
          "metadata": {},
          "execution_count": 4
        }
      ],
      "source": [
        "# first five rows of the dataset\n",
        "pd.set_option('display.max_columns', None)\n",
        "test.head()"
      ]
    },
    {
      "cell_type": "code",
      "execution_count": 5,
      "metadata": {
        "colab": {
          "base_uri": "https://localhost:8080/"
        },
        "id": "v_cc66bACH32",
        "outputId": "086d1fb1-9f7a-4273-e556-e6ed8991f05e"
      },
      "outputs": [
        {
          "output_type": "stream",
          "name": "stdout",
          "text": [
            "test dataset entries x features : (50000, 27)\n"
          ]
        }
      ],
      "source": [
        "# dataset shape\n",
        "print('test dataset entries x features :', test.shape)"
      ]
    },
    {
      "cell_type": "code",
      "execution_count": 6,
      "metadata": {
        "colab": {
          "base_uri": "https://localhost:8080/"
        },
        "id": "nNe8elIIaeCT",
        "outputId": "6ea1fc6c-d0f3-4f86-c00e-f5d0b49f298c"
      },
      "outputs": [
        {
          "output_type": "stream",
          "name": "stdout",
          "text": [
            "<class 'pandas.core.frame.DataFrame'>\n",
            "RangeIndex: 50000 entries, 0 to 49999\n",
            "Data columns (total 27 columns):\n",
            " #   Column                    Non-Null Count  Dtype  \n",
            "---  ------                    --------------  -----  \n",
            " 0   ID                        50000 non-null  object \n",
            " 1   Customer_ID               50000 non-null  object \n",
            " 2   Month                     50000 non-null  object \n",
            " 3   Name                      44985 non-null  object \n",
            " 4   Age                       50000 non-null  object \n",
            " 5   SSN                       50000 non-null  object \n",
            " 6   Occupation                50000 non-null  object \n",
            " 7   Annual_Income             50000 non-null  object \n",
            " 8   Monthly_Inhand_Salary     42502 non-null  float64\n",
            " 9   Num_Bank_Accounts         50000 non-null  int64  \n",
            " 10  Num_Credit_Card           50000 non-null  int64  \n",
            " 11  Interest_Rate             50000 non-null  int64  \n",
            " 12  Num_of_Loan               50000 non-null  object \n",
            " 13  Type_of_Loan              44296 non-null  object \n",
            " 14  Delay_from_due_date       50000 non-null  int64  \n",
            " 15  Num_of_Delayed_Payment    46502 non-null  object \n",
            " 16  Changed_Credit_Limit      50000 non-null  object \n",
            " 17  Num_Credit_Inquiries      48965 non-null  float64\n",
            " 18  Credit_Mix                50000 non-null  object \n",
            " 19  Outstanding_Debt          50000 non-null  object \n",
            " 20  Credit_Utilization_Ratio  50000 non-null  float64\n",
            " 21  Credit_History_Age        45530 non-null  object \n",
            " 22  Payment_of_Min_Amount     50000 non-null  object \n",
            " 23  Total_EMI_per_month       50000 non-null  float64\n",
            " 24  Amount_invested_monthly   47729 non-null  object \n",
            " 25  Payment_Behaviour         50000 non-null  object \n",
            " 26  Monthly_Balance           49438 non-null  object \n",
            "dtypes: float64(4), int64(4), object(19)\n",
            "memory usage: 10.3+ MB\n"
          ]
        }
      ],
      "source": [
        "# data type info\n",
        "test.info()"
      ]
    },
    {
      "cell_type": "code",
      "execution_count": 7,
      "metadata": {
        "colab": {
          "base_uri": "https://localhost:8080/"
        },
        "id": "2TRJqr7m73n3",
        "outputId": "5975d31d-27ad-4b8d-dac9-3869db4e4282"
      },
      "outputs": [
        {
          "output_type": "execute_result",
          "data": {
            "text/plain": [
              "['ID',\n",
              " 'Customer_ID',\n",
              " 'Month',\n",
              " 'Name',\n",
              " 'Age',\n",
              " 'SSN',\n",
              " 'Occupation',\n",
              " 'Annual_Income',\n",
              " 'Num_of_Loan',\n",
              " 'Type_of_Loan',\n",
              " 'Num_of_Delayed_Payment',\n",
              " 'Changed_Credit_Limit',\n",
              " 'Credit_Mix',\n",
              " 'Outstanding_Debt',\n",
              " 'Credit_History_Age',\n",
              " 'Payment_of_Min_Amount',\n",
              " 'Amount_invested_monthly',\n",
              " 'Payment_Behaviour',\n",
              " 'Monthly_Balance']"
            ]
          },
          "metadata": {},
          "execution_count": 7
        }
      ],
      "source": [
        "# categorical features in test dataset\n",
        "testCat = []\n",
        "for i in test.columns:\n",
        "    if test[i].dtype == 'object':\n",
        "        testCat.append(i)\n",
        "testCat"
      ]
    },
    {
      "cell_type": "code",
      "execution_count": 8,
      "metadata": {
        "colab": {
          "base_uri": "https://localhost:8080/"
        },
        "id": "_W-x_g6f_ESC",
        "outputId": "bdb34132-fea4-44a9-92c8-ed717a92ca20"
      },
      "outputs": [
        {
          "output_type": "execute_result",
          "data": {
            "text/plain": [
              "['Monthly_Inhand_Salary',\n",
              " 'Num_Bank_Accounts',\n",
              " 'Num_Credit_Card',\n",
              " 'Interest_Rate',\n",
              " 'Delay_from_due_date',\n",
              " 'Num_Credit_Inquiries',\n",
              " 'Credit_Utilization_Ratio',\n",
              " 'Total_EMI_per_month']"
            ]
          },
          "metadata": {},
          "execution_count": 8
        }
      ],
      "source": [
        "# numerical features in test dataset\n",
        "testNum = []\n",
        "for i in test.columns:\n",
        "    if test[i].dtype == 'float64':\n",
        "        testNum.append(i)\n",
        "    if test[i].dtype == 'int64':\n",
        "        testNum.append(i)\n",
        "testNum"
      ]
    },
    {
      "cell_type": "markdown",
      "metadata": {
        "id": "K5ajA2cx2EQf"
      },
      "source": [
        "### **IIb. Missing values**"
      ]
    },
    {
      "cell_type": "code",
      "execution_count": 9,
      "metadata": {
        "colab": {
          "base_uri": "https://localhost:8080/"
        },
        "id": "ECoWV6Tr2Ghl",
        "outputId": "19a12615-cbd9-4cf2-e726-8e48f2ef134d"
      },
      "outputs": [
        {
          "output_type": "stream",
          "name": "stdout",
          "text": [
            "Missing values on each feature (test) : \n",
            "                 Feature  Count  Percentage (%)\n",
            "                      ID      0            0.00\n",
            "             Customer_ID      0            0.00\n",
            "                   Month      0            0.00\n",
            "                    Name   5015           10.03\n",
            "                     Age      0            0.00\n",
            "                     SSN      0            0.00\n",
            "              Occupation      0            0.00\n",
            "           Annual_Income      0            0.00\n",
            "   Monthly_Inhand_Salary   7498           15.00\n",
            "       Num_Bank_Accounts      0            0.00\n",
            "         Num_Credit_Card      0            0.00\n",
            "           Interest_Rate      0            0.00\n",
            "             Num_of_Loan      0            0.00\n",
            "            Type_of_Loan   5704           11.41\n",
            "     Delay_from_due_date      0            0.00\n",
            "  Num_of_Delayed_Payment   3498            7.00\n",
            "    Changed_Credit_Limit      0            0.00\n",
            "    Num_Credit_Inquiries   1035            2.07\n",
            "              Credit_Mix      0            0.00\n",
            "        Outstanding_Debt      0            0.00\n",
            "Credit_Utilization_Ratio      0            0.00\n",
            "      Credit_History_Age   4470            8.94\n",
            "   Payment_of_Min_Amount      0            0.00\n",
            "     Total_EMI_per_month      0            0.00\n",
            " Amount_invested_monthly   2271            4.54\n",
            "       Payment_Behaviour      0            0.00\n",
            "         Monthly_Balance    562            1.12\n"
          ]
        }
      ],
      "source": [
        "# Calculating the missing values for each feature\n",
        "MissingValues = test.isnull().sum()\n",
        "\n",
        "# Turning the previous output into a dataframe format\n",
        "MissingValues = pd.DataFrame(MissingValues)\n",
        "MissingValues = MissingValues.reset_index()\n",
        "MissingValues.columns = ['Feature', 'Count']\n",
        "\n",
        "# Calculating each feature's missing values percentage\n",
        "ListMissingVPerc = []\n",
        "for i in MissingValues['Count']:\n",
        "    missingperc = i/len(test) * 100 # Total entries = 50000 (from previous step)\n",
        "    ListMissingVPerc.append(missingperc)\n",
        "ListMissingVPerc = [round(num, 2) for num in ListMissingVPerc]\n",
        "\n",
        "# Adding the missing values percentage column to the report\n",
        "MissingValues['Percentage (%)'] = ListMissingVPerc\n",
        "\n",
        "# Printing the missing values report\n",
        "print('Missing values on each feature (test) : ')\n",
        "print(MissingValues.to_string(index = False))"
      ]
    },
    {
      "cell_type": "markdown",
      "metadata": {
        "id": "fLhzqT-N2eOp"
      },
      "source": [
        "### **IIc. Duplicated entries**"
      ]
    },
    {
      "cell_type": "code",
      "execution_count": 10,
      "metadata": {
        "colab": {
          "base_uri": "https://localhost:8080/"
        },
        "id": "6-Pja33P2g_l",
        "outputId": "564de977-59b7-4223-e9d2-31270521428c"
      },
      "outputs": [
        {
          "output_type": "stream",
          "name": "stdout",
          "text": [
            "Duplicated data (test) : 0\n"
          ]
        }
      ],
      "source": [
        "# duplicated entires\n",
        "DuplicatedValues = test.duplicated().sum()\n",
        "print('Duplicated data (test) : ' + str(DuplicatedValues))"
      ]
    },
    {
      "cell_type": "markdown",
      "metadata": {
        "id": "3qguSH8d2lKJ"
      },
      "source": [
        "### **IId. Unique values**"
      ]
    },
    {
      "cell_type": "code",
      "execution_count": 11,
      "metadata": {
        "colab": {
          "base_uri": "https://localhost:8080/"
        },
        "id": "bRkoVNqKRIKy",
        "outputId": "e54d438d-e327-4cf2-97d5-ce34a456c7c6"
      },
      "outputs": [
        {
          "output_type": "stream",
          "name": "stdout",
          "text": [
            "Unique values in each feature (test):\n",
            "                 Feature  Unique Values\n",
            "                      ID          50000\n",
            "             Customer_ID          12500\n",
            "                   Month              4\n",
            "                    Name          10140\n",
            "                     Age            976\n",
            "                     SSN          12501\n",
            "              Occupation             16\n",
            "           Annual_Income          16121\n",
            "   Monthly_Inhand_Salary          12794\n",
            "       Num_Bank_Accounts            540\n",
            "         Num_Credit_Card            819\n",
            "           Interest_Rate            945\n",
            "             Num_of_Loan            263\n",
            "            Type_of_Loan           6261\n",
            "     Delay_from_due_date             73\n",
            "  Num_of_Delayed_Payment            444\n",
            "    Changed_Credit_Limit           3927\n",
            "    Num_Credit_Inquiries            751\n",
            "              Credit_Mix              4\n",
            "        Outstanding_Debt          12685\n",
            "Credit_Utilization_Ratio          50000\n",
            "      Credit_History_Age            400\n",
            "   Payment_of_Min_Amount              3\n",
            "     Total_EMI_per_month          13144\n",
            " Amount_invested_monthly          45451\n",
            "       Payment_Behaviour              7\n",
            "         Monthly_Balance          49434\n"
          ]
        }
      ],
      "source": [
        "# Getting the feature names in a list\n",
        "testCols = list(test.columns.values)\n",
        "\n",
        "# Calculating the number of each feature's unique values\n",
        "ListUniqueC = []\n",
        "for i in test.columns:\n",
        "    UCount = len(test[i].unique())\n",
        "    ListUniqueC.append(UCount)\n",
        "\n",
        "# Creating the unique values table\n",
        "UniqueCTable = pd.DataFrame(list(zip(testCols, ListUniqueC)))\n",
        "UniqueCTable.columns = ['Feature', 'Unique Values']\n",
        "\n",
        "# Printing the report\n",
        "print('Unique values in each feature (test):')\n",
        "print(UniqueCTable.to_string(index = False))"
      ]
    },
    {
      "cell_type": "markdown",
      "metadata": {
        "id": "xG6bDkt_CRj0"
      },
      "source": [
        "### **IIe. Findings**"
      ]
    },
    {
      "cell_type": "markdown",
      "metadata": {
        "id": "QzcYb_yU-JLp"
      },
      "source": [
        "**Some findings from the observations above**:\n",
        "1.   The shape of the test dataset is (50000 x 27)\n",
        "<br>\n",
        "<br>\n",
        "2.   There are some features which likely have wrong type of data type:\n",
        "*   'Annual_Income' to float64\n",
        "*   'Num_of_Loan' to int64\n",
        "*   'Num_of_Delayed_Payment' to int64\n",
        "*   'Changed_Credit_Limit' to float64\n",
        "*   'Outstanding_Debt' to float64\n",
        "*   'Credit_History_Age' to float64\n",
        "*   'Amount_invested_monthly' to float64\n",
        "*   'Monthly_Balance' to float 64\n",
        "<br>\n",
        "The data type of these features are currently in categorical type, while the data shown on the first five rows are numerical. We need to change this later.\n",
        "<br>\n",
        "<br>\n",
        "3.  Missing values findings on each feature:\n",
        "*   'Name'\n",
        "*   'Monthly_Inhand_Salary'\n",
        "*   'Type_of_Loan'\n",
        "*   'Num_of_Delayed_Payment'\n",
        "*   'Num_Credit_Inquiries'\n",
        "*   'Credit_History_Age'\n",
        "*   'Amount_invested_monthly'\n",
        "*   'Monthly_Balance'\n",
        "<br>\n",
        "<br>\n",
        "4.  There are no duplicated entries.\n",
        "<br>\n",
        "<br>\n",
        "5.  Differences from the previously processed training dataset:\n",
        "*   The shape of the testing dataset is <50000 x 27>, while the traning dataset is <100000 x 28>\n",
        "*   The difference in number of entries is due to testing dataset displays the last four months for each customer, while the training dataset displays the first eight months\n",
        "*   The difference in number of features is due to training dataset has Credit_Score feature as the output feature, while the testing dataset does not have it\n",
        "\n",
        "**Accounting these differences, we will modify:**\n",
        "1.  The CustomerIndexer range in the data cleaning process for the Credit_History_Age feature\n",
        "2.  Adding some addition or deduction in number of steps for the features data cleaning process if needed"
      ]
    },
    {
      "cell_type": "markdown",
      "metadata": {
        "id": "XeRFpKSg9tnc"
      },
      "source": [
        "## **III. Feature Engineering: Cleaning Data Type**"
      ]
    },
    {
      "cell_type": "markdown",
      "metadata": {
        "id": "6XqkUf9P969D"
      },
      "source": [
        "### **IIIa. Categorical feature that are suppossed to be numerical**"
      ]
    },
    {
      "cell_type": "markdown",
      "metadata": {
        "id": "kjE9eOMRRIKz"
      },
      "source": [
        "Let's first take a look at the categorical features that supposedly have numerical type of data instead."
      ]
    },
    {
      "cell_type": "code",
      "execution_count": 12,
      "metadata": {
        "id": "lYyNQVxbPWxx",
        "scrolled": true,
        "colab": {
          "base_uri": "https://localhost:8080/"
        },
        "outputId": "5e226082-dfb2-4241-938f-fdba46840356"
      },
      "outputs": [
        {
          "output_type": "stream",
          "name": "stdout",
          "text": [
            "Feature: \n",
            " \u001b[1mAge\u001b[0m \n",
            " ['23' '24' '24_' '28' '35' '55' '22' '31' '32' '1694' '34' '30' '914' '45'\n",
            " '41_' '41' '33' '36' '39' '40' '40_' '37' '21' '46' '26' '27' '32_' '42'\n",
            " '42_' '20' '48' '49' '33_' '38' '38_' '44' '-500' '16' '17' '37_' '19_'\n",
            " '19' '3193' '43' '339' '14' '15' '25' '21_' '1203' '46_' '2823' '22_'\n",
            " '18' '47' '1643' '20_' '35_' '8327_' '29' '29_' '28_' '53' '56' '26_'\n",
            " '6586' '7014' '3391' '54' '3765' '43_' '18_' '47_' '4472' '50' '4022'\n",
            " '48_' '4576' '51' '52' '34_' '50_' '3355' '8034' '4610_' '27_' '31_'\n",
            " '7860' '36_' '2526' '45_' '3263' '4885' '51_' '39_' '25_' '694' '8288'\n",
            " '52_' '8404' '451' '3168' '5172' '8214' '4946' '3127' '55_' '7018' '2950'\n",
            " '7676' '5502' '4133' '2083' '3752' '23_' '2970' '7721' '4806' '30_'\n",
            " '5426' '4787' '44_' '4390' '3218' '6000' '538' '7319' '17_' '5530' '6838'\n",
            " '2069' '8337' '2532' '1587' '7749' '56_' '5255' '5532' '7045' '1950'\n",
            " '5333' '53_' '16_' '2077_' '1844' '2954' '4329' '1919' '8449' '7237'\n",
            " '5061' '2695' '3287' '7507' '4556' '15_' '5092' '6978' '8497' '3712'\n",
            " '693' '3922' '6097' '3527' '7836' '5165' '7849' '49_' '327' '6317' '3930'\n",
            " '2193' '7222' '505' '7261' '6205' '942' '7260' '2002' '3984' '6678'\n",
            " '4763' '4954' '5720' '6965' '3482' '6099' '5029' '1804' '7470' '676'\n",
            " '5733' '7005' '1631' '4204' '835' '2585' '492' '1193' '3759' '2485'\n",
            " '4305' '2902' '2082' '6798' '5488' '5546' '8001' '8641' '6439' '8481'\n",
            " '6558' '6866' '2049' '3981' '6659' '171' '7461' '5410' '2383' '4873'\n",
            " '2231' '4741' '5205' '6248' '95' '6966' '3485' '536' '5760' '5104' '3876'\n",
            " '14_' '5621' '2104' '5549' '2404' '54_' '4943_' '225' '3600' '2750' '601'\n",
            " '1566' '2969' '5018' '3993' '6744' '4385' '4949' '3731' '3528' '6296'\n",
            " '1705' '8427' '5203' '5609' '7340' '7978' '4520' '3277' '7084' '6924'\n",
            " '4446' '6546' '4687' '6473' '8439' '6401' '1167' '2087' '7437' '2739'\n",
            " '3576' '3207' '7964' '4265' '6409' '1417' '6841' '7052' '452' '1330'\n",
            " '6437' '619_' '1956' '133' '4851' '830' '2511_' '7904' '1342' '3452'\n",
            " '5619' '3030' '2582' '6080' '7563' '7424' '3842' '2870' '6290' '1659'\n",
            " '6647_' '7389' '1046' '1793' '3797' '2815' '4066' '6394' '3211' '3822'\n",
            " '8450' '927' '4435' '6282' '3516' '1750' '6718' '7449' '2905' '6760'\n",
            " '1913' '8639' '458' '2569' '1660' '2257' '3369' '1882' '8198' '2443'\n",
            " '3072' '2563' '5264' '2812' '5548' '8086' '6076' '6792' '5026_' '4202'\n",
            " '3412' '1147' '3868' '3553' '453' '8629' '7702' '5863' '8502' '2320'\n",
            " '6807' '8536' '2341' '4451' '6535' '2811' '1542' '8245_' '782' '7104'\n",
            " '4654' '6804' '5456' '2848' '415' '7184' '7754' '3007' '7774' '5316'\n",
            " '7409' '2336_' '8263' '3062' '2587' '2926_' '3044' '1472' '8200_' '4114'\n",
            " '5113' '7021' '8213' '3577' '6125' '7408' '1916_' '368' '7533' '2831'\n",
            " '8500' '4304' '6868' '6695' '281' '5994' '5254' '3744' '7832' '4934'\n",
            " '2059' '437' '1419' '120' '2552' '2698' '410' '4955' '4399' '7043' '5227'\n",
            " '4968' '3837' '727' '1900' '5296' '7590' '3020' '7190' '1986' '1672'\n",
            " '5700' '1473' '6447' '527' '3883' '8019' '8631_' '6400_' '4079' '1530'\n",
            " '8590' '2216' '5084' '7234' '5145' '8118' '6445' '2413' '3803' '182'\n",
            " '863' '2367' '4179' '1141' '2436' '6137' '1187' '4938_' '7554' '6126'\n",
            " '3423' '8464' '4521' '5148' '5036' '8432' '4287' '6470_' '4807' '2544'\n",
            " '7707' '3601' '1186' '7106' '6225' '1776_' '7550' '3271' '2042' '4443'\n",
            " '141' '7825' '1258' '615' '2856' '5935' '8342' '2322' '5552' '2929' '948'\n",
            " '3342' '2299' '6754' '2461' '2389_' '7028' '895' '5469' '744' '6693'\n",
            " '644' '7946' '914_' '7148' '6174' '5576' '7753' '3046' '6286' '1195'\n",
            " '1104' '5885' '4993' '8625' '8332' '3216' '6175' '8600' '8524' '5559'\n",
            " '7667' '829' '551' '6453_' '6385' '985' '4473' '1855' '7282' '5759'\n",
            " '3286' '3974' '1882_' '2785' '4142' '5987' '6900' '5592' '8311' '2816'\n",
            " '3212' '2607' '6392' '3118' '7044_' '2836' '516' '1583' '5129' '1379'\n",
            " '232' '4554' '5012' '4242' '1261' '7685' '8083' '7961' '4223' '5238'\n",
            " '3376' '2319' '4694' '6153' '2711' '501' '925' '842' '1238' '3108' '7183'\n",
            " '6986' '2053' '1153' '6026' '2787' '730' '7391' '7909' '1977' '6967'\n",
            " '5309' '6141' '7542' '1845' '3904' '2362' '1018_' '455' '3877' '2036'\n",
            " '2117' '5447' '8188' '5236' '6150' '188' '3487' '331' '3891' '5850'\n",
            " '2789' '8304' '4891' '6001' '2096' '1833' '7435' '7878' '2458' '8589'\n",
            " '1662' '6957' '941' '6653' '1081' '7495' '6272' '8232' '3817' '7171'\n",
            " '1263' '8254' '1734' '1124' '8647' '4187' '1222' '751' '1144' '5596'\n",
            " '6848' '7981' '4575' '5744' '7431' '5890' '2583' '5784' '3085' '5078'\n",
            " '4426' '3122' '7144' '1841_' '3357' '8487' '7625' '4682' '8557' '4184'\n",
            " '7700' '679' '2286' '3136' '3052' '3433' '498' '2211' '6424' '136' '8054'\n",
            " '2507' '4768' '7058' '7503' '4817' '6197' '681' '4525' '3903' '2038'\n",
            " '2210' '5650' '1485' '5714_' '5854' '1034' '2022' '8395' '3089' '6384'\n",
            " '5159' '4927' '1667' '7525' '6515' '8688' '2604' '6809' '4549' '3295'\n",
            " '8217' '5111' '1765' '8068' '8140' '3942' '5034' '1857' '2928' '6411'\n",
            " '4698_' '755' '7468' '6213' '1118' '7168' '358' '1218' '4543' '996'\n",
            " '8302' '5731' '868' '1746' '2850' '165' '5133' '2599' '8305' '771' '7780'\n",
            " '474' '3001' '997' '3908' '447' '4344' '7355' '2701' '5551' '1614' '2472'\n",
            " '975' '4603' '557' '1210_' '8049' '6037' '8055' '1676' '8632' '8065'\n",
            " '6354' '321' '4986' '4936' '4636' '1782' '287' '8419' '7333' '775' '3582'\n",
            " '6222' '6421' '6612' '6647' '3823' '2411' '4920' '270' '5883' '8071'\n",
            " '8271' '1988' '402' '3474' '7926' '1952' '6873' '3076' '2663' '1197'\n",
            " '6243' '6475' '6937' '2403' '2819' '413' '3080' '1315' '6654' '4321'\n",
            " '4340' '1058' '6621' '8326' '2359' '2310' '7864' '3191' '1955' '4033'\n",
            " '8334' '3382' '7876' '5856' '3513_' '1220' '3915' '6667' '7334' '1415'\n",
            " '1445' '128_' '7196' '7228' '425' '5679' '6278' '274' '5471' '866' '8256'\n",
            " '5220' '5607' '2116' '3737' '2974_' '6083' '517' '6484' '3936' '5710'\n",
            " '7527' '1465' '4929' '4498' '2572' '743' '7559' '2894' '319' '3362'\n",
            " '3252' '285' '1336' '3468' '3371' '5288' '5612' '3084' '993' '6903'\n",
            " '3592' '2693' '5044' '243' '7114' '4595' '5892' '167' '580' '5282' '3919'\n",
            " '2057' '7929' '7288' '4591' '2735' '155' '5780' '4561' '989' '3360'\n",
            " '7229' '930' '7406_' '299_' '7958' '4790' '8596' '3291' '144' '6031_'\n",
            " '2678' '3093' '4781' '3858' '4531' '6732' '2753' '7351' '1949' '909_'\n",
            " '3339' '6715' '2616' '1764' '8300' '2314' '4453' '3056' '6391' '4013'\n",
            " '1395' '8426' '4888' '6330' '3706' '6621_' '4718' '2797' '7120' '5667'\n",
            " '542' '7300' '3573' '3474_' '4722' '1007' '7342' '831_' '1953' '5501'\n",
            " '2934' '4373' '1499' '595' '1522' '5797' '6176' '7265' '5428' '4697'\n",
            " '6094' '2166' '7314' '4024' '7520' '6133' '3324' '6856' '6633' '3545'\n",
            " '7116' '6999' '1305' '6349' '5009' '3508' '4216' '2849' '4896' '6188'\n",
            " '217_' '707' '2298' '7239' '3814' '3728' '2779' '5213' '6884' '7810'\n",
            " '5269' '1544' '4899' '7850' '7421' '8340_' '3524' '470' '5038' '6262'\n",
            " '7868_' '3155' '1365' '6652' '2200' '1401_' '8361' '459' '3054' '5586'\n",
            " '326' '7910' '5826' '4975'] \n",
            " -------------------------------------------------------------------------------- \n",
            "\n",
            "Feature: \n",
            " \u001b[1mAnnual_Income\u001b[0m \n",
            " ['19114.12' '34847.84' '143162.64' ... '37188.1' '20002.88' '39628.99'] \n",
            " -------------------------------------------------------------------------------- \n",
            "\n",
            "Feature: \n",
            " \u001b[1mNum_of_Loan\u001b[0m \n",
            " ['4' '1' '3' '1381' '-100' '0' '2' '7' '5' '6' '5_' '8' '1_' '2_' '6_'\n",
            " '4_' '9' '0_' '7_' '965' '3_' '428' '50' '8_' '256' '495' '9_' '1018'\n",
            " '548' '1470' '1176' '1021' '744' '238' '481_' '617' '1237' '602' '582'\n",
            " '1225' '717' '1316' '1146' '455' '1009' '660' '286' '505' '335' '1161'\n",
            " '765' '463' '864' '696' '95' '949' '720' '181' '1090' '1048' '42' '385'\n",
            " '814' '1019' '452' '434' '77' '639' '336' '249' '106' '498' '1073' '1259'\n",
            " '899' '769' '1292' '1266' '1365' '114' '810' '994' '992' '828' '1248'\n",
            " '543' '1318' '1416' '919' '1391' '58' '799' '1374' '263' '746' '1487'\n",
            " '731' '445' '1325' '1147' '808' '511' '198' '1445' '1140' '876' '1304'\n",
            " '569' '350' '1221' '608' '621' '1040' '1496' '570' '1063' '741' '230'\n",
            " '1428' '1254' '1361' '232' '1475' '653' '1448' '523' '1414' '426' '1308'\n",
            " '647' '1068' '954_' '1283' '909' '977' '1333' '700' '486' '1027' '170'\n",
            " '359' '1108' '1471' '628' '1284' '1489' '1446' '35' '483' '265' '928'\n",
            " '838' '1109' '1429' '1300' '547' '1385' '950' '1153' '539' '1240' '376'\n",
            " '393' '610' '725_' '1481' '1287' '325' '72_' '1024' '1072' '220' '478'\n",
            " '53' '368' '551' '1231' '1244' '734_' '140' '1329' '255' '1207' '257'\n",
            " '326' '273' '1187' '99' '1149' '1148' '464' '961' '519_' '142' '453'\n",
            " '641' '97' '441' '1114' '631' '295' '1444' '465' '960' '790' '624' '55'\n",
            " '370' '659' '361' '105' '1189' '813' '1095' '508' '879' '1373' '615'\n",
            " '997' '561' '161' '612' '488' '282' '324' '531' '339' '1057' '757' '343'\n",
            " '1196' '1041' '738' '1399' '414' '395' '1175' '663' '135' '910' '1447'\n",
            " '620' '354' '1263' '477' '544' '1134' '770' '204' '1369' '656' '534'\n",
            " '870' '418' '1292_' '1436' '1352' '594' '25' '1442' '939' '172' '1296_'] \n",
            " -------------------------------------------------------------------------------- \n",
            "\n",
            "Feature: \n",
            " \u001b[1mNum_of_Delayed_Payment\u001b[0m \n",
            " ['7' '9' '4' '5' '1' '3' nan '2_' '1942' '6' '8' '15' '18' '0' '14' '17'\n",
            " '12' '11' '2' '19' '20_' '20' '10' '13' '1150' '22' '23' '21' '6_' '2077'\n",
            " '16' '11_' '15_' '24' '27' '10_' '9_' '25_' '17_' '210' '1_' '-1' '0_'\n",
            " '-2' '8_' '1314' '429' '12_' '16_' '759' '2806' '19_' '18_' '25' '2849'\n",
            " '2465' '4246' '1186' '75' '24_' '26' '7_' '1134' '28_' '1230' '4318'\n",
            " '4219' '-1_' '14_' '13_' '28' '1216' '1491' '1591' '3552' '3667' '-3'\n",
            " '420' '2606' '186' '21_' '5_' '959' '22_' '1122' '3178' '1884' '1551'\n",
            " '3472' '3398' '3_' '-2_' '1486' '4128' '351' '4086' '861' '23_' '586'\n",
            " '873' '3948' '2801' '4_' '2503_' '3627' '3825' '3954' '376' '2354' '4343'\n",
            " '2279' '391' '1334' '1958' '2608' '456' '1274' '452' '227_' '845' '26_'\n",
            " '3097' '2730' '2161' '377' '762' '1131' '2649' '4161' '1544' '4136'\n",
            " '1377' '2412' '3508_' '3429' '975_' '211' '518' '657' '3477' '370' '1234'\n",
            " '1534' '1080' '3057' '1065' '2819' '2583' '2497' '-3_' '3479' '1329'\n",
            " '3689' '2273' '3083' '2403' '1266' '3684' '4106' '697' '3243' '1802'\n",
            " '1880' '181' '3591' '2912' '1356' '1117' '2672' '2001' '4298' '590'\n",
            " '1095' '1562' '100' '1355' '1235' '3177' '2276' '4335' '2822' '1035'\n",
            " '832' '3529' '2942' '2802' '4351' '549' '3393' '3556' '288' '1146' '975'\n",
            " '2424' '345' '2269' '265' '179' '1513' '4118' '3071' '2817_' '175' '700'\n",
            " '2836' '434' '2903' '2347' '1891' '2999' '687' '2344_' '1437' '483'\n",
            " '4374' '3898' '4122' '2568' '4278' '918' '1963' '1633' '2431' '538' '864'\n",
            " '1570' '1511' '1297' '1881' '414' '4399' '2352' '4044' '773' '1632' '427'\n",
            " '2492' '961' '3652' '952' '4091_' '1571' '3863' '3853' '1809' '2047'\n",
            " '1832' '3425' '2803' '1069' '750' '1959' '1990' '1422' '3708' '1166'\n",
            " '3565_' '2032' '4011' '2595' '2873' '226' '482' '599' '2286' '3379'\n",
            " '2018' '992' '3589' '292' '2767' '617' '1246' '2413' '2259' '1085' '2653'\n",
            " '652' '3744' '1223' '3229' '3520' '1014' '707' '2392' '1750' '775' '817'\n",
            " '2148_' '297' '806' '3161' '3945' '1630' '130' '2902' '1904' '524' '1921'\n",
            " '4088' '2885' '2172' '1149' '1542' '1312' '2055_' '1309' '3803' '2464'\n",
            " '3064' '1761' '878' '4133' '3392_' '2026' '1718' '358' '2368' '2570'\n",
            " '3032' '828' '4206' '1344' '1885' '3862' '238' '841' '1385' '3807' '1169'\n",
            " '1682' '1703' '909' '1332' '1861' '2287' '688' '2348' '1410' '1698'\n",
            " '2527' '2401' '4131' '1664' '1907' '2388' '4214' '4026' '726' '3000'\n",
            " '3099' '2748' '820' '2704' '2538' '929' '3535' '1055' '1265' '1968'\n",
            " '3630' '1290' '1833' '2123' '1888' '1287' '502' '459' '1401' '3812'\n",
            " '1059' '2170' '69' '3192' '2407' '3642' '4270' '2358' '3608' '1289'\n",
            " '2953' '3734' '3757' '2052' '4141' '883' '1751' '1368' '3794' '2410'\n",
            " '1514' '3058' '3633' '4160' '60' '889' '2208' '2171' '4265' '989' '3971'\n",
            " '3917' '1097' '3920' '1634' '2128' '481_' '97_' '1172' '3390' '548' '947'\n",
            " '488' '225' '2346' '204' '3273' '4313' '1889' '3622' '3124' '3843_'\n",
            " '1779' '1619' '3406' '3246' '3666' '3391' '1616' '2601' '528' '3594'\n",
            " '272' '3313' '3637' '174' '3240' '1805' '2450' '1970' '3913' '533' '332'\n",
            " '2034'] \n",
            " -------------------------------------------------------------------------------- \n",
            "\n",
            "Feature: \n",
            " \u001b[1mChanged_Credit_Limit\u001b[0m \n",
            " ['11.27' '13.27' '12.27' ... '25.16' '32.16' '29.17'] \n",
            " -------------------------------------------------------------------------------- \n",
            "\n",
            "Feature: \n",
            " \u001b[1mOutstanding_Debt\u001b[0m \n",
            " ['809.98' '605.03' '1303.01' ... '620.64' '3571.7' '502.38'] \n",
            " -------------------------------------------------------------------------------- \n",
            "\n",
            "Feature: \n",
            " \u001b[1mAmount_invested_monthly\u001b[0m \n",
            " ['236.64268203272135' '21.465380264657146' '148.23393788500925' ...\n",
            " '181.44299902757518' '97.59857973344877' '220.45787812168732'] \n",
            " -------------------------------------------------------------------------------- \n",
            "\n",
            "Feature: \n",
            " \u001b[1mMonthly_Balance\u001b[0m \n",
            " ['186.26670208571772' '361.44400385378196' '264.67544623342997' ...\n",
            " '349.7263321025098' '463.23898098947717' '360.37968260123847'] \n",
            " -------------------------------------------------------------------------------- \n",
            "\n"
          ]
        }
      ],
      "source": [
        "# Categorical features that are supposedly to be numerical instead\n",
        "FeaturesToConvert = ['Age',\n",
        "                     'Annual_Income',\n",
        "                     'Num_of_Loan',\n",
        "                     'Num_of_Delayed_Payment',\n",
        "                     'Changed_Credit_Limit',\n",
        "                     'Outstanding_Debt',\n",
        "                     'Amount_invested_monthly',\n",
        "                     'Monthly_Balance'] \n",
        "# 'Credit_History_Age' feature will be dealt with later\n",
        "\n",
        "# Checking the unique values of these features\n",
        "for feature in FeaturesToConvert:\n",
        "    uniques = test[feature].unique()\n",
        "    print('Feature:', '\\n',\n",
        "          colored(feature, attrs = ['bold']), '\\n',\n",
        "          uniques, '\\n',\n",
        "          '--'*40, '\\n')"
      ]
    },
    {
      "cell_type": "markdown",
      "metadata": {
        "id": "PP3UmnznRIKz"
      },
      "source": [
        "By looking at some of the entries above, one thing that could be noticed is that some of these entries contain non-numerical character, such as '-' and '_', while they are supposed to have only numerical character. We will omit both of these special characters from the features, and see if they can be converted into numerical features afterwards."
      ]
    },
    {
      "cell_type": "code",
      "execution_count": 13,
      "metadata": {
        "colab": {
          "base_uri": "https://localhost:8080/"
        },
        "id": "7hhOm0X1RIKz",
        "outputId": "04158486-4911-4edd-80b4-6a9408387c2d"
      },
      "outputs": [
        {
          "output_type": "stream",
          "name": "stdout",
          "text": [
            "Age \n",
            " float64\n",
            "Annual_Income \n",
            " float64\n",
            "Num_of_Loan \n",
            " float64\n",
            "Num_of_Delayed_Payment \n",
            " float64\n",
            "Changed_Credit_Limit \n",
            " float64\n",
            "Outstanding_Debt \n",
            " float64\n",
            "Amount_invested_monthly \n",
            " float64\n",
            "Monthly_Balance \n",
            " float64\n"
          ]
        }
      ],
      "source": [
        "# Removing the '-' and '_' characters\n",
        "for feature in FeaturesToConvert:\n",
        "    test[feature] = test[feature].str.strip('-_')\n",
        "\n",
        "# Handling the empty members in each feature\n",
        "for feature in FeaturesToConvert:\n",
        "    test[feature] = test[feature].replace({'':np.nan})\n",
        "\n",
        "# Trying converting the categorical features into numerical type\n",
        "for feature in FeaturesToConvert:\n",
        "    test[feature] = test[feature].astype('float64')\n",
        "\n",
        "# Checking if the conversion is successful\n",
        "for feature in FeaturesToConvert:\n",
        "    print(feature, '\\n',\n",
        "          test[feature].dtype)"
      ]
    },
    {
      "cell_type": "markdown",
      "metadata": {
        "id": "SkB6d2UhRIKz"
      },
      "source": [
        "### **IIIb. Credit_History_Age engineering**"
      ]
    },
    {
      "cell_type": "markdown",
      "metadata": {
        "id": "sKTUkmH0RIKz"
      },
      "source": [
        "The data contained in this feature is meant to show a duration type of data, so for the sake of praticality when dealing with this data later in the analysis and prediction process, the type of data is better not be categorical, but numerical instead. Let's process the data contained in this feature."
      ]
    },
    {
      "cell_type": "code",
      "execution_count": 14,
      "metadata": {
        "scrolled": true,
        "colab": {
          "base_uri": "https://localhost:8080/"
        },
        "id": "FZmm5ZG1RIKz",
        "outputId": "922ab6e7-2966-4d59-dbe0-0e2627e1ab41"
      },
      "outputs": [
        {
          "output_type": "execute_result",
          "data": {
            "text/plain": [
              "0     22 Years and 9 Months\n",
              "1    22 Years and 10 Months\n",
              "2                       NaN\n",
              "3     23 Years and 0 Months\n",
              "4     27 Years and 3 Months\n",
              "Name: Credit_History_Age, dtype: object"
            ]
          },
          "metadata": {},
          "execution_count": 14
        }
      ],
      "source": [
        "# Taking a quick look again at the data\n",
        "test['Credit_History_Age'].head()"
      ]
    },
    {
      "cell_type": "markdown",
      "metadata": {
        "id": "nWNx5jjERIK0"
      },
      "source": [
        "Since the smallest unit is monthly, we are going to convert the data in monthly unit."
      ]
    },
    {
      "cell_type": "code",
      "execution_count": 15,
      "metadata": {
        "colab": {
          "base_uri": "https://localhost:8080/"
        },
        "id": "x7Q4riSNRIK0",
        "outputId": "8ebb7cdd-cace-49b1-edc5-64942b37f0e0"
      },
      "outputs": [
        {
          "output_type": "execute_result",
          "data": {
            "text/plain": [
              "0    273.0\n",
              "1    274.0\n",
              "2      NaN\n",
              "3    276.0\n",
              "4    327.0\n",
              "Name: Credit_History_Age, dtype: float64"
            ]
          },
          "metadata": {},
          "execution_count": 15
        }
      ],
      "source": [
        "# Splitting each member of the 'Credit_History_Age' feature\n",
        "SplitHistoryAge = [str(date).split(' ') for date in test['Credit_History_Age']]\n",
        "\n",
        "# Getting the year\n",
        "CreditYear = [item[0] for item in SplitHistoryAge]\n",
        "\n",
        "# Converting the year to month\n",
        "CreditYear = [float(x) * 12 for x in CreditYear]\n",
        "\n",
        "# Getting the month\n",
        "CreditMonth = []\n",
        "for item in SplitHistoryAge:\n",
        "    if len(item) > 1:\n",
        "        CreditMonth.append(item[3]) # for non-nan member\n",
        "    else:\n",
        "        CreditMonth.append(item[0]) # for nan member\n",
        "\n",
        "# Combining the year and month\n",
        "CombinedCreditAge = [float(CreditYear[i]) + float(CreditMonth[i]) for i in range(len(CreditYear))]\n",
        "\n",
        "# Assigning the combined month to the 'Credit_History_Age' feature\n",
        "test['Credit_History_Age'] = CombinedCreditAge\n",
        "\n",
        "# Checking the first five rows again\n",
        "test['Credit_History_Age'].head()"
      ]
    },
    {
      "cell_type": "markdown",
      "metadata": {
        "id": "Hrke7GLWRIK0"
      },
      "source": [
        "## **IV. Data Exploration 2: Categorical Features**"
      ]
    },
    {
      "cell_type": "markdown",
      "metadata": {
        "id": "dq8hteHdRIK0"
      },
      "source": [
        "Now that the data type of each feature has been corrected, let us proceed to checking the cleanliness of each feature itself: data validation, spelling errors, missing values, outliers, feature addition or deletion (if needed)."
      ]
    },
    {
      "cell_type": "code",
      "execution_count": 16,
      "metadata": {
        "colab": {
          "base_uri": "https://localhost:8080/"
        },
        "id": "jqI8AXOTRIK0",
        "outputId": "d6aebd9c-b51e-4fe0-bbf0-48c4d9347a9e"
      },
      "outputs": [
        {
          "output_type": "stream",
          "name": "stdout",
          "text": [
            "<class 'pandas.core.frame.DataFrame'>\n",
            "RangeIndex: 50000 entries, 0 to 49999\n",
            "Data columns (total 27 columns):\n",
            " #   Column                    Non-Null Count  Dtype  \n",
            "---  ------                    --------------  -----  \n",
            " 0   ID                        50000 non-null  object \n",
            " 1   Customer_ID               50000 non-null  object \n",
            " 2   Month                     50000 non-null  object \n",
            " 3   Name                      44985 non-null  object \n",
            " 4   Age                       50000 non-null  float64\n",
            " 5   SSN                       50000 non-null  object \n",
            " 6   Occupation                50000 non-null  object \n",
            " 7   Annual_Income             50000 non-null  float64\n",
            " 8   Monthly_Inhand_Salary     42502 non-null  float64\n",
            " 9   Num_Bank_Accounts         50000 non-null  int64  \n",
            " 10  Num_Credit_Card           50000 non-null  int64  \n",
            " 11  Interest_Rate             50000 non-null  int64  \n",
            " 12  Num_of_Loan               50000 non-null  float64\n",
            " 13  Type_of_Loan              44296 non-null  object \n",
            " 14  Delay_from_due_date       50000 non-null  int64  \n",
            " 15  Num_of_Delayed_Payment    46502 non-null  float64\n",
            " 16  Changed_Credit_Limit      48941 non-null  float64\n",
            " 17  Num_Credit_Inquiries      48965 non-null  float64\n",
            " 18  Credit_Mix                50000 non-null  object \n",
            " 19  Outstanding_Debt          50000 non-null  float64\n",
            " 20  Credit_Utilization_Ratio  50000 non-null  float64\n",
            " 21  Credit_History_Age        45530 non-null  float64\n",
            " 22  Payment_of_Min_Amount     50000 non-null  object \n",
            " 23  Total_EMI_per_month       50000 non-null  float64\n",
            " 24  Amount_invested_monthly   47729 non-null  float64\n",
            " 25  Payment_Behaviour         50000 non-null  object \n",
            " 26  Monthly_Balance           49438 non-null  float64\n",
            "dtypes: float64(13), int64(4), object(10)\n",
            "memory usage: 10.3+ MB\n"
          ]
        }
      ],
      "source": [
        "# Rechecking the general overview of the test dataset after it has been previously modified\n",
        "test.info()"
      ]
    },
    {
      "cell_type": "code",
      "execution_count": 17,
      "metadata": {
        "id": "BZJCU9dsRIK0"
      },
      "outputs": [],
      "source": [
        "# Storing the categorical column name into a list\n",
        "CatFeatures = []\n",
        "for feature in test.columns:\n",
        "    if test[feature].dtype == 'object':\n",
        "        CatFeatures.append(feature)\n",
        "\n",
        "# Storing the numerical column name into a list\n",
        "NumFeatures = []\n",
        "for feature in test.columns:\n",
        "    if test[feature].dtype == 'float64' or test[feature].dtype == 'int64':\n",
        "        NumFeatures.append(feature)"
      ]
    },
    {
      "cell_type": "markdown",
      "metadata": {
        "id": "NViX5fn1RIK0"
      },
      "source": [
        "Checking the unique values of the categorical features"
      ]
    },
    {
      "cell_type": "code",
      "execution_count": 18,
      "metadata": {
        "colab": {
          "base_uri": "https://localhost:8080/"
        },
        "id": "HJ0da1K4RIK1",
        "outputId": "006aa4f0-7e09-497f-d874-c2d53aa1f430"
      },
      "outputs": [
        {
          "output_type": "stream",
          "name": "stdout",
          "text": [
            "Feature: \n",
            " \u001b[1mID\u001b[0m \n",
            " ['0x160a' '0x160b' '0x160c' ... '0x25fef' '0x25ff0' '0x25ff1'] \n",
            " Unique values =  50000 \n",
            " -------------------------------------------------------------------------------- \n",
            "\n",
            "Feature: \n",
            " \u001b[1mCustomer_ID\u001b[0m \n",
            " ['CUS_0xd40' 'CUS_0x21b1' 'CUS_0x2dbc' ... 'CUS_0xaf61' 'CUS_0x8600'\n",
            " 'CUS_0x942c'] \n",
            " Unique values =  12500 \n",
            " -------------------------------------------------------------------------------- \n",
            "\n",
            "Feature: \n",
            " \u001b[1mMonth\u001b[0m \n",
            " ['September' 'October' 'November' 'December'] \n",
            " Unique values =  4 \n",
            " -------------------------------------------------------------------------------- \n",
            "\n",
            "Feature: \n",
            " \u001b[1mName\u001b[0m \n",
            " ['Aaron Maashoh' 'Rick Rothackerj' 'Langep' ... 'Chris Wickhamm'\n",
            " 'Sarah McBridec' 'Nicks'] \n",
            " Unique values =  10140 \n",
            " -------------------------------------------------------------------------------- \n",
            "\n",
            "Feature: \n",
            " \u001b[1mSSN\u001b[0m \n",
            " ['821-00-0265' '004-07-5839' '#F%$D@*&8' ... '133-16-7738' '031-35-0942'\n",
            " '078-73-5990'] \n",
            " Unique values =  12501 \n",
            " -------------------------------------------------------------------------------- \n",
            "\n",
            "Feature: \n",
            " \u001b[1mOccupation\u001b[0m \n",
            " ['Scientist' '_______' 'Teacher' 'Engineer' 'Entrepreneur' 'Developer'\n",
            " 'Lawyer' 'Media_Manager' 'Doctor' 'Journalist' 'Manager' 'Accountant'\n",
            " 'Musician' 'Mechanic' 'Writer' 'Architect'] \n",
            " Unique values =  16 \n",
            " -------------------------------------------------------------------------------- \n",
            "\n",
            "Feature: \n",
            " \u001b[1mType_of_Loan\u001b[0m \n",
            " ['Auto Loan, Credit-Builder Loan, Personal Loan, and Home Equity Loan'\n",
            " 'Credit-Builder Loan' 'Auto Loan, Auto Loan, and Not Specified' ...\n",
            " 'Home Equity Loan, Auto Loan, Auto Loan, and Auto Loan'\n",
            " 'Payday Loan, Student Loan, Mortgage Loan, and Not Specified'\n",
            " 'Personal Loan, Auto Loan, Mortgage Loan, Student Loan, and Student Loan'] \n",
            " Unique values =  6261 \n",
            " -------------------------------------------------------------------------------- \n",
            "\n",
            "Feature: \n",
            " \u001b[1mCredit_Mix\u001b[0m \n",
            " ['Good' '_' 'Standard' 'Bad'] \n",
            " Unique values =  4 \n",
            " -------------------------------------------------------------------------------- \n",
            "\n",
            "Feature: \n",
            " \u001b[1mPayment_of_Min_Amount\u001b[0m \n",
            " ['No' 'Yes' 'NM'] \n",
            " Unique values =  3 \n",
            " -------------------------------------------------------------------------------- \n",
            "\n",
            "Feature: \n",
            " \u001b[1mPayment_Behaviour\u001b[0m \n",
            " ['Low_spent_Small_value_payments' 'High_spent_Medium_value_payments'\n",
            " 'Low_spent_Medium_value_payments' 'High_spent_Large_value_payments'\n",
            " 'Low_spent_Large_value_payments' '!@9#%8'\n",
            " 'High_spent_Small_value_payments'] \n",
            " Unique values =  7 \n",
            " -------------------------------------------------------------------------------- \n",
            "\n"
          ]
        }
      ],
      "source": [
        "# Checking the unique values of the these features\n",
        "for feature in CatFeatures:\n",
        "    uniques = test[feature].unique()\n",
        "    print('Feature:', '\\n',\n",
        "          colored(feature, attrs = ['bold']), '\\n',\n",
        "          uniques, '\\n',\n",
        "          'Unique values = ', len(test[feature].unique()), '\\n',\n",
        "          '--'*40, '\\n')"
      ]
    },
    {
      "cell_type": "markdown",
      "metadata": {
        "id": "xpfrSX0SRIK1"
      },
      "source": [
        "Findings:\n",
        "\n",
        "*   Each customer data is presented in 8 months, from January to August. The correlation between the total members of the ID and Customer_ID features match up this information, with ID having 100000 members and Customer_ID having 12500 members.\n",
        "*   The Name feature should have 12500 members as well, matching up to the value of the Customer_ID feature. The fact that the Name feature only consists of 10140 members might imply strongly that there are some of customer's names which completely miss from the dataset.\n",
        "*   The SSN feature has 12501 members, with one member having a seemingly weird data validation compared to the other members in the feature, that is: '#F%$D@*&8'.\n",
        "*   There are missing values in the Occupation feature, though not in the 'nan' format.\n",
        "*   The Type_of_Loan feature appears to have list values. Formatting will be needed for this feature.\n",
        "*   The Payment_Behavior also has a weird data validation compared to the other members in the feature, that is: '!@9#%8'\n",
        "*   Including the Occupation and Credit_Mix features, after the data with weird data validation that exists in SSN and Payment_Behavior features has been deleted, these four features will have some missing values that need to be dealt with afterwards."
      ]
    },
    {
      "cell_type": "markdown",
      "metadata": {
        "id": "-2pMCrl3RIK1"
      },
      "source": [
        "## **V.  Categorical Feature Engineering: Data Cleaning**"
      ]
    },
    {
      "cell_type": "markdown",
      "metadata": {
        "id": "i9avm9tpRIK1"
      },
      "source": [
        "### **Va. Categorical Feature: Name**"
      ]
    },
    {
      "cell_type": "markdown",
      "metadata": {
        "id": "xZW8qhTARIK1"
      },
      "source": [
        "The Name feature usually has a purpose as a unique identifier for each entry in the dataset, in this case a unique identifier for each customer. However, since there are missing values in this column and the purpose of the feature overlaps with the Customer_ID feature anyway, the Name feature will be dropped instead."
      ]
    },
    {
      "cell_type": "code",
      "execution_count": 19,
      "metadata": {
        "id": "FXGPZt3ERIK1"
      },
      "outputs": [],
      "source": [
        "# Dropping the Name feature\n",
        "test.drop('Name', axis = 1, inplace = True)"
      ]
    },
    {
      "cell_type": "markdown",
      "metadata": {
        "id": "rHfkNDkCRIK1"
      },
      "source": [
        "### **Vb. Categorical Feature: SSN**"
      ]
    },
    {
      "cell_type": "markdown",
      "metadata": {
        "id": "LmXGI5ISRIK1"
      },
      "source": [
        "The '#F%$D@*&8' value will be dropped from the feature, as it contains an abnormal data validation compared to the other members in the feature."
      ]
    },
    {
      "cell_type": "code",
      "execution_count": 20,
      "metadata": {
        "id": "1xGFXlDQRIK1"
      },
      "outputs": [],
      "source": [
        "# Dropping the '#F%$D@*&8' value from the SSN feature\n",
        "test['SSN'] = test['SSN'].replace('#F%$D@*&8', np.nan)"
      ]
    },
    {
      "cell_type": "markdown",
      "metadata": {
        "id": "miM75KcMRIK1"
      },
      "source": [
        "The missing values now need to be filled in. SSN stands for Social Security Number, whose values are unique to each customer. Using this condition, we will be filling in the missing SSN values with the most frequently occuring method, with the Customer_ID feature as the reference."
      ]
    },
    {
      "cell_type": "code",
      "execution_count": 21,
      "metadata": {
        "id": "tUEXblZnRIK2"
      },
      "outputs": [],
      "source": [
        "# Filling in the missing values in SSN feature\n",
        "test['SSN'] = test['SSN'].fillna(test.groupby('Customer_ID')['SSN'].transform(lambda x:x.mode().iat[0]))"
      ]
    },
    {
      "cell_type": "markdown",
      "metadata": {
        "id": "yyk4ngMkRIK2"
      },
      "source": [
        "### **Vc. Categorical Feature: Occupation**"
      ]
    },
    {
      "cell_type": "markdown",
      "metadata": {
        "id": "asTy3KdPRIK2"
      },
      "source": [
        "Similar to the SSN feature, each value in the Occupation feature is also unique to each customer, assuming that the customers do not change occupation during the time period contained in the dataset. We cannot immediately fill in the missing values though, since the missing values are written as '_______' and not in 'nan'. We will drop the '_______', then fill in the missing Occupation value with the most frequent value occuring for each customer."
      ]
    },
    {
      "cell_type": "code",
      "execution_count": 22,
      "metadata": {
        "scrolled": false,
        "colab": {
          "base_uri": "https://localhost:8080/"
        },
        "id": "KPG__C_sRIK2",
        "outputId": "6601ccd5-52f3-4e25-bba9-10cdaed94465"
      },
      "outputs": [
        {
          "output_type": "execute_result",
          "data": {
            "text/plain": [
              "array(['Scientist', 'Teacher', 'Engineer', 'Entrepreneur', 'Developer',\n",
              "       'Lawyer', 'Media_Manager', 'Doctor', 'Journalist', 'Manager',\n",
              "       'Accountant', 'Musician', 'Mechanic', 'Writer', 'Architect'],\n",
              "      dtype=object)"
            ]
          },
          "metadata": {},
          "execution_count": 22
        }
      ],
      "source": [
        "# Dropping the '_______' values\n",
        "test['Occupation'] = test['Occupation'].replace('_______', np.NaN)\n",
        "\n",
        "# Filling in the missing values in Occupation feature\n",
        "test['Occupation'] = test['Occupation'].fillna(test.groupby('Customer_ID')['Occupation'].transform(lambda x:x.mode().iat[0]))\n",
        "\n",
        "# Checking if there are still missing values\n",
        "test['Occupation'].unique()"
      ]
    },
    {
      "cell_type": "markdown",
      "metadata": {
        "id": "ue2FtK1MRIK2"
      },
      "source": [
        "### **Vd. Categorical Feature: Type_of_Loan**"
      ]
    },
    {
      "cell_type": "markdown",
      "metadata": {
        "id": "V2jUB987RIK2"
      },
      "source": [
        "The type of data contained in the Type_of_Loan feature is actually list, though Python considers it as regular string instead. For this data cleaning process, the Type of Loan will be extended in each separated features, with the value in boolean type, plus a feature that has the value count of the Type_of_Loan of each customer. We will first try to clean the format of the string values of this feature."
      ]
    },
    {
      "cell_type": "code",
      "execution_count": 23,
      "metadata": {
        "colab": {
          "base_uri": "https://localhost:8080/"
        },
        "id": "4mm6A4WoRIK2",
        "outputId": "65aac1c0-b131-4f52-f9e9-892e93edab37"
      },
      "outputs": [
        {
          "output_type": "stream",
          "name": "stdout",
          "text": [
            "Auto Loan, Credit-Builder Loan, Personal Loan, and Home Equity Loan\n",
            "<class 'str'>\n"
          ]
        }
      ],
      "source": [
        "# Checking how the data displays\n",
        "print(test['Type_of_Loan'][0])\n",
        "print(type(test['Type_of_Loan'][0]))"
      ]
    },
    {
      "cell_type": "code",
      "execution_count": 24,
      "metadata": {
        "id": "oe1K-KW4RIK2"
      },
      "outputs": [],
      "source": [
        "# Converting every member of the feature as string (initially, the nan are categorized as float)\n",
        "test['Type_of_Loan'] = test['Type_of_Loan'].astype('str')\n",
        "\n",
        "# Dropping the 'and ' strings\n",
        "test['Type_of_Loan'] = [item.replace('and ', '') for item in test['Type_of_Loan']]"
      ]
    },
    {
      "cell_type": "code",
      "execution_count": 25,
      "metadata": {
        "id": "AJ0W1x8ERIK3"
      },
      "outputs": [],
      "source": [
        "# Dropping unuseful blank space\n",
        "test['Type_of_Loan'] = [item.replace(', ', ',') for item in test['Type_of_Loan']]\n",
        "\n",
        "# Splitting each item in the member of the feature by comma delimiter\n",
        "test['Type_of_Loan'] = [item.split(',') for item in test['Type_of_Loan']]"
      ]
    },
    {
      "cell_type": "code",
      "execution_count": 26,
      "metadata": {
        "scrolled": true,
        "colab": {
          "base_uri": "https://localhost:8080/"
        },
        "id": "R4y789vBRIK3",
        "outputId": "598c3c79-9f0f-4cc2-b1f1-bb093e318914"
      },
      "outputs": [
        {
          "output_type": "stream",
          "name": "stdout",
          "text": [
            "['Auto Loan', 'Credit-Builder Loan', 'Personal Loan', 'Home Equity Loan']\n",
            "<class 'list'>\n"
          ]
        }
      ],
      "source": [
        "# Checking if the data has been successfully formatted\n",
        "print(test['Type_of_Loan'][0])\n",
        "print(type(test['Type_of_Loan'][0]))"
      ]
    },
    {
      "cell_type": "markdown",
      "metadata": {
        "id": "X0G88L5uRIK3"
      },
      "source": [
        "Now, before we spread each unique value of Type_of_Loan as separate boolean features, we will be filling in the missing values based on the frequency of each unique value. "
      ]
    },
    {
      "cell_type": "code",
      "execution_count": 27,
      "metadata": {
        "scrolled": true,
        "colab": {
          "base_uri": "https://localhost:8080/",
          "height": 332
        },
        "id": "gHTBpAdXRIK3",
        "outputId": "8bb03154-9408-420e-ea47-b697ed7e57f1"
      },
      "outputs": [
        {
          "output_type": "execute_result",
          "data": {
            "text/plain": [
              "              Type_of_Loan  Count   Portion\n",
              "0              Payday Loan  20284  0.114830\n",
              "1      Credit-Builder Loan  20220  0.114468\n",
              "2            Not Specified  19808  0.112135\n",
              "3         Home Equity Loan  19552  0.110686\n",
              "4             Student Loan  19484  0.110301\n",
              "5            Mortgage Loan  19468  0.110210\n",
              "6            Personal Loan  19444  0.110075\n",
              "7  Debt Consolidation Loan  19388  0.109757\n",
              "8                Auto Loan  18996  0.107538"
            ],
            "text/html": [
              "\n",
              "  <div id=\"df-21938249-0220-4ccb-ad7c-9a5f50916434\">\n",
              "    <div class=\"colab-df-container\">\n",
              "      <div>\n",
              "<style scoped>\n",
              "    .dataframe tbody tr th:only-of-type {\n",
              "        vertical-align: middle;\n",
              "    }\n",
              "\n",
              "    .dataframe tbody tr th {\n",
              "        vertical-align: top;\n",
              "    }\n",
              "\n",
              "    .dataframe thead th {\n",
              "        text-align: right;\n",
              "    }\n",
              "</style>\n",
              "<table border=\"1\" class=\"dataframe\">\n",
              "  <thead>\n",
              "    <tr style=\"text-align: right;\">\n",
              "      <th></th>\n",
              "      <th>Type_of_Loan</th>\n",
              "      <th>Count</th>\n",
              "      <th>Portion</th>\n",
              "    </tr>\n",
              "  </thead>\n",
              "  <tbody>\n",
              "    <tr>\n",
              "      <th>0</th>\n",
              "      <td>Payday Loan</td>\n",
              "      <td>20284</td>\n",
              "      <td>0.114830</td>\n",
              "    </tr>\n",
              "    <tr>\n",
              "      <th>1</th>\n",
              "      <td>Credit-Builder Loan</td>\n",
              "      <td>20220</td>\n",
              "      <td>0.114468</td>\n",
              "    </tr>\n",
              "    <tr>\n",
              "      <th>2</th>\n",
              "      <td>Not Specified</td>\n",
              "      <td>19808</td>\n",
              "      <td>0.112135</td>\n",
              "    </tr>\n",
              "    <tr>\n",
              "      <th>3</th>\n",
              "      <td>Home Equity Loan</td>\n",
              "      <td>19552</td>\n",
              "      <td>0.110686</td>\n",
              "    </tr>\n",
              "    <tr>\n",
              "      <th>4</th>\n",
              "      <td>Student Loan</td>\n",
              "      <td>19484</td>\n",
              "      <td>0.110301</td>\n",
              "    </tr>\n",
              "    <tr>\n",
              "      <th>5</th>\n",
              "      <td>Mortgage Loan</td>\n",
              "      <td>19468</td>\n",
              "      <td>0.110210</td>\n",
              "    </tr>\n",
              "    <tr>\n",
              "      <th>6</th>\n",
              "      <td>Personal Loan</td>\n",
              "      <td>19444</td>\n",
              "      <td>0.110075</td>\n",
              "    </tr>\n",
              "    <tr>\n",
              "      <th>7</th>\n",
              "      <td>Debt Consolidation Loan</td>\n",
              "      <td>19388</td>\n",
              "      <td>0.109757</td>\n",
              "    </tr>\n",
              "    <tr>\n",
              "      <th>8</th>\n",
              "      <td>Auto Loan</td>\n",
              "      <td>18996</td>\n",
              "      <td>0.107538</td>\n",
              "    </tr>\n",
              "  </tbody>\n",
              "</table>\n",
              "</div>\n",
              "      <button class=\"colab-df-convert\" onclick=\"convertToInteractive('df-21938249-0220-4ccb-ad7c-9a5f50916434')\"\n",
              "              title=\"Convert this dataframe to an interactive table.\"\n",
              "              style=\"display:none;\">\n",
              "        \n",
              "  <svg xmlns=\"http://www.w3.org/2000/svg\" height=\"24px\"viewBox=\"0 0 24 24\"\n",
              "       width=\"24px\">\n",
              "    <path d=\"M0 0h24v24H0V0z\" fill=\"none\"/>\n",
              "    <path d=\"M18.56 5.44l.94 2.06.94-2.06 2.06-.94-2.06-.94-.94-2.06-.94 2.06-2.06.94zm-11 1L8.5 8.5l.94-2.06 2.06-.94-2.06-.94L8.5 2.5l-.94 2.06-2.06.94zm10 10l.94 2.06.94-2.06 2.06-.94-2.06-.94-.94-2.06-.94 2.06-2.06.94z\"/><path d=\"M17.41 7.96l-1.37-1.37c-.4-.4-.92-.59-1.43-.59-.52 0-1.04.2-1.43.59L10.3 9.45l-7.72 7.72c-.78.78-.78 2.05 0 2.83L4 21.41c.39.39.9.59 1.41.59.51 0 1.02-.2 1.41-.59l7.78-7.78 2.81-2.81c.8-.78.8-2.07 0-2.86zM5.41 20L4 18.59l7.72-7.72 1.47 1.35L5.41 20z\"/>\n",
              "  </svg>\n",
              "      </button>\n",
              "      \n",
              "  <style>\n",
              "    .colab-df-container {\n",
              "      display:flex;\n",
              "      flex-wrap:wrap;\n",
              "      gap: 12px;\n",
              "    }\n",
              "\n",
              "    .colab-df-convert {\n",
              "      background-color: #E8F0FE;\n",
              "      border: none;\n",
              "      border-radius: 50%;\n",
              "      cursor: pointer;\n",
              "      display: none;\n",
              "      fill: #1967D2;\n",
              "      height: 32px;\n",
              "      padding: 0 0 0 0;\n",
              "      width: 32px;\n",
              "    }\n",
              "\n",
              "    .colab-df-convert:hover {\n",
              "      background-color: #E2EBFA;\n",
              "      box-shadow: 0px 1px 2px rgba(60, 64, 67, 0.3), 0px 1px 3px 1px rgba(60, 64, 67, 0.15);\n",
              "      fill: #174EA6;\n",
              "    }\n",
              "\n",
              "    [theme=dark] .colab-df-convert {\n",
              "      background-color: #3B4455;\n",
              "      fill: #D2E3FC;\n",
              "    }\n",
              "\n",
              "    [theme=dark] .colab-df-convert:hover {\n",
              "      background-color: #434B5C;\n",
              "      box-shadow: 0px 1px 3px 1px rgba(0, 0, 0, 0.15);\n",
              "      filter: drop-shadow(0px 1px 2px rgba(0, 0, 0, 0.3));\n",
              "      fill: #FFFFFF;\n",
              "    }\n",
              "  </style>\n",
              "\n",
              "      <script>\n",
              "        const buttonEl =\n",
              "          document.querySelector('#df-21938249-0220-4ccb-ad7c-9a5f50916434 button.colab-df-convert');\n",
              "        buttonEl.style.display =\n",
              "          google.colab.kernel.accessAllowed ? 'block' : 'none';\n",
              "\n",
              "        async function convertToInteractive(key) {\n",
              "          const element = document.querySelector('#df-21938249-0220-4ccb-ad7c-9a5f50916434');\n",
              "          const dataTable =\n",
              "            await google.colab.kernel.invokeFunction('convertToInteractive',\n",
              "                                                     [key], {});\n",
              "          if (!dataTable) return;\n",
              "\n",
              "          const docLinkHtml = 'Like what you see? Visit the ' +\n",
              "            '<a target=\"_blank\" href=https://colab.research.google.com/notebooks/data_table.ipynb>data table notebook</a>'\n",
              "            + ' to learn more about interactive tables.';\n",
              "          element.innerHTML = '';\n",
              "          dataTable['output_type'] = 'display_data';\n",
              "          await google.colab.output.renderOutput(dataTable, element);\n",
              "          const docLink = document.createElement('div');\n",
              "          docLink.innerHTML = docLinkHtml;\n",
              "          element.appendChild(docLink);\n",
              "        }\n",
              "      </script>\n",
              "    </div>\n",
              "  </div>\n",
              "  "
            ]
          },
          "metadata": {},
          "execution_count": 27
        }
      ],
      "source": [
        "# unique value counts (frequency) of each unique value\n",
        "listUVcount = pd.Series([x for _list in test['Type_of_Loan'] for x in _list]).value_counts()\n",
        "listUVcount\n",
        "\n",
        "# Type_of_Loan unique values (excluding nan)\n",
        "listUV = list(listUVcount[:-1].index)\n",
        "listUV\n",
        "\n",
        "# The sum of all unique values (excluding nan)\n",
        "totalcount = sum(listUVcount[:-1])\n",
        "totalcount\n",
        "\n",
        "# Calculating the probabilities of each unique value\n",
        "listUVportion = []\n",
        "for UVcount in listUVcount[:-1]:\n",
        "    UVportion = UVcount / totalcount\n",
        "    listUVportion.append(UVportion)\n",
        "listUVportion\n",
        "\n",
        "# Creating the report table\n",
        "table = pd.DataFrame(list(zip(listUV, listUVcount[:-1], listUVportion)))\n",
        "table.columns = ['Type_of_Loan', 'Count', 'Portion']\n",
        "\n",
        "# Report\n",
        "table"
      ]
    },
    {
      "cell_type": "code",
      "execution_count": 28,
      "metadata": {
        "id": "1GH5u-YoRIK3"
      },
      "outputs": [],
      "source": [
        "# Filling in the missing Type_of_Loan data\n",
        "test['Type_of_Loan'] = test['Type_of_Loan'].fillna(pd.Series(np.random.choice(listUV,\n",
        "                                                                                p = listUVportion,\n",
        "                                                                                size = len(test['Type_of_Loan']))))"
      ]
    },
    {
      "cell_type": "code",
      "execution_count": 29,
      "metadata": {
        "colab": {
          "base_uri": "https://localhost:8080/"
        },
        "id": "fgt9JQ2CRIK3",
        "outputId": "c92757bf-0393-457e-dfae-a1b7d733469e"
      },
      "outputs": [
        {
          "output_type": "execute_result",
          "data": {
            "text/plain": [
              "0"
            ]
          },
          "metadata": {},
          "execution_count": 29
        }
      ],
      "source": [
        "# Checking if there are still missing values in the Type_of_Loan feature\n",
        "test['Type_of_Loan'].isnull().sum()"
      ]
    },
    {
      "cell_type": "markdown",
      "metadata": {
        "id": "uCHqSQ3kRIK3"
      },
      "source": [
        "Now that the missing values are not present anymore, let us separate each Type_of_Loan into separate features"
      ]
    },
    {
      "cell_type": "code",
      "execution_count": 30,
      "metadata": {
        "colab": {
          "base_uri": "https://localhost:8080/",
          "height": 424
        },
        "id": "yey5AhfpRIK3",
        "outputId": "617fd39e-57b3-4703-9b33-0d738cc883d7"
      },
      "outputs": [
        {
          "output_type": "execute_result",
          "data": {
            "text/plain": [
              "       Auto Loan  Credit-Builder Loan  Debt Consolidation Loan  \\\n",
              "0           True                 True                    False   \n",
              "1           True                 True                    False   \n",
              "2           True                 True                    False   \n",
              "3           True                 True                    False   \n",
              "4          False                 True                    False   \n",
              "...          ...                  ...                      ...   \n",
              "49995       True                False                    False   \n",
              "49996       True                False                    False   \n",
              "49997       True                False                    False   \n",
              "49998       True                False                    False   \n",
              "49999       True                False                    False   \n",
              "\n",
              "       Home Equity Loan  Mortgage Loan  Not Specified  Payday Loan  \\\n",
              "0                  True          False          False        False   \n",
              "1                  True          False          False        False   \n",
              "2                  True          False          False        False   \n",
              "3                  True          False          False        False   \n",
              "4                 False          False          False        False   \n",
              "...                 ...            ...            ...          ...   \n",
              "49995             False           True          False        False   \n",
              "49996             False          False          False        False   \n",
              "49997             False          False          False        False   \n",
              "49998             False          False          False        False   \n",
              "49999             False          False          False        False   \n",
              "\n",
              "       Personal Loan  Student Loan    nan  \n",
              "0               True         False  False  \n",
              "1               True         False  False  \n",
              "2               True         False  False  \n",
              "3               True         False  False  \n",
              "4              False         False  False  \n",
              "...              ...           ...    ...  \n",
              "49995           True          True  False  \n",
              "49996          False          True  False  \n",
              "49997          False          True  False  \n",
              "49998          False          True  False  \n",
              "49999          False          True  False  \n",
              "\n",
              "[50000 rows x 10 columns]"
            ],
            "text/html": [
              "\n",
              "  <div id=\"df-bc8fc516-a15a-4964-98f7-7462c9a91920\">\n",
              "    <div class=\"colab-df-container\">\n",
              "      <div>\n",
              "<style scoped>\n",
              "    .dataframe tbody tr th:only-of-type {\n",
              "        vertical-align: middle;\n",
              "    }\n",
              "\n",
              "    .dataframe tbody tr th {\n",
              "        vertical-align: top;\n",
              "    }\n",
              "\n",
              "    .dataframe thead th {\n",
              "        text-align: right;\n",
              "    }\n",
              "</style>\n",
              "<table border=\"1\" class=\"dataframe\">\n",
              "  <thead>\n",
              "    <tr style=\"text-align: right;\">\n",
              "      <th></th>\n",
              "      <th>Auto Loan</th>\n",
              "      <th>Credit-Builder Loan</th>\n",
              "      <th>Debt Consolidation Loan</th>\n",
              "      <th>Home Equity Loan</th>\n",
              "      <th>Mortgage Loan</th>\n",
              "      <th>Not Specified</th>\n",
              "      <th>Payday Loan</th>\n",
              "      <th>Personal Loan</th>\n",
              "      <th>Student Loan</th>\n",
              "      <th>nan</th>\n",
              "    </tr>\n",
              "  </thead>\n",
              "  <tbody>\n",
              "    <tr>\n",
              "      <th>0</th>\n",
              "      <td>True</td>\n",
              "      <td>True</td>\n",
              "      <td>False</td>\n",
              "      <td>True</td>\n",
              "      <td>False</td>\n",
              "      <td>False</td>\n",
              "      <td>False</td>\n",
              "      <td>True</td>\n",
              "      <td>False</td>\n",
              "      <td>False</td>\n",
              "    </tr>\n",
              "    <tr>\n",
              "      <th>1</th>\n",
              "      <td>True</td>\n",
              "      <td>True</td>\n",
              "      <td>False</td>\n",
              "      <td>True</td>\n",
              "      <td>False</td>\n",
              "      <td>False</td>\n",
              "      <td>False</td>\n",
              "      <td>True</td>\n",
              "      <td>False</td>\n",
              "      <td>False</td>\n",
              "    </tr>\n",
              "    <tr>\n",
              "      <th>2</th>\n",
              "      <td>True</td>\n",
              "      <td>True</td>\n",
              "      <td>False</td>\n",
              "      <td>True</td>\n",
              "      <td>False</td>\n",
              "      <td>False</td>\n",
              "      <td>False</td>\n",
              "      <td>True</td>\n",
              "      <td>False</td>\n",
              "      <td>False</td>\n",
              "    </tr>\n",
              "    <tr>\n",
              "      <th>3</th>\n",
              "      <td>True</td>\n",
              "      <td>True</td>\n",
              "      <td>False</td>\n",
              "      <td>True</td>\n",
              "      <td>False</td>\n",
              "      <td>False</td>\n",
              "      <td>False</td>\n",
              "      <td>True</td>\n",
              "      <td>False</td>\n",
              "      <td>False</td>\n",
              "    </tr>\n",
              "    <tr>\n",
              "      <th>4</th>\n",
              "      <td>False</td>\n",
              "      <td>True</td>\n",
              "      <td>False</td>\n",
              "      <td>False</td>\n",
              "      <td>False</td>\n",
              "      <td>False</td>\n",
              "      <td>False</td>\n",
              "      <td>False</td>\n",
              "      <td>False</td>\n",
              "      <td>False</td>\n",
              "    </tr>\n",
              "    <tr>\n",
              "      <th>...</th>\n",
              "      <td>...</td>\n",
              "      <td>...</td>\n",
              "      <td>...</td>\n",
              "      <td>...</td>\n",
              "      <td>...</td>\n",
              "      <td>...</td>\n",
              "      <td>...</td>\n",
              "      <td>...</td>\n",
              "      <td>...</td>\n",
              "      <td>...</td>\n",
              "    </tr>\n",
              "    <tr>\n",
              "      <th>49995</th>\n",
              "      <td>True</td>\n",
              "      <td>False</td>\n",
              "      <td>False</td>\n",
              "      <td>False</td>\n",
              "      <td>True</td>\n",
              "      <td>False</td>\n",
              "      <td>False</td>\n",
              "      <td>True</td>\n",
              "      <td>True</td>\n",
              "      <td>False</td>\n",
              "    </tr>\n",
              "    <tr>\n",
              "      <th>49996</th>\n",
              "      <td>True</td>\n",
              "      <td>False</td>\n",
              "      <td>False</td>\n",
              "      <td>False</td>\n",
              "      <td>False</td>\n",
              "      <td>False</td>\n",
              "      <td>False</td>\n",
              "      <td>False</td>\n",
              "      <td>True</td>\n",
              "      <td>False</td>\n",
              "    </tr>\n",
              "    <tr>\n",
              "      <th>49997</th>\n",
              "      <td>True</td>\n",
              "      <td>False</td>\n",
              "      <td>False</td>\n",
              "      <td>False</td>\n",
              "      <td>False</td>\n",
              "      <td>False</td>\n",
              "      <td>False</td>\n",
              "      <td>False</td>\n",
              "      <td>True</td>\n",
              "      <td>False</td>\n",
              "    </tr>\n",
              "    <tr>\n",
              "      <th>49998</th>\n",
              "      <td>True</td>\n",
              "      <td>False</td>\n",
              "      <td>False</td>\n",
              "      <td>False</td>\n",
              "      <td>False</td>\n",
              "      <td>False</td>\n",
              "      <td>False</td>\n",
              "      <td>False</td>\n",
              "      <td>True</td>\n",
              "      <td>False</td>\n",
              "    </tr>\n",
              "    <tr>\n",
              "      <th>49999</th>\n",
              "      <td>True</td>\n",
              "      <td>False</td>\n",
              "      <td>False</td>\n",
              "      <td>False</td>\n",
              "      <td>False</td>\n",
              "      <td>False</td>\n",
              "      <td>False</td>\n",
              "      <td>False</td>\n",
              "      <td>True</td>\n",
              "      <td>False</td>\n",
              "    </tr>\n",
              "  </tbody>\n",
              "</table>\n",
              "<p>50000 rows × 10 columns</p>\n",
              "</div>\n",
              "      <button class=\"colab-df-convert\" onclick=\"convertToInteractive('df-bc8fc516-a15a-4964-98f7-7462c9a91920')\"\n",
              "              title=\"Convert this dataframe to an interactive table.\"\n",
              "              style=\"display:none;\">\n",
              "        \n",
              "  <svg xmlns=\"http://www.w3.org/2000/svg\" height=\"24px\"viewBox=\"0 0 24 24\"\n",
              "       width=\"24px\">\n",
              "    <path d=\"M0 0h24v24H0V0z\" fill=\"none\"/>\n",
              "    <path d=\"M18.56 5.44l.94 2.06.94-2.06 2.06-.94-2.06-.94-.94-2.06-.94 2.06-2.06.94zm-11 1L8.5 8.5l.94-2.06 2.06-.94-2.06-.94L8.5 2.5l-.94 2.06-2.06.94zm10 10l.94 2.06.94-2.06 2.06-.94-2.06-.94-.94-2.06-.94 2.06-2.06.94z\"/><path d=\"M17.41 7.96l-1.37-1.37c-.4-.4-.92-.59-1.43-.59-.52 0-1.04.2-1.43.59L10.3 9.45l-7.72 7.72c-.78.78-.78 2.05 0 2.83L4 21.41c.39.39.9.59 1.41.59.51 0 1.02-.2 1.41-.59l7.78-7.78 2.81-2.81c.8-.78.8-2.07 0-2.86zM5.41 20L4 18.59l7.72-7.72 1.47 1.35L5.41 20z\"/>\n",
              "  </svg>\n",
              "      </button>\n",
              "      \n",
              "  <style>\n",
              "    .colab-df-container {\n",
              "      display:flex;\n",
              "      flex-wrap:wrap;\n",
              "      gap: 12px;\n",
              "    }\n",
              "\n",
              "    .colab-df-convert {\n",
              "      background-color: #E8F0FE;\n",
              "      border: none;\n",
              "      border-radius: 50%;\n",
              "      cursor: pointer;\n",
              "      display: none;\n",
              "      fill: #1967D2;\n",
              "      height: 32px;\n",
              "      padding: 0 0 0 0;\n",
              "      width: 32px;\n",
              "    }\n",
              "\n",
              "    .colab-df-convert:hover {\n",
              "      background-color: #E2EBFA;\n",
              "      box-shadow: 0px 1px 2px rgba(60, 64, 67, 0.3), 0px 1px 3px 1px rgba(60, 64, 67, 0.15);\n",
              "      fill: #174EA6;\n",
              "    }\n",
              "\n",
              "    [theme=dark] .colab-df-convert {\n",
              "      background-color: #3B4455;\n",
              "      fill: #D2E3FC;\n",
              "    }\n",
              "\n",
              "    [theme=dark] .colab-df-convert:hover {\n",
              "      background-color: #434B5C;\n",
              "      box-shadow: 0px 1px 3px 1px rgba(0, 0, 0, 0.15);\n",
              "      filter: drop-shadow(0px 1px 2px rgba(0, 0, 0, 0.3));\n",
              "      fill: #FFFFFF;\n",
              "    }\n",
              "  </style>\n",
              "\n",
              "      <script>\n",
              "        const buttonEl =\n",
              "          document.querySelector('#df-bc8fc516-a15a-4964-98f7-7462c9a91920 button.colab-df-convert');\n",
              "        buttonEl.style.display =\n",
              "          google.colab.kernel.accessAllowed ? 'block' : 'none';\n",
              "\n",
              "        async function convertToInteractive(key) {\n",
              "          const element = document.querySelector('#df-bc8fc516-a15a-4964-98f7-7462c9a91920');\n",
              "          const dataTable =\n",
              "            await google.colab.kernel.invokeFunction('convertToInteractive',\n",
              "                                                     [key], {});\n",
              "          if (!dataTable) return;\n",
              "\n",
              "          const docLinkHtml = 'Like what you see? Visit the ' +\n",
              "            '<a target=\"_blank\" href=https://colab.research.google.com/notebooks/data_table.ipynb>data table notebook</a>'\n",
              "            + ' to learn more about interactive tables.';\n",
              "          element.innerHTML = '';\n",
              "          dataTable['output_type'] = 'display_data';\n",
              "          await google.colab.output.renderOutput(dataTable, element);\n",
              "          const docLink = document.createElement('div');\n",
              "          docLink.innerHTML = docLinkHtml;\n",
              "          element.appendChild(docLink);\n",
              "        }\n",
              "      </script>\n",
              "    </div>\n",
              "  </div>\n",
              "  "
            ]
          },
          "metadata": {},
          "execution_count": 30
        }
      ],
      "source": [
        "# Converting the list of list into a dataframe\n",
        "df_Type_of_Loan = pd.DataFrame(mlb.fit_transform(test['Type_of_Loan']),columns=mlb.classes_).astype(bool)\n",
        "df_Type_of_Loan"
      ]
    },
    {
      "cell_type": "code",
      "execution_count": 31,
      "metadata": {
        "colab": {
          "base_uri": "https://localhost:8080/"
        },
        "id": "T-xh086pRIK3",
        "outputId": "fa2026d3-6c3a-481a-8094-67c3e8940d62"
      },
      "outputs": [
        {
          "output_type": "execute_result",
          "data": {
            "text/plain": [
              "0"
            ]
          },
          "metadata": {},
          "execution_count": 31
        }
      ],
      "source": [
        "# Making sure the nan feature is empty\n",
        "sum(df_Type_of_Loan['nan'] == 'True')"
      ]
    },
    {
      "cell_type": "code",
      "execution_count": 32,
      "metadata": {
        "scrolled": true,
        "id": "ZWaR6QLLRIK4"
      },
      "outputs": [],
      "source": [
        "# Dropping the nan feature\n",
        "df_Type_of_Loan.drop('nan', axis = 1, inplace = True)"
      ]
    },
    {
      "cell_type": "code",
      "execution_count": 33,
      "metadata": {
        "id": "OVV3H6_kRIK4"
      },
      "outputs": [],
      "source": [
        "# Combining the original dataset and the Type_of_Loan dataset\n",
        "test2 = pd.concat([test, df_Type_of_Loan],\n",
        "                  axis = 1,\n",
        "                  ignore_index = False)"
      ]
    },
    {
      "cell_type": "markdown",
      "metadata": {
        "id": "QOV35ReORIK4"
      },
      "source": [
        "The Type_of_Loan feature itself for now will not be dropped. This feature will still be useful when we are going to engineer the Num_of_Loan feature in the numerical feature section. Num_of_Loan basically counts the Type_of_Loan each entry has and it will be easier to count directly from the Type_of_Loan feature."
      ]
    },
    {
      "cell_type": "markdown",
      "metadata": {
        "id": "okkrf8NoRIK4"
      },
      "source": [
        "### **Ve. Categorical Feature: Payment_Behavior**"
      ]
    },
    {
      "cell_type": "markdown",
      "metadata": {
        "id": "Z2NoRoLCRIK4"
      },
      "source": [
        "The '!@9#%8' value will be dropped from the feature, as it contains an abnormal data validation compared to the other members in the feature."
      ]
    },
    {
      "cell_type": "code",
      "execution_count": 34,
      "metadata": {
        "scrolled": true,
        "colab": {
          "base_uri": "https://localhost:8080/"
        },
        "id": "CZeKa7x4RIK4",
        "outputId": "727506fe-a013-48ca-da9d-f9b557d4498c"
      },
      "outputs": [
        {
          "output_type": "execute_result",
          "data": {
            "text/plain": [
              "3800"
            ]
          },
          "metadata": {},
          "execution_count": 34
        }
      ],
      "source": [
        "# Checking how many '!@9#%8' Payment_Behaviour values there are\n",
        "len(test2[test2['Payment_Behaviour'] == '!@9#%8'])"
      ]
    },
    {
      "cell_type": "code",
      "execution_count": 35,
      "metadata": {
        "id": "wrDVggWIRIK4"
      },
      "outputs": [],
      "source": [
        "# Dropping the '!@9#%8' value from the SSN feature\n",
        "test2['Payment_Behaviour'] = test2['Payment_Behaviour'].replace('!@9#%8', np.nan)"
      ]
    },
    {
      "cell_type": "code",
      "execution_count": 36,
      "metadata": {
        "scrolled": true,
        "id": "nLWgc9o-RIK4"
      },
      "outputs": [],
      "source": [
        "# Filling in the missing values in Payment_Behaviour feature\n",
        "test2['Payment_Behaviour'] = test2['Payment_Behaviour'].fillna(test.groupby('Customer_ID')['Payment_Behaviour'].transform(lambda x:x.mode().iat[0]))"
      ]
    },
    {
      "cell_type": "code",
      "execution_count": 37,
      "metadata": {
        "colab": {
          "base_uri": "https://localhost:8080/"
        },
        "id": "j74KNjqmRIK4",
        "outputId": "4a460a1d-2285-4f97-bed3-b7db2002e03c"
      },
      "outputs": [
        {
          "output_type": "execute_result",
          "data": {
            "text/plain": [
              "2225"
            ]
          },
          "metadata": {},
          "execution_count": 37
        }
      ],
      "source": [
        "# Checking if there are still abnormal values\n",
        "len(test2[test2['Payment_Behaviour'] == '!@9#%8'])"
      ]
    },
    {
      "cell_type": "markdown",
      "metadata": {
        "id": "zRAsgEU7RIK5"
      },
      "source": [
        "Note that after the fillna process, there are still 1736 '!@9#%8' values. This is because some customers have at least two type of Payment_Behaviour with same value counts. However, considering that the number is now small compared to the initial 7600 value counts, we will fill in the remaining with probability instead, the same as when we did with Type_of_Loan."
      ]
    },
    {
      "cell_type": "code",
      "execution_count": 38,
      "metadata": {
        "colab": {
          "base_uri": "https://localhost:8080/"
        },
        "id": "tKMcmMFBRIK5",
        "outputId": "a901f141-e08a-4190-fdad-702c5741520f"
      },
      "outputs": [
        {
          "output_type": "stream",
          "name": "stdout",
          "text": [
            "               Payment_Behaviour  Count  Portion\n",
            "  Low_spent_Small_value_payments  13298 0.278346\n",
            "High_spent_Medium_value_payments   9254 0.193700\n",
            " High_spent_Large_value_payments   7078 0.148153\n",
            " Low_spent_Medium_value_payments   7022 0.146981\n",
            " High_spent_Small_value_payments   5768 0.120733\n",
            "  Low_spent_Large_value_payments   5355 0.112088\n"
          ]
        }
      ],
      "source": [
        "# Counting the portion of each unique value, excluding '!@9#%8'\n",
        "uniquevalueprob(test2, 'Payment_Behaviour', '!@9#%8')"
      ]
    },
    {
      "cell_type": "code",
      "execution_count": 39,
      "metadata": {
        "colab": {
          "base_uri": "https://localhost:8080/"
        },
        "id": "REtz79GIRIK5",
        "outputId": "463c9a32-f136-4f13-a99c-2fc2b0cd70c3"
      },
      "outputs": [
        {
          "output_type": "execute_result",
          "data": {
            "text/plain": [
              "0"
            ]
          },
          "metadata": {},
          "execution_count": 39
        }
      ],
      "source": [
        "# Dropping !@9#%8 values\n",
        "test2['Payment_Behaviour'] = test2['Payment_Behaviour'].replace('!@9#%8', np.nan)\n",
        "\n",
        "# Filling in the remaining missing values with the unique value probability\n",
        "test2['Payment_Behaviour'] = test2['Payment_Behaviour'].fillna(pd.Series(np.random.choice(listUV,\n",
        "                                                                                            p = listUVportion, \n",
        "                                                                                            size = len(test2['Payment_Behaviour']))))\n",
        "\n",
        "# Checking if there are still abnormal values\n",
        "len(test2[test2['Payment_Behaviour'] == '!@9#%8'])"
      ]
    },
    {
      "cell_type": "markdown",
      "metadata": {
        "id": "FjlWiAWgRIK5"
      },
      "source": [
        "### **Vf. Categorical Feature: Credit_Mix**"
      ]
    },
    {
      "cell_type": "markdown",
      "metadata": {
        "id": "SjJ9f5RtRIK5"
      },
      "source": [
        "The 'Credit_Mix' feature also has missing values in the form of string, '_'. Like before, we are going to omit these '_' values first before filling in the missing values."
      ]
    },
    {
      "cell_type": "code",
      "execution_count": 40,
      "metadata": {
        "scrolled": false,
        "colab": {
          "base_uri": "https://localhost:8080/"
        },
        "id": "w2ERnmWVRIK5",
        "outputId": "e503f456-9cc7-4dca-af30-0cae70ca25cb"
      },
      "outputs": [
        {
          "output_type": "stream",
          "name": "stdout",
          "text": [
            "Credit_Mix  Count  Portion\n",
            "  Standard  18379 0.457246\n",
            "      Good  12260 0.305013\n",
            "       Bad   9556 0.237741\n"
          ]
        }
      ],
      "source": [
        "# Dropping the '_' value\n",
        "test2['Credit_Mix'] = test2['Credit_Mix'].replace('_', np.nan)\n",
        "\n",
        "# Counting the portion of each unique value\n",
        "uniquevalueprob(test2, 'Credit_Mix')"
      ]
    },
    {
      "cell_type": "code",
      "execution_count": 41,
      "metadata": {
        "scrolled": true,
        "colab": {
          "base_uri": "https://localhost:8080/"
        },
        "id": "QawGJ4kDRIK5",
        "outputId": "67170bba-c634-465b-b78a-6092303980f6"
      },
      "outputs": [
        {
          "output_type": "execute_result",
          "data": {
            "text/plain": [
              "0"
            ]
          },
          "metadata": {},
          "execution_count": 41
        }
      ],
      "source": [
        "# Filling in the remaining missing values with the unique value probability\n",
        "test2['Credit_Mix'] = test2['Credit_Mix'].fillna(pd.Series(np.random.choice(listUV,\n",
        "                                                                              p = listUVportion, \n",
        "                                                                              size = len(test2))))\n",
        "\n",
        "# Checking if there are still abnormal values\n",
        "len(test2[test2['Credit_Mix'] == '_'])"
      ]
    },
    {
      "cell_type": "markdown",
      "metadata": {
        "id": "7yn1mwrdRIK5"
      },
      "source": [
        "## **VI. Data Exploration 3: Numerical Features**"
      ]
    },
    {
      "cell_type": "markdown",
      "metadata": {
        "id": "yNhubhveRIK5"
      },
      "source": [
        "Now that we are done with the categorical features, let us move on to the numerical ones. A slightly different approcah is needed as we are dealing with both continuous and discrete numbers."
      ]
    },
    {
      "cell_type": "code",
      "execution_count": 42,
      "metadata": {
        "colab": {
          "base_uri": "https://localhost:8080/"
        },
        "id": "sPw9V__nRIK6",
        "outputId": "31fac7cf-0e6c-4cf8-bde4-e03a30117c98"
      },
      "outputs": [
        {
          "output_type": "stream",
          "name": "stdout",
          "text": [
            "<class 'pandas.core.frame.DataFrame'>\n",
            "RangeIndex: 50000 entries, 0 to 49999\n",
            "Data columns (total 17 columns):\n",
            " #   Column                    Non-Null Count  Dtype  \n",
            "---  ------                    --------------  -----  \n",
            " 0   Age                       50000 non-null  float64\n",
            " 1   Annual_Income             50000 non-null  float64\n",
            " 2   Monthly_Inhand_Salary     42502 non-null  float64\n",
            " 3   Num_Bank_Accounts         50000 non-null  int64  \n",
            " 4   Num_Credit_Card           50000 non-null  int64  \n",
            " 5   Interest_Rate             50000 non-null  int64  \n",
            " 6   Num_of_Loan               50000 non-null  float64\n",
            " 7   Delay_from_due_date       50000 non-null  int64  \n",
            " 8   Num_of_Delayed_Payment    46502 non-null  float64\n",
            " 9   Changed_Credit_Limit      48941 non-null  float64\n",
            " 10  Num_Credit_Inquiries      48965 non-null  float64\n",
            " 11  Outstanding_Debt          50000 non-null  float64\n",
            " 12  Credit_Utilization_Ratio  50000 non-null  float64\n",
            " 13  Credit_History_Age        45530 non-null  float64\n",
            " 14  Total_EMI_per_month       50000 non-null  float64\n",
            " 15  Amount_invested_monthly   47729 non-null  float64\n",
            " 16  Monthly_Balance           49438 non-null  float64\n",
            "dtypes: float64(13), int64(4)\n",
            "memory usage: 6.5 MB\n"
          ]
        }
      ],
      "source": [
        "# Numerical data overview\n",
        "NumDesc = test2[NumFeatures].info()\n",
        "NumDesc"
      ]
    },
    {
      "cell_type": "code",
      "execution_count": 43,
      "metadata": {
        "scrolled": true,
        "colab": {
          "base_uri": "https://localhost:8080/",
          "height": 364
        },
        "id": "QfAYDNI8RIK6",
        "outputId": "2ede5837-12b4-4796-b001-92c7515df862"
      },
      "outputs": [
        {
          "output_type": "execute_result",
          "data": {
            "text/plain": [
              "                Age  Annual_Income  Monthly_Inhand_Salary  Num_Bank_Accounts  \\\n",
              "count  50000.000000   5.000000e+04           42502.000000       50000.000000   \n",
              "mean     118.994420   1.663342e+05            4182.004291          16.838260   \n",
              "std      678.133254   1.351965e+06            3174.109304         116.396848   \n",
              "min       14.000000   7.005930e+03             303.645417          -1.000000   \n",
              "25%       25.000000   1.945333e+04            1625.188333           3.000000   \n",
              "50%       34.000000   3.757782e+04            3086.305000           6.000000   \n",
              "75%       43.000000   7.281702e+04            5934.189094           7.000000   \n",
              "max     8688.000000   2.413726e+07           15204.633333        1798.000000   \n",
              "\n",
              "       Num_Credit_Card  Interest_Rate   Num_of_Loan  Delay_from_due_date  \\\n",
              "count     50000.000000   50000.000000  50000.000000         50000.000000   \n",
              "mean         22.921480      68.772640     11.299360            21.052640   \n",
              "std         129.314804     451.602363     65.483498            14.860397   \n",
              "min           0.000000       1.000000      0.000000            -5.000000   \n",
              "25%           4.000000       8.000000      2.000000            10.000000   \n",
              "50%           5.000000      13.000000      3.000000            18.000000   \n",
              "75%           7.000000      20.000000      6.000000            28.000000   \n",
              "max        1499.000000    5799.000000   1496.000000            67.000000   \n",
              "\n",
              "       Num_of_Delayed_Payment  Changed_Credit_Limit  Num_Credit_Inquiries  \\\n",
              "count            46502.000000          48941.000000          48965.000000   \n",
              "mean                30.910369             10.458053             30.080200   \n",
              "std                221.507473              6.651572            196.984121   \n",
              "min                  0.000000              0.000000              0.000000   \n",
              "25%                  9.000000              5.360000              4.000000   \n",
              "50%                 14.000000              9.410000              7.000000   \n",
              "75%                 18.000000             14.800000             10.000000   \n",
              "max               4399.000000             36.650000           2593.000000   \n",
              "\n",
              "       Outstanding_Debt  Credit_Utilization_Ratio  Credit_History_Age  \\\n",
              "count      50000.000000              50000.000000        45530.000000   \n",
              "mean        1426.220376                 32.279581          227.251175   \n",
              "std         1155.134801                  5.106238           99.554366   \n",
              "min            0.230000                 20.509652           10.000000   \n",
              "25%          566.072500                 28.061040          151.000000   \n",
              "50%         1166.155000                 32.280390          225.000000   \n",
              "75%         1945.962500                 36.468591          307.000000   \n",
              "max         4998.070000                 48.540663          408.000000   \n",
              "\n",
              "       Total_EMI_per_month  Amount_invested_monthly  Monthly_Balance  \n",
              "count         50000.000000             47729.000000     4.943800e+04  \n",
              "mean           1491.304305               641.654795     4.045471e+22  \n",
              "std            8595.647887              2053.895420     3.671994e+24  \n",
              "min               0.000000                 0.000000     1.034022e-01  \n",
              "25%              32.222388                74.529270     2.705032e+02  \n",
              "50%              74.733349               135.590430     3.370127e+02  \n",
              "75%             176.157491               266.892228     4.709267e+02  \n",
              "max           82398.000000             10000.000000     3.333333e+26  "
            ],
            "text/html": [
              "\n",
              "  <div id=\"df-663459a7-1e83-435d-addf-872101862e0a\">\n",
              "    <div class=\"colab-df-container\">\n",
              "      <div>\n",
              "<style scoped>\n",
              "    .dataframe tbody tr th:only-of-type {\n",
              "        vertical-align: middle;\n",
              "    }\n",
              "\n",
              "    .dataframe tbody tr th {\n",
              "        vertical-align: top;\n",
              "    }\n",
              "\n",
              "    .dataframe thead th {\n",
              "        text-align: right;\n",
              "    }\n",
              "</style>\n",
              "<table border=\"1\" class=\"dataframe\">\n",
              "  <thead>\n",
              "    <tr style=\"text-align: right;\">\n",
              "      <th></th>\n",
              "      <th>Age</th>\n",
              "      <th>Annual_Income</th>\n",
              "      <th>Monthly_Inhand_Salary</th>\n",
              "      <th>Num_Bank_Accounts</th>\n",
              "      <th>Num_Credit_Card</th>\n",
              "      <th>Interest_Rate</th>\n",
              "      <th>Num_of_Loan</th>\n",
              "      <th>Delay_from_due_date</th>\n",
              "      <th>Num_of_Delayed_Payment</th>\n",
              "      <th>Changed_Credit_Limit</th>\n",
              "      <th>Num_Credit_Inquiries</th>\n",
              "      <th>Outstanding_Debt</th>\n",
              "      <th>Credit_Utilization_Ratio</th>\n",
              "      <th>Credit_History_Age</th>\n",
              "      <th>Total_EMI_per_month</th>\n",
              "      <th>Amount_invested_monthly</th>\n",
              "      <th>Monthly_Balance</th>\n",
              "    </tr>\n",
              "  </thead>\n",
              "  <tbody>\n",
              "    <tr>\n",
              "      <th>count</th>\n",
              "      <td>50000.000000</td>\n",
              "      <td>5.000000e+04</td>\n",
              "      <td>42502.000000</td>\n",
              "      <td>50000.000000</td>\n",
              "      <td>50000.000000</td>\n",
              "      <td>50000.000000</td>\n",
              "      <td>50000.000000</td>\n",
              "      <td>50000.000000</td>\n",
              "      <td>46502.000000</td>\n",
              "      <td>48941.000000</td>\n",
              "      <td>48965.000000</td>\n",
              "      <td>50000.000000</td>\n",
              "      <td>50000.000000</td>\n",
              "      <td>45530.000000</td>\n",
              "      <td>50000.000000</td>\n",
              "      <td>47729.000000</td>\n",
              "      <td>4.943800e+04</td>\n",
              "    </tr>\n",
              "    <tr>\n",
              "      <th>mean</th>\n",
              "      <td>118.994420</td>\n",
              "      <td>1.663342e+05</td>\n",
              "      <td>4182.004291</td>\n",
              "      <td>16.838260</td>\n",
              "      <td>22.921480</td>\n",
              "      <td>68.772640</td>\n",
              "      <td>11.299360</td>\n",
              "      <td>21.052640</td>\n",
              "      <td>30.910369</td>\n",
              "      <td>10.458053</td>\n",
              "      <td>30.080200</td>\n",
              "      <td>1426.220376</td>\n",
              "      <td>32.279581</td>\n",
              "      <td>227.251175</td>\n",
              "      <td>1491.304305</td>\n",
              "      <td>641.654795</td>\n",
              "      <td>4.045471e+22</td>\n",
              "    </tr>\n",
              "    <tr>\n",
              "      <th>std</th>\n",
              "      <td>678.133254</td>\n",
              "      <td>1.351965e+06</td>\n",
              "      <td>3174.109304</td>\n",
              "      <td>116.396848</td>\n",
              "      <td>129.314804</td>\n",
              "      <td>451.602363</td>\n",
              "      <td>65.483498</td>\n",
              "      <td>14.860397</td>\n",
              "      <td>221.507473</td>\n",
              "      <td>6.651572</td>\n",
              "      <td>196.984121</td>\n",
              "      <td>1155.134801</td>\n",
              "      <td>5.106238</td>\n",
              "      <td>99.554366</td>\n",
              "      <td>8595.647887</td>\n",
              "      <td>2053.895420</td>\n",
              "      <td>3.671994e+24</td>\n",
              "    </tr>\n",
              "    <tr>\n",
              "      <th>min</th>\n",
              "      <td>14.000000</td>\n",
              "      <td>7.005930e+03</td>\n",
              "      <td>303.645417</td>\n",
              "      <td>-1.000000</td>\n",
              "      <td>0.000000</td>\n",
              "      <td>1.000000</td>\n",
              "      <td>0.000000</td>\n",
              "      <td>-5.000000</td>\n",
              "      <td>0.000000</td>\n",
              "      <td>0.000000</td>\n",
              "      <td>0.000000</td>\n",
              "      <td>0.230000</td>\n",
              "      <td>20.509652</td>\n",
              "      <td>10.000000</td>\n",
              "      <td>0.000000</td>\n",
              "      <td>0.000000</td>\n",
              "      <td>1.034022e-01</td>\n",
              "    </tr>\n",
              "    <tr>\n",
              "      <th>25%</th>\n",
              "      <td>25.000000</td>\n",
              "      <td>1.945333e+04</td>\n",
              "      <td>1625.188333</td>\n",
              "      <td>3.000000</td>\n",
              "      <td>4.000000</td>\n",
              "      <td>8.000000</td>\n",
              "      <td>2.000000</td>\n",
              "      <td>10.000000</td>\n",
              "      <td>9.000000</td>\n",
              "      <td>5.360000</td>\n",
              "      <td>4.000000</td>\n",
              "      <td>566.072500</td>\n",
              "      <td>28.061040</td>\n",
              "      <td>151.000000</td>\n",
              "      <td>32.222388</td>\n",
              "      <td>74.529270</td>\n",
              "      <td>2.705032e+02</td>\n",
              "    </tr>\n",
              "    <tr>\n",
              "      <th>50%</th>\n",
              "      <td>34.000000</td>\n",
              "      <td>3.757782e+04</td>\n",
              "      <td>3086.305000</td>\n",
              "      <td>6.000000</td>\n",
              "      <td>5.000000</td>\n",
              "      <td>13.000000</td>\n",
              "      <td>3.000000</td>\n",
              "      <td>18.000000</td>\n",
              "      <td>14.000000</td>\n",
              "      <td>9.410000</td>\n",
              "      <td>7.000000</td>\n",
              "      <td>1166.155000</td>\n",
              "      <td>32.280390</td>\n",
              "      <td>225.000000</td>\n",
              "      <td>74.733349</td>\n",
              "      <td>135.590430</td>\n",
              "      <td>3.370127e+02</td>\n",
              "    </tr>\n",
              "    <tr>\n",
              "      <th>75%</th>\n",
              "      <td>43.000000</td>\n",
              "      <td>7.281702e+04</td>\n",
              "      <td>5934.189094</td>\n",
              "      <td>7.000000</td>\n",
              "      <td>7.000000</td>\n",
              "      <td>20.000000</td>\n",
              "      <td>6.000000</td>\n",
              "      <td>28.000000</td>\n",
              "      <td>18.000000</td>\n",
              "      <td>14.800000</td>\n",
              "      <td>10.000000</td>\n",
              "      <td>1945.962500</td>\n",
              "      <td>36.468591</td>\n",
              "      <td>307.000000</td>\n",
              "      <td>176.157491</td>\n",
              "      <td>266.892228</td>\n",
              "      <td>4.709267e+02</td>\n",
              "    </tr>\n",
              "    <tr>\n",
              "      <th>max</th>\n",
              "      <td>8688.000000</td>\n",
              "      <td>2.413726e+07</td>\n",
              "      <td>15204.633333</td>\n",
              "      <td>1798.000000</td>\n",
              "      <td>1499.000000</td>\n",
              "      <td>5799.000000</td>\n",
              "      <td>1496.000000</td>\n",
              "      <td>67.000000</td>\n",
              "      <td>4399.000000</td>\n",
              "      <td>36.650000</td>\n",
              "      <td>2593.000000</td>\n",
              "      <td>4998.070000</td>\n",
              "      <td>48.540663</td>\n",
              "      <td>408.000000</td>\n",
              "      <td>82398.000000</td>\n",
              "      <td>10000.000000</td>\n",
              "      <td>3.333333e+26</td>\n",
              "    </tr>\n",
              "  </tbody>\n",
              "</table>\n",
              "</div>\n",
              "      <button class=\"colab-df-convert\" onclick=\"convertToInteractive('df-663459a7-1e83-435d-addf-872101862e0a')\"\n",
              "              title=\"Convert this dataframe to an interactive table.\"\n",
              "              style=\"display:none;\">\n",
              "        \n",
              "  <svg xmlns=\"http://www.w3.org/2000/svg\" height=\"24px\"viewBox=\"0 0 24 24\"\n",
              "       width=\"24px\">\n",
              "    <path d=\"M0 0h24v24H0V0z\" fill=\"none\"/>\n",
              "    <path d=\"M18.56 5.44l.94 2.06.94-2.06 2.06-.94-2.06-.94-.94-2.06-.94 2.06-2.06.94zm-11 1L8.5 8.5l.94-2.06 2.06-.94-2.06-.94L8.5 2.5l-.94 2.06-2.06.94zm10 10l.94 2.06.94-2.06 2.06-.94-2.06-.94-.94-2.06-.94 2.06-2.06.94z\"/><path d=\"M17.41 7.96l-1.37-1.37c-.4-.4-.92-.59-1.43-.59-.52 0-1.04.2-1.43.59L10.3 9.45l-7.72 7.72c-.78.78-.78 2.05 0 2.83L4 21.41c.39.39.9.59 1.41.59.51 0 1.02-.2 1.41-.59l7.78-7.78 2.81-2.81c.8-.78.8-2.07 0-2.86zM5.41 20L4 18.59l7.72-7.72 1.47 1.35L5.41 20z\"/>\n",
              "  </svg>\n",
              "      </button>\n",
              "      \n",
              "  <style>\n",
              "    .colab-df-container {\n",
              "      display:flex;\n",
              "      flex-wrap:wrap;\n",
              "      gap: 12px;\n",
              "    }\n",
              "\n",
              "    .colab-df-convert {\n",
              "      background-color: #E8F0FE;\n",
              "      border: none;\n",
              "      border-radius: 50%;\n",
              "      cursor: pointer;\n",
              "      display: none;\n",
              "      fill: #1967D2;\n",
              "      height: 32px;\n",
              "      padding: 0 0 0 0;\n",
              "      width: 32px;\n",
              "    }\n",
              "\n",
              "    .colab-df-convert:hover {\n",
              "      background-color: #E2EBFA;\n",
              "      box-shadow: 0px 1px 2px rgba(60, 64, 67, 0.3), 0px 1px 3px 1px rgba(60, 64, 67, 0.15);\n",
              "      fill: #174EA6;\n",
              "    }\n",
              "\n",
              "    [theme=dark] .colab-df-convert {\n",
              "      background-color: #3B4455;\n",
              "      fill: #D2E3FC;\n",
              "    }\n",
              "\n",
              "    [theme=dark] .colab-df-convert:hover {\n",
              "      background-color: #434B5C;\n",
              "      box-shadow: 0px 1px 3px 1px rgba(0, 0, 0, 0.15);\n",
              "      filter: drop-shadow(0px 1px 2px rgba(0, 0, 0, 0.3));\n",
              "      fill: #FFFFFF;\n",
              "    }\n",
              "  </style>\n",
              "\n",
              "      <script>\n",
              "        const buttonEl =\n",
              "          document.querySelector('#df-663459a7-1e83-435d-addf-872101862e0a button.colab-df-convert');\n",
              "        buttonEl.style.display =\n",
              "          google.colab.kernel.accessAllowed ? 'block' : 'none';\n",
              "\n",
              "        async function convertToInteractive(key) {\n",
              "          const element = document.querySelector('#df-663459a7-1e83-435d-addf-872101862e0a');\n",
              "          const dataTable =\n",
              "            await google.colab.kernel.invokeFunction('convertToInteractive',\n",
              "                                                     [key], {});\n",
              "          if (!dataTable) return;\n",
              "\n",
              "          const docLinkHtml = 'Like what you see? Visit the ' +\n",
              "            '<a target=\"_blank\" href=https://colab.research.google.com/notebooks/data_table.ipynb>data table notebook</a>'\n",
              "            + ' to learn more about interactive tables.';\n",
              "          element.innerHTML = '';\n",
              "          dataTable['output_type'] = 'display_data';\n",
              "          await google.colab.output.renderOutput(dataTable, element);\n",
              "          const docLink = document.createElement('div');\n",
              "          docLink.innerHTML = docLinkHtml;\n",
              "          element.appendChild(docLink);\n",
              "        }\n",
              "      </script>\n",
              "    </div>\n",
              "  </div>\n",
              "  "
            ]
          },
          "metadata": {},
          "execution_count": 43
        }
      ],
      "source": [
        "# Numerical data dispersion of variation overview\n",
        "NumDesc = test2.describe()\n",
        "NumDesc"
      ]
    },
    {
      "cell_type": "code",
      "execution_count": 44,
      "metadata": {
        "scrolled": false,
        "colab": {
          "base_uri": "https://localhost:8080/",
          "height": 1000
        },
        "id": "RPsZ5RDiRIK6",
        "outputId": "dc39e9e6-e242-469d-ed16-80934d3d7458"
      },
      "outputs": [
        {
          "output_type": "display_data",
          "data": {
            "text/plain": [
              "<Figure size 432x288 with 1 Axes>"
            ],
            "image/png": "[encoded data removed]"
          },
          "metadata": {
            "needs_background": "light"
          }
        },
        {
          "output_type": "display_data",
          "data": {
            "text/plain": [
              "<Figure size 432x288 with 1 Axes>"
            ],
            "image/png": "[encoded data removed]"
          },
          "metadata": {
            "needs_background": "light"
          }
        },
        {
          "output_type": "display_data",
          "data": {
            "text/plain": [
              "<Figure size 432x288 with 1 Axes>"
            ],
            "image/png": "[encoded data removed]"
          },
          "metadata": {
            "needs_background": "light"
          }
        },
        {
          "output_type": "display_data",
          "data": {
            "text/plain": [
              "<Figure size 432x288 with 1 Axes>"
            ],
            "image/png": "[encoded data removed]"
          },
          "metadata": {
            "needs_background": "light"
          }
        },
        {
          "output_type": "display_data",
          "data": {
            "text/plain": [
              "<Figure size 432x288 with 1 Axes>"
            ],
            "image/png": "[encoded data removed]"
          },
          "metadata": {
            "needs_background": "light"
          }
        },
        {
          "output_type": "display_data",
          "data": {
            "text/plain": [
              "<Figure size 432x288 with 1 Axes>"
            ],
            "image/png": "[encoded data removed]"
          },
          "metadata": {
            "needs_background": "light"
          }
        },
        {
          "output_type": "display_data",
          "data": {
            "text/plain": [
              "<Figure size 432x288 with 1 Axes>"
            ],
            "image/png": "[encoded data removed]"
          },
          "metadata": {
            "needs_background": "light"
          }
        },
        {
          "output_type": "display_data",
          "data": {
            "text/plain": [
              "<Figure size 432x288 with 1 Axes>"
            ],
            "image/png": "[encoded data removed]"
          },
          "metadata": {
            "needs_background": "light"
          }
        },
        {
          "output_type": "display_data",
          "data": {
            "text/plain": [
              "<Figure size 432x288 with 1 Axes>"
            ],
            "image/png": "[encoded data removed]"
          },
          "metadata": {
            "needs_background": "light"
          }
        },
        {
          "output_type": "display_data",
          "data": {
            "text/plain": [
              "<Figure size 432x288 with 1 Axes>"
            ],
            "image/png": "[encoded data removed]"
          },
          "metadata": {
            "needs_background": "light"
          }
        },
        {
          "output_type": "display_data",
          "data": {
            "text/plain": [
              "<Figure size 432x288 with 1 Axes>"
            ],
            "image/png": "[encoded data removed]"
          },
          "metadata": {
            "needs_background": "light"
          }
        },
        {
          "output_type": "display_data",
          "data": {
            "text/plain": [
              "<Figure size 432x288 with 1 Axes>"
            ],
            "image/png": "[encoded data removed]"
          },
          "metadata": {
            "needs_background": "light"
          }
        },
        {
          "output_type": "display_data",
          "data": {
            "text/plain": [
              "<Figure size 432x288 with 1 Axes>"
            ],
            "image/png": "[encoded data removed]"
          },
          "metadata": {
            "needs_background": "light"
          }
        },
        {
          "output_type": "display_data",
          "data": {
            "text/plain": [
              "<Figure size 432x288 with 1 Axes>"
            ],
            "image/png": "[encoded data removed]"
          },
          "metadata": {
            "needs_background": "light"
          }
        },
        {
          "output_type": "display_data",
          "data": {
            "text/plain": [
              "<Figure size 432x288 with 1 Axes>"
            ],
            "image/png": "[encoded data removed]"
          },
          "metadata": {
            "needs_background": "light"
          }
        },
        {
          "output_type": "display_data",
          "data": {
            "text/plain": [
              "<Figure size 432x288 with 1 Axes>"
            ],
            "image/png": "[encoded data removed]"
          },
          "metadata": {
            "needs_background": "light"
          }
        },
        {
          "output_type": "display_data",
          "data": {
            "text/plain": [
              "<Figure size 432x288 with 1 Axes>"
            ],
            "image/png": "[encoded data removed]"
          },
          "metadata": {
            "needs_background": "light"
          }
        }
      ],
      "source": [
        "# Visualizing data distribution of each feature to spot outliers\n",
        "for i in NumFeatures:\n",
        "    plt.hist(test2[i])\n",
        "    plt.title(i)\n",
        "    plt.show()"
      ]
    },
    {
      "cell_type": "markdown",
      "metadata": {
        "id": "RkS6TxVWRIK6"
      },
      "source": [
        "Findings:\n",
        "1. Monthly_Inhand_Salary, Num_of_Delayed_Payment, Changed_Credit_Limit, Num_Credit_Inquiries, Credit_History_Age, and Amount_invested_monthly, and Monthly_Balance features (total: 7 features) have missing values.\n",
        "2. Age, Annual_Income, Num_Bank_Accounts, Num_Credit_Card, Interest_Rate, Num_of_Loan, Num_of_Delayed_Payment, Num_Credit_Inquiries, Total_EMI_per_month, Amount_invested_monthly, Monthly_Balance features (total: 11 features) have abnormal max value (upper outlier). These outliers should be addressed when we are filling in the missing values using mean +- stddev imputation method\n",
        "3. Continuing from the Type_of_Loan feature data cleaning, the Num_of_Loan feature will need to be updated with reference to the updated value in Type_of_Loan. The Type_of_Loan feature itself will be dropped afterwards."
      ]
    },
    {
      "cell_type": "markdown",
      "metadata": {
        "id": "fU5fafiDRIK6"
      },
      "source": [
        "Important numerical data cleaning note:\n",
        "In the numerical features data cleaning process, there might be cases in which each one needs a different approach. The cases:\n",
        "1. Missing value in an independent entry\n",
        "2. Missing value in one or more members of an aggregated entries\n",
        "3. Different value in one or more members of an aggregated entries\n",
        "4. Totally missing values of an aggregated entries"
      ]
    },
    {
      "cell_type": "markdown",
      "metadata": {
        "id": "AmqpbTwIRIK6"
      },
      "source": [
        "For example:\n",
        "Customer A has 8 entries in the dataset. The Age value of this customer is either supposed to be the same in all 8 entries or differ with +1 value in the forward entries (assuming he/she might have had a birthday during the period of the data collection). However, when we are looking at the dataset, the Age values of this customer's entries show that they either have missing values or varying values. This kind of case needs to be made distinct from the other cases."
      ]
    },
    {
      "cell_type": "markdown",
      "metadata": {
        "id": "xEuqOCJ1RIK6"
      },
      "source": [
        "## **VII. Numerical Feature Engineering: Data Cleaning**"
      ]
    },
    {
      "cell_type": "markdown",
      "metadata": {
        "id": "3ru9oe4gRIK6"
      },
      "source": [
        "### **VIIa. Numerical Feature: Age**"
      ]
    },
    {
      "cell_type": "markdown",
      "metadata": {
        "id": "3OwMYuU6RIK6"
      },
      "source": [
        "The first thing we want to do with the Age feature is to get rid of the illogical values. Let us assume that the oldest people can get in this dataset and still have active credit activities are 90 years old and the youngest ones are 18 years old, based on the general legal age of 18 to be able to have a credit card. Thus, the value above 90 and below 18 will be omitted."
      ]
    },
    {
      "cell_type": "code",
      "execution_count": 45,
      "metadata": {
        "colab": {
          "base_uri": "https://localhost:8080/"
        },
        "id": "vXnfYYUdRIK7",
        "outputId": "9f85228b-bba7-4cdb-e635-4d1250bca454"
      },
      "outputs": [
        {
          "output_type": "stream",
          "name": "stdout",
          "text": [
            " Age with value larger than 90  : 1403   ( 0.02806 % ) \n",
            " Age with value smaller than 18 : 2504   ( 0.05008 % )\n"
          ]
        }
      ],
      "source": [
        "# Age with value larger than 90\n",
        "sample1 =  (test2['Age'] > 90).sum()\n",
        "population = len(test2['Age'])\n",
        "percentage1 = sample1 / population\n",
        "\n",
        "# Age with value smaller than 18\n",
        "sample2 = (test2['Age'] < 18).sum()\n",
        "percentage2 = sample2 / population\n",
        "\n",
        "# report\n",
        "print(' Age with value larger than 90  :', \n",
        "      sample1,\n",
        "      ' ',\n",
        "      '(', percentage1, '% )', '\\n',\n",
        "      'Age with value smaller than 18 :', \n",
        "      sample2,\n",
        "      ' ',\n",
        "      '(', percentage2, '% )')"
      ]
    },
    {
      "cell_type": "code",
      "execution_count": 46,
      "metadata": {
        "id": "jXc5wp53RIK7"
      },
      "outputs": [],
      "source": [
        "# Dropping Age value larger than 90 and smaller than 18\n",
        "NewAge = []\n",
        "for i in range(len(test2.Age)):\n",
        "    if test2.Age[i] > 90 or test2.Age[i] < 18:\n",
        "        NewAge.append(np.nan)\n",
        "    else:\n",
        "        NewAge.append(test2.Age[i])       \n",
        "test2['Age'] = NewAge"
      ]
    },
    {
      "cell_type": "markdown",
      "metadata": {
        "id": "a69C-ODgRIK7"
      },
      "source": [
        "We are now going to fill in the missing values which appeared because of the previous omission. It is important to differ the type of missing values in this feature. Each customer has 8 entries in the dataset. These 8 entries are supposed to have the same Age value or +1 Age value in the forward entries, considering that he or she might have had a birthday during the data collection period (however, for practicality purpose, we will be assuming the same Age value in all 8 entries for one customer instead). Taking this into consideration, we can not immediately fill in all of the missing values with Age median +- standard deviation. We need to first try filling in the missing values with each customer's mode first."
      ]
    },
    {
      "cell_type": "code",
      "execution_count": 47,
      "metadata": {
        "id": "32N9Eq_ARIK7"
      },
      "outputs": [],
      "source": [
        "# Age lookup table, aggregated by customer ID\n",
        "\n",
        "# Creating the dataframe containing Customer_ID and Age\n",
        "AgeLookup = test2[['Customer_ID', 'Age']]\n",
        "\n",
        "# Returning the Age mode of each customer\n",
        "AgeLookup = AgeLookup.groupby('Customer_ID').agg(pd.Series.mode)\n",
        "\n",
        "# Replacing the Age value of each customer with each one's Mode\n",
        "test2['Age'] = test2['Customer_ID'].map(AgeLookup.Age)"
      ]
    },
    {
      "cell_type": "markdown",
      "metadata": {
        "id": "Thwk1e3zRIK7"
      },
      "source": [
        "With this replacement method, it is possible to generate Age value in type of a list for some customers. This is due to the possibility of those customers having two or three Age values which each has the same amount of occurence in their entries. We are going to eliminate these list values by using the first members of the lists instead."
      ]
    },
    {
      "cell_type": "code",
      "execution_count": 48,
      "metadata": {
        "id": "kW0HVZWKRIK7"
      },
      "outputs": [],
      "source": [
        "# Eliminating any generated list values by using the first member of the list\n",
        "NewAge = []\n",
        "for i in range(len(test2.Age)):\n",
        "    # for float type members\n",
        "    if type(test2.Age[i]) == np.float64:\n",
        "        NewAge.append(test2.Age[i])\n",
        "    # for empty list members\n",
        "    elif type(test2.Age[i]) == np.ndarray and len(test2.Age[i]) == 0:\n",
        "        NewAge.append(np.nan)\n",
        "    # for non-empty list members\n",
        "    elif type(test2.Age[i]) == np.ndarray and len(test2.Age[i]) != 0:\n",
        "        NewAge.append(test2.Age[i][1])\n",
        "test2['Age'] = NewAge"
      ]
    },
    {
      "cell_type": "code",
      "execution_count": 49,
      "metadata": {
        "colab": {
          "base_uri": "https://localhost:8080/"
        },
        "id": "Muyp58kuRIK7",
        "outputId": "b82de03b-23f0-429e-9a2a-4a62bd6cf4ca"
      },
      "outputs": [
        {
          "output_type": "execute_result",
          "data": {
            "text/plain": [
              "0        24.0\n",
              "1        24.0\n",
              "2        24.0\n",
              "3        24.0\n",
              "4        28.0\n",
              "         ... \n",
              "49995    29.0\n",
              "49996    25.0\n",
              "49997    25.0\n",
              "49998    25.0\n",
              "49999    25.0\n",
              "Name: Age, Length: 50000, dtype: float64"
            ]
          },
          "metadata": {},
          "execution_count": 49
        }
      ],
      "source": [
        "# Reconverting the Age feature into float\n",
        "test2['Age'].astype('float')"
      ]
    },
    {
      "cell_type": "code",
      "execution_count": 50,
      "metadata": {
        "scrolled": true,
        "colab": {
          "base_uri": "https://localhost:8080/"
        },
        "id": "qnWV6xNaRIK7",
        "outputId": "0f3fe0c5-8057-4873-b7f1-eb99e92a13bb"
      },
      "outputs": [
        {
          "output_type": "stream",
          "name": "stdout",
          "text": [
            "Remaining Age missing values : 2484\n"
          ]
        }
      ],
      "source": [
        "# Rechecking the missing values in Age feature\n",
        "remaining = test2['Age'].isnull().sum()\n",
        "print('Remaining Age missing values :', remaining)"
      ]
    },
    {
      "cell_type": "markdown",
      "metadata": {
        "id": "f2pIAm8MRIK7"
      },
      "source": [
        "There are still 5504 missing values in Age feature. We are now going to fill in these remaining missing values."
      ]
    },
    {
      "cell_type": "code",
      "execution_count": 51,
      "metadata": {
        "scrolled": false,
        "colab": {
          "base_uri": "https://localhost:8080/",
          "height": 295
        },
        "id": "P4oyhj79RIK8",
        "outputId": "c9e1e41d-ff46-4256-cf47-34985fa56ce9"
      },
      "outputs": [
        {
          "output_type": "display_data",
          "data": {
            "text/plain": [
              "<Figure size 432x288 with 1 Axes>"
            ],
            "image/png": "[encoded data removed]"
          },
          "metadata": {
            "needs_background": "light"
          }
        }
      ],
      "source": [
        "# Checking the Age data distribution\n",
        "plt.hist(test2.Age)\n",
        "plt.title('Age Data Distribution')\n",
        "plt.xlabel('Age')\n",
        "plt.ylabel('Count')\n",
        "plt.show()"
      ]
    },
    {
      "cell_type": "markdown",
      "metadata": {
        "id": "ry5loIbQRIK8"
      },
      "source": [
        "The distribution looks good, distributed quite evenly. We then can fill in these remaining missing values with the mean +- standard deviation imputation."
      ]
    },
    {
      "cell_type": "code",
      "execution_count": 52,
      "metadata": {
        "id": "278Ulw6IRIK8"
      },
      "outputs": [],
      "source": [
        "# Age lookup table for remaining misisng values, aggregated by customer ID\n",
        "table = test2[['Customer_ID', 'Age']]\n",
        "\n",
        "# Locating the entries with empty Age value\n",
        "Cust_ID = table.loc[table['Age'].isnull(), 'Customer_ID']\n",
        "\n",
        "# Getting only the unique Customer_ID\n",
        "Cust_ID = Cust_ID.unique()\n",
        "\n",
        "# Transforming the Customer_ID with empty Age value into a list\n",
        "Cust_ID = list(Cust_ID)\n",
        "\n",
        "# Creating the empty Age feature\n",
        "Age = []\n",
        "for i in range(len(Cust_ID)):\n",
        "    Age.append(np.nan)\n",
        "\n",
        "# Creating the Age lookup table\n",
        "AgeLookup = pd.DataFrame(list(zip(Cust_ID, Age)))\n",
        "AgeLookup.columns = ['Customer_ID', 'Age']\n",
        "\n",
        "# Mean of Age feature\n",
        "AgeMean = test2.Age.mean()\n",
        "\n",
        "# Standard deviation of Age feature\n",
        "AgeStdDev = test2.Age.std()\n",
        "\n",
        "# Generating the Age value for the AgeLookup table\n",
        "AgeLookup['Age'] = AgeLookup['Age'].fillna(pd.Series(np.random.randint(int(AgeMean - AgeStdDev), \n",
        "                                                                       int(AgeMean + AgeStdDev),\n",
        "                                                                       size = AgeLookup.Age.isnull().sum())))"
      ]
    },
    {
      "cell_type": "code",
      "execution_count": 53,
      "metadata": {
        "scrolled": false,
        "colab": {
          "base_uri": "https://localhost:8080/"
        },
        "id": "X379maG6RIK8",
        "outputId": "4cca8550-cb1b-4e71-c787-f95d123046e7"
      },
      "outputs": [
        {
          "output_type": "execute_result",
          "data": {
            "text/plain": [
              "0"
            ]
          },
          "metadata": {},
          "execution_count": 53
        }
      ],
      "source": [
        "# Filling in the missing Age values in reference to the AgeLookup table\n",
        "test2['Age'] = test2['Age'].fillna(test2['Customer_ID'].map(AgeLookup.set_index('Customer_ID')['Age']))\n",
        "\n",
        "# Checking if there are still missing Age values\n",
        "test2['Age'].isnull().sum()"
      ]
    },
    {
      "cell_type": "markdown",
      "metadata": {
        "id": "itF0_CUBRIK8"
      },
      "source": [
        "### **VIIb. Numerical Feature: Annual_ Income**"
      ]
    },
    {
      "cell_type": "code",
      "execution_count": 54,
      "metadata": {
        "id": "d9WF7a42RIK8"
      },
      "outputs": [],
      "source": [
        "# restore point\n",
        "test2['Annual_Income'] = test['Annual_Income']"
      ]
    },
    {
      "cell_type": "markdown",
      "metadata": {
        "id": "DJtwgYPYRIK8"
      },
      "source": [
        "By looking at the previous histogram, there exists some outliers in the Annual_Income feature as well, with upper outliers the most obvious. Luckily, there are no missing values. Let's deal with the outliers first."
      ]
    },
    {
      "cell_type": "code",
      "execution_count": 55,
      "metadata": {
        "colab": {
          "base_uri": "https://localhost:8080/"
        },
        "id": "td7-mxWcRIK8",
        "outputId": "ecbe1bc4-83c5-4105-83c2-637832e5132a"
      },
      "outputs": [
        {
          "output_type": "stream",
          "name": "stdout",
          "text": [
            "Outlier count in Annual_Income : 1390\n"
          ]
        }
      ],
      "source": [
        "# Counting the outliers in Annual_Income\n",
        "countoutlier(test2, 'Annual_Income')"
      ]
    },
    {
      "cell_type": "code",
      "execution_count": 56,
      "metadata": {
        "scrolled": false,
        "colab": {
          "base_uri": "https://localhost:8080/",
          "height": 313
        },
        "id": "rZhwR3GNRIK8",
        "outputId": "a0848956-7189-4116-e843-48cc5de79a50"
      },
      "outputs": [
        {
          "output_type": "stream",
          "name": "stdout",
          "text": [
            "Annual_Income  data distribution after dropping the outliers : \n"
          ]
        },
        {
          "output_type": "display_data",
          "data": {
            "text/plain": [
              "<Figure size 432x288 with 1 Axes>"
            ],
            "image/png": "[encoded data removed]"
          },
          "metadata": {
            "needs_background": "light"
          }
        }
      ],
      "source": [
        "# Dropping the outliers in Annual_Income\n",
        "omitoutlier(test2, 'Annual_Income')"
      ]
    },
    {
      "cell_type": "markdown",
      "metadata": {
        "id": "My49o73DRIK9"
      },
      "source": [
        "The Annual_Income values per customer should share a same value, since the data collection only spans over a period of eight months. This is based on the assumption that each customer did not change occupation during the data collection period. For practicality purpose, the eight Annual_Income values per customer will share a same value."
      ]
    },
    {
      "cell_type": "markdown",
      "metadata": {
        "id": "Ob43m8hJRIK9"
      },
      "source": [
        "The data cleaning operation for this feature is basically the same as the previous Age feature, but is now using some defined functions instead to make the process simpler."
      ]
    },
    {
      "cell_type": "code",
      "execution_count": 57,
      "metadata": {
        "scrolled": true,
        "colab": {
          "base_uri": "https://localhost:8080/"
        },
        "id": "QkWORqo3RIK9",
        "outputId": "4d59aed1-2aa0-4375-8eb1-e7253fd8c148"
      },
      "outputs": [
        {
          "output_type": "stream",
          "name": "stdout",
          "text": [
            "Remaining Annual_Income missing values : 896\n"
          ]
        }
      ],
      "source": [
        "# Replacing the Annual_Income value of each customer with each one's Mode\n",
        "lookupreplacement(test2, 'Customer_ID', 'Annual_Income')"
      ]
    },
    {
      "cell_type": "markdown",
      "metadata": {
        "id": "G-SOmZy2RIK9"
      },
      "source": [
        "There are still 1800 (or 225 customers) with totally missing Annual_Income values. We will fill in these missing values."
      ]
    },
    {
      "cell_type": "code",
      "execution_count": 58,
      "metadata": {
        "scrolled": false,
        "colab": {
          "base_uri": "https://localhost:8080/"
        },
        "id": "0cV3ezZ6RIK9",
        "outputId": "f0d68128-8f05-41b1-b05e-5dbbf8917809"
      },
      "outputs": [
        {
          "output_type": "stream",
          "name": "stdout",
          "text": [
            "Remaining Annual_Income missing values : 0\n"
          ]
        }
      ],
      "source": [
        "# Filling in the remaining Annual_Income missing values\n",
        "aggregatedfillna(test2, 'Customer_ID', 'Annual_Income')"
      ]
    },
    {
      "cell_type": "markdown",
      "metadata": {
        "id": "uJ27fz03RIK9"
      },
      "source": [
        "### **VIIc. Numerical Feature: Monthly_Inhand_Salary**"
      ]
    },
    {
      "cell_type": "markdown",
      "metadata": {
        "id": "FCZPF62XRIK9"
      },
      "source": [
        "By looking at the previous histogram, there does not seem to exist notable outliers. However, there are some missing values that need to be dealt with. Considering that the Monthly_Inhand_Salary values per customer should share a same value, we will be dealing with this feature using the defined lookupreplacement and aggregatedfillna functions."
      ]
    },
    {
      "cell_type": "code",
      "execution_count": 59,
      "metadata": {
        "scrolled": false,
        "colab": {
          "base_uri": "https://localhost:8080/"
        },
        "id": "SRANiFidRIK9",
        "outputId": "075f12ae-0f3f-44c4-8c8b-d5ef15b98272"
      },
      "outputs": [
        {
          "output_type": "stream",
          "name": "stdout",
          "text": [
            "Remaining Monthly_Inhand_Salary missing values : 28\n"
          ]
        }
      ],
      "source": [
        "# Replacing the Monthly_Inhand_Salary value of each customer with each one's Mode\n",
        "lookupreplacement(test2, 'Customer_ID', 'Monthly_Inhand_Salary')"
      ]
    },
    {
      "cell_type": "markdown",
      "metadata": {
        "id": "gcwZMXU3RIK-"
      },
      "source": [
        "There are still 28 (or 7 customers) with totally missing Monthly_Inhand_Salary values. We will fill in these missing values."
      ]
    },
    {
      "cell_type": "code",
      "execution_count": 60,
      "metadata": {
        "scrolled": true,
        "colab": {
          "base_uri": "https://localhost:8080/"
        },
        "id": "hAr7oZqJRIK-",
        "outputId": "c6720ef7-47ae-4246-eea8-3ba3a8d5deb4"
      },
      "outputs": [
        {
          "output_type": "stream",
          "name": "stdout",
          "text": [
            "Remaining Monthly_Inhand_Salary missing values : 0\n"
          ]
        }
      ],
      "source": [
        "# Filling in the remaining Annual_Income missing values\n",
        "aggregatedfillna(test2, 'Customer_ID', 'Monthly_Inhand_Salary')"
      ]
    },
    {
      "cell_type": "markdown",
      "metadata": {
        "id": "H7rYoRplRIK-"
      },
      "source": [
        "There are no remaining missing values after the lookupreplacement operation, so we will proceed with the next numerical feature."
      ]
    },
    {
      "cell_type": "markdown",
      "metadata": {
        "id": "t4mvoJJ4RIK-"
      },
      "source": [
        "### **VIId. Numerical Feature: Num_Bank_Accounts**"
      ]
    },
    {
      "cell_type": "markdown",
      "metadata": {
        "id": "I1DsZEtFRIK-"
      },
      "source": [
        "By looking at the previous histogram, there exists some outliers in the Num_Bank_Accounts feature, with upper outliers the most obvious. Luckily, there are no missing values. Let's deal with the outliers first."
      ]
    },
    {
      "cell_type": "code",
      "execution_count": 61,
      "metadata": {
        "colab": {
          "base_uri": "https://localhost:8080/"
        },
        "id": "j_2bqEPIRIK-",
        "outputId": "d711a1b3-7f0d-46d8-8244-d419fca89e02"
      },
      "outputs": [
        {
          "output_type": "stream",
          "name": "stdout",
          "text": [
            "Outlier count in Num_Bank_Accounts : 635\n"
          ]
        }
      ],
      "source": [
        "# Counting the outliers in Num_Bank_Accounts\n",
        "countoutlier(test2, 'Num_Bank_Accounts')"
      ]
    },
    {
      "cell_type": "code",
      "execution_count": 62,
      "metadata": {
        "scrolled": true,
        "colab": {
          "base_uri": "https://localhost:8080/",
          "height": 313
        },
        "id": "UDDmFM85RIK-",
        "outputId": "c194fe72-8a6a-47e3-d0da-9841b3a87c84"
      },
      "outputs": [
        {
          "output_type": "stream",
          "name": "stdout",
          "text": [
            "Num_Bank_Accounts  data distribution after dropping the outliers : \n"
          ]
        },
        {
          "output_type": "display_data",
          "data": {
            "text/plain": [
              "<Figure size 432x288 with 1 Axes>"
            ],
            "image/png": "[encoded data removed]"
          },
          "metadata": {
            "needs_background": "light"
          }
        }
      ],
      "source": [
        "# Dropping the outliers in Num_Bank_Accounts\n",
        "omitoutlier(test2, 'Num_Bank_Accounts')"
      ]
    },
    {
      "cell_type": "markdown",
      "metadata": {
        "id": "_JqbyftARIK-"
      },
      "source": [
        "The data distribution looks nice. Since the Num_Bank_Accounts values per customer share a same value, we will be dealing with this feature using the defined lookupreplacement and aggregatedfillna functions."
      ]
    },
    {
      "cell_type": "code",
      "execution_count": 63,
      "metadata": {
        "scrolled": false,
        "colab": {
          "base_uri": "https://localhost:8080/"
        },
        "id": "so-zPnh-RIK-",
        "outputId": "acba3128-9568-49dc-ca72-155de4eb517c"
      },
      "outputs": [
        {
          "output_type": "stream",
          "name": "stdout",
          "text": [
            "Remaining Num_Bank_Accounts missing values : 0\n"
          ]
        }
      ],
      "source": [
        "# Replacing the Num_Bank_Accounts value of each customer with each one's Mode\n",
        "lookupreplacement(test2, 'Customer_ID', 'Num_Bank_Accounts')"
      ]
    },
    {
      "cell_type": "markdown",
      "metadata": {
        "id": "8xZc579pRIK_"
      },
      "source": [
        "There are no remaining missing values after the lookupreplacement operation, so we will proceed with the next numerical feature."
      ]
    },
    {
      "cell_type": "markdown",
      "metadata": {
        "id": "keQJqZDtRIK_"
      },
      "source": [
        "### **VIIe. Numerical Feature: Num_Credit_Card**"
      ]
    },
    {
      "cell_type": "markdown",
      "metadata": {
        "id": "Z3xAutIERIK_"
      },
      "source": [
        "By looking at the previous histogram, there exists some outliers in the Num_Credit_Card feature, with upper outliers the most obvious. Luckily, there are no missing values. Let's deal with the outliers first."
      ]
    },
    {
      "cell_type": "code",
      "execution_count": 64,
      "metadata": {
        "colab": {
          "base_uri": "https://localhost:8080/"
        },
        "id": "xx88BxWSRIK_",
        "outputId": "9a8792a3-47cc-4c7e-d121-8e7b32d893a8"
      },
      "outputs": [
        {
          "output_type": "stream",
          "name": "stdout",
          "text": [
            "Outlier count in Num_Credit_Card : 1179\n"
          ]
        }
      ],
      "source": [
        "# Counting the outliers in Num_Credit_Card\n",
        "countoutlier(test2, 'Num_Credit_Card')"
      ]
    },
    {
      "cell_type": "code",
      "execution_count": 65,
      "metadata": {
        "scrolled": true,
        "colab": {
          "base_uri": "https://localhost:8080/",
          "height": 313
        },
        "id": "jk0cRA2uRIK_",
        "outputId": "7239f4ed-a568-49d0-ec14-69aa892d5d61"
      },
      "outputs": [
        {
          "output_type": "stream",
          "name": "stdout",
          "text": [
            "Num_Credit_Card  data distribution after dropping the outliers : \n"
          ]
        },
        {
          "output_type": "display_data",
          "data": {
            "text/plain": [
              "<Figure size 432x288 with 1 Axes>"
            ],
            "image/png": "[encoded data removed]"
          },
          "metadata": {
            "needs_background": "light"
          }
        }
      ],
      "source": [
        "# Dropping the outliers in Num_Credit_Card\n",
        "omitoutlier(test2, 'Num_Credit_Card')"
      ]
    },
    {
      "cell_type": "markdown",
      "metadata": {
        "id": "33YOBMqqRIK_"
      },
      "source": [
        "The data distribution looks nice. Since the Num_Credit_Card values per customer share a same value, we will be dealing with this feature using the defined lookupreplacement and aggregatedfillna functions."
      ]
    },
    {
      "cell_type": "code",
      "execution_count": 66,
      "metadata": {
        "scrolled": true,
        "colab": {
          "base_uri": "https://localhost:8080/"
        },
        "id": "ABiqxt-zRIK_",
        "outputId": "9e1f179f-1d7c-4fb4-96d9-317b70902dcf"
      },
      "outputs": [
        {
          "output_type": "stream",
          "name": "stdout",
          "text": [
            "Remaining Num_Credit_Card missing values : 0\n"
          ]
        }
      ],
      "source": [
        "# Replacing the Num_Credit_Card value of each customer with each one's Mode\n",
        "lookupreplacement(test2, 'Customer_ID', 'Num_Credit_Card')"
      ]
    },
    {
      "cell_type": "markdown",
      "metadata": {
        "id": "UgPL7YOZRIK_"
      },
      "source": [
        "There are no remaining missing values after the lookupreplacement operation, so we will proceed with the next numerical feature."
      ]
    },
    {
      "cell_type": "markdown",
      "metadata": {
        "id": "QSnHOoVLRILA"
      },
      "source": [
        "### **VIIf. Numerical Feature: Interest_Rate**"
      ]
    },
    {
      "cell_type": "markdown",
      "metadata": {
        "id": "QbfCyzl_RILA"
      },
      "source": [
        "By looking at the previous histogram, there exists some outliers in the Interest_Rate feature, with upper outliers the most obvious. Luckily, there are no missing values. Let's deal with the outliers first."
      ]
    },
    {
      "cell_type": "code",
      "execution_count": 67,
      "metadata": {
        "colab": {
          "base_uri": "https://localhost:8080/"
        },
        "id": "91rVOEveRILA",
        "outputId": "fb9736dd-3ba5-41ca-e03a-2511682d5493"
      },
      "outputs": [
        {
          "output_type": "stream",
          "name": "stdout",
          "text": [
            "Outlier count in Interest_Rate : 966\n"
          ]
        }
      ],
      "source": [
        "# Counting the outliers in Interest_Rate\n",
        "countoutlier(test2, 'Interest_Rate')"
      ]
    },
    {
      "cell_type": "code",
      "execution_count": 68,
      "metadata": {
        "scrolled": false,
        "colab": {
          "base_uri": "https://localhost:8080/",
          "height": 313
        },
        "id": "v7piAiR5RILA",
        "outputId": "81d62596-fae7-461b-80b5-19009bc7d043"
      },
      "outputs": [
        {
          "output_type": "stream",
          "name": "stdout",
          "text": [
            "Interest_Rate  data distribution after dropping the outliers : \n"
          ]
        },
        {
          "output_type": "display_data",
          "data": {
            "text/plain": [
              "<Figure size 432x288 with 1 Axes>"
            ],
            "image/png": "[encoded data removed]"
          },
          "metadata": {
            "needs_background": "light"
          }
        }
      ],
      "source": [
        "# Dropping the outliers in Interest_Rate\n",
        "omitoutlier(test2, 'Interest_Rate')"
      ]
    },
    {
      "cell_type": "markdown",
      "metadata": {
        "id": "1TRzb06XRILA"
      },
      "source": [
        "The data distribution looks nice. Since the Interest_Rate values per customer share a same value, we will be dealing with this feature using the defined lookupreplacement and aggregatedfillna functions."
      ]
    },
    {
      "cell_type": "code",
      "execution_count": 69,
      "metadata": {
        "scrolled": true,
        "colab": {
          "base_uri": "https://localhost:8080/"
        },
        "id": "lo7P177PRILA",
        "outputId": "e2c498f1-194e-4284-f21a-5c652ba0795f"
      },
      "outputs": [
        {
          "output_type": "stream",
          "name": "stdout",
          "text": [
            "Remaining Interest_Rate missing values : 0\n"
          ]
        }
      ],
      "source": [
        "# Replacing the Interest_Rate value of each customer with each one's Mode\n",
        "lookupreplacement(test2, 'Customer_ID', 'Interest_Rate')"
      ]
    },
    {
      "cell_type": "markdown",
      "metadata": {
        "id": "fvX99_T6RILA"
      },
      "source": [
        "There are no remaining missing values after the lookupreplacement operation, so we will proceed with the next numerical feature."
      ]
    },
    {
      "cell_type": "markdown",
      "metadata": {
        "id": "Le-dslYCRILA"
      },
      "source": [
        "### **VIIg. Numerical Feature: Num_of_Loan**"
      ]
    },
    {
      "cell_type": "markdown",
      "metadata": {
        "id": "xUsmMiQoRILA"
      },
      "source": [
        "The Num_of_Loan feature is dependent to the Type_of_Loan feature. Num_of_Loan is basically the count of loan types that are present in the Type_of_Loan feature. Therefore, we are going to replace the outliers and possibly any wrong values by the count of the previously cleaned Type_of_Loan feature."
      ]
    },
    {
      "cell_type": "code",
      "execution_count": 70,
      "metadata": {
        "id": "FsFWMQ-_RILA"
      },
      "outputs": [],
      "source": [
        "# Creating a list to store the Type_of_Loan count of each row\n",
        "Num_of_Loan = []\n",
        "\n",
        "# Counting Type_of_Loan in each row and storing them in Num_of_Loan\n",
        "for row in range(len(test2['Type_of_Loan'])):\n",
        "    num = len(test2['Type_of_Loan'][row])\n",
        "    Num_of_Loan.append(num)\n",
        "\n",
        "# Replacing the Num_of_Loan feature with the new list\n",
        "test2['Num_of_Loan'] = Num_of_Loan\n",
        "\n",
        "# Dropping the Type_of_Loan feature since it's redundant\n",
        "test2.drop('Type_of_Loan', axis = 1, inplace = True)"
      ]
    },
    {
      "cell_type": "markdown",
      "metadata": {
        "id": "BASyzaiqRILB"
      },
      "source": [
        "To make it more intuitive when further analyzing the data, we will move the Num_of_Loan feature just before the Type_of_Loan features."
      ]
    },
    {
      "cell_type": "code",
      "execution_count": 71,
      "metadata": {
        "scrolled": true,
        "colab": {
          "base_uri": "https://localhost:8080/"
        },
        "id": "8MLfTx3eRILB",
        "outputId": "96d631b4-c146-4f2c-9e63-a1539c5421dd"
      },
      "outputs": [
        {
          "output_type": "stream",
          "name": "stdout",
          "text": [
            "['ID', 'Customer_ID', 'Month', 'Age', 'SSN', 'Occupation', 'Annual_Income', 'Monthly_Inhand_Salary', 'Num_Bank_Accounts', 'Num_Credit_Card', 'Interest_Rate', 'Delay_from_due_date', 'Num_of_Delayed_Payment', 'Changed_Credit_Limit', 'Num_Credit_Inquiries', 'Credit_Mix', 'Outstanding_Debt', 'Credit_Utilization_Ratio', 'Credit_History_Age', 'Payment_of_Min_Amount', 'Total_EMI_per_month', 'Amount_invested_monthly', 'Payment_Behaviour', 'Num_of_Loan', 'Monthly_Balance', 'Auto Loan', 'Credit-Builder Loan', 'Debt Consolidation Loan', 'Home Equity Loan', 'Mortgage Loan', 'Not Specified', 'Payday Loan', 'Personal Loan', 'Student Loan']\n"
          ]
        }
      ],
      "source": [
        "# Moving the Num_of_Loan feature just before the now-spread Type_of_Loan features\n",
        "\n",
        "# Temporarily storing the features as a list\n",
        "cols = test2.columns.tolist() \n",
        "\n",
        "# Rearranging the features\n",
        "cols = cols[:11] + cols[12:-10] + [cols[11]] + cols[-10:]\n",
        "print(cols) # Checking if the order of the features\n",
        "\n",
        "# Turning back the data into a dataframe\n",
        "test2 = test2[cols]"
      ]
    },
    {
      "cell_type": "markdown",
      "metadata": {
        "id": "5hBIXWg4RILB"
      },
      "source": [
        "### **VIIh. Numerical Feature: Num_of_Delayed_Payment**"
      ]
    },
    {
      "cell_type": "markdown",
      "metadata": {
        "id": "AncAAIESRILB"
      },
      "source": [
        "By looking at the previous histogram, there exists some outliers in the Num_of_Delayed_Payment feature, with upper outliers the most obvious. Luckily, there are no missing values. Let's deal with the outliers first."
      ]
    },
    {
      "cell_type": "code",
      "execution_count": 72,
      "metadata": {
        "colab": {
          "base_uri": "https://localhost:8080/"
        },
        "id": "D1D6sXxCRILB",
        "outputId": "4127a389-1bb2-4476-f73c-241a6a214585"
      },
      "outputs": [
        {
          "output_type": "stream",
          "name": "stdout",
          "text": [
            "Outlier count in Num_of_Delayed_Payment : 395\n"
          ]
        }
      ],
      "source": [
        "# Counting the outliers in Num_of_Delayed_Payment\n",
        "countoutlier(test2, 'Num_of_Delayed_Payment')"
      ]
    },
    {
      "cell_type": "code",
      "execution_count": 73,
      "metadata": {
        "scrolled": false,
        "colab": {
          "base_uri": "https://localhost:8080/",
          "height": 313
        },
        "id": "Ae-RAdgnRILB",
        "outputId": "53354bf7-9a83-4f56-e57f-1359a763ecbc"
      },
      "outputs": [
        {
          "output_type": "stream",
          "name": "stdout",
          "text": [
            "Num_of_Delayed_Payment  data distribution after dropping the outliers : \n"
          ]
        },
        {
          "output_type": "display_data",
          "data": {
            "text/plain": [
              "<Figure size 432x288 with 1 Axes>"
            ],
            "image/png": "[encoded data removed]"
          },
          "metadata": {
            "needs_background": "light"
          }
        }
      ],
      "source": [
        "# Dropping the outliers in Num_of_Delayed_Payment\n",
        "omitoutlier(test2, 'Num_of_Delayed_Payment')"
      ]
    },
    {
      "cell_type": "markdown",
      "metadata": {
        "id": "rk2ri8ZrRILB"
      },
      "source": [
        "The data distribution looks nice. In Num_of_Loan feature, the eight values shared by a customer does not necessarily have to be a same value. There are two ways to fill in the missing values, that is to simply change the nan values to 0 or using forward fill method. We will be using the later if there exists any 0 value in the feature, since the existence may imply that the nan value does not necessarily mean empty or zero. Forward fill method is one of the better ways to fill in this type of missing values to maintain the similarity between the values shared by each customer."
      ]
    },
    {
      "cell_type": "code",
      "execution_count": 74,
      "metadata": {
        "colab": {
          "base_uri": "https://localhost:8080/"
        },
        "id": "ZjG3xvdNRILC",
        "outputId": "9fae3d72-b4c2-4e8b-add0-74ba592332bc"
      },
      "outputs": [
        {
          "output_type": "execute_result",
          "data": {
            "text/plain": [
              "811"
            ]
          },
          "metadata": {},
          "execution_count": 74
        }
      ],
      "source": [
        "# Checking if there are any Num_of_Delayed_Payment with 0 value\n",
        "(test2['Num_of_Delayed_Payment'] == 0).sum()"
      ]
    },
    {
      "cell_type": "markdown",
      "metadata": {
        "id": "BPBPz-PSRILC"
      },
      "source": [
        "There exists the 0 values. Therefore, we will be using the forward fill method to fill in the missing values."
      ]
    },
    {
      "cell_type": "code",
      "execution_count": 75,
      "metadata": {
        "colab": {
          "base_uri": "https://localhost:8080/"
        },
        "id": "Sw4byBElRILC",
        "outputId": "c1e3c74b-9ba7-495b-a51e-0136ea87719e"
      },
      "outputs": [
        {
          "output_type": "execute_result",
          "data": {
            "text/plain": [
              "0"
            ]
          },
          "metadata": {},
          "execution_count": 75
        }
      ],
      "source": [
        "# Filling in the missing Num_of_Delayed_Payment values with forward fill method\n",
        "test2['Num_of_Delayed_Payment'] = test2['Num_of_Delayed_Payment'].fillna(method = 'ffill')\n",
        "\n",
        "# Checking if there are still missing values in the Num_of_Delayed_Payment feature\n",
        "test2['Num_of_Delayed_Payment'].isnull().sum()"
      ]
    },
    {
      "cell_type": "markdown",
      "metadata": {
        "id": "J6LxVKFnRILC"
      },
      "source": [
        "### **VIIi. Numerical Feature: Changed_Credit_Limit**"
      ]
    },
    {
      "cell_type": "markdown",
      "metadata": {
        "id": "ri4M1unWRILC"
      },
      "source": [
        "By looking at the previous histogram, there does not seem to exist notable outliers. However, there are some missing values that need to be dealt with. In Changed_Credit_Limit feature, the eight values shared by a customer does not necessarily have to be a same value. Same as before, we will be filling in the missing values by either changing the nan values to 0 method or using forward fill method."
      ]
    },
    {
      "cell_type": "code",
      "execution_count": 76,
      "metadata": {
        "colab": {
          "base_uri": "https://localhost:8080/"
        },
        "id": "CjriUdbsRILC",
        "outputId": "c64107c1-bca2-4045-d210-c8823b010aee"
      },
      "outputs": [
        {
          "output_type": "execute_result",
          "data": {
            "text/plain": [
              "1059"
            ]
          },
          "metadata": {},
          "execution_count": 76
        }
      ],
      "source": [
        "test2['Changed_Credit_Limit'].isnull().sum()"
      ]
    },
    {
      "cell_type": "code",
      "execution_count": 77,
      "metadata": {
        "colab": {
          "base_uri": "https://localhost:8080/"
        },
        "id": "VtebKN1XRILC",
        "outputId": "f550ca5b-1b03-4e4f-c409-915de8d9ec93"
      },
      "outputs": [
        {
          "output_type": "execute_result",
          "data": {
            "text/plain": [
              "2"
            ]
          },
          "metadata": {},
          "execution_count": 77
        }
      ],
      "source": [
        "# Checking if there are any Changed_Credit_Limit with 0 value\n",
        "(test2['Changed_Credit_Limit'] == 0).sum()"
      ]
    },
    {
      "cell_type": "markdown",
      "metadata": {
        "id": "NpPdSETFRILC"
      },
      "source": [
        "There exists the 0 values. Therefore, we will be using the forward fill method to fill in the missing values."
      ]
    },
    {
      "cell_type": "code",
      "execution_count": 78,
      "metadata": {
        "colab": {
          "base_uri": "https://localhost:8080/"
        },
        "id": "87Pht9DARILC",
        "outputId": "fb2d8e06-c047-4d8f-d94c-9b7621152795"
      },
      "outputs": [
        {
          "output_type": "execute_result",
          "data": {
            "text/plain": [
              "0"
            ]
          },
          "metadata": {},
          "execution_count": 78
        }
      ],
      "source": [
        "# Filling in the missing Changed_Credit_Limit values with forward fill method\n",
        "test2['Changed_Credit_Limit'] = test2['Changed_Credit_Limit'].fillna(method = 'ffill')\n",
        "\n",
        "# Checking if there are still missing values in the Changed_Credit_Limit feature\n",
        "test2['Changed_Credit_Limit'].isnull().sum()"
      ]
    },
    {
      "cell_type": "markdown",
      "metadata": {
        "id": "HbzDOY1wRILD"
      },
      "source": [
        "### **VIIj. Numerical Feature: Num_Credit_Inquiries**"
      ]
    },
    {
      "cell_type": "raw",
      "metadata": {
        "id": "HD037HSORILD"
      },
      "source": [
        "By looking at the previous histogram, there exists some outliers in the Num_Credit_Inquiries feature, with upper outliers the most obvious. There are missing values as well. Let's deal with the outliers first."
      ]
    },
    {
      "cell_type": "code",
      "execution_count": 79,
      "metadata": {
        "scrolled": true,
        "colab": {
          "base_uri": "https://localhost:8080/"
        },
        "id": "bSsMBP6TRILD",
        "outputId": "5e84fb6e-c08a-4046-aedc-7c1f3e309e31"
      },
      "outputs": [
        {
          "output_type": "stream",
          "name": "stdout",
          "text": [
            "Outlier count in Num_Credit_Inquiries : 846\n"
          ]
        }
      ],
      "source": [
        "# Counting the outliers in Num_Credit_Inquiries\n",
        "countoutlier(test2, 'Num_Credit_Inquiries')"
      ]
    },
    {
      "cell_type": "code",
      "execution_count": 80,
      "metadata": {
        "scrolled": true,
        "colab": {
          "base_uri": "https://localhost:8080/",
          "height": 313
        },
        "id": "MCymo5ewRILD",
        "outputId": "50af0166-03c3-4629-dbca-8ee456aa88e2"
      },
      "outputs": [
        {
          "output_type": "stream",
          "name": "stdout",
          "text": [
            "Num_Credit_Inquiries  data distribution after dropping the outliers : \n"
          ]
        },
        {
          "output_type": "display_data",
          "data": {
            "text/plain": [
              "<Figure size 432x288 with 1 Axes>"
            ],
            "image/png": "[encoded data removed]"
          },
          "metadata": {
            "needs_background": "light"
          }
        }
      ],
      "source": [
        "# Dropping the outliers in Num_Credit_Inquiries\n",
        "omitoutlier(test2, 'Num_Credit_Inquiries')"
      ]
    },
    {
      "cell_type": "markdown",
      "metadata": {
        "id": "ykjoNRJTRILD"
      },
      "source": [
        "The data distribution looks nice. In Num_Credit_Inquiries feature, the eight values shared by a customer does not necessarily have to be a same value. Same as before, we will be filling in the missing values by either changing the nan values to 0 method or using forward fill method."
      ]
    },
    {
      "cell_type": "code",
      "execution_count": 81,
      "metadata": {
        "colab": {
          "base_uri": "https://localhost:8080/"
        },
        "id": "UtZtgY1ZRILD",
        "outputId": "e0fe2b90-b663-45ef-955e-a56461a77acc"
      },
      "outputs": [
        {
          "output_type": "execute_result",
          "data": {
            "text/plain": [
              "1102"
            ]
          },
          "metadata": {},
          "execution_count": 81
        }
      ],
      "source": [
        "# Checking if there are any Num_Credit_Inquiries with 0 value\n",
        "(test2['Num_Credit_Inquiries'] == 0).sum()"
      ]
    },
    {
      "cell_type": "markdown",
      "metadata": {
        "id": "lcOAVk6kRILD"
      },
      "source": [
        "There exists the 0 values. Therefore, we will be using the forward fill method to fill in the missing values."
      ]
    },
    {
      "cell_type": "code",
      "execution_count": 82,
      "metadata": {
        "colab": {
          "base_uri": "https://localhost:8080/"
        },
        "id": "RjIwFjBvRILD",
        "outputId": "bcde9f01-3354-497d-ed3d-4daca5921eb2"
      },
      "outputs": [
        {
          "output_type": "execute_result",
          "data": {
            "text/plain": [
              "1"
            ]
          },
          "metadata": {},
          "execution_count": 82
        }
      ],
      "source": [
        "# Filling in the missing Num_Credit_Inquiries values with forward fill method\n",
        "test2['Num_Credit_Inquiries'] = test2['Num_Credit_Inquiries'].fillna(method = 'ffill')\n",
        "\n",
        "# Checking if there are still missing values in the Num_Credit_Inquiries feature\n",
        "test2['Num_Credit_Inquiries'].isnull().sum()"
      ]
    },
    {
      "cell_type": "markdown",
      "metadata": {
        "id": "wsw7-fG4RILD"
      },
      "source": [
        "There is still one missing value in this feature. It probably is the first entry of the dataset. Let's check if it is true."
      ]
    },
    {
      "cell_type": "code",
      "execution_count": 83,
      "metadata": {
        "scrolled": true,
        "colab": {
          "base_uri": "https://localhost:8080/",
          "height": 214
        },
        "id": "r1UWWQuYRILE",
        "outputId": "4b1b04b6-8e7d-42a6-fb84-538dfc618c53"
      },
      "outputs": [
        {
          "output_type": "execute_result",
          "data": {
            "text/plain": [
              "       ID Customer_ID      Month   Age          SSN Occupation  Annual_Income  \\\n",
              "0  0x160a   CUS_0xd40  September  24.0  821-00-0265  Scientist       19114.12   \n",
              "\n",
              "   Monthly_Inhand_Salary  Num_Bank_Accounts  Num_Credit_Card  Interest_Rate  \\\n",
              "0            1824.843333                3.0              4.0            3.0   \n",
              "\n",
              "   Delay_from_due_date  Num_of_Delayed_Payment  Changed_Credit_Limit  \\\n",
              "0                    3                     7.0                 11.27   \n",
              "\n",
              "   Num_Credit_Inquiries Credit_Mix  Outstanding_Debt  \\\n",
              "0                   NaN       Good            809.98   \n",
              "\n",
              "   Credit_Utilization_Ratio  Credit_History_Age Payment_of_Min_Amount  \\\n",
              "0                 35.030402               273.0                    No   \n",
              "\n",
              "   Total_EMI_per_month  Amount_invested_monthly  \\\n",
              "0            49.574949               236.642682   \n",
              "\n",
              "                Payment_Behaviour  Num_of_Loan  Monthly_Balance  Auto Loan  \\\n",
              "0  Low_spent_Small_value_payments            4       186.266702       True   \n",
              "\n",
              "   Credit-Builder Loan  Debt Consolidation Loan  Home Equity Loan  \\\n",
              "0                 True                    False              True   \n",
              "\n",
              "   Mortgage Loan  Not Specified  Payday Loan  Personal Loan  Student Loan  \n",
              "0          False          False        False           True         False  "
            ],
            "text/html": [
              "\n",
              "  <div id=\"df-6bdcec53-7d92-4ab4-909a-fed7aaa683a4\">\n",
              "    <div class=\"colab-df-container\">\n",
              "      <div>\n",
              "<style scoped>\n",
              "    .dataframe tbody tr th:only-of-type {\n",
              "        vertical-align: middle;\n",
              "    }\n",
              "\n",
              "    .dataframe tbody tr th {\n",
              "        vertical-align: top;\n",
              "    }\n",
              "\n",
              "    .dataframe thead th {\n",
              "        text-align: right;\n",
              "    }\n",
              "</style>\n",
              "<table border=\"1\" class=\"dataframe\">\n",
              "  <thead>\n",
              "    <tr style=\"text-align: right;\">\n",
              "      <th></th>\n",
              "      <th>ID</th>\n",
              "      <th>Customer_ID</th>\n",
              "      <th>Month</th>\n",
              "      <th>Age</th>\n",
              "      <th>SSN</th>\n",
              "      <th>Occupation</th>\n",
              "      <th>Annual_Income</th>\n",
              "      <th>Monthly_Inhand_Salary</th>\n",
              "      <th>Num_Bank_Accounts</th>\n",
              "      <th>Num_Credit_Card</th>\n",
              "      <th>Interest_Rate</th>\n",
              "      <th>Delay_from_due_date</th>\n",
              "      <th>Num_of_Delayed_Payment</th>\n",
              "      <th>Changed_Credit_Limit</th>\n",
              "      <th>Num_Credit_Inquiries</th>\n",
              "      <th>Credit_Mix</th>\n",
              "      <th>Outstanding_Debt</th>\n",
              "      <th>Credit_Utilization_Ratio</th>\n",
              "      <th>Credit_History_Age</th>\n",
              "      <th>Payment_of_Min_Amount</th>\n",
              "      <th>Total_EMI_per_month</th>\n",
              "      <th>Amount_invested_monthly</th>\n",
              "      <th>Payment_Behaviour</th>\n",
              "      <th>Num_of_Loan</th>\n",
              "      <th>Monthly_Balance</th>\n",
              "      <th>Auto Loan</th>\n",
              "      <th>Credit-Builder Loan</th>\n",
              "      <th>Debt Consolidation Loan</th>\n",
              "      <th>Home Equity Loan</th>\n",
              "      <th>Mortgage Loan</th>\n",
              "      <th>Not Specified</th>\n",
              "      <th>Payday Loan</th>\n",
              "      <th>Personal Loan</th>\n",
              "      <th>Student Loan</th>\n",
              "    </tr>\n",
              "  </thead>\n",
              "  <tbody>\n",
              "    <tr>\n",
              "      <th>0</th>\n",
              "      <td>0x160a</td>\n",
              "      <td>CUS_0xd40</td>\n",
              "      <td>September</td>\n",
              "      <td>24.0</td>\n",
              "      <td>821-00-0265</td>\n",
              "      <td>Scientist</td>\n",
              "      <td>19114.12</td>\n",
              "      <td>1824.843333</td>\n",
              "      <td>3.0</td>\n",
              "      <td>4.0</td>\n",
              "      <td>3.0</td>\n",
              "      <td>3</td>\n",
              "      <td>7.0</td>\n",
              "      <td>11.27</td>\n",
              "      <td>NaN</td>\n",
              "      <td>Good</td>\n",
              "      <td>809.98</td>\n",
              "      <td>35.030402</td>\n",
              "      <td>273.0</td>\n",
              "      <td>No</td>\n",
              "      <td>49.574949</td>\n",
              "      <td>236.642682</td>\n",
              "      <td>Low_spent_Small_value_payments</td>\n",
              "      <td>4</td>\n",
              "      <td>186.266702</td>\n",
              "      <td>True</td>\n",
              "      <td>True</td>\n",
              "      <td>False</td>\n",
              "      <td>True</td>\n",
              "      <td>False</td>\n",
              "      <td>False</td>\n",
              "      <td>False</td>\n",
              "      <td>True</td>\n",
              "      <td>False</td>\n",
              "    </tr>\n",
              "  </tbody>\n",
              "</table>\n",
              "</div>\n",
              "      <button class=\"colab-df-convert\" onclick=\"convertToInteractive('df-6bdcec53-7d92-4ab4-909a-fed7aaa683a4')\"\n",
              "              title=\"Convert this dataframe to an interactive table.\"\n",
              "              style=\"display:none;\">\n",
              "        \n",
              "  <svg xmlns=\"http://www.w3.org/2000/svg\" height=\"24px\"viewBox=\"0 0 24 24\"\n",
              "       width=\"24px\">\n",
              "    <path d=\"M0 0h24v24H0V0z\" fill=\"none\"/>\n",
              "    <path d=\"M18.56 5.44l.94 2.06.94-2.06 2.06-.94-2.06-.94-.94-2.06-.94 2.06-2.06.94zm-11 1L8.5 8.5l.94-2.06 2.06-.94-2.06-.94L8.5 2.5l-.94 2.06-2.06.94zm10 10l.94 2.06.94-2.06 2.06-.94-2.06-.94-.94-2.06-.94 2.06-2.06.94z\"/><path d=\"M17.41 7.96l-1.37-1.37c-.4-.4-.92-.59-1.43-.59-.52 0-1.04.2-1.43.59L10.3 9.45l-7.72 7.72c-.78.78-.78 2.05 0 2.83L4 21.41c.39.39.9.59 1.41.59.51 0 1.02-.2 1.41-.59l7.78-7.78 2.81-2.81c.8-.78.8-2.07 0-2.86zM5.41 20L4 18.59l7.72-7.72 1.47 1.35L5.41 20z\"/>\n",
              "  </svg>\n",
              "      </button>\n",
              "      \n",
              "  <style>\n",
              "    .colab-df-container {\n",
              "      display:flex;\n",
              "      flex-wrap:wrap;\n",
              "      gap: 12px;\n",
              "    }\n",
              "\n",
              "    .colab-df-convert {\n",
              "      background-color: #E8F0FE;\n",
              "      border: none;\n",
              "      border-radius: 50%;\n",
              "      cursor: pointer;\n",
              "      display: none;\n",
              "      fill: #1967D2;\n",
              "      height: 32px;\n",
              "      padding: 0 0 0 0;\n",
              "      width: 32px;\n",
              "    }\n",
              "\n",
              "    .colab-df-convert:hover {\n",
              "      background-color: #E2EBFA;\n",
              "      box-shadow: 0px 1px 2px rgba(60, 64, 67, 0.3), 0px 1px 3px 1px rgba(60, 64, 67, 0.15);\n",
              "      fill: #174EA6;\n",
              "    }\n",
              "\n",
              "    [theme=dark] .colab-df-convert {\n",
              "      background-color: #3B4455;\n",
              "      fill: #D2E3FC;\n",
              "    }\n",
              "\n",
              "    [theme=dark] .colab-df-convert:hover {\n",
              "      background-color: #434B5C;\n",
              "      box-shadow: 0px 1px 3px 1px rgba(0, 0, 0, 0.15);\n",
              "      filter: drop-shadow(0px 1px 2px rgba(0, 0, 0, 0.3));\n",
              "      fill: #FFFFFF;\n",
              "    }\n",
              "  </style>\n",
              "\n",
              "      <script>\n",
              "        const buttonEl =\n",
              "          document.querySelector('#df-6bdcec53-7d92-4ab4-909a-fed7aaa683a4 button.colab-df-convert');\n",
              "        buttonEl.style.display =\n",
              "          google.colab.kernel.accessAllowed ? 'block' : 'none';\n",
              "\n",
              "        async function convertToInteractive(key) {\n",
              "          const element = document.querySelector('#df-6bdcec53-7d92-4ab4-909a-fed7aaa683a4');\n",
              "          const dataTable =\n",
              "            await google.colab.kernel.invokeFunction('convertToInteractive',\n",
              "                                                     [key], {});\n",
              "          if (!dataTable) return;\n",
              "\n",
              "          const docLinkHtml = 'Like what you see? Visit the ' +\n",
              "            '<a target=\"_blank\" href=https://colab.research.google.com/notebooks/data_table.ipynb>data table notebook</a>'\n",
              "            + ' to learn more about interactive tables.';\n",
              "          element.innerHTML = '';\n",
              "          dataTable['output_type'] = 'display_data';\n",
              "          await google.colab.output.renderOutput(dataTable, element);\n",
              "          const docLink = document.createElement('div');\n",
              "          docLink.innerHTML = docLinkHtml;\n",
              "          element.appendChild(docLink);\n",
              "        }\n",
              "      </script>\n",
              "    </div>\n",
              "  </div>\n",
              "  "
            ]
          },
          "metadata": {},
          "execution_count": 83
        }
      ],
      "source": [
        "# Checking the location of the last missing value\n",
        "test2.loc[test2['Num_Credit_Inquiries'].isnull()]"
      ]
    },
    {
      "cell_type": "markdown",
      "metadata": {
        "id": "afYH4zLnRILE"
      },
      "source": [
        "It is true that the last missing value presents itself in the first entry of the dataset. We will be filling in this missing value using backward fill method, the counterpart of the previously used forward fill method."
      ]
    },
    {
      "cell_type": "code",
      "execution_count": 84,
      "metadata": {
        "colab": {
          "base_uri": "https://localhost:8080/"
        },
        "id": "5hLnEJXpRILE",
        "outputId": "c84f03cb-b5d3-4d98-e26f-a46033e94e87"
      },
      "outputs": [
        {
          "output_type": "execute_result",
          "data": {
            "text/plain": [
              "0"
            ]
          },
          "metadata": {},
          "execution_count": 84
        }
      ],
      "source": [
        "# Filling in the missing Num_Credit_Inquiries values with forward fill method\n",
        "test2['Num_Credit_Inquiries'] = test2['Num_Credit_Inquiries'].fillna(method = 'bfill')\n",
        "\n",
        "# Checking if there are still missing values in the Num_Credit_Inquiries feature\n",
        "test2['Num_Credit_Inquiries'].isnull().sum()"
      ]
    },
    {
      "cell_type": "markdown",
      "metadata": {
        "id": "h35Bn1TNRILE"
      },
      "source": [
        "### **VIIk. Numerical Feature: Credit_History_Age**"
      ]
    },
    {
      "cell_type": "markdown",
      "metadata": {
        "id": "5v6Za6taRILE"
      },
      "source": [
        "By looking at the previous histogram, there does not seem to exist notable outliers. However, there are some missing values that need to be dealt with. In Credit_History_Age feature, the eight values shared by a customer does not necessarily have to be a same value. In fact, the values shared by each customer act differently compared to the values in other features."
      ]
    },
    {
      "cell_type": "code",
      "execution_count": 85,
      "metadata": {
        "scrolled": false,
        "colab": {
          "base_uri": "https://localhost:8080/"
        },
        "id": "EzKqCleARILE",
        "outputId": "ac0e910a-fac6-47de-f430-25c33e8a06f2"
      },
      "outputs": [
        {
          "output_type": "execute_result",
          "data": {
            "text/plain": [
              "0"
            ]
          },
          "metadata": {},
          "execution_count": 85
        }
      ],
      "source": [
        "# Creating a list containing index with step 4 to locate the start of each customer\n",
        "# range start\n",
        "start = 0\n",
        "# range stop: the number of the entries\n",
        "stop = len(test2)\n",
        "# range step: the number of entries for each customer\n",
        "step = len(test2[test2['Customer_ID'] == test2['Customer_ID'].unique()[0]])\n",
        "# Defining CustomerIndexer\n",
        "CustomerIndexer = range(start, stop, step)\n",
        "\n",
        "# Start of the moving index\n",
        "i = 0\n",
        "\n",
        "# Iterating through each customer to fill the missing values\n",
        "for indexstart, ID in zip(CustomerIndexer, test2['Customer_ID'].unique()):\n",
        "    \n",
        "    # Dealing with the first n missing values\n",
        "    \n",
        "    i = indexstart # Index start for each new customer\n",
        "    \n",
        "    # While the beginning entry of the current customer is still empty\n",
        "    while i > -1 and np.isnan(test2['Credit_History_Age'][indexstart]) == True:\n",
        "        if np.isnan(test2['Credit_History_Age'][i]) == True: # Encountering missing value\n",
        "            i = i + 1\n",
        "        else: # Encountering filled entry\n",
        "            test2['Credit_History_Age'][i - 1] = test2['Credit_History_Age'][i] - 1\n",
        "            i = i - 1\n",
        "    \n",
        "    # Dealing with the rest of the missing values\n",
        "    \n",
        "    i = indexstart # Restarting the loop from the current customer's first entry\n",
        "    \n",
        "    # While i is still in bound and the Customer_ID is according to the current cuustomer\n",
        "    while i < len(test2['Customer_ID']) and test2['Customer_ID'][i] == ID:\n",
        "        if np.isnan(test2['Credit_History_Age'][i]) == False: # Encountering filled entry\n",
        "            i = i + 1\n",
        "        else: # Encountering missing value\n",
        "            test2['Credit_History_Age'][i] = test2['Credit_History_Age'][i - 1] + 1\n",
        "            i = i + 1\n",
        "\n",
        "# Checking if there are still missing values in the Credit_History_Age feature\n",
        "test2['Credit_History_Age'].isnull().sum()"
      ]
    },
    {
      "cell_type": "markdown",
      "metadata": {
        "id": "ZZsTkoZ4RILE"
      },
      "source": [
        "### **VIIl. Numerical Feature: Total_EMI_per_month**"
      ]
    },
    {
      "cell_type": "markdown",
      "metadata": {
        "id": "DHrJQ2NyRILE"
      },
      "source": [
        "By looking at the previous histogram, there exists some outliers in the Num_of_Loan feature, with upper outliers the most obvious. Luckily, there are no missing values. Let's deal with the outliers first."
      ]
    },
    {
      "cell_type": "code",
      "execution_count": 86,
      "metadata": {
        "scrolled": true,
        "colab": {
          "base_uri": "https://localhost:8080/"
        },
        "id": "kE92BpouRILE",
        "outputId": "517fcfa7-8799-4053-b310-d78089e973d2"
      },
      "outputs": [
        {
          "output_type": "stream",
          "name": "stdout",
          "text": [
            "Outlier count in Total_EMI_per_month : 3933\n"
          ]
        }
      ],
      "source": [
        "# Counting the outliers in Total_EMI_per_month\n",
        "countoutlier(test2, 'Total_EMI_per_month')"
      ]
    },
    {
      "cell_type": "code",
      "execution_count": 87,
      "metadata": {
        "scrolled": false,
        "colab": {
          "base_uri": "https://localhost:8080/",
          "height": 313
        },
        "id": "CRfBhDAARILE",
        "outputId": "9df7a2b6-4e1a-4799-f83a-291da79d3c9a"
      },
      "outputs": [
        {
          "output_type": "stream",
          "name": "stdout",
          "text": [
            "Total_EMI_per_month  data distribution after dropping the outliers : \n"
          ]
        },
        {
          "output_type": "display_data",
          "data": {
            "text/plain": [
              "<Figure size 432x288 with 1 Axes>"
            ],
            "image/png": "[encoded data removed]"
          },
          "metadata": {
            "needs_background": "light"
          }
        }
      ],
      "source": [
        "# Dropping the outliers in Total_EMI_per_month\n",
        "omitoutlier(test2, 'Total_EMI_per_month')"
      ]
    },
    {
      "cell_type": "markdown",
      "metadata": {
        "id": "F0m-LRUVRILF"
      },
      "source": [
        "The data distribution looks nice. Since the Total_EMI_per_month values per customer share a same value, we will be dealing with this feature using the defined lookupreplacement and aggregatedfillna functions."
      ]
    },
    {
      "cell_type": "code",
      "execution_count": 88,
      "metadata": {
        "scrolled": false,
        "colab": {
          "base_uri": "https://localhost:8080/"
        },
        "id": "-YFYi4ksRILF",
        "outputId": "f18cc076-1439-4593-af88-e0287daa5510"
      },
      "outputs": [
        {
          "output_type": "stream",
          "name": "stdout",
          "text": [
            "Remaining Total_EMI_per_month missing values : 2148\n"
          ]
        }
      ],
      "source": [
        "# Replacing the Total_EMI_per_month value of each customer with each one's Mode\n",
        "lookupreplacement(test2, 'Customer_ID', 'Total_EMI_per_month')"
      ]
    },
    {
      "cell_type": "markdown",
      "metadata": {
        "id": "-FgKgjvdRILF"
      },
      "source": [
        "There are still 2376 (or 297 customers) with totally missing Total_EMI_per_month values. We will fill in these missing values."
      ]
    },
    {
      "cell_type": "code",
      "execution_count": 89,
      "metadata": {
        "scrolled": true,
        "colab": {
          "base_uri": "https://localhost:8080/"
        },
        "id": "beZ1Ea9YRILF",
        "outputId": "b31ac988-ad03-4a61-8c8a-58b922d8ffe4"
      },
      "outputs": [
        {
          "output_type": "stream",
          "name": "stdout",
          "text": [
            "Remaining Total_EMI_per_month missing values : 0\n"
          ]
        }
      ],
      "source": [
        "# Filling in the remaining Total_EMI_per_month missing values\n",
        "aggregatedfillna(test2, 'Customer_ID', 'Total_EMI_per_month')"
      ]
    },
    {
      "cell_type": "markdown",
      "metadata": {
        "id": "KDrfKOMKRILF"
      },
      "source": [
        "### **VIIm. Numerical Feature: Amount_invested_monthly**"
      ]
    },
    {
      "cell_type": "raw",
      "metadata": {
        "id": "ZmYWGEwZRILF"
      },
      "source": [
        "By looking at the previous histogram, there exists some outliers in the Amount_invested_monthly feature, with upper outliers the most obvious. There are missing values as well. Moreover, the eight values shared by a customer do not necessarily have to be a same value. Let's deal with the outliers first."
      ]
    },
    {
      "cell_type": "code",
      "execution_count": 90,
      "metadata": {
        "scrolled": true,
        "colab": {
          "base_uri": "https://localhost:8080/"
        },
        "id": "rvTPJV7MRILF",
        "outputId": "540ff965-a4c2-4c71-d503-ffc02a7e61d7"
      },
      "outputs": [
        {
          "output_type": "stream",
          "name": "stdout",
          "text": [
            "Outlier count in Amount_invested_monthly : 5035\n"
          ]
        }
      ],
      "source": [
        "# Counting the outliers in Amount_invested_monthly\n",
        "countoutlier(test2, 'Amount_invested_monthly')"
      ]
    },
    {
      "cell_type": "code",
      "execution_count": 91,
      "metadata": {
        "scrolled": true,
        "colab": {
          "base_uri": "https://localhost:8080/",
          "height": 313
        },
        "id": "XYwxMDYoRILF",
        "outputId": "fe90a45e-79cf-4fac-8265-62817217cf0e"
      },
      "outputs": [
        {
          "output_type": "stream",
          "name": "stdout",
          "text": [
            "Amount_invested_monthly  data distribution after dropping the outliers : \n"
          ]
        },
        {
          "output_type": "display_data",
          "data": {
            "text/plain": [
              "<Figure size 432x288 with 1 Axes>"
            ],
            "image/png": "[encoded data removed]"
          },
          "metadata": {
            "needs_background": "light"
          }
        }
      ],
      "source": [
        "# Dropping the outliers in Amount_invested_monthly\n",
        "omitoutlier(test2, 'Amount_invested_monthly')"
      ]
    },
    {
      "cell_type": "code",
      "execution_count": 92,
      "metadata": {
        "colab": {
          "base_uri": "https://localhost:8080/"
        },
        "id": "GltROXyJRILF",
        "outputId": "a292f58a-5ba0-4e88-f606-b523df1bc7b3"
      },
      "outputs": [
        {
          "output_type": "execute_result",
          "data": {
            "text/plain": [
              "7306"
            ]
          },
          "metadata": {},
          "execution_count": 92
        }
      ],
      "source": [
        "# Checking the remaining missing values\n",
        "test2['Amount_invested_monthly'].isnull().sum()"
      ]
    },
    {
      "cell_type": "markdown",
      "metadata": {
        "id": "yUEu0DOHRILF"
      },
      "source": [
        "Let's fill in the missing values using the aggregatedfillna defined function since the eight values shared by each customer do not necessarily have to be a same value."
      ]
    },
    {
      "cell_type": "code",
      "execution_count": 93,
      "metadata": {
        "colab": {
          "base_uri": "https://localhost:8080/"
        },
        "id": "syPLrXTXRILG",
        "outputId": "a142c00b-eab4-4386-d4d2-adc0a8599833"
      },
      "outputs": [
        {
          "output_type": "stream",
          "name": "stdout",
          "text": [
            "Remaining Amount_invested_monthly missing values : 0\n"
          ]
        }
      ],
      "source": [
        "# Filling in the remaining Amount_invested_monthly missing values\n",
        "aggregatedfillna(test2, 'Customer_ID', 'Amount_invested_monthly')"
      ]
    },
    {
      "cell_type": "markdown",
      "metadata": {
        "id": "aM0uNt75RILG"
      },
      "source": [
        "### **VIIn. Numerical Feature: Monthly_Balance**"
      ]
    },
    {
      "cell_type": "raw",
      "metadata": {
        "id": "-5oYDKzJRILG"
      },
      "source": [
        "By looking at the previous histogram, there exists some outliers in the Monthly_Balance feature, with upper outliers the most obvious. There are missing values as well. Moreover, the eight values shared by a customer do not necessarily have to be a same value. Let's deal with the outliers first."
      ]
    },
    {
      "cell_type": "code",
      "execution_count": 94,
      "metadata": {
        "scrolled": false,
        "colab": {
          "base_uri": "https://localhost:8080/"
        },
        "id": "EM8IFLMrRILG",
        "outputId": "a8e5544d-4739-4330-c614-9077acfee1bc"
      },
      "outputs": [
        {
          "output_type": "stream",
          "name": "stdout",
          "text": [
            "Outlier count in Monthly_Balance : 3838\n"
          ]
        }
      ],
      "source": [
        "# Counting the outliers in Monthly_Balance\n",
        "countoutlier(test2, 'Monthly_Balance')"
      ]
    },
    {
      "cell_type": "code",
      "execution_count": 95,
      "metadata": {
        "scrolled": false,
        "colab": {
          "base_uri": "https://localhost:8080/",
          "height": 313
        },
        "id": "v9w74SqfRILG",
        "outputId": "7ddfb88b-dce0-4c3c-e450-e35cd67d40f6"
      },
      "outputs": [
        {
          "output_type": "stream",
          "name": "stdout",
          "text": [
            "Monthly_Balance  data distribution after dropping the outliers : \n"
          ]
        },
        {
          "output_type": "display_data",
          "data": {
            "text/plain": [
              "<Figure size 432x288 with 1 Axes>"
            ],
            "image/png": "[encoded data removed]"
          },
          "metadata": {
            "needs_background": "light"
          }
        }
      ],
      "source": [
        "# Dropping the outliers in Monthly_Balance\n",
        "omitoutlier(test2, 'Monthly_Balance')"
      ]
    },
    {
      "cell_type": "markdown",
      "metadata": {
        "id": "pn6j0M1FRILG"
      },
      "source": [
        "Assuming that it is not very likely for people to have zero monthly balance, we are going to fill in the missing values in this feature with mean +- standard deviation method."
      ]
    },
    {
      "cell_type": "code",
      "execution_count": 96,
      "metadata": {
        "colab": {
          "base_uri": "https://localhost:8080/"
        },
        "id": "gXJpf8n4RILG",
        "outputId": "40c328f4-721f-46d9-c366-f7fd4faa5ac4"
      },
      "outputs": [
        {
          "output_type": "stream",
          "name": "stdout",
          "text": [
            "Remaining Monthly_Balance missing values : 0\n"
          ]
        }
      ],
      "source": [
        "aggregatedfillna(test2, 'Customer_ID', 'Monthly_Balance')"
      ]
    },
    {
      "cell_type": "markdown",
      "metadata": {
        "id": "jGBnT8XXRILG"
      },
      "source": [
        "## **VIII. Finishing**"
      ]
    },
    {
      "cell_type": "markdown",
      "metadata": {
        "id": "PozsfhBwRILG"
      },
      "source": [
        "Now that we have pretty much finished with the test dataset data cleaning, let's do a final check before exporting the result into a new file."
      ]
    },
    {
      "cell_type": "markdown",
      "metadata": {
        "id": "SgCG3FMDRILG"
      },
      "source": [
        "### **VIIIa. Rechecking the dataset**"
      ]
    },
    {
      "cell_type": "code",
      "execution_count": 97,
      "metadata": {
        "colab": {
          "base_uri": "https://localhost:8080/"
        },
        "id": "5zVf8yibRILH",
        "outputId": "f1d695c3-bd11-4cd8-ab4d-c8bec1729e34"
      },
      "outputs": [
        {
          "output_type": "stream",
          "name": "stdout",
          "text": [
            "<class 'pandas.core.frame.DataFrame'>\n",
            "RangeIndex: 50000 entries, 0 to 49999\n",
            "Data columns (total 34 columns):\n",
            " #   Column                    Non-Null Count  Dtype  \n",
            "---  ------                    --------------  -----  \n",
            " 0   ID                        50000 non-null  object \n",
            " 1   Customer_ID               50000 non-null  object \n",
            " 2   Month                     50000 non-null  object \n",
            " 3   Age                       50000 non-null  float64\n",
            " 4   SSN                       50000 non-null  object \n",
            " 5   Occupation                50000 non-null  object \n",
            " 6   Annual_Income             50000 non-null  float64\n",
            " 7   Monthly_Inhand_Salary     50000 non-null  float64\n",
            " 8   Num_Bank_Accounts         50000 non-null  float64\n",
            " 9   Num_Credit_Card           50000 non-null  float64\n",
            " 10  Interest_Rate             50000 non-null  float64\n",
            " 11  Delay_from_due_date       50000 non-null  int64  \n",
            " 12  Num_of_Delayed_Payment    50000 non-null  float64\n",
            " 13  Changed_Credit_Limit      50000 non-null  float64\n",
            " 14  Num_Credit_Inquiries      50000 non-null  float64\n",
            " 15  Credit_Mix                50000 non-null  object \n",
            " 16  Outstanding_Debt          50000 non-null  float64\n",
            " 17  Credit_Utilization_Ratio  50000 non-null  float64\n",
            " 18  Credit_History_Age        50000 non-null  float64\n",
            " 19  Payment_of_Min_Amount     50000 non-null  object \n",
            " 20  Total_EMI_per_month       50000 non-null  float64\n",
            " 21  Amount_invested_monthly   50000 non-null  float64\n",
            " 22  Payment_Behaviour         50000 non-null  object \n",
            " 23  Num_of_Loan               50000 non-null  int64  \n",
            " 24  Monthly_Balance           50000 non-null  float64\n",
            " 25  Auto Loan                 50000 non-null  bool   \n",
            " 26  Credit-Builder Loan       50000 non-null  bool   \n",
            " 27  Debt Consolidation Loan   50000 non-null  bool   \n",
            " 28  Home Equity Loan          50000 non-null  bool   \n",
            " 29  Mortgage Loan             50000 non-null  bool   \n",
            " 30  Not Specified             50000 non-null  bool   \n",
            " 31  Payday Loan               50000 non-null  bool   \n",
            " 32  Personal Loan             50000 non-null  bool   \n",
            " 33  Student Loan              50000 non-null  bool   \n",
            "dtypes: bool(9), float64(15), int64(2), object(8)\n",
            "memory usage: 10.0+ MB\n"
          ]
        }
      ],
      "source": [
        "# dataset overview\n",
        "test2.info()"
      ]
    },
    {
      "cell_type": "code",
      "execution_count": 98,
      "metadata": {
        "scrolled": false,
        "colab": {
          "base_uri": "https://localhost:8080/",
          "height": 1000
        },
        "id": "sDy3gfa2RILH",
        "outputId": "955aa1ca-e958-4179-ee92-0ae1a28005eb"
      },
      "outputs": [
        {
          "output_type": "display_data",
          "data": {
            "text/plain": [
              "<Figure size 432x288 with 1 Axes>"
            ],
            "image/png": "[encoded data removed]"
          },
          "metadata": {
            "needs_background": "light"
          }
        },
        {
          "output_type": "display_data",
          "data": {
            "text/plain": [
              "<Figure size 432x288 with 1 Axes>"
            ],
            "image/png": "[encoded data removed]"
          },
          "metadata": {
            "needs_background": "light"
          }
        },
        {
          "output_type": "display_data",
          "data": {
            "text/plain": [
              "<Figure size 432x288 with 1 Axes>"
            ],
            "image/png": "[encoded data removed]"
          },
          "metadata": {
            "needs_background": "light"
          }
        },
        {
          "output_type": "display_data",
          "data": {
            "text/plain": [
              "<Figure size 432x288 with 1 Axes>"
            ],
            "image/png": "[encoded data removed]"
          },
          "metadata": {
            "needs_background": "light"
          }
        },
        {
          "output_type": "display_data",
          "data": {
            "text/plain": [
              "<Figure size 432x288 with 1 Axes>"
            ],
            "image/png": "[encoded data removed]"
          },
          "metadata": {
            "needs_background": "light"
          }
        },
        {
          "output_type": "display_data",
          "data": {
            "text/plain": [
              "<Figure size 432x288 with 1 Axes>"
            ],
            "image/png": "[encoded data removed]"
          },
          "metadata": {
            "needs_background": "light"
          }
        },
        {
          "output_type": "display_data",
          "data": {
            "text/plain": [
              "<Figure size 432x288 with 1 Axes>"
            ],
            "image/png": "[encoded data removed]"
          },
          "metadata": {
            "needs_background": "light"
          }
        },
        {
          "output_type": "display_data",
          "data": {
            "text/plain": [
              "<Figure size 432x288 with 1 Axes>"
            ],
            "image/png": "[encoded data removed]"
          },
          "metadata": {
            "needs_background": "light"
          }
        },
        {
          "output_type": "display_data",
          "data": {
            "text/plain": [
              "<Figure size 432x288 with 1 Axes>"
            ],
            "image/png": "[encoded data removed]"
          },
          "metadata": {
            "needs_background": "light"
          }
        },
        {
          "output_type": "display_data",
          "data": {
            "text/plain": [
              "<Figure size 432x288 with 1 Axes>"
            ],
            "image/png": "[encoded data removed]"
          },
          "metadata": {
            "needs_background": "light"
          }
        },
        {
          "output_type": "display_data",
          "data": {
            "text/plain": [
              "<Figure size 432x288 with 1 Axes>"
            ],
            "image/png": "[encoded data removed]"
          },
          "metadata": {
            "needs_background": "light"
          }
        },
        {
          "output_type": "display_data",
          "data": {
            "text/plain": [
              "<Figure size 432x288 with 1 Axes>"
            ],
            "image/png": "[encoded data removed]"
          },
          "metadata": {
            "needs_background": "light"
          }
        },
        {
          "output_type": "display_data",
          "data": {
            "text/plain": [
              "<Figure size 432x288 with 1 Axes>"
            ],
            "image/png": "[encoded data removed]"
          },
          "metadata": {
            "needs_background": "light"
          }
        },
        {
          "output_type": "display_data",
          "data": {
            "text/plain": [
              "<Figure size 432x288 with 1 Axes>"
            ],
            "image/png": "[encoded data removed]"
          },
          "metadata": {
            "needs_background": "light"
          }
        },
        {
          "output_type": "display_data",
          "data": {
            "text/plain": [
              "<Figure size 432x288 with 1 Axes>"
            ],
            "image/png": "[encoded data removed]"
          },
          "metadata": {
            "needs_background": "light"
          }
        },
        {
          "output_type": "display_data",
          "data": {
            "text/plain": [
              "<Figure size 432x288 with 1 Axes>"
            ],
            "image/png": "[encoded data removed]"
          },
          "metadata": {
            "needs_background": "light"
          }
        },
        {
          "output_type": "display_data",
          "data": {
            "text/plain": [
              "<Figure size 432x288 with 1 Axes>"
            ],
            "image/png": "[encoded data removed]"
          },
          "metadata": {
            "needs_background": "light"
          }
        }
      ],
      "source": [
        "# Data distribution of each numerical feature\n",
        "for i in NumFeatures:\n",
        "    plt.hist(test2[i])\n",
        "    plt.title(i)\n",
        "    plt.show()"
      ]
    },
    {
      "cell_type": "markdown",
      "metadata": {
        "id": "Hbv0KFQkRILH"
      },
      "source": [
        "There are no missing values now and no notable extreme outliers present in the dataset. Any further data distribution engineering will take place in the next data analysis, with method tentative to the analysis method used when analyzing the data."
      ]
    },
    {
      "cell_type": "markdown",
      "metadata": {
        "id": "dhjrXjr4RILH"
      },
      "source": [
        "### **VIIIb. Exporting the dataset**"
      ]
    },
    {
      "cell_type": "markdown",
      "metadata": {
        "id": "ADt8H7g0RILH"
      },
      "source": [
        "We are now done. What is left is to export the result of this data cleaning project to a csv file for further analysis."
      ]
    },
    {
      "cell_type": "code",
      "execution_count": 100,
      "metadata": {
        "scrolled": true,
        "id": "shYoTB80RILH"
      },
      "outputs": [],
      "source": [
        "test2.to_csv('Credit Score Classification (Cleaned Test Dataset).csv')"
      ]
    }
  ],
  "metadata": {
    "colab": {
      "collapsed_sections": [],
      "name": "Credit_Score_Classification_Data_Cleaning_(Test_Dataset).ipynb",
      "provenance": [],
      "include_colab_link": true
    },
    "kernelspec": {
      "display_name": "Python 3 (ipykernel)",
      "language": "python",
      "name": "python3"
    },
    "language_info": {
      "codemirror_mode": {
        "name": "ipython",
        "version": 3
      },
      "file_extension": ".py",
      "mimetype": "text/x-python",
      "name": "python",
      "nbconvert_exporter": "python",
      "pygments_lexer": "ipython3",
      "version": "3.9.7"
    }
  },
  "nbformat": 4,
  "nbformat_minor": 0
}