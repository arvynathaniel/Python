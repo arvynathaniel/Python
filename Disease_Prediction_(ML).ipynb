{
  "nbformat": 4,
  "nbformat_minor": 0,
  "metadata": {
    "colab": {
      "name": "Disease Prediction (ML).ipynb",
      "provenance": [],
      "collapsed_sections": [],
      "toc_visible": true,
      "authorship_tag": "ABX9TyPFlDd93/sMxcGd/49t8b/7",
      "include_colab_link": true
    },
    "kernelspec": {
      "name": "python3",
      "display_name": "Python 3"
    },
    "language_info": {
      "name": "python"
    }
  },
  "cells": [
    {
      "cell_type": "markdown",
      "metadata": {
        "id": "view-in-github",
        "colab_type": "text"
      },
      "source": [
        "<a href=\"https://colab.research.google.com/github/arvynathaniel/Python/blob/main/Disease_Prediction_(ML).ipynb\" target=\"_parent\"><img src=\"https://colab.research.google.com/assets/colab-badge.svg\" alt=\"Open In Colab\"/></a>"
      ]
    },
    {
      "cell_type": "markdown",
      "source": [
        "##**Disease Prediction**"
      ],
      "metadata": {
        "id": "hhQlaa_sS-wn"
      }
    },
    {
      "cell_type": "markdown",
      "source": [
        "In this project, we will be looking at a pair of datasets containing symptoms of a disease and their prognosis. The main objective of this project is to predict what kind of disease is likely to be based on a set of symptoms that occur. To do so, some machine learning algorithms will be used. We will feed the 'train' dataset to the machine learning algorithms for the pattern recognizing and learning process, then test the model with the 'test' dataset.\n",
        "\n",
        "The main work sequence that will be performed in this project:\n",
        "1.   Calling in the libraries and dataset\n",
        "2.   Performing a light data exploration on the dataset\n",
        "3.   Prediction models building\n",
        "\n",
        "\n",
        "Our thanks to the provider of this pair of datasets.\n",
        "Source: https://www.kaggle.com/datasets/kaushil268/disease-prediction-using-machine-learning"
      ],
      "metadata": {
        "id": "Csj8Ps0wWXBm"
      }
    },
    {
      "cell_type": "markdown",
      "source": [
        "##**I. Calling in the Libraries and Datasets**"
      ],
      "metadata": {
        "id": "dMzBPVCnZKus"
      }
    },
    {
      "cell_type": "markdown",
      "source": [
        "###Ia. Libraries"
      ],
      "metadata": {
        "id": "xl7u3TEmZQd7"
      }
    },
    {
      "cell_type": "code",
      "source": [
        "# pandas to help us visualizing and manipulating the data in a tabular form\n",
        "import pandas as pd\n",
        "\n",
        "# sklearn to help us in the model building part\n",
        "from sklearn.tree import DecisionTreeClassifier\n",
        "from sklearn.ensemble import RandomForestClassifier\n",
        "from sklearn.naive_bayes import GaussianNB\n",
        "from sklearn.metrics import classification_report\n",
        "\n",
        "# termcolor to help us coloring printed string\n",
        "from termcolor import colored"
      ],
      "metadata": {
        "id": "dq309et8Zglu"
      },
      "execution_count": 3,
      "outputs": []
    },
    {
      "cell_type": "markdown",
      "source": [
        "###Ib. Datasets\n"
      ],
      "metadata": {
        "id": "5lnPq5R1ZSlU"
      }
    },
    {
      "cell_type": "code",
      "execution_count": 4,
      "metadata": {
        "id": "HIkXeOHeSSD_"
      },
      "outputs": [],
      "source": [
        "train = pd.read_csv('Training.csv')\n",
        "test = pd.read_csv('Testing.csv')"
      ]
    },
    {
      "cell_type": "markdown",
      "source": [
        "##**II. Light Data Exploration**"
      ],
      "metadata": {
        "id": "hpGR6PXjacs9"
      }
    },
    {
      "cell_type": "markdown",
      "source": [
        "###IIa. General overview"
      ],
      "metadata": {
        "id": "iLD2YQ7-aiEv"
      }
    },
    {
      "cell_type": "markdown",
      "source": [
        "There are some information the provider of the datasets gave us:\n",
        "1. Each CSV file has 133 columns. 132 of these columns are symptoms that a person experiences and last column is the prognosis.\n",
        "\n",
        "2. These symptoms are mapped to 42 diseases you can classify these set of symptoms to."
      ],
      "metadata": {
        "id": "4D94r3OJhc7X"
      }
    },
    {
      "cell_type": "code",
      "source": [
        "train.head()"
      ],
      "metadata": {
        "colab": {
          "base_uri": "https://localhost:8080/",
          "height": 404
        },
        "id": "1IxQ1gReaw5L",
        "outputId": "1bedc0fd-e56e-4ad2-ed05-f5acde693ed3"
      },
      "execution_count": 5,
      "outputs": [
        {
          "output_type": "execute_result",
          "data": {
            "text/plain": [
              "   itching  skin_rash  nodal_skin_eruptions  continuous_sneezing  shivering  \\\n",
              "0        1          1                     1                    0          0   \n",
              "1        0          1                     1                    0          0   \n",
              "2        1          0                     1                    0          0   \n",
              "3        1          1                     0                    0          0   \n",
              "4        1          1                     1                    0          0   \n",
              "\n",
              "   chills  joint_pain  stomach_pain  acidity  ulcers_on_tongue  ...  scurring  \\\n",
              "0       0           0             0        0                 0  ...         0   \n",
              "1       0           0             0        0                 0  ...         0   \n",
              "2       0           0             0        0                 0  ...         0   \n",
              "3       0           0             0        0                 0  ...         0   \n",
              "4       0           0             0        0                 0  ...         0   \n",
              "\n",
              "   skin_peeling  silver_like_dusting  small_dents_in_nails  \\\n",
              "0             0                    0                     0   \n",
              "1             0                    0                     0   \n",
              "2             0                    0                     0   \n",
              "3             0                    0                     0   \n",
              "4             0                    0                     0   \n",
              "\n",
              "   inflammatory_nails  blister  red_sore_around_nose  yellow_crust_ooze  \\\n",
              "0                   0        0                     0                  0   \n",
              "1                   0        0                     0                  0   \n",
              "2                   0        0                     0                  0   \n",
              "3                   0        0                     0                  0   \n",
              "4                   0        0                     0                  0   \n",
              "\n",
              "          prognosis  Unnamed: 133  \n",
              "0  Fungal infection           NaN  \n",
              "1  Fungal infection           NaN  \n",
              "2  Fungal infection           NaN  \n",
              "3  Fungal infection           NaN  \n",
              "4  Fungal infection           NaN  \n",
              "\n",
              "[5 rows x 134 columns]"
            ],
            "text/html": [
              "\n",
              "  <div id=\"df-c288dbc1-8573-4a0d-b458-d9f3ef9d9d84\">\n",
              "    <div class=\"colab-df-container\">\n",
              "      <div>\n",
              "<style scoped>\n",
              "    .dataframe tbody tr th:only-of-type {\n",
              "        vertical-align: middle;\n",
              "    }\n",
              "\n",
              "    .dataframe tbody tr th {\n",
              "        vertical-align: top;\n",
              "    }\n",
              "\n",
              "    .dataframe thead th {\n",
              "        text-align: right;\n",
              "    }\n",
              "</style>\n",
              "<table border=\"1\" class=\"dataframe\">\n",
              "  <thead>\n",
              "    <tr style=\"text-align: right;\">\n",
              "      <th></th>\n",
              "      <th>itching</th>\n",
              "      <th>skin_rash</th>\n",
              "      <th>nodal_skin_eruptions</th>\n",
              "      <th>continuous_sneezing</th>\n",
              "      <th>shivering</th>\n",
              "      <th>chills</th>\n",
              "      <th>joint_pain</th>\n",
              "      <th>stomach_pain</th>\n",
              "      <th>acidity</th>\n",
              "      <th>ulcers_on_tongue</th>\n",
              "      <th>...</th>\n",
              "      <th>scurring</th>\n",
              "      <th>skin_peeling</th>\n",
              "      <th>silver_like_dusting</th>\n",
              "      <th>small_dents_in_nails</th>\n",
              "      <th>inflammatory_nails</th>\n",
              "      <th>blister</th>\n",
              "      <th>red_sore_around_nose</th>\n",
              "      <th>yellow_crust_ooze</th>\n",
              "      <th>prognosis</th>\n",
              "      <th>Unnamed: 133</th>\n",
              "    </tr>\n",
              "  </thead>\n",
              "  <tbody>\n",
              "    <tr>\n",
              "      <th>0</th>\n",
              "      <td>1</td>\n",
              "      <td>1</td>\n",
              "      <td>1</td>\n",
              "      <td>0</td>\n",
              "      <td>0</td>\n",
              "      <td>0</td>\n",
              "      <td>0</td>\n",
              "      <td>0</td>\n",
              "      <td>0</td>\n",
              "      <td>0</td>\n",
              "      <td>...</td>\n",
              "      <td>0</td>\n",
              "      <td>0</td>\n",
              "      <td>0</td>\n",
              "      <td>0</td>\n",
              "      <td>0</td>\n",
              "      <td>0</td>\n",
              "      <td>0</td>\n",
              "      <td>0</td>\n",
              "      <td>Fungal infection</td>\n",
              "      <td>NaN</td>\n",
              "    </tr>\n",
              "    <tr>\n",
              "      <th>1</th>\n",
              "      <td>0</td>\n",
              "      <td>1</td>\n",
              "      <td>1</td>\n",
              "      <td>0</td>\n",
              "      <td>0</td>\n",
              "      <td>0</td>\n",
              "      <td>0</td>\n",
              "      <td>0</td>\n",
              "      <td>0</td>\n",
              "      <td>0</td>\n",
              "      <td>...</td>\n",
              "      <td>0</td>\n",
              "      <td>0</td>\n",
              "      <td>0</td>\n",
              "      <td>0</td>\n",
              "      <td>0</td>\n",
              "      <td>0</td>\n",
              "      <td>0</td>\n",
              "      <td>0</td>\n",
              "      <td>Fungal infection</td>\n",
              "      <td>NaN</td>\n",
              "    </tr>\n",
              "    <tr>\n",
              "      <th>2</th>\n",
              "      <td>1</td>\n",
              "      <td>0</td>\n",
              "      <td>1</td>\n",
              "      <td>0</td>\n",
              "      <td>0</td>\n",
              "      <td>0</td>\n",
              "      <td>0</td>\n",
              "      <td>0</td>\n",
              "      <td>0</td>\n",
              "      <td>0</td>\n",
              "      <td>...</td>\n",
              "      <td>0</td>\n",
              "      <td>0</td>\n",
              "      <td>0</td>\n",
              "      <td>0</td>\n",
              "      <td>0</td>\n",
              "      <td>0</td>\n",
              "      <td>0</td>\n",
              "      <td>0</td>\n",
              "      <td>Fungal infection</td>\n",
              "      <td>NaN</td>\n",
              "    </tr>\n",
              "    <tr>\n",
              "      <th>3</th>\n",
              "      <td>1</td>\n",
              "      <td>1</td>\n",
              "      <td>0</td>\n",
              "      <td>0</td>\n",
              "      <td>0</td>\n",
              "      <td>0</td>\n",
              "      <td>0</td>\n",
              "      <td>0</td>\n",
              "      <td>0</td>\n",
              "      <td>0</td>\n",
              "      <td>...</td>\n",
              "      <td>0</td>\n",
              "      <td>0</td>\n",
              "      <td>0</td>\n",
              "      <td>0</td>\n",
              "      <td>0</td>\n",
              "      <td>0</td>\n",
              "      <td>0</td>\n",
              "      <td>0</td>\n",
              "      <td>Fungal infection</td>\n",
              "      <td>NaN</td>\n",
              "    </tr>\n",
              "    <tr>\n",
              "      <th>4</th>\n",
              "      <td>1</td>\n",
              "      <td>1</td>\n",
              "      <td>1</td>\n",
              "      <td>0</td>\n",
              "      <td>0</td>\n",
              "      <td>0</td>\n",
              "      <td>0</td>\n",
              "      <td>0</td>\n",
              "      <td>0</td>\n",
              "      <td>0</td>\n",
              "      <td>...</td>\n",
              "      <td>0</td>\n",
              "      <td>0</td>\n",
              "      <td>0</td>\n",
              "      <td>0</td>\n",
              "      <td>0</td>\n",
              "      <td>0</td>\n",
              "      <td>0</td>\n",
              "      <td>0</td>\n",
              "      <td>Fungal infection</td>\n",
              "      <td>NaN</td>\n",
              "    </tr>\n",
              "  </tbody>\n",
              "</table>\n",
              "<p>5 rows × 134 columns</p>\n",
              "</div>\n",
              "      <button class=\"colab-df-convert\" onclick=\"convertToInteractive('df-c288dbc1-8573-4a0d-b458-d9f3ef9d9d84')\"\n",
              "              title=\"Convert this dataframe to an interactive table.\"\n",
              "              style=\"display:none;\">\n",
              "        \n",
              "  <svg xmlns=\"http://www.w3.org/2000/svg\" height=\"24px\"viewBox=\"0 0 24 24\"\n",
              "       width=\"24px\">\n",
              "    <path d=\"M0 0h24v24H0V0z\" fill=\"none\"/>\n",
              "    <path d=\"M18.56 5.44l.94 2.06.94-2.06 2.06-.94-2.06-.94-.94-2.06-.94 2.06-2.06.94zm-11 1L8.5 8.5l.94-2.06 2.06-.94-2.06-.94L8.5 2.5l-.94 2.06-2.06.94zm10 10l.94 2.06.94-2.06 2.06-.94-2.06-.94-.94-2.06-.94 2.06-2.06.94z\"/><path d=\"M17.41 7.96l-1.37-1.37c-.4-.4-.92-.59-1.43-.59-.52 0-1.04.2-1.43.59L10.3 9.45l-7.72 7.72c-.78.78-.78 2.05 0 2.83L4 21.41c.39.39.9.59 1.41.59.51 0 1.02-.2 1.41-.59l7.78-7.78 2.81-2.81c.8-.78.8-2.07 0-2.86zM5.41 20L4 18.59l7.72-7.72 1.47 1.35L5.41 20z\"/>\n",
              "  </svg>\n",
              "      </button>\n",
              "      \n",
              "  <style>\n",
              "    .colab-df-container {\n",
              "      display:flex;\n",
              "      flex-wrap:wrap;\n",
              "      gap: 12px;\n",
              "    }\n",
              "\n",
              "    .colab-df-convert {\n",
              "      background-color: #E8F0FE;\n",
              "      border: none;\n",
              "      border-radius: 50%;\n",
              "      cursor: pointer;\n",
              "      display: none;\n",
              "      fill: #1967D2;\n",
              "      height: 32px;\n",
              "      padding: 0 0 0 0;\n",
              "      width: 32px;\n",
              "    }\n",
              "\n",
              "    .colab-df-convert:hover {\n",
              "      background-color: #E2EBFA;\n",
              "      box-shadow: 0px 1px 2px rgba(60, 64, 67, 0.3), 0px 1px 3px 1px rgba(60, 64, 67, 0.15);\n",
              "      fill: #174EA6;\n",
              "    }\n",
              "\n",
              "    [theme=dark] .colab-df-convert {\n",
              "      background-color: #3B4455;\n",
              "      fill: #D2E3FC;\n",
              "    }\n",
              "\n",
              "    [theme=dark] .colab-df-convert:hover {\n",
              "      background-color: #434B5C;\n",
              "      box-shadow: 0px 1px 3px 1px rgba(0, 0, 0, 0.15);\n",
              "      filter: drop-shadow(0px 1px 2px rgba(0, 0, 0, 0.3));\n",
              "      fill: #FFFFFF;\n",
              "    }\n",
              "  </style>\n",
              "\n",
              "      <script>\n",
              "        const buttonEl =\n",
              "          document.querySelector('#df-c288dbc1-8573-4a0d-b458-d9f3ef9d9d84 button.colab-df-convert');\n",
              "        buttonEl.style.display =\n",
              "          google.colab.kernel.accessAllowed ? 'block' : 'none';\n",
              "\n",
              "        async function convertToInteractive(key) {\n",
              "          const element = document.querySelector('#df-c288dbc1-8573-4a0d-b458-d9f3ef9d9d84');\n",
              "          const dataTable =\n",
              "            await google.colab.kernel.invokeFunction('convertToInteractive',\n",
              "                                                     [key], {});\n",
              "          if (!dataTable) return;\n",
              "\n",
              "          const docLinkHtml = 'Like what you see? Visit the ' +\n",
              "            '<a target=\"_blank\" href=https://colab.research.google.com/notebooks/data_table.ipynb>data table notebook</a>'\n",
              "            + ' to learn more about interactive tables.';\n",
              "          element.innerHTML = '';\n",
              "          dataTable['output_type'] = 'display_data';\n",
              "          await google.colab.output.renderOutput(dataTable, element);\n",
              "          const docLink = document.createElement('div');\n",
              "          docLink.innerHTML = docLinkHtml;\n",
              "          element.appendChild(docLink);\n",
              "        }\n",
              "      </script>\n",
              "    </div>\n",
              "  </div>\n",
              "  "
            ]
          },
          "metadata": {},
          "execution_count": 5
        }
      ]
    },
    {
      "cell_type": "markdown",
      "source": [
        "It seems like each of the symptom is presented in a boolean value, whereas 1 stands for True and 0 for False. The unique values for each symptom feature should only be two then, '1' and '0'. We will check them on later in section IIc. "
      ],
      "metadata": {
        "id": "7Hc1ahf3hHpQ"
      }
    },
    {
      "cell_type": "code",
      "source": [
        "train.info()"
      ],
      "metadata": {
        "colab": {
          "base_uri": "https://localhost:8080/"
        },
        "id": "8d45fcC8bAbX",
        "outputId": "dc8fe21f-2eb0-499e-f68c-ce3d84472ce7"
      },
      "execution_count": 6,
      "outputs": [
        {
          "output_type": "stream",
          "name": "stdout",
          "text": [
            "<class 'pandas.core.frame.DataFrame'>\n",
            "RangeIndex: 4920 entries, 0 to 4919\n",
            "Columns: 134 entries, itching to Unnamed: 133\n",
            "dtypes: float64(1), int64(132), object(1)\n",
            "memory usage: 5.0+ MB\n"
          ]
        }
      ]
    },
    {
      "cell_type": "markdown",
      "source": [
        "The 'train' dataset consists of 4920 entries and 133 columns"
      ],
      "metadata": {
        "id": "8e8xPS90iA-1"
      }
    },
    {
      "cell_type": "markdown",
      "source": [
        "###IIb. Missing values"
      ],
      "metadata": {
        "id": "KuW7ItlQam1_"
      }
    },
    {
      "cell_type": "code",
      "source": [
        "pd.set_option('display.max_rows',None)\n",
        "train.isna().sum()"
      ],
      "metadata": {
        "colab": {
          "base_uri": "https://localhost:8080/"
        },
        "id": "3Oqctcsha_Tf",
        "outputId": "030ec403-003e-4a36-ef78-168decc1846b"
      },
      "execution_count": 7,
      "outputs": [
        {
          "output_type": "execute_result",
          "data": {
            "text/plain": [
              "itching                              0\n",
              "skin_rash                            0\n",
              "nodal_skin_eruptions                 0\n",
              "continuous_sneezing                  0\n",
              "shivering                            0\n",
              "chills                               0\n",
              "joint_pain                           0\n",
              "stomach_pain                         0\n",
              "acidity                              0\n",
              "ulcers_on_tongue                     0\n",
              "muscle_wasting                       0\n",
              "vomiting                             0\n",
              "burning_micturition                  0\n",
              "spotting_ urination                  0\n",
              "fatigue                              0\n",
              "weight_gain                          0\n",
              "anxiety                              0\n",
              "cold_hands_and_feets                 0\n",
              "mood_swings                          0\n",
              "weight_loss                          0\n",
              "restlessness                         0\n",
              "lethargy                             0\n",
              "patches_in_throat                    0\n",
              "irregular_sugar_level                0\n",
              "cough                                0\n",
              "high_fever                           0\n",
              "sunken_eyes                          0\n",
              "breathlessness                       0\n",
              "sweating                             0\n",
              "dehydration                          0\n",
              "indigestion                          0\n",
              "headache                             0\n",
              "yellowish_skin                       0\n",
              "dark_urine                           0\n",
              "nausea                               0\n",
              "loss_of_appetite                     0\n",
              "pain_behind_the_eyes                 0\n",
              "back_pain                            0\n",
              "constipation                         0\n",
              "abdominal_pain                       0\n",
              "diarrhoea                            0\n",
              "mild_fever                           0\n",
              "yellow_urine                         0\n",
              "yellowing_of_eyes                    0\n",
              "acute_liver_failure                  0\n",
              "fluid_overload                       0\n",
              "swelling_of_stomach                  0\n",
              "swelled_lymph_nodes                  0\n",
              "malaise                              0\n",
              "blurred_and_distorted_vision         0\n",
              "phlegm                               0\n",
              "throat_irritation                    0\n",
              "redness_of_eyes                      0\n",
              "sinus_pressure                       0\n",
              "runny_nose                           0\n",
              "congestion                           0\n",
              "chest_pain                           0\n",
              "weakness_in_limbs                    0\n",
              "fast_heart_rate                      0\n",
              "pain_during_bowel_movements          0\n",
              "pain_in_anal_region                  0\n",
              "bloody_stool                         0\n",
              "irritation_in_anus                   0\n",
              "neck_pain                            0\n",
              "dizziness                            0\n",
              "cramps                               0\n",
              "bruising                             0\n",
              "obesity                              0\n",
              "swollen_legs                         0\n",
              "swollen_blood_vessels                0\n",
              "puffy_face_and_eyes                  0\n",
              "enlarged_thyroid                     0\n",
              "brittle_nails                        0\n",
              "swollen_extremeties                  0\n",
              "excessive_hunger                     0\n",
              "extra_marital_contacts               0\n",
              "drying_and_tingling_lips             0\n",
              "slurred_speech                       0\n",
              "knee_pain                            0\n",
              "hip_joint_pain                       0\n",
              "muscle_weakness                      0\n",
              "stiff_neck                           0\n",
              "swelling_joints                      0\n",
              "movement_stiffness                   0\n",
              "spinning_movements                   0\n",
              "loss_of_balance                      0\n",
              "unsteadiness                         0\n",
              "weakness_of_one_body_side            0\n",
              "loss_of_smell                        0\n",
              "bladder_discomfort                   0\n",
              "foul_smell_of urine                  0\n",
              "continuous_feel_of_urine             0\n",
              "passage_of_gases                     0\n",
              "internal_itching                     0\n",
              "toxic_look_(typhos)                  0\n",
              "depression                           0\n",
              "irritability                         0\n",
              "muscle_pain                          0\n",
              "altered_sensorium                    0\n",
              "red_spots_over_body                  0\n",
              "belly_pain                           0\n",
              "abnormal_menstruation                0\n",
              "dischromic _patches                  0\n",
              "watering_from_eyes                   0\n",
              "increased_appetite                   0\n",
              "polyuria                             0\n",
              "family_history                       0\n",
              "mucoid_sputum                        0\n",
              "rusty_sputum                         0\n",
              "lack_of_concentration                0\n",
              "visual_disturbances                  0\n",
              "receiving_blood_transfusion          0\n",
              "receiving_unsterile_injections       0\n",
              "coma                                 0\n",
              "stomach_bleeding                     0\n",
              "distention_of_abdomen                0\n",
              "history_of_alcohol_consumption       0\n",
              "fluid_overload.1                     0\n",
              "blood_in_sputum                      0\n",
              "prominent_veins_on_calf              0\n",
              "palpitations                         0\n",
              "painful_walking                      0\n",
              "pus_filled_pimples                   0\n",
              "blackheads                           0\n",
              "scurring                             0\n",
              "skin_peeling                         0\n",
              "silver_like_dusting                  0\n",
              "small_dents_in_nails                 0\n",
              "inflammatory_nails                   0\n",
              "blister                              0\n",
              "red_sore_around_nose                 0\n",
              "yellow_crust_ooze                    0\n",
              "prognosis                            0\n",
              "Unnamed: 133                      4920\n",
              "dtype: int64"
            ]
          },
          "metadata": {},
          "execution_count": 7
        }
      ]
    },
    {
      "cell_type": "markdown",
      "source": [
        "From the report above, it can be seen that there are no missing values, except for the 'Unnamed: 133' feature, which has 4920 missing values (totally empty feature). We will omit this feature since this feature does not provide any insight."
      ],
      "metadata": {
        "id": "iQmU9Pd7fRjx"
      }
    },
    {
      "cell_type": "code",
      "source": [
        "train.drop('Unnamed: 133', axis = 1, inplace = True)"
      ],
      "metadata": {
        "id": "1DdJRcdlfoyZ"
      },
      "execution_count": 8,
      "outputs": []
    },
    {
      "cell_type": "markdown",
      "source": [
        "###IIc. Unique values"
      ],
      "metadata": {
        "id": "VKdtr4fBarPr"
      }
    },
    {
      "cell_type": "markdown",
      "source": [
        "####Symptom features"
      ],
      "metadata": {
        "id": "jW5FjGCyKal-"
      }
    },
    {
      "cell_type": "code",
      "source": [
        "# Getting the feature names in a list\n",
        "listtrainCols = list(train.columns.values[:-1])\n",
        "\n",
        "# Calculating the number of each feature's unique values\n",
        "ListUVcount = []\n",
        "for i in train.columns[:-1]:\n",
        "    UVcount = len(train[i].unique())\n",
        "    ListUVcount.append(UVcount)\n",
        "\n",
        "# Storing the unique values of each feature in a list\n",
        "ListUV = []\n",
        "for i in train.columns[:-1]:\n",
        "    UV = list(train[i].unique())\n",
        "    ListUV.append(UV)\n",
        "\n",
        "# Creating the unique values table\n",
        "Table = pd.DataFrame(list(zip(listtrainCols, ListUVcount, ListUV)))\n",
        "Table.columns = ['Feature', 'Number of Unique Values', 'Unique Values']\n",
        "\n",
        "# Displaying the report\n",
        "print('Unique values in each feature:')\n",
        "print(Table.to_string(index = False))"
      ],
      "metadata": {
        "colab": {
          "base_uri": "https://localhost:8080/"
        },
        "id": "-jz4TN3iiM79",
        "outputId": "f2b837e8-b4c0-4731-91d0-b27e073fd2a5"
      },
      "execution_count": 9,
      "outputs": [
        {
          "output_type": "stream",
          "name": "stdout",
          "text": [
            "Unique values in each feature:\n",
            "                       Feature  Number of Unique Values Unique Values\n",
            "                       itching                        2        [1, 0]\n",
            "                     skin_rash                        2        [1, 0]\n",
            "          nodal_skin_eruptions                        2        [1, 0]\n",
            "           continuous_sneezing                        2        [0, 1]\n",
            "                     shivering                        2        [0, 1]\n",
            "                        chills                        2        [0, 1]\n",
            "                    joint_pain                        2        [0, 1]\n",
            "                  stomach_pain                        2        [0, 1]\n",
            "                       acidity                        2        [0, 1]\n",
            "              ulcers_on_tongue                        2        [0, 1]\n",
            "                muscle_wasting                        2        [0, 1]\n",
            "                      vomiting                        2        [0, 1]\n",
            "           burning_micturition                        2        [0, 1]\n",
            "           spotting_ urination                        2        [0, 1]\n",
            "                       fatigue                        2        [0, 1]\n",
            "                   weight_gain                        2        [0, 1]\n",
            "                       anxiety                        2        [0, 1]\n",
            "          cold_hands_and_feets                        2        [0, 1]\n",
            "                   mood_swings                        2        [0, 1]\n",
            "                   weight_loss                        2        [0, 1]\n",
            "                  restlessness                        2        [0, 1]\n",
            "                      lethargy                        2        [0, 1]\n",
            "             patches_in_throat                        2        [0, 1]\n",
            "         irregular_sugar_level                        2        [0, 1]\n",
            "                         cough                        2        [0, 1]\n",
            "                    high_fever                        2        [0, 1]\n",
            "                   sunken_eyes                        2        [0, 1]\n",
            "                breathlessness                        2        [0, 1]\n",
            "                      sweating                        2        [0, 1]\n",
            "                   dehydration                        2        [0, 1]\n",
            "                   indigestion                        2        [0, 1]\n",
            "                      headache                        2        [0, 1]\n",
            "                yellowish_skin                        2        [0, 1]\n",
            "                    dark_urine                        2        [0, 1]\n",
            "                        nausea                        2        [0, 1]\n",
            "              loss_of_appetite                        2        [0, 1]\n",
            "          pain_behind_the_eyes                        2        [0, 1]\n",
            "                     back_pain                        2        [0, 1]\n",
            "                  constipation                        2        [0, 1]\n",
            "                abdominal_pain                        2        [0, 1]\n",
            "                     diarrhoea                        2        [0, 1]\n",
            "                    mild_fever                        2        [0, 1]\n",
            "                  yellow_urine                        2        [0, 1]\n",
            "             yellowing_of_eyes                        2        [0, 1]\n",
            "           acute_liver_failure                        2        [0, 1]\n",
            "                fluid_overload                        1           [0]\n",
            "           swelling_of_stomach                        2        [0, 1]\n",
            "           swelled_lymph_nodes                        2        [0, 1]\n",
            "                       malaise                        2        [0, 1]\n",
            "  blurred_and_distorted_vision                        2        [0, 1]\n",
            "                        phlegm                        2        [0, 1]\n",
            "             throat_irritation                        2        [0, 1]\n",
            "               redness_of_eyes                        2        [0, 1]\n",
            "                sinus_pressure                        2        [0, 1]\n",
            "                    runny_nose                        2        [0, 1]\n",
            "                    congestion                        2        [0, 1]\n",
            "                    chest_pain                        2        [0, 1]\n",
            "             weakness_in_limbs                        2        [0, 1]\n",
            "               fast_heart_rate                        2        [0, 1]\n",
            "   pain_during_bowel_movements                        2        [0, 1]\n",
            "           pain_in_anal_region                        2        [0, 1]\n",
            "                  bloody_stool                        2        [0, 1]\n",
            "            irritation_in_anus                        2        [0, 1]\n",
            "                     neck_pain                        2        [0, 1]\n",
            "                     dizziness                        2        [0, 1]\n",
            "                        cramps                        2        [0, 1]\n",
            "                      bruising                        2        [0, 1]\n",
            "                       obesity                        2        [0, 1]\n",
            "                  swollen_legs                        2        [0, 1]\n",
            "         swollen_blood_vessels                        2        [0, 1]\n",
            "           puffy_face_and_eyes                        2        [0, 1]\n",
            "              enlarged_thyroid                        2        [0, 1]\n",
            "                 brittle_nails                        2        [0, 1]\n",
            "           swollen_extremeties                        2        [0, 1]\n",
            "              excessive_hunger                        2        [0, 1]\n",
            "        extra_marital_contacts                        2        [0, 1]\n",
            "      drying_and_tingling_lips                        2        [0, 1]\n",
            "                slurred_speech                        2        [0, 1]\n",
            "                     knee_pain                        2        [0, 1]\n",
            "                hip_joint_pain                        2        [0, 1]\n",
            "               muscle_weakness                        2        [0, 1]\n",
            "                    stiff_neck                        2        [0, 1]\n",
            "               swelling_joints                        2        [0, 1]\n",
            "            movement_stiffness                        2        [0, 1]\n",
            "            spinning_movements                        2        [0, 1]\n",
            "               loss_of_balance                        2        [0, 1]\n",
            "                  unsteadiness                        2        [0, 1]\n",
            "     weakness_of_one_body_side                        2        [0, 1]\n",
            "                 loss_of_smell                        2        [0, 1]\n",
            "            bladder_discomfort                        2        [0, 1]\n",
            "           foul_smell_of urine                        2        [0, 1]\n",
            "      continuous_feel_of_urine                        2        [0, 1]\n",
            "              passage_of_gases                        2        [0, 1]\n",
            "              internal_itching                        2        [0, 1]\n",
            "           toxic_look_(typhos)                        2        [0, 1]\n",
            "                    depression                        2        [0, 1]\n",
            "                  irritability                        2        [0, 1]\n",
            "                   muscle_pain                        2        [0, 1]\n",
            "             altered_sensorium                        2        [0, 1]\n",
            "           red_spots_over_body                        2        [0, 1]\n",
            "                    belly_pain                        2        [0, 1]\n",
            "         abnormal_menstruation                        2        [0, 1]\n",
            "           dischromic _patches                        2        [1, 0]\n",
            "            watering_from_eyes                        2        [0, 1]\n",
            "            increased_appetite                        2        [0, 1]\n",
            "                      polyuria                        2        [0, 1]\n",
            "                family_history                        2        [0, 1]\n",
            "                 mucoid_sputum                        2        [0, 1]\n",
            "                  rusty_sputum                        2        [0, 1]\n",
            "         lack_of_concentration                        2        [0, 1]\n",
            "           visual_disturbances                        2        [0, 1]\n",
            "   receiving_blood_transfusion                        2        [0, 1]\n",
            "receiving_unsterile_injections                        2        [0, 1]\n",
            "                          coma                        2        [0, 1]\n",
            "              stomach_bleeding                        2        [0, 1]\n",
            "         distention_of_abdomen                        2        [0, 1]\n",
            "history_of_alcohol_consumption                        2        [0, 1]\n",
            "              fluid_overload.1                        2        [0, 1]\n",
            "               blood_in_sputum                        2        [0, 1]\n",
            "       prominent_veins_on_calf                        2        [0, 1]\n",
            "                  palpitations                        2        [0, 1]\n",
            "               painful_walking                        2        [0, 1]\n",
            "            pus_filled_pimples                        2        [0, 1]\n",
            "                    blackheads                        2        [0, 1]\n",
            "                      scurring                        2        [0, 1]\n",
            "                  skin_peeling                        2        [0, 1]\n",
            "           silver_like_dusting                        2        [0, 1]\n",
            "          small_dents_in_nails                        2        [0, 1]\n",
            "            inflammatory_nails                        2        [0, 1]\n",
            "                       blister                        2        [0, 1]\n",
            "          red_sore_around_nose                        2        [0, 1]\n",
            "             yellow_crust_ooze                        2        [0, 1]\n"
          ]
        }
      ]
    },
    {
      "cell_type": "markdown",
      "source": [
        "Each of the symptom feature has only two unique values '0' and '1', indicating that there are no abnormal values within it, except for the 'fluid_overload' feature. Let's do a little checking of the values in the 'fluid_overload' feature."
      ],
      "metadata": {
        "id": "RP0hOi_bBzKX"
      }
    },
    {
      "cell_type": "code",
      "source": [
        "# Checking the value count of the 'fluid_overload' feature\n",
        "print(\"Count of value '0' in the 'fluid_overload' feature : \" + str((train['fluid_overload'] == 0).sum()))"
      ],
      "metadata": {
        "colab": {
          "base_uri": "https://localhost:8080/"
        },
        "id": "QUXpooJNDfY9",
        "outputId": "f4129733-0293-4440-8647-9e05987d3769"
      },
      "execution_count": 10,
      "outputs": [
        {
          "output_type": "stream",
          "name": "stdout",
          "text": [
            "Count of value '0' in the 'fluid_overload' feature : 4920\n"
          ]
        }
      ]
    },
    {
      "cell_type": "markdown",
      "source": [
        "The 'fluid_overload' feature has 4920 entries with '0' value, which means that all of its value is '0' and indeed has only 1 unique value. Let's move on to the next part."
      ],
      "metadata": {
        "id": "NH8B7IbvGNse"
      }
    },
    {
      "cell_type": "markdown",
      "source": [
        "####'prognosis' feature"
      ],
      "metadata": {
        "id": "LioaxN5MM4W8"
      }
    },
    {
      "cell_type": "code",
      "source": [
        "# Storing the unique values of 'prognosis' feature in a list\n",
        "listUV = train['prognosis'].unique()\n",
        "\n",
        "# Reporting the number of the unique values\n",
        "print(\"Number of unique values in 'prognosis' feature : \" + str(len(listUV)) + '\\n')\n",
        "\n",
        "# Reporting the unique values and each of its count\n",
        "listUVcount = []\n",
        "for i in listUV:\n",
        "    UVcount = (train['prognosis'] == i).sum()\n",
        "    listUVcount.append(UVcount)\n",
        "\n",
        "# Creating a table for the report:\n",
        "table = pd.DataFrame(list(zip(listUV, listUVcount)))\n",
        "table.columns = ['Prognosis', 'Count']\n",
        "\n",
        "print(\"Unique values of the 'progosis' feature and each of its count : \")\n",
        "print(table)"
      ],
      "metadata": {
        "colab": {
          "base_uri": "https://localhost:8080/"
        },
        "id": "7RxBQHgMNFvX",
        "outputId": "61b34224-d442-463a-852d-7ecd6d1539ef"
      },
      "execution_count": 11,
      "outputs": [
        {
          "output_type": "stream",
          "name": "stdout",
          "text": [
            "Number of unique values in 'prognosis' feature : 41\n",
            "\n",
            "Unique values of the 'progosis' feature and each of its count : \n",
            "                                  Prognosis  Count\n",
            "0                          Fungal infection    120\n",
            "1                                   Allergy    120\n",
            "2                                      GERD    120\n",
            "3                       Chronic cholestasis    120\n",
            "4                             Drug Reaction    120\n",
            "5                       Peptic ulcer diseae    120\n",
            "6                                      AIDS    120\n",
            "7                                 Diabetes     120\n",
            "8                           Gastroenteritis    120\n",
            "9                          Bronchial Asthma    120\n",
            "10                            Hypertension     120\n",
            "11                                 Migraine    120\n",
            "12                     Cervical spondylosis    120\n",
            "13             Paralysis (brain hemorrhage)    120\n",
            "14                                 Jaundice    120\n",
            "15                                  Malaria    120\n",
            "16                              Chicken pox    120\n",
            "17                                   Dengue    120\n",
            "18                                  Typhoid    120\n",
            "19                              hepatitis A    120\n",
            "20                              Hepatitis B    120\n",
            "21                              Hepatitis C    120\n",
            "22                              Hepatitis D    120\n",
            "23                              Hepatitis E    120\n",
            "24                      Alcoholic hepatitis    120\n",
            "25                             Tuberculosis    120\n",
            "26                              Common Cold    120\n",
            "27                                Pneumonia    120\n",
            "28             Dimorphic hemmorhoids(piles)    120\n",
            "29                             Heart attack    120\n",
            "30                           Varicose veins    120\n",
            "31                           Hypothyroidism    120\n",
            "32                          Hyperthyroidism    120\n",
            "33                             Hypoglycemia    120\n",
            "34                          Osteoarthristis    120\n",
            "35                                Arthritis    120\n",
            "36  (vertigo) Paroymsal  Positional Vertigo    120\n",
            "37                                     Acne    120\n",
            "38                  Urinary tract infection    120\n",
            "39                                Psoriasis    120\n",
            "40                                 Impetigo    120\n"
          ]
        }
      ]
    },
    {
      "cell_type": "markdown",
      "source": [
        "There are equally 120 entries for every prognosis, which is a good thing, since it means that each prognosis has adequate samples."
      ],
      "metadata": {
        "id": "OpeUTE-Akoh9"
      }
    },
    {
      "cell_type": "markdown",
      "source": [
        "##III. Model Building"
      ],
      "metadata": {
        "id": "DrO6C40fG8xz"
      }
    },
    {
      "cell_type": "markdown",
      "source": [
        "####IIIa. Splitting the 'train' and 'test' datasets "
      ],
      "metadata": {
        "id": "hLiJU6WWYF5W"
      }
    },
    {
      "cell_type": "code",
      "source": [
        "# X_train and X_test contain the set of symptoms\n",
        "# y_train and y_test contain the prognosis, which is the answer to the symptoms\n",
        "X_train = train.drop('prognosis', axis = 1)\n",
        "y_train = train['prognosis']\n",
        "X_test = test.drop('prognosis', axis = 1)\n",
        "y_test = test['prognosis']"
      ],
      "metadata": {
        "id": "z4bLdkp7agE_"
      },
      "execution_count": 12,
      "outputs": []
    },
    {
      "cell_type": "markdown",
      "source": [
        "####IIIb. Decision Tree Classifier"
      ],
      "metadata": {
        "id": "appGK6KYe5VY"
      }
    },
    {
      "cell_type": "code",
      "source": [
        "# Setting up the model\n",
        "DTClassifier = DecisionTreeClassifier(criterion = 'entropy',\n",
        "                                      min_samples_leaf = 2)\n",
        "\n",
        "# Fitting the 'train' data into the model\n",
        "DTClassifier.fit(X_train, y_train)\n",
        "\n",
        "# Predicting the 'test' dataset\n",
        "DTpred = DTClassifier.predict(X_test)\n",
        "\n",
        "# Getting the accuracy of the model\n",
        "acc = DTClassifier.score(X_test, y_test)\n",
        "print('Decision Tree Classifier model accuracy: {:.2f}%'.format(acc*100))"
      ],
      "metadata": {
        "colab": {
          "base_uri": "https://localhost:8080/"
        },
        "id": "dyydre3adWyS",
        "outputId": "ca44a635-a4b0-4a31-b5d6-8d1291fc9e0e"
      },
      "execution_count": 28,
      "outputs": [
        {
          "output_type": "stream",
          "name": "stdout",
          "text": [
            "Decision Tree Classifier model accuracy: 100.00%\n"
          ]
        }
      ]
    },
    {
      "cell_type": "markdown",
      "source": [
        "####IIIc. Random Forest"
      ],
      "metadata": {
        "id": "NqVeKUTRjhIk"
      }
    },
    {
      "cell_type": "code",
      "source": [
        "# Setting up the model\n",
        "RFClassifier = RandomForestClassifier(criterion = 'entropy', \n",
        "                                      min_samples_leaf = 2)\n",
        "\n",
        "# Fitting the 'train' data into the model\n",
        "RFClassifier.fit(X_train, y_train)\n",
        "\n",
        "# Predicting the 'test' dataset\n",
        "RFpred = RFClassifier.predict(X_test)\n",
        "\n",
        "# Getting the accuracy of the model\n",
        "acc = RFClassifier.score(X_test, y_test)\n",
        "\n",
        "print('Random Forest Classifier model accuracy: {:.2f}%'.format(acc*100))"
      ],
      "metadata": {
        "colab": {
          "base_uri": "https://localhost:8080/"
        },
        "id": "AlIDSUZYl9C3",
        "outputId": "a909d1c2-127f-490e-aa73-f31894ef1d3a"
      },
      "execution_count": 29,
      "outputs": [
        {
          "output_type": "stream",
          "name": "stdout",
          "text": [
            "Random Forest Classifier model accuracy: 100.00%\n"
          ]
        }
      ]
    },
    {
      "cell_type": "markdown",
      "source": [
        "####IIId. Naive-Bayes"
      ],
      "metadata": {
        "id": "ymddEjxll5fm"
      }
    },
    {
      "cell_type": "code",
      "source": [
        "# Setting up the model\n",
        "gnb = GaussianNB()\n",
        "\n",
        "# Fitting the 'train' data into the model\n",
        "gnb.fit(X_train, y_train)\n",
        "\n",
        "# Predicting the 'test' dataset\n",
        "gnbpred = gnb.predict(X_test)\n",
        "\n",
        "# Getting the accuracy of the model\n",
        "acc = gnb.score(X_test, y_test)\n",
        "\n",
        "print('GaussianNB model accuracy: {:.2f}%'.format(acc*100))"
      ],
      "metadata": {
        "colab": {
          "base_uri": "https://localhost:8080/"
        },
        "id": "2ZDhZaCNl64d",
        "outputId": "2b9cfb5c-dfe0-4bfd-e3d3-2ae25ce0e022"
      },
      "execution_count": 30,
      "outputs": [
        {
          "output_type": "stream",
          "name": "stdout",
          "text": [
            "GaussianNB model accuracy: 100.00%\n"
          ]
        }
      ]
    },
    {
      "cell_type": "markdown",
      "source": [
        "###IIIe. Models Accuracy Report"
      ],
      "metadata": {
        "id": "gjHqC6WZonnG"
      }
    },
    {
      "cell_type": "code",
      "source": [
        "# Storing the models in a list for\n",
        "predictions = [DTpred, RFpred, gnbpred]\n",
        "\n",
        "# Storing the name of the models in a list\n",
        "models = ['Decision Tree Classifier', 'Random Forest Classifier', 'Naive Bayes']\n",
        "\n",
        "# Calculating the score of the models\n",
        "for i, j in zip(predictions, models):\n",
        "    report = classification_report(y_test, i)\n",
        "    print(colored((j + ' Model Score'), 'blue', attrs = ['bold']))\n",
        "    print(report)"
      ],
      "metadata": {
        "colab": {
          "base_uri": "https://localhost:8080/"
        },
        "id": "yojVgRHVoqFX",
        "outputId": "d38a3f00-939b-49a4-9256-5a15a85c493e"
      },
      "execution_count": 31,
      "outputs": [
        {
          "output_type": "stream",
          "name": "stdout",
          "text": [
            "\u001b[1m\u001b[34mDecision Tree Classifier Model Score\u001b[0m\n",
            "                                         precision    recall  f1-score   support\n",
            "\n",
            "(vertigo) Paroymsal  Positional Vertigo       1.00      1.00      1.00         1\n",
            "                                   AIDS       1.00      1.00      1.00         1\n",
            "                                   Acne       1.00      1.00      1.00         1\n",
            "                    Alcoholic hepatitis       1.00      1.00      1.00         1\n",
            "                                Allergy       1.00      1.00      1.00         1\n",
            "                              Arthritis       1.00      1.00      1.00         1\n",
            "                       Bronchial Asthma       1.00      1.00      1.00         1\n",
            "                   Cervical spondylosis       1.00      1.00      1.00         1\n",
            "                            Chicken pox       1.00      1.00      1.00         1\n",
            "                    Chronic cholestasis       1.00      1.00      1.00         1\n",
            "                            Common Cold       1.00      1.00      1.00         1\n",
            "                                 Dengue       1.00      1.00      1.00         1\n",
            "                              Diabetes        1.00      1.00      1.00         1\n",
            "           Dimorphic hemmorhoids(piles)       1.00      1.00      1.00         1\n",
            "                          Drug Reaction       1.00      1.00      1.00         1\n",
            "                       Fungal infection       1.00      1.00      1.00         2\n",
            "                                   GERD       1.00      1.00      1.00         1\n",
            "                        Gastroenteritis       1.00      1.00      1.00         1\n",
            "                           Heart attack       1.00      1.00      1.00         1\n",
            "                            Hepatitis B       1.00      1.00      1.00         1\n",
            "                            Hepatitis C       1.00      1.00      1.00         1\n",
            "                            Hepatitis D       1.00      1.00      1.00         1\n",
            "                            Hepatitis E       1.00      1.00      1.00         1\n",
            "                          Hypertension        1.00      1.00      1.00         1\n",
            "                        Hyperthyroidism       1.00      1.00      1.00         1\n",
            "                           Hypoglycemia       1.00      1.00      1.00         1\n",
            "                         Hypothyroidism       1.00      1.00      1.00         1\n",
            "                               Impetigo       1.00      1.00      1.00         1\n",
            "                               Jaundice       1.00      1.00      1.00         1\n",
            "                                Malaria       1.00      1.00      1.00         1\n",
            "                               Migraine       1.00      1.00      1.00         1\n",
            "                        Osteoarthristis       1.00      1.00      1.00         1\n",
            "           Paralysis (brain hemorrhage)       1.00      1.00      1.00         1\n",
            "                    Peptic ulcer diseae       1.00      1.00      1.00         1\n",
            "                              Pneumonia       1.00      1.00      1.00         1\n",
            "                              Psoriasis       1.00      1.00      1.00         1\n",
            "                           Tuberculosis       1.00      1.00      1.00         1\n",
            "                                Typhoid       1.00      1.00      1.00         1\n",
            "                Urinary tract infection       1.00      1.00      1.00         1\n",
            "                         Varicose veins       1.00      1.00      1.00         1\n",
            "                            hepatitis A       1.00      1.00      1.00         1\n",
            "\n",
            "                               accuracy                           1.00        42\n",
            "                              macro avg       1.00      1.00      1.00        42\n",
            "                           weighted avg       1.00      1.00      1.00        42\n",
            "\n",
            "\u001b[1m\u001b[34mRandom Forest Classifier Model Score\u001b[0m\n",
            "                                         precision    recall  f1-score   support\n",
            "\n",
            "(vertigo) Paroymsal  Positional Vertigo       1.00      1.00      1.00         1\n",
            "                                   AIDS       1.00      1.00      1.00         1\n",
            "                                   Acne       1.00      1.00      1.00         1\n",
            "                    Alcoholic hepatitis       1.00      1.00      1.00         1\n",
            "                                Allergy       1.00      1.00      1.00         1\n",
            "                              Arthritis       1.00      1.00      1.00         1\n",
            "                       Bronchial Asthma       1.00      1.00      1.00         1\n",
            "                   Cervical spondylosis       1.00      1.00      1.00         1\n",
            "                            Chicken pox       1.00      1.00      1.00         1\n",
            "                    Chronic cholestasis       1.00      1.00      1.00         1\n",
            "                            Common Cold       1.00      1.00      1.00         1\n",
            "                                 Dengue       1.00      1.00      1.00         1\n",
            "                              Diabetes        1.00      1.00      1.00         1\n",
            "           Dimorphic hemmorhoids(piles)       1.00      1.00      1.00         1\n",
            "                          Drug Reaction       1.00      1.00      1.00         1\n",
            "                       Fungal infection       1.00      1.00      1.00         2\n",
            "                                   GERD       1.00      1.00      1.00         1\n",
            "                        Gastroenteritis       1.00      1.00      1.00         1\n",
            "                           Heart attack       1.00      1.00      1.00         1\n",
            "                            Hepatitis B       1.00      1.00      1.00         1\n",
            "                            Hepatitis C       1.00      1.00      1.00         1\n",
            "                            Hepatitis D       1.00      1.00      1.00         1\n",
            "                            Hepatitis E       1.00      1.00      1.00         1\n",
            "                          Hypertension        1.00      1.00      1.00         1\n",
            "                        Hyperthyroidism       1.00      1.00      1.00         1\n",
            "                           Hypoglycemia       1.00      1.00      1.00         1\n",
            "                         Hypothyroidism       1.00      1.00      1.00         1\n",
            "                               Impetigo       1.00      1.00      1.00         1\n",
            "                               Jaundice       1.00      1.00      1.00         1\n",
            "                                Malaria       1.00      1.00      1.00         1\n",
            "                               Migraine       1.00      1.00      1.00         1\n",
            "                        Osteoarthristis       1.00      1.00      1.00         1\n",
            "           Paralysis (brain hemorrhage)       1.00      1.00      1.00         1\n",
            "                    Peptic ulcer diseae       1.00      1.00      1.00         1\n",
            "                              Pneumonia       1.00      1.00      1.00         1\n",
            "                              Psoriasis       1.00      1.00      1.00         1\n",
            "                           Tuberculosis       1.00      1.00      1.00         1\n",
            "                                Typhoid       1.00      1.00      1.00         1\n",
            "                Urinary tract infection       1.00      1.00      1.00         1\n",
            "                         Varicose veins       1.00      1.00      1.00         1\n",
            "                            hepatitis A       1.00      1.00      1.00         1\n",
            "\n",
            "                               accuracy                           1.00        42\n",
            "                              macro avg       1.00      1.00      1.00        42\n",
            "                           weighted avg       1.00      1.00      1.00        42\n",
            "\n",
            "\u001b[1m\u001b[34mNaive Bayes Model Score\u001b[0m\n",
            "                                         precision    recall  f1-score   support\n",
            "\n",
            "(vertigo) Paroymsal  Positional Vertigo       1.00      1.00      1.00         1\n",
            "                                   AIDS       1.00      1.00      1.00         1\n",
            "                                   Acne       1.00      1.00      1.00         1\n",
            "                    Alcoholic hepatitis       1.00      1.00      1.00         1\n",
            "                                Allergy       1.00      1.00      1.00         1\n",
            "                              Arthritis       1.00      1.00      1.00         1\n",
            "                       Bronchial Asthma       1.00      1.00      1.00         1\n",
            "                   Cervical spondylosis       1.00      1.00      1.00         1\n",
            "                            Chicken pox       1.00      1.00      1.00         1\n",
            "                    Chronic cholestasis       1.00      1.00      1.00         1\n",
            "                            Common Cold       1.00      1.00      1.00         1\n",
            "                                 Dengue       1.00      1.00      1.00         1\n",
            "                              Diabetes        1.00      1.00      1.00         1\n",
            "           Dimorphic hemmorhoids(piles)       1.00      1.00      1.00         1\n",
            "                          Drug Reaction       1.00      1.00      1.00         1\n",
            "                       Fungal infection       1.00      1.00      1.00         2\n",
            "                                   GERD       1.00      1.00      1.00         1\n",
            "                        Gastroenteritis       1.00      1.00      1.00         1\n",
            "                           Heart attack       1.00      1.00      1.00         1\n",
            "                            Hepatitis B       1.00      1.00      1.00         1\n",
            "                            Hepatitis C       1.00      1.00      1.00         1\n",
            "                            Hepatitis D       1.00      1.00      1.00         1\n",
            "                            Hepatitis E       1.00      1.00      1.00         1\n",
            "                          Hypertension        1.00      1.00      1.00         1\n",
            "                        Hyperthyroidism       1.00      1.00      1.00         1\n",
            "                           Hypoglycemia       1.00      1.00      1.00         1\n",
            "                         Hypothyroidism       1.00      1.00      1.00         1\n",
            "                               Impetigo       1.00      1.00      1.00         1\n",
            "                               Jaundice       1.00      1.00      1.00         1\n",
            "                                Malaria       1.00      1.00      1.00         1\n",
            "                               Migraine       1.00      1.00      1.00         1\n",
            "                        Osteoarthristis       1.00      1.00      1.00         1\n",
            "           Paralysis (brain hemorrhage)       1.00      1.00      1.00         1\n",
            "                    Peptic ulcer diseae       1.00      1.00      1.00         1\n",
            "                              Pneumonia       1.00      1.00      1.00         1\n",
            "                              Psoriasis       1.00      1.00      1.00         1\n",
            "                           Tuberculosis       1.00      1.00      1.00         1\n",
            "                                Typhoid       1.00      1.00      1.00         1\n",
            "                Urinary tract infection       1.00      1.00      1.00         1\n",
            "                         Varicose veins       1.00      1.00      1.00         1\n",
            "                            hepatitis A       1.00      1.00      1.00         1\n",
            "\n",
            "                               accuracy                           1.00        42\n",
            "                              macro avg       1.00      1.00      1.00        42\n",
            "                           weighted avg       1.00      1.00      1.00        42\n",
            "\n"
          ]
        }
      ]
    },
    {
      "cell_type": "markdown",
      "source": [
        "All three models perform well with 100% accuracy."
      ],
      "metadata": {
        "id": "w4OtfW8ltG2Z"
      }
    }
  ]
}