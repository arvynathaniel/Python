{
  "nbformat": 4,
  "nbformat_minor": 0,
  "metadata": {
    "colab": {
      "name": "Disease Prediction (Support Vector Machine).ipynb",
      "provenance": [],
      "collapsed_sections": [],
      "toc_visible": true,
      "authorship_tag": "ABX9TyOApUcOGdwX/OYGJZ6qItQf",
      "include_colab_link": true
    },
    "kernelspec": {
      "name": "python3",
      "display_name": "Python 3"
    },
    "language_info": {
      "name": "python"
    }
  },
  "cells": [
    {
      "cell_type": "markdown",
      "metadata": {
        "id": "view-in-github",
        "colab_type": "text"
      },
      "source": [
        "<a href=\"https://colab.research.google.com/github/arvynathaniel/Python/blob/main/Disease_Prediction_(Support_Vector_Machine).ipynb\" target=\"_parent\"><img src=\"https://colab.research.google.com/assets/colab-badge.svg\" alt=\"Open In Colab\"/></a>"
      ]
    },
    {
      "cell_type": "markdown",
      "source": [
        "#**Disease Prediction**"
      ],
      "metadata": {
        "id": "hhQlaa_sS-wn"
      }
    },
    {
      "cell_type": "markdown",
      "source": [
        "In this project, we will be looking at a pair of datasets containing symptoms of a disease and their prognosis. The main objective of this project is to predict what kind of disease is likely to be based on a set of symptoms that occur. To do so, some machine learning algorithms will be used. We will feed the 'train' dataset to the machine learning algorithms for the pattern recognizing and learning process, then test the model with the 'test' dataset.\n",
        "\n",
        "The main work sequence that will be performed in this project:\n",
        "1.   Calling in the libraries and dataset\n",
        "2.   Prediction models building\n",
        "\n",
        "Our thanks to the provider of the original datasets.\n",
        "Source: https://www.kaggle.com/datasets/kaushil268/disease-prediction-using-machine-learning\n",
        "\n",
        "My data cleaning process of the original 'training' dataset\n",
        "https://colab.research.google.com/drive/1zioB8m0Xr5aJKFe0pc6qXyCbKP4ORF8i?usp=sharing"
      ],
      "metadata": {
        "id": "Csj8Ps0wWXBm"
      }
    },
    {
      "cell_type": "markdown",
      "source": [
        "#**I. Calling in the Libraries and Datasets**"
      ],
      "metadata": {
        "id": "dMzBPVCnZKus"
      }
    },
    {
      "cell_type": "markdown",
      "source": [
        "##Ia. Libraries"
      ],
      "metadata": {
        "id": "xl7u3TEmZQd7"
      }
    },
    {
      "cell_type": "code",
      "source": [
        "# pandas to help us visualizing and manipulating the data in a tabular form\n",
        "import pandas as pd\n",
        "\n",
        "# numpy to help us with mathematical operations\n",
        "import numpy as np\n",
        "\n",
        "# sklearn to help us in the model building part\n",
        "from sklearn.svm import SVC\n",
        "from sklearn.metrics import classification_report\n",
        "from sklearn.model_selection import GridSearchCV\n",
        "from sklearn.preprocessing import LabelEncoder\n",
        "lb = LabelEncoder()"
      ],
      "metadata": {
        "id": "dq309et8Zglu"
      },
      "execution_count": 55,
      "outputs": []
    },
    {
      "cell_type": "markdown",
      "source": [
        "##Ib. Datasets\n"
      ],
      "metadata": {
        "id": "5lnPq5R1ZSlU"
      }
    },
    {
      "cell_type": "code",
      "execution_count": null,
      "metadata": {
        "id": "HIkXeOHeSSD_"
      },
      "outputs": [],
      "source": [
        "train = pd.read_csv('Training Dataset (Cleaned) - Disease Prediction.csv')\n",
        "test = pd.read_csv('Testing.csv')"
      ]
    },
    {
      "cell_type": "markdown",
      "source": [
        "#**II. Data Overview**"
      ],
      "metadata": {
        "id": "hpGR6PXjacs9"
      }
    },
    {
      "cell_type": "markdown",
      "source": [
        "For a little recap of how the data looks like, we will display the information of the dataset as follow:"
      ],
      "metadata": {
        "id": "g55vXYzU7EZ6"
      }
    },
    {
      "cell_type": "code",
      "source": [
        "train.head()"
      ],
      "metadata": {
        "id": "1IxQ1gReaw5L",
        "colab": {
          "base_uri": "https://localhost:8080/",
          "height": 404
        },
        "outputId": "30bdf41e-4719-45ad-d164-1c502ab3c6b5"
      },
      "execution_count": null,
      "outputs": [
        {
          "output_type": "execute_result",
          "data": {
            "text/plain": [
              "   Unnamed: 0  itching  skin_rash  nodal_skin_eruptions  continuous_sneezing  \\\n",
              "0           0        1          1                     1                    0   \n",
              "1           1        0          1                     1                    0   \n",
              "2           2        1          0                     1                    0   \n",
              "3           3        1          1                     0                    0   \n",
              "4           4        1          1                     1                    0   \n",
              "\n",
              "   shivering  chills  joint_pain  stomach_pain  acidity  ...  blackheads  \\\n",
              "0          0       0           0             0        0  ...           0   \n",
              "1          0       0           0             0        0  ...           0   \n",
              "2          0       0           0             0        0  ...           0   \n",
              "3          0       0           0             0        0  ...           0   \n",
              "4          0       0           0             0        0  ...           0   \n",
              "\n",
              "   scurring  skin_peeling  silver_like_dusting  small_dents_in_nails  \\\n",
              "0         0             0                    0                     0   \n",
              "1         0             0                    0                     0   \n",
              "2         0             0                    0                     0   \n",
              "3         0             0                    0                     0   \n",
              "4         0             0                    0                     0   \n",
              "\n",
              "   inflammatory_nails  blister  red_sore_around_nose  yellow_crust_ooze  \\\n",
              "0                   0        0                     0                  0   \n",
              "1                   0        0                     0                  0   \n",
              "2                   0        0                     0                  0   \n",
              "3                   0        0                     0                  0   \n",
              "4                   0        0                     0                  0   \n",
              "\n",
              "          prognosis  \n",
              "0  Fungal infection  \n",
              "1  Fungal infection  \n",
              "2  Fungal infection  \n",
              "3  Fungal infection  \n",
              "4  Fungal infection  \n",
              "\n",
              "[5 rows x 134 columns]"
            ],
            "text/html": [
              "\n",
              "  <div id=\"df-6958e155-7831-412e-9470-4283e425ab72\">\n",
              "    <div class=\"colab-df-container\">\n",
              "      <div>\n",
              "<style scoped>\n",
              "    .dataframe tbody tr th:only-of-type {\n",
              "        vertical-align: middle;\n",
              "    }\n",
              "\n",
              "    .dataframe tbody tr th {\n",
              "        vertical-align: top;\n",
              "    }\n",
              "\n",
              "    .dataframe thead th {\n",
              "        text-align: right;\n",
              "    }\n",
              "</style>\n",
              "<table border=\"1\" class=\"dataframe\">\n",
              "  <thead>\n",
              "    <tr style=\"text-align: right;\">\n",
              "      <th></th>\n",
              "      <th>Unnamed: 0</th>\n",
              "      <th>itching</th>\n",
              "      <th>skin_rash</th>\n",
              "      <th>nodal_skin_eruptions</th>\n",
              "      <th>continuous_sneezing</th>\n",
              "      <th>shivering</th>\n",
              "      <th>chills</th>\n",
              "      <th>joint_pain</th>\n",
              "      <th>stomach_pain</th>\n",
              "      <th>acidity</th>\n",
              "      <th>...</th>\n",
              "      <th>blackheads</th>\n",
              "      <th>scurring</th>\n",
              "      <th>skin_peeling</th>\n",
              "      <th>silver_like_dusting</th>\n",
              "      <th>small_dents_in_nails</th>\n",
              "      <th>inflammatory_nails</th>\n",
              "      <th>blister</th>\n",
              "      <th>red_sore_around_nose</th>\n",
              "      <th>yellow_crust_ooze</th>\n",
              "      <th>prognosis</th>\n",
              "    </tr>\n",
              "  </thead>\n",
              "  <tbody>\n",
              "    <tr>\n",
              "      <th>0</th>\n",
              "      <td>0</td>\n",
              "      <td>1</td>\n",
              "      <td>1</td>\n",
              "      <td>1</td>\n",
              "      <td>0</td>\n",
              "      <td>0</td>\n",
              "      <td>0</td>\n",
              "      <td>0</td>\n",
              "      <td>0</td>\n",
              "      <td>0</td>\n",
              "      <td>...</td>\n",
              "      <td>0</td>\n",
              "      <td>0</td>\n",
              "      <td>0</td>\n",
              "      <td>0</td>\n",
              "      <td>0</td>\n",
              "      <td>0</td>\n",
              "      <td>0</td>\n",
              "      <td>0</td>\n",
              "      <td>0</td>\n",
              "      <td>Fungal infection</td>\n",
              "    </tr>\n",
              "    <tr>\n",
              "      <th>1</th>\n",
              "      <td>1</td>\n",
              "      <td>0</td>\n",
              "      <td>1</td>\n",
              "      <td>1</td>\n",
              "      <td>0</td>\n",
              "      <td>0</td>\n",
              "      <td>0</td>\n",
              "      <td>0</td>\n",
              "      <td>0</td>\n",
              "      <td>0</td>\n",
              "      <td>...</td>\n",
              "      <td>0</td>\n",
              "      <td>0</td>\n",
              "      <td>0</td>\n",
              "      <td>0</td>\n",
              "      <td>0</td>\n",
              "      <td>0</td>\n",
              "      <td>0</td>\n",
              "      <td>0</td>\n",
              "      <td>0</td>\n",
              "      <td>Fungal infection</td>\n",
              "    </tr>\n",
              "    <tr>\n",
              "      <th>2</th>\n",
              "      <td>2</td>\n",
              "      <td>1</td>\n",
              "      <td>0</td>\n",
              "      <td>1</td>\n",
              "      <td>0</td>\n",
              "      <td>0</td>\n",
              "      <td>0</td>\n",
              "      <td>0</td>\n",
              "      <td>0</td>\n",
              "      <td>0</td>\n",
              "      <td>...</td>\n",
              "      <td>0</td>\n",
              "      <td>0</td>\n",
              "      <td>0</td>\n",
              "      <td>0</td>\n",
              "      <td>0</td>\n",
              "      <td>0</td>\n",
              "      <td>0</td>\n",
              "      <td>0</td>\n",
              "      <td>0</td>\n",
              "      <td>Fungal infection</td>\n",
              "    </tr>\n",
              "    <tr>\n",
              "      <th>3</th>\n",
              "      <td>3</td>\n",
              "      <td>1</td>\n",
              "      <td>1</td>\n",
              "      <td>0</td>\n",
              "      <td>0</td>\n",
              "      <td>0</td>\n",
              "      <td>0</td>\n",
              "      <td>0</td>\n",
              "      <td>0</td>\n",
              "      <td>0</td>\n",
              "      <td>...</td>\n",
              "      <td>0</td>\n",
              "      <td>0</td>\n",
              "      <td>0</td>\n",
              "      <td>0</td>\n",
              "      <td>0</td>\n",
              "      <td>0</td>\n",
              "      <td>0</td>\n",
              "      <td>0</td>\n",
              "      <td>0</td>\n",
              "      <td>Fungal infection</td>\n",
              "    </tr>\n",
              "    <tr>\n",
              "      <th>4</th>\n",
              "      <td>4</td>\n",
              "      <td>1</td>\n",
              "      <td>1</td>\n",
              "      <td>1</td>\n",
              "      <td>0</td>\n",
              "      <td>0</td>\n",
              "      <td>0</td>\n",
              "      <td>0</td>\n",
              "      <td>0</td>\n",
              "      <td>0</td>\n",
              "      <td>...</td>\n",
              "      <td>0</td>\n",
              "      <td>0</td>\n",
              "      <td>0</td>\n",
              "      <td>0</td>\n",
              "      <td>0</td>\n",
              "      <td>0</td>\n",
              "      <td>0</td>\n",
              "      <td>0</td>\n",
              "      <td>0</td>\n",
              "      <td>Fungal infection</td>\n",
              "    </tr>\n",
              "  </tbody>\n",
              "</table>\n",
              "<p>5 rows × 134 columns</p>\n",
              "</div>\n",
              "      <button class=\"colab-df-convert\" onclick=\"convertToInteractive('df-6958e155-7831-412e-9470-4283e425ab72')\"\n",
              "              title=\"Convert this dataframe to an interactive table.\"\n",
              "              style=\"display:none;\">\n",
              "        \n",
              "  <svg xmlns=\"http://www.w3.org/2000/svg\" height=\"24px\"viewBox=\"0 0 24 24\"\n",
              "       width=\"24px\">\n",
              "    <path d=\"M0 0h24v24H0V0z\" fill=\"none\"/>\n",
              "    <path d=\"M18.56 5.44l.94 2.06.94-2.06 2.06-.94-2.06-.94-.94-2.06-.94 2.06-2.06.94zm-11 1L8.5 8.5l.94-2.06 2.06-.94-2.06-.94L8.5 2.5l-.94 2.06-2.06.94zm10 10l.94 2.06.94-2.06 2.06-.94-2.06-.94-.94-2.06-.94 2.06-2.06.94z\"/><path d=\"M17.41 7.96l-1.37-1.37c-.4-.4-.92-.59-1.43-.59-.52 0-1.04.2-1.43.59L10.3 9.45l-7.72 7.72c-.78.78-.78 2.05 0 2.83L4 21.41c.39.39.9.59 1.41.59.51 0 1.02-.2 1.41-.59l7.78-7.78 2.81-2.81c.8-.78.8-2.07 0-2.86zM5.41 20L4 18.59l7.72-7.72 1.47 1.35L5.41 20z\"/>\n",
              "  </svg>\n",
              "      </button>\n",
              "      \n",
              "  <style>\n",
              "    .colab-df-container {\n",
              "      display:flex;\n",
              "      flex-wrap:wrap;\n",
              "      gap: 12px;\n",
              "    }\n",
              "\n",
              "    .colab-df-convert {\n",
              "      background-color: #E8F0FE;\n",
              "      border: none;\n",
              "      border-radius: 50%;\n",
              "      cursor: pointer;\n",
              "      display: none;\n",
              "      fill: #1967D2;\n",
              "      height: 32px;\n",
              "      padding: 0 0 0 0;\n",
              "      width: 32px;\n",
              "    }\n",
              "\n",
              "    .colab-df-convert:hover {\n",
              "      background-color: #E2EBFA;\n",
              "      box-shadow: 0px 1px 2px rgba(60, 64, 67, 0.3), 0px 1px 3px 1px rgba(60, 64, 67, 0.15);\n",
              "      fill: #174EA6;\n",
              "    }\n",
              "\n",
              "    [theme=dark] .colab-df-convert {\n",
              "      background-color: #3B4455;\n",
              "      fill: #D2E3FC;\n",
              "    }\n",
              "\n",
              "    [theme=dark] .colab-df-convert:hover {\n",
              "      background-color: #434B5C;\n",
              "      box-shadow: 0px 1px 3px 1px rgba(0, 0, 0, 0.15);\n",
              "      filter: drop-shadow(0px 1px 2px rgba(0, 0, 0, 0.3));\n",
              "      fill: #FFFFFF;\n",
              "    }\n",
              "  </style>\n",
              "\n",
              "      <script>\n",
              "        const buttonEl =\n",
              "          document.querySelector('#df-6958e155-7831-412e-9470-4283e425ab72 button.colab-df-convert');\n",
              "        buttonEl.style.display =\n",
              "          google.colab.kernel.accessAllowed ? 'block' : 'none';\n",
              "\n",
              "        async function convertToInteractive(key) {\n",
              "          const element = document.querySelector('#df-6958e155-7831-412e-9470-4283e425ab72');\n",
              "          const dataTable =\n",
              "            await google.colab.kernel.invokeFunction('convertToInteractive',\n",
              "                                                     [key], {});\n",
              "          if (!dataTable) return;\n",
              "\n",
              "          const docLinkHtml = 'Like what you see? Visit the ' +\n",
              "            '<a target=\"_blank\" href=https://colab.research.google.com/notebooks/data_table.ipynb>data table notebook</a>'\n",
              "            + ' to learn more about interactive tables.';\n",
              "          element.innerHTML = '';\n",
              "          dataTable['output_type'] = 'display_data';\n",
              "          await google.colab.output.renderOutput(dataTable, element);\n",
              "          const docLink = document.createElement('div');\n",
              "          docLink.innerHTML = docLinkHtml;\n",
              "          element.appendChild(docLink);\n",
              "        }\n",
              "      </script>\n",
              "    </div>\n",
              "  </div>\n",
              "  "
            ]
          },
          "metadata": {},
          "execution_count": 17
        }
      ]
    },
    {
      "cell_type": "code",
      "source": [
        "# Dropping the unique identifier column\n",
        "train.drop('Unnamed: 0', axis = 1, inplace = True)"
      ],
      "metadata": {
        "id": "VESF4BLh-rjN"
      },
      "execution_count": null,
      "outputs": []
    },
    {
      "cell_type": "code",
      "source": [
        "train.info()"
      ],
      "metadata": {
        "id": "8d45fcC8bAbX",
        "colab": {
          "base_uri": "https://localhost:8080/"
        },
        "outputId": "5cc3a7b7-26ee-4e3f-e872-92ae2e80617a"
      },
      "execution_count": null,
      "outputs": [
        {
          "output_type": "stream",
          "name": "stdout",
          "text": [
            "<class 'pandas.core.frame.DataFrame'>\n",
            "RangeIndex: 4920 entries, 0 to 4919\n",
            "Columns: 133 entries, itching to prognosis\n",
            "dtypes: int64(132), object(1)\n",
            "memory usage: 5.0+ MB\n"
          ]
        }
      ]
    },
    {
      "cell_type": "markdown",
      "source": [
        "The 'train' dataset consists of 4920 entries and 133 columns"
      ],
      "metadata": {
        "id": "8e8xPS90iA-1"
      }
    },
    {
      "cell_type": "markdown",
      "source": [
        "#**III. Model Building**"
      ],
      "metadata": {
        "id": "DrO6C40fG8xz"
      }
    },
    {
      "cell_type": "markdown",
      "source": [
        "##IIIa. Splitting the 'train' and 'test' datasets "
      ],
      "metadata": {
        "id": "hLiJU6WWYF5W"
      }
    },
    {
      "cell_type": "code",
      "source": [
        "# X_train and X_test contain the set of symptoms\n",
        "# y_train and y_test contain the prognosis, which is the answer to the symptoms\n",
        "X_train = train.drop('prognosis', axis = 1)\n",
        "y_train = train['prognosis']\n",
        "X_test = test.drop('prognosis', axis = 1)\n",
        "y_test = test['prognosis']"
      ],
      "metadata": {
        "id": "z4bLdkp7agE_"
      },
      "execution_count": null,
      "outputs": []
    },
    {
      "cell_type": "markdown",
      "source": [
        "##IIIb. Support Vector Machine parameter tuning and selection"
      ],
      "metadata": {
        "id": "appGK6KYe5VY"
      }
    },
    {
      "cell_type": "markdown",
      "source": [
        "###Parameter grid"
      ],
      "metadata": {
        "id": "6oyecswI0RYE"
      }
    },
    {
      "cell_type": "markdown",
      "source": [
        "In this SVM model, there are some important parameters that need to be set. The parameters that will be set are as follow:\n",
        "\n",
        "*   kernel: functions that map lower dimensional data into a higher dimensional data\n",
        "*   c: a parameter that tells the model how many errors are still tolerable\n",
        "*   gamma: a parameter that tells the model how many data points should be considered when setting the width of hyper plane's margin lane\n",
        "\n"
      ],
      "metadata": {
        "id": "CJ5wHq-dWUhQ"
      }
    },
    {
      "cell_type": "code",
      "source": [
        "# kernel\n",
        "kernel = ['poly', 'rbf', 'sigmoid']\n",
        "\n",
        "# C\n",
        "C = [0.1, 10, 100, 1000]\n",
        "\n",
        "# gamma\n",
        "gamma = [0.001, 0.01, 0.1, 1.0]\n",
        "\n",
        "# Assigning the parameters into a parameter grid\n",
        "parameter_grid = {'kernel': kernel,\n",
        "                  'C': C,\n",
        "                  'gamma': gamma}"
      ],
      "metadata": {
        "id": "ikaygFZy1NQU"
      },
      "execution_count": 59,
      "outputs": []
    },
    {
      "cell_type": "markdown",
      "source": [
        "###Optimal set of parameters search"
      ],
      "metadata": {
        "id": "V4sPX-5i0rXg"
      }
    },
    {
      "cell_type": "markdown",
      "source": [
        "From the parameter grid that has just been created, an optimal set of parameters, which is the best, if not one of the better ones is to be determined using an iteration method that will try assigning each combination of parameters into the model."
      ],
      "metadata": {
        "id": "AzyJCCjLdyaY"
      }
    },
    {
      "cell_type": "code",
      "source": [
        "# The machine learning model that will be used\n",
        "svm = SVC()\n",
        "\n",
        "# Assigning the parameter grid into the model\n",
        "svm_random = GridSearchCV(estimator = svm,\n",
        "                          param_grid = parameter_grid,\n",
        "                          refit = True,\n",
        "                          verbose = 2)\n",
        "\n",
        "# Assigning the data into the random model\n",
        "svm_random.fit(X_train, y_train)"
      ],
      "metadata": {
        "colab": {
          "base_uri": "https://localhost:8080/"
        },
        "id": "rlvcW0Eq_xwK",
        "outputId": "d502dd83-518b-4ec2-c949-41be6911e7b8"
      },
      "execution_count": 61,
      "outputs": [
        {
          "output_type": "stream",
          "name": "stdout",
          "text": [
            "Fitting 5 folds for each of 48 candidates, totalling 240 fits\n",
            "[CV] END ....................C=0.1, gamma=0.001, kernel=poly; total time=   3.8s\n",
            "[CV] END ....................C=0.1, gamma=0.001, kernel=poly; total time=   2.8s\n",
            "[CV] END ....................C=0.1, gamma=0.001, kernel=poly; total time=   2.4s\n",
            "[CV] END ....................C=0.1, gamma=0.001, kernel=poly; total time=   2.5s\n",
            "[CV] END ....................C=0.1, gamma=0.001, kernel=poly; total time=   2.4s\n",
            "[CV] END .....................C=0.1, gamma=0.001, kernel=rbf; total time=   3.6s\n",
            "[CV] END .....................C=0.1, gamma=0.001, kernel=rbf; total time=   3.6s\n",
            "[CV] END .....................C=0.1, gamma=0.001, kernel=rbf; total time=   4.5s\n",
            "[CV] END .....................C=0.1, gamma=0.001, kernel=rbf; total time=   3.6s\n",
            "[CV] END .....................C=0.1, gamma=0.001, kernel=rbf; total time=   3.6s\n",
            "[CV] END .................C=0.1, gamma=0.001, kernel=sigmoid; total time=   3.3s\n",
            "[CV] END .................C=0.1, gamma=0.001, kernel=sigmoid; total time=   3.3s\n",
            "[CV] END .................C=0.1, gamma=0.001, kernel=sigmoid; total time=   3.3s\n",
            "[CV] END .................C=0.1, gamma=0.001, kernel=sigmoid; total time=   3.3s\n",
            "[CV] END .................C=0.1, gamma=0.001, kernel=sigmoid; total time=   3.3s\n",
            "[CV] END .....................C=0.1, gamma=0.01, kernel=poly; total time=   2.4s\n",
            "[CV] END .....................C=0.1, gamma=0.01, kernel=poly; total time=   2.4s\n",
            "[CV] END .....................C=0.1, gamma=0.01, kernel=poly; total time=   2.4s\n",
            "[CV] END .....................C=0.1, gamma=0.01, kernel=poly; total time=   2.4s\n",
            "[CV] END .....................C=0.1, gamma=0.01, kernel=poly; total time=   2.4s\n",
            "[CV] END ......................C=0.1, gamma=0.01, kernel=rbf; total time=   3.2s\n",
            "[CV] END ......................C=0.1, gamma=0.01, kernel=rbf; total time=   3.1s\n",
            "[CV] END ......................C=0.1, gamma=0.01, kernel=rbf; total time=   3.2s\n",
            "[CV] END ......................C=0.1, gamma=0.01, kernel=rbf; total time=   4.2s\n",
            "[CV] END ......................C=0.1, gamma=0.01, kernel=rbf; total time=   3.7s\n",
            "[CV] END ..................C=0.1, gamma=0.01, kernel=sigmoid; total time=   3.3s\n",
            "[CV] END ..................C=0.1, gamma=0.01, kernel=sigmoid; total time=   3.4s\n",
            "[CV] END ..................C=0.1, gamma=0.01, kernel=sigmoid; total time=   3.4s\n",
            "[CV] END ..................C=0.1, gamma=0.01, kernel=sigmoid; total time=   3.3s\n",
            "[CV] END ..................C=0.1, gamma=0.01, kernel=sigmoid; total time=   3.4s\n",
            "[CV] END ......................C=0.1, gamma=0.1, kernel=poly; total time=   1.2s\n",
            "[CV] END ......................C=0.1, gamma=0.1, kernel=poly; total time=   1.2s\n",
            "[CV] END ......................C=0.1, gamma=0.1, kernel=poly; total time=   1.3s\n",
            "[CV] END ......................C=0.1, gamma=0.1, kernel=poly; total time=   1.3s\n",
            "[CV] END ......................C=0.1, gamma=0.1, kernel=poly; total time=   1.3s\n",
            "[CV] END .......................C=0.1, gamma=0.1, kernel=rbf; total time=   1.0s\n",
            "[CV] END .......................C=0.1, gamma=0.1, kernel=rbf; total time=   0.9s\n",
            "[CV] END .......................C=0.1, gamma=0.1, kernel=rbf; total time=   1.1s\n",
            "[CV] END .......................C=0.1, gamma=0.1, kernel=rbf; total time=   1.1s\n",
            "[CV] END .......................C=0.1, gamma=0.1, kernel=rbf; total time=   1.1s\n",
            "[CV] END ...................C=0.1, gamma=0.1, kernel=sigmoid; total time=   1.3s\n",
            "[CV] END ...................C=0.1, gamma=0.1, kernel=sigmoid; total time=   1.3s\n",
            "[CV] END ...................C=0.1, gamma=0.1, kernel=sigmoid; total time=   1.4s\n",
            "[CV] END ...................C=0.1, gamma=0.1, kernel=sigmoid; total time=   1.4s\n",
            "[CV] END ...................C=0.1, gamma=0.1, kernel=sigmoid; total time=   1.4s\n",
            "[CV] END ......................C=0.1, gamma=1.0, kernel=poly; total time=   0.3s\n",
            "[CV] END ......................C=0.1, gamma=1.0, kernel=poly; total time=   0.2s\n",
            "[CV] END ......................C=0.1, gamma=1.0, kernel=poly; total time=   0.2s\n",
            "[CV] END ......................C=0.1, gamma=1.0, kernel=poly; total time=   0.3s\n",
            "[CV] END ......................C=0.1, gamma=1.0, kernel=poly; total time=   0.3s\n",
            "[CV] END .......................C=0.1, gamma=1.0, kernel=rbf; total time=   1.2s\n",
            "[CV] END .......................C=0.1, gamma=1.0, kernel=rbf; total time=   1.2s\n",
            "[CV] END .......................C=0.1, gamma=1.0, kernel=rbf; total time=   1.4s\n",
            "[CV] END .......................C=0.1, gamma=1.0, kernel=rbf; total time=   1.6s\n",
            "[CV] END .......................C=0.1, gamma=1.0, kernel=rbf; total time=   1.5s\n",
            "[CV] END ...................C=0.1, gamma=1.0, kernel=sigmoid; total time=   2.1s\n",
            "[CV] END ...................C=0.1, gamma=1.0, kernel=sigmoid; total time=   2.1s\n",
            "[CV] END ...................C=0.1, gamma=1.0, kernel=sigmoid; total time=   2.0s\n",
            "[CV] END ...................C=0.1, gamma=1.0, kernel=sigmoid; total time=   2.1s\n",
            "[CV] END ...................C=0.1, gamma=1.0, kernel=sigmoid; total time=   2.1s\n",
            "[CV] END .....................C=10, gamma=0.001, kernel=poly; total time=   2.4s\n",
            "[CV] END .....................C=10, gamma=0.001, kernel=poly; total time=   2.4s\n",
            "[CV] END .....................C=10, gamma=0.001, kernel=poly; total time=   2.4s\n",
            "[CV] END .....................C=10, gamma=0.001, kernel=poly; total time=   2.5s\n",
            "[CV] END .....................C=10, gamma=0.001, kernel=poly; total time=   2.6s\n",
            "[CV] END ......................C=10, gamma=0.001, kernel=rbf; total time=   1.2s\n",
            "[CV] END ......................C=10, gamma=0.001, kernel=rbf; total time=   1.1s\n",
            "[CV] END ......................C=10, gamma=0.001, kernel=rbf; total time=   0.8s\n",
            "[CV] END ......................C=10, gamma=0.001, kernel=rbf; total time=   0.8s\n",
            "[CV] END ......................C=10, gamma=0.001, kernel=rbf; total time=   0.9s\n",
            "[CV] END ..................C=10, gamma=0.001, kernel=sigmoid; total time=   1.0s\n",
            "[CV] END ..................C=10, gamma=0.001, kernel=sigmoid; total time=   1.0s\n",
            "[CV] END ..................C=10, gamma=0.001, kernel=sigmoid; total time=   1.1s\n",
            "[CV] END ..................C=10, gamma=0.001, kernel=sigmoid; total time=   1.1s\n",
            "[CV] END ..................C=10, gamma=0.001, kernel=sigmoid; total time=   1.1s\n",
            "[CV] END ......................C=10, gamma=0.01, kernel=poly; total time=   2.3s\n",
            "[CV] END ......................C=10, gamma=0.01, kernel=poly; total time=   2.2s\n",
            "[CV] END ......................C=10, gamma=0.01, kernel=poly; total time=   2.3s\n",
            "[CV] END ......................C=10, gamma=0.01, kernel=poly; total time=   2.3s\n",
            "[CV] END ......................C=10, gamma=0.01, kernel=poly; total time=   2.3s\n",
            "[CV] END .......................C=10, gamma=0.01, kernel=rbf; total time=   0.4s\n",
            "[CV] END .......................C=10, gamma=0.01, kernel=rbf; total time=   0.4s\n",
            "[CV] END .......................C=10, gamma=0.01, kernel=rbf; total time=   0.3s\n",
            "[CV] END .......................C=10, gamma=0.01, kernel=rbf; total time=   0.4s\n",
            "[CV] END .......................C=10, gamma=0.01, kernel=rbf; total time=   0.4s\n",
            "[CV] END ...................C=10, gamma=0.01, kernel=sigmoid; total time=   0.3s\n",
            "[CV] END ...................C=10, gamma=0.01, kernel=sigmoid; total time=   0.4s\n",
            "[CV] END ...................C=10, gamma=0.01, kernel=sigmoid; total time=   0.4s\n",
            "[CV] END ...................C=10, gamma=0.01, kernel=sigmoid; total time=   0.3s\n",
            "[CV] END ...................C=10, gamma=0.01, kernel=sigmoid; total time=   0.3s\n",
            "[CV] END .......................C=10, gamma=0.1, kernel=poly; total time=   0.3s\n",
            "[CV] END .......................C=10, gamma=0.1, kernel=poly; total time=   0.3s\n",
            "[CV] END .......................C=10, gamma=0.1, kernel=poly; total time=   0.2s\n",
            "[CV] END .......................C=10, gamma=0.1, kernel=poly; total time=   0.3s\n",
            "[CV] END .......................C=10, gamma=0.1, kernel=poly; total time=   0.3s\n",
            "[CV] END ........................C=10, gamma=0.1, kernel=rbf; total time=   0.3s\n",
            "[CV] END ........................C=10, gamma=0.1, kernel=rbf; total time=   0.3s\n",
            "[CV] END ........................C=10, gamma=0.1, kernel=rbf; total time=   0.3s\n",
            "[CV] END ........................C=10, gamma=0.1, kernel=rbf; total time=   0.3s\n",
            "[CV] END ........................C=10, gamma=0.1, kernel=rbf; total time=   0.4s\n",
            "[CV] END ....................C=10, gamma=0.1, kernel=sigmoid; total time=   0.3s\n",
            "[CV] END ....................C=10, gamma=0.1, kernel=sigmoid; total time=   0.3s\n",
            "[CV] END ....................C=10, gamma=0.1, kernel=sigmoid; total time=   0.3s\n",
            "[CV] END ....................C=10, gamma=0.1, kernel=sigmoid; total time=   0.3s\n",
            "[CV] END ....................C=10, gamma=0.1, kernel=sigmoid; total time=   0.3s\n",
            "[CV] END .......................C=10, gamma=1.0, kernel=poly; total time=   0.3s\n",
            "[CV] END .......................C=10, gamma=1.0, kernel=poly; total time=   0.3s\n",
            "[CV] END .......................C=10, gamma=1.0, kernel=poly; total time=   0.2s\n",
            "[CV] END .......................C=10, gamma=1.0, kernel=poly; total time=   0.2s\n",
            "[CV] END .......................C=10, gamma=1.0, kernel=poly; total time=   0.2s\n",
            "[CV] END ........................C=10, gamma=1.0, kernel=rbf; total time=   0.4s\n",
            "[CV] END ........................C=10, gamma=1.0, kernel=rbf; total time=   0.4s\n",
            "[CV] END ........................C=10, gamma=1.0, kernel=rbf; total time=   0.3s\n",
            "[CV] END ........................C=10, gamma=1.0, kernel=rbf; total time=   0.3s\n",
            "[CV] END ........................C=10, gamma=1.0, kernel=rbf; total time=   0.3s\n",
            "[CV] END ....................C=10, gamma=1.0, kernel=sigmoid; total time=   0.8s\n",
            "[CV] END ....................C=10, gamma=1.0, kernel=sigmoid; total time=   0.8s\n",
            "[CV] END ....................C=10, gamma=1.0, kernel=sigmoid; total time=   0.8s\n",
            "[CV] END ....................C=10, gamma=1.0, kernel=sigmoid; total time=   0.8s\n",
            "[CV] END ....................C=10, gamma=1.0, kernel=sigmoid; total time=   0.8s\n",
            "[CV] END ....................C=100, gamma=0.001, kernel=poly; total time=   2.4s\n",
            "[CV] END ....................C=100, gamma=0.001, kernel=poly; total time=   2.4s\n",
            "[CV] END ....................C=100, gamma=0.001, kernel=poly; total time=   2.4s\n",
            "[CV] END ....................C=100, gamma=0.001, kernel=poly; total time=   2.4s\n",
            "[CV] END ....................C=100, gamma=0.001, kernel=poly; total time=   2.4s\n",
            "[CV] END .....................C=100, gamma=0.001, kernel=rbf; total time=   0.3s\n",
            "[CV] END .....................C=100, gamma=0.001, kernel=rbf; total time=   0.3s\n",
            "[CV] END .....................C=100, gamma=0.001, kernel=rbf; total time=   0.3s\n",
            "[CV] END .....................C=100, gamma=0.001, kernel=rbf; total time=   0.3s\n",
            "[CV] END .....................C=100, gamma=0.001, kernel=rbf; total time=   0.3s\n",
            "[CV] END .................C=100, gamma=0.001, kernel=sigmoid; total time=   0.3s\n",
            "[CV] END .................C=100, gamma=0.001, kernel=sigmoid; total time=   0.3s\n",
            "[CV] END .................C=100, gamma=0.001, kernel=sigmoid; total time=   0.3s\n",
            "[CV] END .................C=100, gamma=0.001, kernel=sigmoid; total time=   0.3s\n",
            "[CV] END .................C=100, gamma=0.001, kernel=sigmoid; total time=   0.3s\n",
            "[CV] END .....................C=100, gamma=0.01, kernel=poly; total time=   1.2s\n",
            "[CV] END .....................C=100, gamma=0.01, kernel=poly; total time=   1.2s\n",
            "[CV] END .....................C=100, gamma=0.01, kernel=poly; total time=   1.3s\n",
            "[CV] END .....................C=100, gamma=0.01, kernel=poly; total time=   1.3s\n",
            "[CV] END .....................C=100, gamma=0.01, kernel=poly; total time=   1.3s\n",
            "[CV] END ......................C=100, gamma=0.01, kernel=rbf; total time=   0.3s\n",
            "[CV] END ......................C=100, gamma=0.01, kernel=rbf; total time=   0.3s\n",
            "[CV] END ......................C=100, gamma=0.01, kernel=rbf; total time=   0.3s\n",
            "[CV] END ......................C=100, gamma=0.01, kernel=rbf; total time=   0.3s\n",
            "[CV] END ......................C=100, gamma=0.01, kernel=rbf; total time=   0.3s\n",
            "[CV] END ..................C=100, gamma=0.01, kernel=sigmoid; total time=   0.3s\n",
            "[CV] END ..................C=100, gamma=0.01, kernel=sigmoid; total time=   0.3s\n",
            "[CV] END ..................C=100, gamma=0.01, kernel=sigmoid; total time=   0.3s\n",
            "[CV] END ..................C=100, gamma=0.01, kernel=sigmoid; total time=   0.3s\n",
            "[CV] END ..................C=100, gamma=0.01, kernel=sigmoid; total time=   0.3s\n",
            "[CV] END ......................C=100, gamma=0.1, kernel=poly; total time=   0.3s\n",
            "[CV] END ......................C=100, gamma=0.1, kernel=poly; total time=   0.3s\n",
            "[CV] END ......................C=100, gamma=0.1, kernel=poly; total time=   0.2s\n",
            "[CV] END ......................C=100, gamma=0.1, kernel=poly; total time=   0.2s\n",
            "[CV] END ......................C=100, gamma=0.1, kernel=poly; total time=   0.3s\n",
            "[CV] END .......................C=100, gamma=0.1, kernel=rbf; total time=   0.3s\n",
            "[CV] END .......................C=100, gamma=0.1, kernel=rbf; total time=   0.3s\n",
            "[CV] END .......................C=100, gamma=0.1, kernel=rbf; total time=   0.3s\n",
            "[CV] END .......................C=100, gamma=0.1, kernel=rbf; total time=   0.3s\n",
            "[CV] END .......................C=100, gamma=0.1, kernel=rbf; total time=   0.3s\n",
            "[CV] END ...................C=100, gamma=0.1, kernel=sigmoid; total time=   0.3s\n",
            "[CV] END ...................C=100, gamma=0.1, kernel=sigmoid; total time=   0.3s\n",
            "[CV] END ...................C=100, gamma=0.1, kernel=sigmoid; total time=   0.3s\n",
            "[CV] END ...................C=100, gamma=0.1, kernel=sigmoid; total time=   0.3s\n",
            "[CV] END ...................C=100, gamma=0.1, kernel=sigmoid; total time=   0.3s\n",
            "[CV] END ......................C=100, gamma=1.0, kernel=poly; total time=   0.3s\n",
            "[CV] END ......................C=100, gamma=1.0, kernel=poly; total time=   0.3s\n",
            "[CV] END ......................C=100, gamma=1.0, kernel=poly; total time=   0.3s\n",
            "[CV] END ......................C=100, gamma=1.0, kernel=poly; total time=   0.2s\n",
            "[CV] END ......................C=100, gamma=1.0, kernel=poly; total time=   0.2s\n",
            "[CV] END .......................C=100, gamma=1.0, kernel=rbf; total time=   0.3s\n",
            "[CV] END .......................C=100, gamma=1.0, kernel=rbf; total time=   0.4s\n",
            "[CV] END .......................C=100, gamma=1.0, kernel=rbf; total time=   0.4s\n",
            "[CV] END .......................C=100, gamma=1.0, kernel=rbf; total time=   0.4s\n",
            "[CV] END .......................C=100, gamma=1.0, kernel=rbf; total time=   0.3s\n",
            "[CV] END ...................C=100, gamma=1.0, kernel=sigmoid; total time=   0.6s\n",
            "[CV] END ...................C=100, gamma=1.0, kernel=sigmoid; total time=   0.6s\n",
            "[CV] END ...................C=100, gamma=1.0, kernel=sigmoid; total time=   0.6s\n",
            "[CV] END ...................C=100, gamma=1.0, kernel=sigmoid; total time=   0.6s\n",
            "[CV] END ...................C=100, gamma=1.0, kernel=sigmoid; total time=   0.6s\n",
            "[CV] END ...................C=1000, gamma=0.001, kernel=poly; total time=   2.5s\n",
            "[CV] END ...................C=1000, gamma=0.001, kernel=poly; total time=   2.5s\n",
            "[CV] END ...................C=1000, gamma=0.001, kernel=poly; total time=   2.5s\n",
            "[CV] END ...................C=1000, gamma=0.001, kernel=poly; total time=   2.6s\n",
            "[CV] END ...................C=1000, gamma=0.001, kernel=poly; total time=   2.5s\n",
            "[CV] END ....................C=1000, gamma=0.001, kernel=rbf; total time=   0.3s\n",
            "[CV] END ....................C=1000, gamma=0.001, kernel=rbf; total time=   0.3s\n",
            "[CV] END ....................C=1000, gamma=0.001, kernel=rbf; total time=   0.3s\n",
            "[CV] END ....................C=1000, gamma=0.001, kernel=rbf; total time=   0.3s\n",
            "[CV] END ....................C=1000, gamma=0.001, kernel=rbf; total time=   0.3s\n",
            "[CV] END ................C=1000, gamma=0.001, kernel=sigmoid; total time=   0.3s\n",
            "[CV] END ................C=1000, gamma=0.001, kernel=sigmoid; total time=   0.3s\n",
            "[CV] END ................C=1000, gamma=0.001, kernel=sigmoid; total time=   0.3s\n",
            "[CV] END ................C=1000, gamma=0.001, kernel=sigmoid; total time=   0.3s\n",
            "[CV] END ................C=1000, gamma=0.001, kernel=sigmoid; total time=   0.3s\n",
            "[CV] END ....................C=1000, gamma=0.01, kernel=poly; total time=   0.4s\n",
            "[CV] END ....................C=1000, gamma=0.01, kernel=poly; total time=   0.4s\n",
            "[CV] END ....................C=1000, gamma=0.01, kernel=poly; total time=   0.5s\n",
            "[CV] END ....................C=1000, gamma=0.01, kernel=poly; total time=   0.5s\n",
            "[CV] END ....................C=1000, gamma=0.01, kernel=poly; total time=   0.5s\n",
            "[CV] END .....................C=1000, gamma=0.01, kernel=rbf; total time=   0.3s\n",
            "[CV] END .....................C=1000, gamma=0.01, kernel=rbf; total time=   0.3s\n",
            "[CV] END .....................C=1000, gamma=0.01, kernel=rbf; total time=   0.4s\n",
            "[CV] END .....................C=1000, gamma=0.01, kernel=rbf; total time=   0.3s\n",
            "[CV] END .....................C=1000, gamma=0.01, kernel=rbf; total time=   0.3s\n",
            "[CV] END .................C=1000, gamma=0.01, kernel=sigmoid; total time=   0.3s\n",
            "[CV] END .................C=1000, gamma=0.01, kernel=sigmoid; total time=   0.3s\n",
            "[CV] END .................C=1000, gamma=0.01, kernel=sigmoid; total time=   0.3s\n",
            "[CV] END .................C=1000, gamma=0.01, kernel=sigmoid; total time=   0.3s\n",
            "[CV] END .................C=1000, gamma=0.01, kernel=sigmoid; total time=   0.3s\n",
            "[CV] END .....................C=1000, gamma=0.1, kernel=poly; total time=   0.3s\n",
            "[CV] END .....................C=1000, gamma=0.1, kernel=poly; total time=   0.3s\n",
            "[CV] END .....................C=1000, gamma=0.1, kernel=poly; total time=   0.2s\n",
            "[CV] END .....................C=1000, gamma=0.1, kernel=poly; total time=   0.2s\n",
            "[CV] END .....................C=1000, gamma=0.1, kernel=poly; total time=   0.3s\n",
            "[CV] END ......................C=1000, gamma=0.1, kernel=rbf; total time=   0.3s\n",
            "[CV] END ......................C=1000, gamma=0.1, kernel=rbf; total time=   0.4s\n",
            "[CV] END ......................C=1000, gamma=0.1, kernel=rbf; total time=   0.4s\n",
            "[CV] END ......................C=1000, gamma=0.1, kernel=rbf; total time=   0.3s\n",
            "[CV] END ......................C=1000, gamma=0.1, kernel=rbf; total time=   0.3s\n",
            "[CV] END ..................C=1000, gamma=0.1, kernel=sigmoid; total time=   0.3s\n",
            "[CV] END ..................C=1000, gamma=0.1, kernel=sigmoid; total time=   0.3s\n",
            "[CV] END ..................C=1000, gamma=0.1, kernel=sigmoid; total time=   0.3s\n",
            "[CV] END ..................C=1000, gamma=0.1, kernel=sigmoid; total time=   0.3s\n",
            "[CV] END ..................C=1000, gamma=0.1, kernel=sigmoid; total time=   0.3s\n",
            "[CV] END .....................C=1000, gamma=1.0, kernel=poly; total time=   0.3s\n",
            "[CV] END .....................C=1000, gamma=1.0, kernel=poly; total time=   0.3s\n",
            "[CV] END .....................C=1000, gamma=1.0, kernel=poly; total time=   0.3s\n",
            "[CV] END .....................C=1000, gamma=1.0, kernel=poly; total time=   0.3s\n",
            "[CV] END .....................C=1000, gamma=1.0, kernel=poly; total time=   0.3s\n",
            "[CV] END ......................C=1000, gamma=1.0, kernel=rbf; total time=   0.4s\n",
            "[CV] END ......................C=1000, gamma=1.0, kernel=rbf; total time=   0.4s\n",
            "[CV] END ......................C=1000, gamma=1.0, kernel=rbf; total time=   0.3s\n",
            "[CV] END ......................C=1000, gamma=1.0, kernel=rbf; total time=   0.4s\n",
            "[CV] END ......................C=1000, gamma=1.0, kernel=rbf; total time=   0.3s\n",
            "[CV] END ..................C=1000, gamma=1.0, kernel=sigmoid; total time=   0.5s\n",
            "[CV] END ..................C=1000, gamma=1.0, kernel=sigmoid; total time=   0.5s\n",
            "[CV] END ..................C=1000, gamma=1.0, kernel=sigmoid; total time=   0.5s\n",
            "[CV] END ..................C=1000, gamma=1.0, kernel=sigmoid; total time=   0.5s\n",
            "[CV] END ..................C=1000, gamma=1.0, kernel=sigmoid; total time=   0.5s\n"
          ]
        },
        {
          "output_type": "execute_result",
          "data": {
            "text/plain": [
              "GridSearchCV(estimator=SVC(),\n",
              "             param_grid={'C': [0.1, 10, 100, 1000],\n",
              "                         'gamma': [0.001, 0.01, 0.1, 1.0],\n",
              "                         'kernel': ['poly', 'rbf', 'sigmoid']},\n",
              "             verbose=2)"
            ]
          },
          "metadata": {},
          "execution_count": 61
        }
      ]
    },
    {
      "cell_type": "code",
      "source": [
        "# Getting the best \n",
        "svm_random.best_params_"
      ],
      "metadata": {
        "colab": {
          "base_uri": "https://localhost:8080/"
        },
        "id": "C7F-6k8FC0zr",
        "outputId": "68205a2e-c931-45dc-bcca-e6e811763e0d"
      },
      "execution_count": 62,
      "outputs": [
        {
          "output_type": "execute_result",
          "data": {
            "text/plain": [
              "{'C': 0.1, 'gamma': 0.001, 'kernel': 'poly'}"
            ]
          },
          "metadata": {},
          "execution_count": 62
        }
      ]
    },
    {
      "cell_type": "markdown",
      "source": [
        "##IIIc. Support Vector Machine model, prediction, and accuracy"
      ],
      "metadata": {
        "id": "wTfhn2YA8QyC"
      }
    },
    {
      "cell_type": "markdown",
      "source": [
        "We will now use one of the best set of parameters that have been acquired through the previous iteration process into the SVM model."
      ],
      "metadata": {
        "id": "DtmZZ9uJ2exk"
      }
    },
    {
      "cell_type": "code",
      "source": [
        "# Setting up the model using the set of parameter previously set\n",
        "svm = SVC(kernel = 'poly',\n",
        "          C = 0.1,\n",
        "          gamma = 0.001)\n",
        "\n",
        "# Fitting in the training data to the model for the model to learn|\n",
        "svm.fit(X_train, y_train)\n",
        "\n",
        "# Predicting the 'test' dataset\n",
        "svmpred = svm.predict(X_test)\n",
        "\n",
        "# Getting the accuracy of the model\n",
        "acc = svm.score(X_test, y_test)\n",
        "\n",
        "# General accuracy report\n",
        "print('SVM model accuracy: {:.2f}%'.format(acc*100))"
      ],
      "metadata": {
        "colab": {
          "base_uri": "https://localhost:8080/"
        },
        "id": "POKBM9n6neBa",
        "outputId": "a88a1f9a-a011-4c6d-c356-add1a4fca625"
      },
      "execution_count": 65,
      "outputs": [
        {
          "output_type": "stream",
          "name": "stdout",
          "text": [
            "Support Vector Machine model accuracy: 100.00%\n"
          ]
        }
      ]
    },
    {
      "cell_type": "markdown",
      "source": [
        "The SVM model has a general accuracy of 100%! Let us take a brief look at a more detailed accuracy report using the 'classification_report'."
      ],
      "metadata": {
        "id": "idq4HR655IfC"
      }
    },
    {
      "cell_type": "code",
      "source": [
        "print(classification_report(y_test, svmpred))"
      ],
      "metadata": {
        "colab": {
          "base_uri": "https://localhost:8080/"
        },
        "id": "KYK9QChvqQ0S",
        "outputId": "925c84f0-5fb3-4507-fe2d-52545bb3b309"
      },
      "execution_count": 64,
      "outputs": [
        {
          "output_type": "stream",
          "name": "stdout",
          "text": [
            "                                         precision    recall  f1-score   support\n",
            "\n",
            "(vertigo) Paroymsal  Positional Vertigo       1.00      1.00      1.00         1\n",
            "                                   AIDS       1.00      1.00      1.00         1\n",
            "                                   Acne       1.00      1.00      1.00         1\n",
            "                    Alcoholic hepatitis       1.00      1.00      1.00         1\n",
            "                                Allergy       1.00      1.00      1.00         1\n",
            "                              Arthritis       1.00      1.00      1.00         1\n",
            "                       Bronchial Asthma       1.00      1.00      1.00         1\n",
            "                   Cervical spondylosis       1.00      1.00      1.00         1\n",
            "                            Chicken pox       1.00      1.00      1.00         1\n",
            "                    Chronic cholestasis       1.00      1.00      1.00         1\n",
            "                            Common Cold       1.00      1.00      1.00         1\n",
            "                                 Dengue       1.00      1.00      1.00         1\n",
            "                              Diabetes        1.00      1.00      1.00         1\n",
            "           Dimorphic hemmorhoids(piles)       1.00      1.00      1.00         1\n",
            "                          Drug Reaction       1.00      1.00      1.00         1\n",
            "                       Fungal infection       1.00      1.00      1.00         2\n",
            "                                   GERD       1.00      1.00      1.00         1\n",
            "                        Gastroenteritis       1.00      1.00      1.00         1\n",
            "                           Heart attack       1.00      1.00      1.00         1\n",
            "                            Hepatitis B       1.00      1.00      1.00         1\n",
            "                            Hepatitis C       1.00      1.00      1.00         1\n",
            "                            Hepatitis D       1.00      1.00      1.00         1\n",
            "                            Hepatitis E       1.00      1.00      1.00         1\n",
            "                          Hypertension        1.00      1.00      1.00         1\n",
            "                        Hyperthyroidism       1.00      1.00      1.00         1\n",
            "                           Hypoglycemia       1.00      1.00      1.00         1\n",
            "                         Hypothyroidism       1.00      1.00      1.00         1\n",
            "                               Impetigo       1.00      1.00      1.00         1\n",
            "                               Jaundice       1.00      1.00      1.00         1\n",
            "                                Malaria       1.00      1.00      1.00         1\n",
            "                               Migraine       1.00      1.00      1.00         1\n",
            "                        Osteoarthristis       1.00      1.00      1.00         1\n",
            "           Paralysis (brain hemorrhage)       1.00      1.00      1.00         1\n",
            "                    Peptic ulcer diseae       1.00      1.00      1.00         1\n",
            "                              Pneumonia       1.00      1.00      1.00         1\n",
            "                              Psoriasis       1.00      1.00      1.00         1\n",
            "                           Tuberculosis       1.00      1.00      1.00         1\n",
            "                                Typhoid       1.00      1.00      1.00         1\n",
            "                Urinary tract infection       1.00      1.00      1.00         1\n",
            "                         Varicose veins       1.00      1.00      1.00         1\n",
            "                            hepatitis A       1.00      1.00      1.00         1\n",
            "\n",
            "                               accuracy                           1.00        42\n",
            "                              macro avg       1.00      1.00      1.00        42\n",
            "                           weighted avg       1.00      1.00      1.00        42\n",
            "\n"
          ]
        }
      ]
    },
    {
      "cell_type": "markdown",
      "source": [
        "For notes about the report, 'precision' and 'recall' mean the following:\n",
        "(source: https://www.statology.org/sklearn-classification-report/)\n",
        "\n",
        "*   precision: Percentage of correct positive predictions relative to total positive predictions\n",
        "*   recall: Percentage of correct positive predictions relative to total actual positives\n",
        "*   f1-score: 2 x (precision x recall) / (precision + recall)\n",
        "\n",
        "From the report, it tells that the model does a really good job predicting which disease is likely to be suffered by patient based on the symptoms the patient is having. \n",
        "\n"
      ],
      "metadata": {
        "id": "SDJlJwhI6pO4"
      }
    }
  ]
}